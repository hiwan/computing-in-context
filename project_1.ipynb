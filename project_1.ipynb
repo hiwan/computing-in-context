{
 "cells": [
  {
   "cell_type": "markdown",
   "id": "4b93c4c6-5adc-4f64-b816-17619d5f8d29",
   "metadata": {
    "editable": true,
    "slideshow": {
     "slide_type": ""
    },
    "tags": []
   },
   "source": [
    "# 1 Find a dataset you aren’t familiar with.\n",
    "This project pick the data of <a href='https://data.cityofnewyork.us/City-Government/Citywide-Payroll-Data-Fiscal-Year-/k397-673e/about_data'>Citywide Payroll Data</a> from New York City. Because this data contains 5.66 million rows, it filter it down as following."
   ]
  },
  {
   "cell_type": "code",
   "execution_count": 2,
   "id": "d2d6d7bd-97da-4963-bcf0-c5adc25150cb",
   "metadata": {},
   "outputs": [
    {
     "name": "stderr",
     "output_type": "stream",
     "text": [
      "C:\\Users\\oiwah\\AppData\\Local\\Temp\\ipykernel_64836\\2302920706.py:3: DtypeWarning: Columns (7) have mixed types. Specify dtype option on import or set low_memory=False.\n",
      "  df = pd.read_csv('Citywide_Payroll_Data__Fiscal_Year__20241029.csv')\n"
     ]
    }
   ],
   "source": [
    "# Import Data\n",
    "import pandas as pd\n",
    "df = pd.read_csv('Citywide_Payroll_Data__Fiscal_Year__20241029.csv')"
   ]
  },
  {
   "cell_type": "code",
   "execution_count": 3,
   "id": "befb5ab5-6dac-4dcf-b35e-66453bee973b",
   "metadata": {},
   "outputs": [
    {
     "data": {
      "text/html": [
       "<div>\n",
       "<style scoped>\n",
       "    .dataframe tbody tr th:only-of-type {\n",
       "        vertical-align: middle;\n",
       "    }\n",
       "\n",
       "    .dataframe tbody tr th {\n",
       "        vertical-align: top;\n",
       "    }\n",
       "\n",
       "    .dataframe thead th {\n",
       "        text-align: right;\n",
       "    }\n",
       "</style>\n",
       "<table border=\"1\" class=\"dataframe\">\n",
       "  <thead>\n",
       "    <tr style=\"text-align: right;\">\n",
       "      <th></th>\n",
       "      <th>Fiscal Year</th>\n",
       "      <th>Payroll Number</th>\n",
       "      <th>Agency Name</th>\n",
       "      <th>Last Name</th>\n",
       "      <th>First Name</th>\n",
       "      <th>Mid Init</th>\n",
       "      <th>Agency Start Date</th>\n",
       "      <th>Work Location Borough</th>\n",
       "      <th>Title Description</th>\n",
       "      <th>Leave Status as of June 30</th>\n",
       "      <th>Base Salary</th>\n",
       "      <th>Pay Basis</th>\n",
       "      <th>Regular Hours</th>\n",
       "      <th>Regular Gross Paid</th>\n",
       "      <th>OT Hours</th>\n",
       "      <th>Total OT Paid</th>\n",
       "      <th>Total Other Pay</th>\n",
       "    </tr>\n",
       "  </thead>\n",
       "  <tbody>\n",
       "    <tr>\n",
       "      <th>0</th>\n",
       "      <td>2020</td>\n",
       "      <td>17.0</td>\n",
       "      <td>OFFICE OF EMERGENCY MANAGEMENT</td>\n",
       "      <td>BEREZIN</td>\n",
       "      <td>MIKHAIL</td>\n",
       "      <td>NaN</td>\n",
       "      <td>08/10/2015</td>\n",
       "      <td>BROOKLYN</td>\n",
       "      <td>EMERGENCY PREPAREDNESS MANAGER</td>\n",
       "      <td>ACTIVE</td>\n",
       "      <td>86005.0</td>\n",
       "      <td>per Annum</td>\n",
       "      <td>1820.0</td>\n",
       "      <td>84698.21</td>\n",
       "      <td>0.0</td>\n",
       "      <td>0.0</td>\n",
       "      <td>0.0</td>\n",
       "    </tr>\n",
       "    <tr>\n",
       "      <th>1</th>\n",
       "      <td>2020</td>\n",
       "      <td>17.0</td>\n",
       "      <td>OFFICE OF EMERGENCY MANAGEMENT</td>\n",
       "      <td>GEAGER</td>\n",
       "      <td>VERONICA</td>\n",
       "      <td>M</td>\n",
       "      <td>09/12/2016</td>\n",
       "      <td>BROOKLYN</td>\n",
       "      <td>EMERGENCY PREPAREDNESS MANAGER</td>\n",
       "      <td>ACTIVE</td>\n",
       "      <td>86005.0</td>\n",
       "      <td>per Annum</td>\n",
       "      <td>1820.0</td>\n",
       "      <td>84698.21</td>\n",
       "      <td>0.0</td>\n",
       "      <td>0.0</td>\n",
       "      <td>0.0</td>\n",
       "    </tr>\n",
       "    <tr>\n",
       "      <th>2</th>\n",
       "      <td>2020</td>\n",
       "      <td>17.0</td>\n",
       "      <td>OFFICE OF EMERGENCY MANAGEMENT</td>\n",
       "      <td>RAMANI</td>\n",
       "      <td>SHRADDHA</td>\n",
       "      <td>NaN</td>\n",
       "      <td>02/22/2016</td>\n",
       "      <td>BROOKLYN</td>\n",
       "      <td>EMERGENCY PREPAREDNESS MANAGER</td>\n",
       "      <td>ACTIVE</td>\n",
       "      <td>86005.0</td>\n",
       "      <td>per Annum</td>\n",
       "      <td>1820.0</td>\n",
       "      <td>84698.21</td>\n",
       "      <td>0.0</td>\n",
       "      <td>0.0</td>\n",
       "      <td>0.0</td>\n",
       "    </tr>\n",
       "    <tr>\n",
       "      <th>3</th>\n",
       "      <td>2020</td>\n",
       "      <td>17.0</td>\n",
       "      <td>OFFICE OF EMERGENCY MANAGEMENT</td>\n",
       "      <td>ROTTA</td>\n",
       "      <td>JONATHAN</td>\n",
       "      <td>D</td>\n",
       "      <td>09/16/2013</td>\n",
       "      <td>BROOKLYN</td>\n",
       "      <td>EMERGENCY PREPAREDNESS MANAGER</td>\n",
       "      <td>ACTIVE</td>\n",
       "      <td>86005.0</td>\n",
       "      <td>per Annum</td>\n",
       "      <td>1820.0</td>\n",
       "      <td>84698.21</td>\n",
       "      <td>0.0</td>\n",
       "      <td>0.0</td>\n",
       "      <td>0.0</td>\n",
       "    </tr>\n",
       "    <tr>\n",
       "      <th>4</th>\n",
       "      <td>2020</td>\n",
       "      <td>17.0</td>\n",
       "      <td>OFFICE OF EMERGENCY MANAGEMENT</td>\n",
       "      <td>WILSON II</td>\n",
       "      <td>ROBERT</td>\n",
       "      <td>P</td>\n",
       "      <td>04/30/2018</td>\n",
       "      <td>BROOKLYN</td>\n",
       "      <td>EMERGENCY PREPAREDNESS MANAGER</td>\n",
       "      <td>ACTIVE</td>\n",
       "      <td>86005.0</td>\n",
       "      <td>per Annum</td>\n",
       "      <td>1820.0</td>\n",
       "      <td>84698.21</td>\n",
       "      <td>0.0</td>\n",
       "      <td>0.0</td>\n",
       "      <td>0.0</td>\n",
       "    </tr>\n",
       "  </tbody>\n",
       "</table>\n",
       "</div>"
      ],
      "text/plain": [
       "   Fiscal Year  Payroll Number                     Agency Name  Last Name  \\\n",
       "0         2020            17.0  OFFICE OF EMERGENCY MANAGEMENT    BEREZIN   \n",
       "1         2020            17.0  OFFICE OF EMERGENCY MANAGEMENT     GEAGER   \n",
       "2         2020            17.0  OFFICE OF EMERGENCY MANAGEMENT     RAMANI   \n",
       "3         2020            17.0  OFFICE OF EMERGENCY MANAGEMENT      ROTTA   \n",
       "4         2020            17.0  OFFICE OF EMERGENCY MANAGEMENT  WILSON II   \n",
       "\n",
       "  First Name Mid Init Agency Start Date Work Location Borough  \\\n",
       "0    MIKHAIL      NaN        08/10/2015              BROOKLYN   \n",
       "1   VERONICA        M        09/12/2016              BROOKLYN   \n",
       "2   SHRADDHA      NaN        02/22/2016              BROOKLYN   \n",
       "3   JONATHAN        D        09/16/2013              BROOKLYN   \n",
       "4     ROBERT        P        04/30/2018              BROOKLYN   \n",
       "\n",
       "                Title Description Leave Status as of June 30  Base Salary  \\\n",
       "0  EMERGENCY PREPAREDNESS MANAGER                     ACTIVE      86005.0   \n",
       "1  EMERGENCY PREPAREDNESS MANAGER                     ACTIVE      86005.0   \n",
       "2  EMERGENCY PREPAREDNESS MANAGER                     ACTIVE      86005.0   \n",
       "3  EMERGENCY PREPAREDNESS MANAGER                     ACTIVE      86005.0   \n",
       "4  EMERGENCY PREPAREDNESS MANAGER                     ACTIVE      86005.0   \n",
       "\n",
       "   Pay Basis  Regular Hours  Regular Gross Paid  OT Hours  Total OT Paid  \\\n",
       "0  per Annum         1820.0            84698.21       0.0            0.0   \n",
       "1  per Annum         1820.0            84698.21       0.0            0.0   \n",
       "2  per Annum         1820.0            84698.21       0.0            0.0   \n",
       "3  per Annum         1820.0            84698.21       0.0            0.0   \n",
       "4  per Annum         1820.0            84698.21       0.0            0.0   \n",
       "\n",
       "   Total Other Pay  \n",
       "0              0.0  \n",
       "1              0.0  \n",
       "2              0.0  \n",
       "3              0.0  \n",
       "4              0.0  "
      ]
     },
     "execution_count": 3,
     "metadata": {},
     "output_type": "execute_result"
    }
   ],
   "source": [
    "# Show the data\n",
    "df.head(5)"
   ]
  },
  {
   "cell_type": "code",
   "execution_count": 4,
   "id": "6ac8c805-4aa1-4993-ba84-b3a83f140e33",
   "metadata": {},
   "outputs": [
    {
     "data": {
      "text/html": [
       "<div>\n",
       "<style scoped>\n",
       "    .dataframe tbody tr th:only-of-type {\n",
       "        vertical-align: middle;\n",
       "    }\n",
       "\n",
       "    .dataframe tbody tr th {\n",
       "        vertical-align: top;\n",
       "    }\n",
       "\n",
       "    .dataframe thead th {\n",
       "        text-align: right;\n",
       "    }\n",
       "</style>\n",
       "<table border=\"1\" class=\"dataframe\">\n",
       "  <thead>\n",
       "    <tr style=\"text-align: right;\">\n",
       "      <th></th>\n",
       "      <th>Fiscal Year</th>\n",
       "      <th>Payroll Number</th>\n",
       "      <th>Agency Name</th>\n",
       "      <th>Last Name</th>\n",
       "      <th>First Name</th>\n",
       "      <th>Mid Init</th>\n",
       "      <th>Agency Start Date</th>\n",
       "      <th>Work Location Borough</th>\n",
       "      <th>Title Description</th>\n",
       "      <th>Leave Status as of June 30</th>\n",
       "      <th>Base Salary</th>\n",
       "      <th>Pay Basis</th>\n",
       "      <th>Regular Hours</th>\n",
       "      <th>Regular Gross Paid</th>\n",
       "      <th>OT Hours</th>\n",
       "      <th>Total OT Paid</th>\n",
       "      <th>Total Other Pay</th>\n",
       "    </tr>\n",
       "  </thead>\n",
       "  <tbody>\n",
       "    <tr>\n",
       "      <th>4908876</th>\n",
       "      <td>2023</td>\n",
       "      <td>2.0</td>\n",
       "      <td>OFFICE OF THE MAYOR</td>\n",
       "      <td>CHAN</td>\n",
       "      <td>JONATHAN</td>\n",
       "      <td>D</td>\n",
       "      <td>11/15/2021</td>\n",
       "      <td>MANHATTAN</td>\n",
       "      <td>STAFF ASSISTANT</td>\n",
       "      <td>ACTIVE</td>\n",
       "      <td>68000.00</td>\n",
       "      <td>per Annum</td>\n",
       "      <td>1820.00</td>\n",
       "      <td>66164.41</td>\n",
       "      <td>88.0</td>\n",
       "      <td>3086.52</td>\n",
       "      <td>0.00</td>\n",
       "    </tr>\n",
       "    <tr>\n",
       "      <th>4909133</th>\n",
       "      <td>2023</td>\n",
       "      <td>2.0</td>\n",
       "      <td>OFFICE OF THE MAYOR</td>\n",
       "      <td>HAKEM</td>\n",
       "      <td>ADIL</td>\n",
       "      <td>M</td>\n",
       "      <td>06/05/2023</td>\n",
       "      <td>MANHATTAN</td>\n",
       "      <td>SUMMER COLLEGE INTERN</td>\n",
       "      <td>ACTIVE</td>\n",
       "      <td>15.75</td>\n",
       "      <td>per Hour</td>\n",
       "      <td>32.75</td>\n",
       "      <td>515.81</td>\n",
       "      <td>0.0</td>\n",
       "      <td>0.00</td>\n",
       "      <td>0.00</td>\n",
       "    </tr>\n",
       "    <tr>\n",
       "      <th>4910453</th>\n",
       "      <td>2023</td>\n",
       "      <td>2.0</td>\n",
       "      <td>OFFICE OF THE MAYOR</td>\n",
       "      <td>RAWSHANARA</td>\n",
       "      <td>SARA</td>\n",
       "      <td>S</td>\n",
       "      <td>04/02/2018</td>\n",
       "      <td>MANHATTAN</td>\n",
       "      <td>SPECIAL ASSISTANT</td>\n",
       "      <td>ACTIVE</td>\n",
       "      <td>95940.00</td>\n",
       "      <td>per Annum</td>\n",
       "      <td>1820.00</td>\n",
       "      <td>95677.14</td>\n",
       "      <td>0.0</td>\n",
       "      <td>0.00</td>\n",
       "      <td>0.00</td>\n",
       "    </tr>\n",
       "    <tr>\n",
       "      <th>4911517</th>\n",
       "      <td>2023</td>\n",
       "      <td>2.0</td>\n",
       "      <td>OFFICE OF THE MAYOR</td>\n",
       "      <td>REDUTO</td>\n",
       "      <td>OLIVIA</td>\n",
       "      <td>E</td>\n",
       "      <td>06/08/2022</td>\n",
       "      <td>MANHATTAN</td>\n",
       "      <td>SUMMER COLLEGE INTERN</td>\n",
       "      <td>CEASED</td>\n",
       "      <td>15.75</td>\n",
       "      <td>per Hour</td>\n",
       "      <td>277.00</td>\n",
       "      <td>4362.79</td>\n",
       "      <td>0.0</td>\n",
       "      <td>0.00</td>\n",
       "      <td>110.25</td>\n",
       "    </tr>\n",
       "    <tr>\n",
       "      <th>4911554</th>\n",
       "      <td>2023</td>\n",
       "      <td>2.0</td>\n",
       "      <td>OFFICE OF THE MAYOR</td>\n",
       "      <td>REED</td>\n",
       "      <td>EDWARD</td>\n",
       "      <td>L</td>\n",
       "      <td>10/27/1986</td>\n",
       "      <td>MANHATTAN</td>\n",
       "      <td>SPECIAL ASSISTANT</td>\n",
       "      <td>ACTIVE</td>\n",
       "      <td>113300.00</td>\n",
       "      <td>per Annum</td>\n",
       "      <td>1820.00</td>\n",
       "      <td>112989.50</td>\n",
       "      <td>0.0</td>\n",
       "      <td>0.00</td>\n",
       "      <td>0.00</td>\n",
       "    </tr>\n",
       "  </tbody>\n",
       "</table>\n",
       "</div>"
      ],
      "text/plain": [
       "         Fiscal Year  Payroll Number          Agency Name   Last Name  \\\n",
       "4908876         2023             2.0  OFFICE OF THE MAYOR        CHAN   \n",
       "4909133         2023             2.0  OFFICE OF THE MAYOR       HAKEM   \n",
       "4910453         2023             2.0  OFFICE OF THE MAYOR  RAWSHANARA   \n",
       "4911517         2023             2.0  OFFICE OF THE MAYOR      REDUTO   \n",
       "4911554         2023             2.0  OFFICE OF THE MAYOR        REED   \n",
       "\n",
       "        First Name Mid Init Agency Start Date Work Location Borough  \\\n",
       "4908876   JONATHAN        D        11/15/2021             MANHATTAN   \n",
       "4909133       ADIL        M        06/05/2023             MANHATTAN   \n",
       "4910453       SARA        S        04/02/2018             MANHATTAN   \n",
       "4911517     OLIVIA        E        06/08/2022             MANHATTAN   \n",
       "4911554     EDWARD        L        10/27/1986             MANHATTAN   \n",
       "\n",
       "             Title Description Leave Status as of June 30  Base Salary  \\\n",
       "4908876        STAFF ASSISTANT                     ACTIVE     68000.00   \n",
       "4909133  SUMMER COLLEGE INTERN                     ACTIVE        15.75   \n",
       "4910453      SPECIAL ASSISTANT                     ACTIVE     95940.00   \n",
       "4911517  SUMMER COLLEGE INTERN                     CEASED        15.75   \n",
       "4911554      SPECIAL ASSISTANT                     ACTIVE    113300.00   \n",
       "\n",
       "         Pay Basis  Regular Hours  Regular Gross Paid  OT Hours  \\\n",
       "4908876  per Annum        1820.00            66164.41      88.0   \n",
       "4909133   per Hour          32.75              515.81       0.0   \n",
       "4910453  per Annum        1820.00            95677.14       0.0   \n",
       "4911517   per Hour         277.00             4362.79       0.0   \n",
       "4911554  per Annum        1820.00           112989.50       0.0   \n",
       "\n",
       "         Total OT Paid  Total Other Pay  \n",
       "4908876        3086.52             0.00  \n",
       "4909133           0.00             0.00  \n",
       "4910453           0.00             0.00  \n",
       "4911517           0.00           110.25  \n",
       "4911554           0.00             0.00  "
      ]
     },
     "execution_count": 4,
     "metadata": {},
     "output_type": "execute_result"
    }
   ],
   "source": [
    "# Filter the data for 2023, where Regular Gross Paid is greater than 0.\n",
    "# This is for the analyisis on only those who receive regular salary.\n",
    "df_filtered = df[(df['Fiscal Year']==2023) & (df['Regular Gross Paid']>0)]\n",
    "df_filtered.head(5)"
   ]
  },
  {
   "cell_type": "code",
   "execution_count": 5,
   "id": "1e4d00ce-94ff-4e2b-b70c-0f5fe6e1aa1e",
   "metadata": {},
   "outputs": [
    {
     "name": "stdout",
     "output_type": "stream",
     "text": [
      "<class 'pandas.core.frame.DataFrame'>\n",
      "Index: 533509 entries, 4908876 to 5662712\n",
      "Data columns (total 17 columns):\n",
      " #   Column                      Non-Null Count   Dtype  \n",
      "---  ------                      --------------   -----  \n",
      " 0   Fiscal Year                 533509 non-null  int64  \n",
      " 1   Payroll Number              533509 non-null  float64\n",
      " 2   Agency Name                 533509 non-null  object \n",
      " 3   Last Name                   533150 non-null  object \n",
      " 4   First Name                  533138 non-null  object \n",
      " 5   Mid Init                    310586 non-null  object \n",
      " 6   Agency Start Date           533509 non-null  object \n",
      " 7   Work Location Borough       533508 non-null  object \n",
      " 8   Title Description           533506 non-null  object \n",
      " 9   Leave Status as of June 30  533509 non-null  object \n",
      " 10  Base Salary                 533509 non-null  float64\n",
      " 11  Pay Basis                   533509 non-null  object \n",
      " 12  Regular Hours               533509 non-null  float64\n",
      " 13  Regular Gross Paid          533509 non-null  float64\n",
      " 14  OT Hours                    533509 non-null  float64\n",
      " 15  Total OT Paid               533509 non-null  float64\n",
      " 16  Total Other Pay             533509 non-null  float64\n",
      "dtypes: float64(7), int64(1), object(9)\n",
      "memory usage: 73.3+ MB\n"
     ]
    }
   ],
   "source": [
    "# Confirm that new data has rows less than one million. \n",
    "df_filtered.info()"
   ]
  },
  {
   "cell_type": "code",
   "execution_count": 6,
   "id": "c1538949-08bf-48c0-bd64-0801b881bd13",
   "metadata": {},
   "outputs": [],
   "source": [
    "# Save the filtered data as a new csv.\n",
    "df_filtered = df_filtered.to_csv('Filtered Data for Project 1')"
   ]
  },
  {
   "cell_type": "markdown",
   "id": "ea5600e9-9eba-482e-b20a-2206c820309e",
   "metadata": {},
   "source": [
    "# 2. If there’s more than one numeric column, pick one.\n",
    "This project picks up the \"Regular Gross Paid\" column as a numeric one.\n",
    "Note that, based on the warning before, this column does not include mixed types."
   ]
  },
  {
   "cell_type": "markdown",
   "id": "def4a378-971b-4126-ad39-f9ce9d91aa64",
   "metadata": {},
   "source": [
    "# 3. Create a new notebook.\n",
    "This project create a new notebook as the name of 'Project 1'."
   ]
  },
  {
   "cell_type": "markdown",
   "id": "2e3ea79e-cefa-4a99-8e04-e8b0de999142",
   "metadata": {},
   "source": [
    "# 4. Using pandas"
   ]
  },
  {
   "cell_type": "code",
   "execution_count": 10,
   "id": "85de021f-b097-48e9-9497-c5931e839014",
   "metadata": {},
   "outputs": [
    {
     "data": {
      "text/html": [
       "<div>\n",
       "<style scoped>\n",
       "    .dataframe tbody tr th:only-of-type {\n",
       "        vertical-align: middle;\n",
       "    }\n",
       "\n",
       "    .dataframe tbody tr th {\n",
       "        vertical-align: top;\n",
       "    }\n",
       "\n",
       "    .dataframe thead th {\n",
       "        text-align: right;\n",
       "    }\n",
       "</style>\n",
       "<table border=\"1\" class=\"dataframe\">\n",
       "  <thead>\n",
       "    <tr style=\"text-align: right;\">\n",
       "      <th></th>\n",
       "      <th>Regular Gross Paid</th>\n",
       "    </tr>\n",
       "  </thead>\n",
       "  <tbody>\n",
       "    <tr>\n",
       "      <th>0</th>\n",
       "      <td>66164.41</td>\n",
       "    </tr>\n",
       "    <tr>\n",
       "      <th>1</th>\n",
       "      <td>515.81</td>\n",
       "    </tr>\n",
       "    <tr>\n",
       "      <th>2</th>\n",
       "      <td>95677.14</td>\n",
       "    </tr>\n",
       "    <tr>\n",
       "      <th>3</th>\n",
       "      <td>4362.79</td>\n",
       "    </tr>\n",
       "    <tr>\n",
       "      <th>4</th>\n",
       "      <td>112989.50</td>\n",
       "    </tr>\n",
       "  </tbody>\n",
       "</table>\n",
       "</div>"
      ],
      "text/plain": [
       "   Regular Gross Paid\n",
       "0            66164.41\n",
       "1              515.81\n",
       "2            95677.14\n",
       "3             4362.79\n",
       "4           112989.50"
      ]
     },
     "execution_count": 10,
     "metadata": {},
     "output_type": "execute_result"
    }
   ],
   "source": [
    "# a. Read in the data.\n",
    "df_pj1 = pd.read_csv('Filtered Data for Project 1')\n",
    "df_pj1[['Regular Gross Paid']].head(5)"
   ]
  },
  {
   "cell_type": "code",
   "execution_count": 11,
   "id": "c9a4859f-4556-450b-9b84-57a6ea732738",
   "metadata": {},
   "outputs": [
    {
     "name": "stdout",
     "output_type": "stream",
     "text": [
      "Mean: $49074.0\n",
      "Median: $42138.1\n",
      "Mode: $85058.2\n"
     ]
    }
   ],
   "source": [
    "# b. Compute: The mean, the median, and the mode.\n",
    "print(f'Mean: ${df_pj1['Regular Gross Paid'].mean():.1f}')\n",
    "print(f'Median: ${df_pj1['Regular Gross Paid'].median():.1f}')\n",
    "print(f'Mode: ${df_pj1['Regular Gross Paid'].mode()[0]:.1f}')"
   ]
  },
  {
   "cell_type": "markdown",
   "id": "b2975a99-c7ef-4c70-a4fd-7a86c3e7bdb0",
   "metadata": {},
   "source": [
    "# 5. Repeat the previous step using only the Python standard library."
   ]
  },
  {
   "cell_type": "code",
   "execution_count": 13,
   "id": "c6518b1c-66c6-4221-b028-da27c7f9794a",
   "metadata": {},
   "outputs": [
    {
     "name": "stdout",
     "output_type": "stream",
     "text": [
      "['4908876', '2023', '2.0', 'OFFICE OF THE MAYOR', 'CHAN', 'JONATHAN', 'D', '11/15/2021', 'MANHATTAN', 'STAFF ASSISTANT', 'ACTIVE', '68000.0', 'per Annum', '1820.0', '66164.41', '88.0', '3086.52', '0.0']\n",
      "['4909133', '2023', '2.0', 'OFFICE OF THE MAYOR', 'HAKEM', 'ADIL', 'M', '06/05/2023', 'MANHATTAN', 'SUMMER COLLEGE INTERN', 'ACTIVE', '15.75', 'per Hour', '32.75', '515.81', '0.0', '0.0', '0.0']\n",
      "['4910453', '2023', '2.0', 'OFFICE OF THE MAYOR', 'RAWSHANARA', 'SARA', 'S', '04/02/2018', 'MANHATTAN', 'SPECIAL ASSISTANT', 'ACTIVE', '95940.0', 'per Annum', '1820.0', '95677.14', '0.0', '0.0', '0.0']\n",
      "['4911517', '2023', '2.0', 'OFFICE OF THE MAYOR', 'REDUTO', 'OLIVIA', 'E', '06/08/2022', 'MANHATTAN', 'SUMMER COLLEGE INTERN', 'CEASED', '15.75', 'per Hour', '277.0', '4362.79', '0.0', '0.0', '110.25']\n",
      "['4911554', '2023', '2.0', 'OFFICE OF THE MAYOR', 'REED', 'EDWARD', 'L', '10/27/1986', 'MANHATTAN', 'SPECIAL ASSISTANT', 'ACTIVE', '113300.0', 'per Annum', '1820.0', '112989.5', '0.0', '0.0', '0.0']\n"
     ]
    }
   ],
   "source": [
    "import csv\n",
    "with open('Filtered Data for Project 1', 'r', encoding = 'utf-8') as file:\n",
    "    reader = csv.reader(file)\n",
    "    headers = next(reader)\n",
    "    data = []\n",
    "    for row in reader:\n",
    "        data.append(row)\n",
    "\n",
    "for i, row in enumerate(data):\n",
    "    if i < 5:\n",
    "        print(row)"
   ]
  },
  {
   "cell_type": "code",
   "execution_count": 14,
   "id": "fd9ab452-da92-4393-a8d3-817d3c5b9cc9",
   "metadata": {},
   "outputs": [],
   "source": [
    "# Make a new dictionary with new ids and values of regular gross paid. \n",
    "dict_pj1={i:float(data[i][14]) for i in range(len(data))}"
   ]
  },
  {
   "cell_type": "code",
   "execution_count": 15,
   "id": "dac9e138-202d-4b66-aaec-ba622376f05f",
   "metadata": {},
   "outputs": [
    {
     "name": "stdout",
     "output_type": "stream",
     "text": [
      "Mean: $49074.0\n",
      "Median: $42138.1\n",
      "Mode: $85058.2\n"
     ]
    }
   ],
   "source": [
    "# Sum values and divide the sum by the number of values for the mean.\n",
    "sum = 0\n",
    "for i in range(len(dict_pj1)):\n",
    "    sum += dict_pj1[i]\n",
    "mean = sum/len(dict_pj1)\n",
    "print(f'Mean: ${mean:.1f}')\n",
    "\n",
    "# Sort values in descending order.\n",
    "# if the number of values is odd, it selects the middle value.\n",
    "#if even, it averages the two middle values.\n",
    "sorted_dict_pj1 = sorted(dict_pj1.values(), reverse=True)\n",
    "if len(dict_pj1)%2 == 1:\n",
    "    print(f'Median: ${sorted_dict_pj1[int((len(dict_pj1)-1)/2)]:.1f}')\n",
    "else:\n",
    "    print(f'Median: ${(sorted_dict_pj1[int(len(dict_pj1)/2-1)]\n",
    "            +sorted_dict_pj1[int(len(dict_pj1)/2)])/2:.1f}')\n",
    "\n",
    "# Calculate the mode of values in dict_pj1\n",
    "# Count occurrences of each value.\n",
    "# Then select the value with the highest count.\n",
    "count_pj1 = {}\n",
    "for value in dict_pj1.values():\n",
    "    if value in count_pj1:\n",
    "        count_pj1[value] += 1\n",
    "    else:\n",
    "        count_pj1[value] = 1\n",
    "\n",
    "most_common_value = max(count_pj1, key=count_pj1.get)\n",
    "print(f'Mode: ${most_common_value:.1f}')"
   ]
  },
  {
   "cell_type": "markdown",
   "id": "dabbfc2d-9225-4dbc-ac65-2b5ed8376573",
   "metadata": {},
   "source": [
    "# 6. Create a data visualization"
   ]
  },
  {
   "cell_type": "markdown",
   "id": "dc7bb5a3-291c-4481-8a01-ffa57858b4c4",
   "metadata": {},
   "source": [
    "## (1) Function to Create Asterisks"
   ]
  },
  {
   "cell_type": "code",
   "execution_count": 18,
   "id": "93fa2e3e-5d46-4f44-9a4e-136200961e26",
   "metadata": {},
   "outputs": [],
   "source": [
    "# Indicate value in thousands of dollars.\n",
    "def asterisk(num):\n",
    "    asterisk = '*' * round(num / 1000)\n",
    "    return asterisk"
   ]
  },
  {
   "cell_type": "markdown",
   "id": "e1057ba6-c237-4a2a-9f80-c353e6a3a16c",
   "metadata": {},
   "source": [
    "## (2) Pandas"
   ]
  },
  {
   "cell_type": "code",
   "execution_count": 20,
   "id": "e984aaff-69ba-430c-ab00-cfc30d088b30",
   "metadata": {},
   "outputs": [
    {
     "name": "stdout",
     "output_type": "stream",
     "text": [
      "Title: First 5 rows of Regular Gross Paid\n",
      "X axis: One asterisk indicates $1,000.\n",
      "\n",
      "\u001b[93m0\u001b[0m: \u001b[92m******************************************************************\u001b[0m\n",
      "\u001b[93m1\u001b[0m: \u001b[92m*\u001b[0m\n",
      "\u001b[93m2\u001b[0m: \u001b[92m************************************************************************************************\u001b[0m\n",
      "\u001b[93m3\u001b[0m: \u001b[92m****\u001b[0m\n",
      "\u001b[93m4\u001b[0m: \u001b[92m*****************************************************************************************************************\u001b[0m\n"
     ]
    }
   ],
   "source": [
    "# a. Read in the data.\n",
    "# Show first 5 rows of Regular Gross Paid.\n",
    "\n",
    "yellow = \"\\033[93m\"\n",
    "green = \"\\033[92m\"\n",
    "reset = \"\\033[0m\"\n",
    "\n",
    "print('Title: First 5 rows of Regular Gross Paid')\n",
    "print('X axis: One asterisk indicates $1,000.\\n')\n",
    "\n",
    "for i in range(5):\n",
    "    content = f'{yellow}{i}{reset}: {green}{asterisk(df_pj1['Regular Gross Paid'][i])}{reset}'\n",
    "    print(content)"
   ]
  },
  {
   "cell_type": "code",
   "execution_count": 21,
   "id": "12f1d721-938c-475b-8eb7-09e6302c4e37",
   "metadata": {},
   "outputs": [
    {
     "name": "stdout",
     "output_type": "stream",
     "text": [
      "Title: Mean, median, and mode of Regular Gross Paid\n",
      "X axis: One asterisk indicates $1,000.\n",
      "\n",
      "\u001b[93mMean\u001b[0m____\u001b[92m*************************************************\u001b[0m\n",
      "\u001b[93mMedian\u001b[0m__\u001b[92m******************************************\u001b[0m\n",
      "\u001b[93mMode\u001b[0m____\u001b[92m*************************************************************************************\u001b[0m\n"
     ]
    }
   ],
   "source": [
    "# b. Compute: The mean, the median, and the mode, using pandas.\n",
    "\n",
    "print('Title: Mean, median, and mode of Regular Gross Paid')\n",
    "print('X axis: One asterisk indicates $1,000.\\n')\n",
    "\n",
    "print(f'{yellow}Mean{reset}____{green}{asterisk(df_pj1['Regular Gross Paid'].mean())}{reset}')\n",
    "print(f'{yellow}Median{reset}__{green}{asterisk(df_pj1['Regular Gross Paid'].median())}{reset}')\n",
    "print(f'{yellow}Mode{reset}____{green}{asterisk(df_pj1['Regular Gross Paid'].mode()[0])}{reset}')"
   ]
  },
  {
   "cell_type": "markdown",
   "id": "74e79570-2247-4170-a8f7-998f6e40afeb",
   "metadata": {},
   "source": [
    "## (3) Standard Library"
   ]
  },
  {
   "cell_type": "code",
   "execution_count": 23,
   "id": "a82f5327-e2e4-42b3-baf0-e7b44e5f1cb0",
   "metadata": {},
   "outputs": [
    {
     "name": "stdout",
     "output_type": "stream",
     "text": [
      "Title: First 5 rows of Regular Gross Paid\n",
      "X axis: One asterisk indicates $1,000.\n",
      "\n",
      "\u001b[93m0\u001b[0m: \u001b[92m******************************************************************\u001b[0m\n",
      "\u001b[93m1\u001b[0m: \u001b[92m*\u001b[0m\n",
      "\u001b[93m2\u001b[0m: \u001b[92m************************************************************************************************\u001b[0m\n",
      "\u001b[93m3\u001b[0m: \u001b[92m****\u001b[0m\n",
      "\u001b[93m4\u001b[0m: \u001b[92m*****************************************************************************************************************\u001b[0m\n"
     ]
    }
   ],
   "source": [
    "# a. Read in the data.\n",
    "# Show first 5 rows of Regular Gross Paid.\n",
    "\n",
    "print('Title: First 5 rows of Regular Gross Paid')\n",
    "print('X axis: One asterisk indicates $1,000.\\n')\n",
    "\n",
    "for i in range(5):\n",
    "    content = f'{yellow}{i}{reset}: {green}{asterisk(dict_pj1[i])}{reset}'\n",
    "    print(content)"
   ]
  },
  {
   "cell_type": "code",
   "execution_count": 24,
   "id": "3c853416-3950-4078-a80c-1eb77d97de0b",
   "metadata": {},
   "outputs": [
    {
     "name": "stdout",
     "output_type": "stream",
     "text": [
      "Title: Mean, median, and mode of Regular Gross Paid\n",
      "X axis: One asterisk indicates $1,000.\n",
      "\n",
      "\u001b[93mMean\u001b[0m____\u001b[92m*************************************************\u001b[0m\n",
      "\u001b[93mMedian\u001b[0m__\u001b[92m******************************************\u001b[0m\n",
      "\u001b[93mMode\u001b[0m____\u001b[92m*************************************************************************************\u001b[0m\n"
     ]
    }
   ],
   "source": [
    "# b. Compute: The mean, the median, and the mode without pandas.\n",
    "\n",
    "print('Title: Mean, median, and mode of Regular Gross Paid')\n",
    "print('X axis: One asterisk indicates $1,000.\\n')\n",
    "\n",
    "print(f'{yellow}Mean{reset}____{green}{asterisk(mean)}{reset}')\n",
    "print(f'{yellow}Median{reset}__{green}{asterisk(sorted_dict_pj1[int((len(dict_pj1)-1)/2)])}{reset}')\n",
    "print(f'{yellow}Mode{reset}____{green}{asterisk(most_common_value)}{reset}')"
   ]
  }
 ],
 "metadata": {
  "kernelspec": {
   "display_name": "Python 3 (ipykernel)",
   "language": "python",
   "name": "python3"
  },
  "language_info": {
   "codemirror_mode": {
    "name": "ipython",
    "version": 3
   },
   "file_extension": ".py",
   "mimetype": "text/x-python",
   "name": "python",
   "nbconvert_exporter": "python",
   "pygments_lexer": "ipython3",
   "version": "3.12.4"
  }
 },
 "nbformat": 4,
 "nbformat_minor": 5
}
