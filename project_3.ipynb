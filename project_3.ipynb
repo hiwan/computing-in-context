{
 "cells": [
  {
   "cell_type": "markdown",
   "id": "f9d5c5f0-950a-4554-8ca8-4e081bc54a85",
   "metadata": {},
   "source": [
    "# Project 3"
   ]
  },
  {
   "cell_type": "markdown",
   "id": "dc642c37-1612-4680-a7fe-1a77eeadeb28",
   "metadata": {},
   "source": [
    "- **Dataset(s) to be used:**\n",
    "  - EV Charges: https://developer.nrel.gov/docs/transportation/alt-fuel-stations-v1/all/\n",
    "  - Population: https://www.statsamerica.org/sip/rank_list.aspx?rank_label=pop1\n",
    "  - Income: https://fred.stlouisfed.org/release/tables?eid=259515&rid=249\n",
    "  - Electricity Price: https://www.electricchoice.com/electricity-prices-by-state/\n",
    "- **Analysis question:** What factors increase make electric vehicles (EVs) more popular?\n",
    "- **Columns that will (likely) be used:**\n",
    "  - state: Two-letter abbreviations of each state\n",
    "  - state_full: Full name of states\n",
    "  - chargers_ratio: Number of EV chargers per million people by state\n",
    "  - income: Median household income by state\n",
    "  - price: Prices of electricity by state\n",
    "  - income_price_interaction: Multiplication of income and electricity price by state\n",
    "- **Columns to be used to merge/join them:**\n",
    "  - EV Charges: Use the columns of [id], [state], and [country] to create the number of [chargers] by [state].\n",
    "  - Population: Use the columns of [Population] to caluculate EV [chargers_ratio] per million people by [state].\n",
    "  - Income: Use the columns of [state_full] and [income] to show the median household income by [state]\n",
    "  - Electricity Price: Use the columns of [STATE] and electricity price in [Nov 2024] to extract the [price] by [state].\n",
    "- **Hypothesis**: Higher house hold incomes and lower electricity prices will increase the number of EV chargers. \n",
    "- **Site URL:** https://cpt-sipa.readthedocs.io/en/latest/project_3.html"
   ]
  },
  {
   "cell_type": "markdown",
   "id": "462f13df-e139-4254-ae1e-a51e0dad9252",
   "metadata": {
    "jp-MarkdownHeadingCollapsed": true
   },
   "source": [
    "# Table Contents\n",
    "1. Goal\n",
    "2. EV Charger\n",
    "3. Income\n",
    "4. Electricity Price\n",
    "5. Comparison\n",
    "    - EV Chargers vs Income\n",
    "    - EV Chargers vs Electricity Price\n",
    "    - EV Chargers vs (Income & Electricity Price)\n",
    "6. Conclusion"
   ]
  },
  {
   "cell_type": "markdown",
   "id": "5f300b4d-49dc-473c-883d-f05671653ce3",
   "metadata": {},
   "source": [
    "# 1. Goal\n",
    "This project aims to identify what factor drives the expansion of EVs.\n",
    "The hypothesis is that higher household incomes and lower electricity prices are associated with the amount of EVs.\n",
    "To analyze this hypothesis, this porject uses related data in the United States.\n",
    "\n",
    "An objective variable is the number of EV chargers by state.\n",
    "Because of the dificulity to obtain the data on the number of EVs by state, it uses the data on EV chargers instead.\n",
    "It assumes that the number of EV chargers are positively associated with the amount of EVs because EVs requires EV chargers.\n",
    "Additionally, to compare the expansion of chargers, it uses the chargers ratio which are the numbers of chargers per million people in each state to fairly compare them.\n",
    "\n",
    "The first explanatory variable is the median household income by state.\n",
    "Since EVs are expensive and have a short cruising range, the general public might not purchase them for daily use.\n",
    "Instead, many rich people are said to buy them as their second or third car for their hobby. \n",
    "Therefore, more richer people might be associated with more EVs or EV chargers.\n",
    "\n",
    "The second explanatory variable is the electricity price by state.\n",
    "As EVs consume much electricity, cheaper electricity might incentivise people to use EVs.\n",
    "However, Wealthy areas may tend to have a large population, and the cost of electricity may be high.\n",
    "Therefore, the model may need an interaction term of household incomes and electricity prices.\n",
    "\n",
    "Base on these discussions, this project creates and evaluate following equation, or model with βs as coefficients.\n",
    "\n",
    "*EV Chargers Ratio = β0 + β1 × Income + β2 × Electricity Price + β3 × Income × Electricity Price*"
   ]
  },
  {
   "cell_type": "markdown",
   "id": "acb13d61-b9da-4f5e-a76a-2e7872469ca3",
   "metadata": {},
   "source": [
    "# 2. EV Charger"
   ]
  },
  {
   "cell_type": "markdown",
   "id": "d61bdc6d-79df-4731-bcf4-dcec2020bede",
   "metadata": {},
   "source": [
    "# 2-1. Import Data\n",
    "- This project uses the data of EV Chargers from [National Renewable Energy Laboratory ](https://developer.nrel.gov/docs/transportation/alt-fuel-stations-v1/all/).\n",
    "- Import the data by API and show the first five rows to check the ouput.\n",
    "- Check the over view of the data."
   ]
  },
  {
   "cell_type": "code",
   "execution_count": 7,
   "id": "88a106ce-8c2c-4371-9d5b-507d7da4ce88",
   "metadata": {},
   "outputs": [],
   "source": [
    "import requests \n",
    "import pandas as pd"
   ]
  },
  {
   "cell_type": "code",
   "execution_count": 8,
   "id": "4aef5155-6df3-45c8-9320-245d541114fc",
   "metadata": {},
   "outputs": [
    {
     "data": {
      "text/html": [
       "<div>\n",
       "<style scoped>\n",
       "    .dataframe tbody tr th:only-of-type {\n",
       "        vertical-align: middle;\n",
       "    }\n",
       "\n",
       "    .dataframe tbody tr th {\n",
       "        vertical-align: top;\n",
       "    }\n",
       "\n",
       "    .dataframe thead th {\n",
       "        text-align: right;\n",
       "    }\n",
       "</style>\n",
       "<table border=\"1\" class=\"dataframe\">\n",
       "  <thead>\n",
       "    <tr style=\"text-align: right;\">\n",
       "      <th></th>\n",
       "      <th>access_code</th>\n",
       "      <th>access_days_time</th>\n",
       "      <th>access_detail_code</th>\n",
       "      <th>cards_accepted</th>\n",
       "      <th>date_last_confirmed</th>\n",
       "      <th>expected_date</th>\n",
       "      <th>fuel_type_code</th>\n",
       "      <th>groups_with_access_code</th>\n",
       "      <th>id</th>\n",
       "      <th>maximum_vehicle_class</th>\n",
       "      <th>...</th>\n",
       "      <th>rd_blends_fr</th>\n",
       "      <th>rd_max_biodiesel_level</th>\n",
       "      <th>nps_unit_name</th>\n",
       "      <th>access_days_time_fr</th>\n",
       "      <th>intersection_directions_fr</th>\n",
       "      <th>bd_blends_fr</th>\n",
       "      <th>groups_with_access_code_fr</th>\n",
       "      <th>ev_pricing_fr</th>\n",
       "      <th>federal_agency</th>\n",
       "      <th>ev_network_ids</th>\n",
       "    </tr>\n",
       "  </thead>\n",
       "  <tbody>\n",
       "    <tr>\n",
       "      <th>0</th>\n",
       "      <td>private</td>\n",
       "      <td>None</td>\n",
       "      <td>None</td>\n",
       "      <td>None</td>\n",
       "      <td>2024-10-11</td>\n",
       "      <td>None</td>\n",
       "      <td>CNG</td>\n",
       "      <td>Private</td>\n",
       "      <td>17</td>\n",
       "      <td>MD</td>\n",
       "      <td>...</td>\n",
       "      <td>None</td>\n",
       "      <td>None</td>\n",
       "      <td>None</td>\n",
       "      <td>None</td>\n",
       "      <td>None</td>\n",
       "      <td>None</td>\n",
       "      <td>Privé</td>\n",
       "      <td>None</td>\n",
       "      <td>NaN</td>\n",
       "      <td>NaN</td>\n",
       "    </tr>\n",
       "    <tr>\n",
       "      <th>1</th>\n",
       "      <td>private</td>\n",
       "      <td>None</td>\n",
       "      <td>GOVERNMENT</td>\n",
       "      <td>None</td>\n",
       "      <td>2024-02-12</td>\n",
       "      <td>None</td>\n",
       "      <td>CNG</td>\n",
       "      <td>Private - Government only</td>\n",
       "      <td>45</td>\n",
       "      <td>LD</td>\n",
       "      <td>...</td>\n",
       "      <td>None</td>\n",
       "      <td>None</td>\n",
       "      <td>None</td>\n",
       "      <td>None</td>\n",
       "      <td>None</td>\n",
       "      <td>None</td>\n",
       "      <td>Privé - Réservé au gouvernement</td>\n",
       "      <td>None</td>\n",
       "      <td>NaN</td>\n",
       "      <td>NaN</td>\n",
       "    </tr>\n",
       "    <tr>\n",
       "      <th>2</th>\n",
       "      <td>private</td>\n",
       "      <td>None</td>\n",
       "      <td>None</td>\n",
       "      <td>None</td>\n",
       "      <td>2023-12-13</td>\n",
       "      <td>None</td>\n",
       "      <td>CNG</td>\n",
       "      <td>Private</td>\n",
       "      <td>64</td>\n",
       "      <td>HD</td>\n",
       "      <td>...</td>\n",
       "      <td>None</td>\n",
       "      <td>None</td>\n",
       "      <td>None</td>\n",
       "      <td>None</td>\n",
       "      <td>None</td>\n",
       "      <td>None</td>\n",
       "      <td>Privé</td>\n",
       "      <td>None</td>\n",
       "      <td>NaN</td>\n",
       "      <td>NaN</td>\n",
       "    </tr>\n",
       "    <tr>\n",
       "      <th>3</th>\n",
       "      <td>public</td>\n",
       "      <td>24 hours daily</td>\n",
       "      <td>CREDIT_CARD_ALWAYS</td>\n",
       "      <td>CREDIT M V Voyager</td>\n",
       "      <td>2024-04-14</td>\n",
       "      <td>None</td>\n",
       "      <td>CNG</td>\n",
       "      <td>Public - Credit card at all times</td>\n",
       "      <td>73</td>\n",
       "      <td>MD</td>\n",
       "      <td>...</td>\n",
       "      <td>None</td>\n",
       "      <td>None</td>\n",
       "      <td>None</td>\n",
       "      <td>None</td>\n",
       "      <td>None</td>\n",
       "      <td>None</td>\n",
       "      <td>Public - Carte de crédit en tout temps</td>\n",
       "      <td>None</td>\n",
       "      <td>NaN</td>\n",
       "      <td>NaN</td>\n",
       "    </tr>\n",
       "    <tr>\n",
       "      <th>4</th>\n",
       "      <td>public</td>\n",
       "      <td>24 hours daily; call 866-809-4869 for Clean En...</td>\n",
       "      <td>CREDIT_CARD_ALWAYS</td>\n",
       "      <td>A CleanEnergy Comdata D FuelMan M V Voyager Wr...</td>\n",
       "      <td>2024-11-06</td>\n",
       "      <td>None</td>\n",
       "      <td>CNG</td>\n",
       "      <td>Public - Credit card at all times</td>\n",
       "      <td>81</td>\n",
       "      <td>MD</td>\n",
       "      <td>...</td>\n",
       "      <td>None</td>\n",
       "      <td>None</td>\n",
       "      <td>None</td>\n",
       "      <td>None</td>\n",
       "      <td>None</td>\n",
       "      <td>None</td>\n",
       "      <td>Public - Carte de crédit en tout temps</td>\n",
       "      <td>None</td>\n",
       "      <td>NaN</td>\n",
       "      <td>NaN</td>\n",
       "    </tr>\n",
       "  </tbody>\n",
       "</table>\n",
       "<p>5 rows × 74 columns</p>\n",
       "</div>"
      ],
      "text/plain": [
       "  access_code                                   access_days_time  \\\n",
       "0     private                                               None   \n",
       "1     private                                               None   \n",
       "2     private                                               None   \n",
       "3      public                                     24 hours daily   \n",
       "4      public  24 hours daily; call 866-809-4869 for Clean En...   \n",
       "\n",
       "   access_detail_code                                     cards_accepted  \\\n",
       "0                None                                               None   \n",
       "1          GOVERNMENT                                               None   \n",
       "2                None                                               None   \n",
       "3  CREDIT_CARD_ALWAYS                                 CREDIT M V Voyager   \n",
       "4  CREDIT_CARD_ALWAYS  A CleanEnergy Comdata D FuelMan M V Voyager Wr...   \n",
       "\n",
       "  date_last_confirmed expected_date fuel_type_code  \\\n",
       "0          2024-10-11          None            CNG   \n",
       "1          2024-02-12          None            CNG   \n",
       "2          2023-12-13          None            CNG   \n",
       "3          2024-04-14          None            CNG   \n",
       "4          2024-11-06          None            CNG   \n",
       "\n",
       "             groups_with_access_code  id maximum_vehicle_class  ...  \\\n",
       "0                            Private  17                    MD  ...   \n",
       "1          Private - Government only  45                    LD  ...   \n",
       "2                            Private  64                    HD  ...   \n",
       "3  Public - Credit card at all times  73                    MD  ...   \n",
       "4  Public - Credit card at all times  81                    MD  ...   \n",
       "\n",
       "  rd_blends_fr rd_max_biodiesel_level nps_unit_name access_days_time_fr  \\\n",
       "0         None                   None          None                None   \n",
       "1         None                   None          None                None   \n",
       "2         None                   None          None                None   \n",
       "3         None                   None          None                None   \n",
       "4         None                   None          None                None   \n",
       "\n",
       "  intersection_directions_fr bd_blends_fr  \\\n",
       "0                       None         None   \n",
       "1                       None         None   \n",
       "2                       None         None   \n",
       "3                       None         None   \n",
       "4                       None         None   \n",
       "\n",
       "               groups_with_access_code_fr ev_pricing_fr federal_agency  \\\n",
       "0                                   Privé          None            NaN   \n",
       "1         Privé - Réservé au gouvernement          None            NaN   \n",
       "2                                   Privé          None            NaN   \n",
       "3  Public - Carte de crédit en tout temps          None            NaN   \n",
       "4  Public - Carte de crédit en tout temps          None            NaN   \n",
       "\n",
       "  ev_network_ids  \n",
       "0            NaN  \n",
       "1            NaN  \n",
       "2            NaN  \n",
       "3            NaN  \n",
       "4            NaN  \n",
       "\n",
       "[5 rows x 74 columns]"
      ]
     },
     "execution_count": 8,
     "metadata": {},
     "output_type": "execute_result"
    }
   ],
   "source": [
    "# Import the data by API and show the first five rows.\n",
    "ev_api_url = \"https://developer.nrel.gov/api/alt-fuel-stations/v1.json\"\n",
    "ev_api_key = \"DEMO_KEY\"\n",
    "\n",
    "ev_params = {\n",
    "    \"api_key\": ev_api_key,\n",
    "    \"fuel_type_code\": \"ELEC\",\n",
    "    \"status_code\": \"E\",\n",
    "}\n",
    "\n",
    "ev_response = requests.get(ev_api_url, params=ev_params)\n",
    "ev_data = ev_response.json()\n",
    "ev_df = pd.DataFrame(ev_data['fuel_stations'])\n",
    "\n",
    "ev_df.head()"
   ]
  },
  {
   "cell_type": "code",
   "execution_count": 9,
   "id": "750f4419-0b0a-421d-9cc5-2eebb99de409",
   "metadata": {},
   "outputs": [
    {
     "name": "stdout",
     "output_type": "stream",
     "text": [
      "<class 'pandas.core.frame.DataFrame'>\n",
      "RangeIndex: 91152 entries, 0 to 91151\n",
      "Data columns (total 74 columns):\n",
      " #   Column                      Non-Null Count  Dtype  \n",
      "---  ------                      --------------  -----  \n",
      " 0   access_code                 91152 non-null  object \n",
      " 1   access_days_time            81881 non-null  object \n",
      " 2   access_detail_code          7623 non-null   object \n",
      " 3   cards_accepted              17805 non-null  object \n",
      " 4   date_last_confirmed         90852 non-null  object \n",
      " 5   expected_date               5714 non-null   object \n",
      " 6   fuel_type_code              91152 non-null  object \n",
      " 7   groups_with_access_code     91152 non-null  object \n",
      " 8   id                          91152 non-null  int64  \n",
      " 9   maximum_vehicle_class       21836 non-null  object \n",
      " 10  open_date                   90639 non-null  object \n",
      " 11  owner_type_code             32669 non-null  object \n",
      " 12  restricted_access           22461 non-null  object \n",
      " 13  status_code                 91152 non-null  object \n",
      " 14  funding_sources             41 non-null     object \n",
      " 15  facility_type               31053 non-null  object \n",
      " 16  station_name                91152 non-null  object \n",
      " 17  station_phone               85660 non-null  object \n",
      " 18  updated_at                  91152 non-null  object \n",
      " 19  geocode_status              91147 non-null  object \n",
      " 20  latitude                    91152 non-null  float64\n",
      " 21  longitude                   91152 non-null  float64\n",
      " 22  city                        91152 non-null  object \n",
      " 23  country                     91152 non-null  object \n",
      " 24  intersection_directions     26063 non-null  object \n",
      " 25  plus4                       0 non-null      object \n",
      " 26  state                       91152 non-null  object \n",
      " 27  street_address              91118 non-null  object \n",
      " 28  zip                         91152 non-null  object \n",
      " 29  bd_blends                   1791 non-null   object \n",
      " 30  cng_dispenser_num           1152 non-null   float64\n",
      " 31  cng_fill_type_code          1366 non-null   object \n",
      " 32  cng_has_rng                 916 non-null    object \n",
      " 33  cng_psi                     1364 non-null   object \n",
      " 34  cng_renewable_source        521 non-null    object \n",
      " 35  cng_total_compression       586 non-null    float64\n",
      " 36  cng_total_storage           283 non-null    float64\n",
      " 37  cng_vehicle_class           1379 non-null   object \n",
      " 38  e85_blender_pump            4687 non-null   object \n",
      " 39  e85_other_ethanol_blends    1456 non-null   object \n",
      " 40  ev_connector_types          79490 non-null  object \n",
      " 41  ev_dc_fast_num              12578 non-null  float64\n",
      " 42  ev_level1_evse_num          698 non-null    float64\n",
      " 43  ev_level2_evse_num          68058 non-null  float64\n",
      " 44  ev_network                  79515 non-null  object \n",
      " 45  ev_network_web              69873 non-null  object \n",
      " 46  ev_other_evse               16 non-null     object \n",
      " 47  ev_pricing                  15564 non-null  object \n",
      " 48  ev_renewable_source         411 non-null    object \n",
      " 49  ev_workplace_charging       79509 non-null  object \n",
      " 50  hy_is_retail                83 non-null     object \n",
      " 51  hy_pressures                92 non-null     object \n",
      " 52  hy_standards                86 non-null     object \n",
      " 53  hy_status_link              62 non-null     object \n",
      " 54  lng_has_rng                 62 non-null     object \n",
      " 55  lng_renewable_source        41 non-null     object \n",
      " 56  lng_vehicle_class           107 non-null    object \n",
      " 57  lpg_nozzle_types            2611 non-null   object \n",
      " 58  lpg_primary                 2466 non-null   object \n",
      " 59  ng_fill_type_code           1366 non-null   object \n",
      " 60  ng_psi                      1364 non-null   object \n",
      " 61  ng_vehicle_class            1486 non-null   object \n",
      " 62  rd_blended_with_biodiesel   591 non-null    object \n",
      " 63  rd_blends                   655 non-null    object \n",
      " 64  rd_blends_fr                0 non-null      object \n",
      " 65  rd_max_biodiesel_level      540 non-null    object \n",
      " 66  nps_unit_name               326 non-null    object \n",
      " 67  access_days_time_fr         0 non-null      object \n",
      " 68  intersection_directions_fr  0 non-null      object \n",
      " 69  bd_blends_fr                0 non-null      object \n",
      " 70  groups_with_access_code_fr  91152 non-null  object \n",
      " 71  ev_pricing_fr               0 non-null      object \n",
      " 72  federal_agency              1430 non-null   object \n",
      " 73  ev_network_ids              66085 non-null  object \n",
      "dtypes: float64(8), int64(1), object(65)\n",
      "memory usage: 51.5+ MB\n"
     ]
    }
   ],
   "source": [
    "# Check the information\n",
    "ev_df.info()"
   ]
  },
  {
   "cell_type": "markdown",
   "id": "2df38be1-51da-48a4-af8a-69124e3ced5e",
   "metadata": {},
   "source": [
    "# 2-2. Clean Data\n",
    "# 2-2-1. Extract Columns\n",
    "- Extract only the related columns since there are many columns."
   ]
  },
  {
   "cell_type": "code",
   "execution_count": 11,
   "id": "702c585c-b121-4c23-a773-ed538843590b",
   "metadata": {},
   "outputs": [
    {
     "data": {
      "text/html": [
       "<div>\n",
       "<style scoped>\n",
       "    .dataframe tbody tr th:only-of-type {\n",
       "        vertical-align: middle;\n",
       "    }\n",
       "\n",
       "    .dataframe tbody tr th {\n",
       "        vertical-align: top;\n",
       "    }\n",
       "\n",
       "    .dataframe thead th {\n",
       "        text-align: right;\n",
       "    }\n",
       "</style>\n",
       "<table border=\"1\" class=\"dataframe\">\n",
       "  <thead>\n",
       "    <tr style=\"text-align: right;\">\n",
       "      <th></th>\n",
       "      <th>id</th>\n",
       "      <th>open_date</th>\n",
       "      <th>state</th>\n",
       "      <th>country</th>\n",
       "    </tr>\n",
       "  </thead>\n",
       "  <tbody>\n",
       "    <tr>\n",
       "      <th>0</th>\n",
       "      <td>17</td>\n",
       "      <td>2010-12-01</td>\n",
       "      <td>AL</td>\n",
       "      <td>US</td>\n",
       "    </tr>\n",
       "    <tr>\n",
       "      <th>1</th>\n",
       "      <td>45</td>\n",
       "      <td>1996-12-15</td>\n",
       "      <td>GA</td>\n",
       "      <td>US</td>\n",
       "    </tr>\n",
       "    <tr>\n",
       "      <th>2</th>\n",
       "      <td>64</td>\n",
       "      <td>1997-01-01</td>\n",
       "      <td>GA</td>\n",
       "      <td>US</td>\n",
       "    </tr>\n",
       "    <tr>\n",
       "      <th>3</th>\n",
       "      <td>73</td>\n",
       "      <td>1997-01-01</td>\n",
       "      <td>AR</td>\n",
       "      <td>US</td>\n",
       "    </tr>\n",
       "    <tr>\n",
       "      <th>4</th>\n",
       "      <td>81</td>\n",
       "      <td>1996-11-15</td>\n",
       "      <td>MA</td>\n",
       "      <td>US</td>\n",
       "    </tr>\n",
       "  </tbody>\n",
       "</table>\n",
       "</div>"
      ],
      "text/plain": [
       "   id   open_date state country\n",
       "0  17  2010-12-01    AL      US\n",
       "1  45  1996-12-15    GA      US\n",
       "2  64  1997-01-01    GA      US\n",
       "3  73  1997-01-01    AR      US\n",
       "4  81  1996-11-15    MA      US"
      ]
     },
     "execution_count": 11,
     "metadata": {},
     "output_type": "execute_result"
    }
   ],
   "source": [
    "ev_df_filtered = ev_df[['id', 'open_date', 'state', 'country']].copy()\n",
    "ev_df_filtered.head()"
   ]
  },
  {
   "cell_type": "markdown",
   "id": "7a084ce8-e841-4266-a3b3-7ebd955c32b8",
   "metadata": {},
   "source": [
    "# 2-2-2. Add Time Data\n",
    "- Change the type of data related to time from object to date time (datetime64).\n",
    "- Add year information based on the data of year and month.\n",
    "- Show the first five rows to check the output."
   ]
  },
  {
   "cell_type": "code",
   "execution_count": 13,
   "id": "c652b8a3-5d5f-4128-96e5-be5dff3ec4f4",
   "metadata": {},
   "outputs": [
    {
     "name": "stdout",
     "output_type": "stream",
     "text": [
      "<class 'pandas.core.frame.DataFrame'>\n",
      "RangeIndex: 91152 entries, 0 to 91151\n",
      "Data columns (total 4 columns):\n",
      " #   Column     Non-Null Count  Dtype         \n",
      "---  ------     --------------  -----         \n",
      " 0   id         91152 non-null  int64         \n",
      " 1   open_date  90636 non-null  datetime64[ns]\n",
      " 2   state      91152 non-null  object        \n",
      " 3   country    91152 non-null  object        \n",
      "dtypes: datetime64[ns](1), int64(1), object(2)\n",
      "memory usage: 2.8+ MB\n"
     ]
    }
   ],
   "source": [
    "# Change the type of data related to time from object to date time (datetime64).\n",
    "ev_df_filtered['open_date'] = pd.to_datetime(\n",
    "    ev_df_filtered['open_date'],\n",
    "    format = '%Y-%m-%d',\n",
    "    errors = 'coerce')\n",
    "\n",
    "ev_df_filtered.info()"
   ]
  },
  {
   "cell_type": "code",
   "execution_count": 14,
   "id": "01b408fb-f758-4516-a48e-cd6023ab6e54",
   "metadata": {},
   "outputs": [
    {
     "name": "stdout",
     "output_type": "stream",
     "text": [
      "<class 'pandas.core.frame.DataFrame'>\n",
      "RangeIndex: 91152 entries, 0 to 91151\n",
      "Data columns (total 5 columns):\n",
      " #   Column     Non-Null Count  Dtype         \n",
      "---  ------     --------------  -----         \n",
      " 0   id         91152 non-null  int64         \n",
      " 1   open_date  90636 non-null  datetime64[ns]\n",
      " 2   state      91152 non-null  object        \n",
      " 3   country    91152 non-null  object        \n",
      " 4   year       90636 non-null  datetime64[ns]\n",
      "dtypes: datetime64[ns](2), int64(1), object(2)\n",
      "memory usage: 3.5+ MB\n"
     ]
    }
   ],
   "source": [
    "# Add year information based on the data of year and month.\n",
    "ev_df_filtered['year'] = ev_df_filtered['open_date'].dt.year\n",
    "ev_df_filtered['year'] = pd.to_datetime(\n",
    "    ev_df_filtered['year'],\n",
    "    format = '%Y',\n",
    "    errors = 'coerce')\n",
    "\n",
    "ev_df_filtered.info()"
   ]
  },
  {
   "cell_type": "code",
   "execution_count": 15,
   "id": "86c40a0d-bebe-4586-92b5-5e792264488c",
   "metadata": {},
   "outputs": [
    {
     "data": {
      "text/html": [
       "<div>\n",
       "<style scoped>\n",
       "    .dataframe tbody tr th:only-of-type {\n",
       "        vertical-align: middle;\n",
       "    }\n",
       "\n",
       "    .dataframe tbody tr th {\n",
       "        vertical-align: top;\n",
       "    }\n",
       "\n",
       "    .dataframe thead th {\n",
       "        text-align: right;\n",
       "    }\n",
       "</style>\n",
       "<table border=\"1\" class=\"dataframe\">\n",
       "  <thead>\n",
       "    <tr style=\"text-align: right;\">\n",
       "      <th></th>\n",
       "      <th>id</th>\n",
       "      <th>open_date</th>\n",
       "      <th>state</th>\n",
       "      <th>country</th>\n",
       "      <th>year</th>\n",
       "    </tr>\n",
       "  </thead>\n",
       "  <tbody>\n",
       "    <tr>\n",
       "      <th>0</th>\n",
       "      <td>17</td>\n",
       "      <td>2010-12-01</td>\n",
       "      <td>AL</td>\n",
       "      <td>US</td>\n",
       "      <td>2010-01-01</td>\n",
       "    </tr>\n",
       "    <tr>\n",
       "      <th>1</th>\n",
       "      <td>45</td>\n",
       "      <td>1996-12-15</td>\n",
       "      <td>GA</td>\n",
       "      <td>US</td>\n",
       "      <td>1996-01-01</td>\n",
       "    </tr>\n",
       "    <tr>\n",
       "      <th>2</th>\n",
       "      <td>64</td>\n",
       "      <td>1997-01-01</td>\n",
       "      <td>GA</td>\n",
       "      <td>US</td>\n",
       "      <td>1997-01-01</td>\n",
       "    </tr>\n",
       "    <tr>\n",
       "      <th>3</th>\n",
       "      <td>73</td>\n",
       "      <td>1997-01-01</td>\n",
       "      <td>AR</td>\n",
       "      <td>US</td>\n",
       "      <td>1997-01-01</td>\n",
       "    </tr>\n",
       "    <tr>\n",
       "      <th>4</th>\n",
       "      <td>81</td>\n",
       "      <td>1996-11-15</td>\n",
       "      <td>MA</td>\n",
       "      <td>US</td>\n",
       "      <td>1996-01-01</td>\n",
       "    </tr>\n",
       "  </tbody>\n",
       "</table>\n",
       "</div>"
      ],
      "text/plain": [
       "   id  open_date state country       year\n",
       "0  17 2010-12-01    AL      US 2010-01-01\n",
       "1  45 1996-12-15    GA      US 1996-01-01\n",
       "2  64 1997-01-01    GA      US 1997-01-01\n",
       "3  73 1997-01-01    AR      US 1997-01-01\n",
       "4  81 1996-11-15    MA      US 1996-01-01"
      ]
     },
     "execution_count": 15,
     "metadata": {},
     "output_type": "execute_result"
    }
   ],
   "source": [
    "# Show the first five rows.\n",
    "ev_df_filtered.head()"
   ]
  },
  {
   "cell_type": "markdown",
   "id": "b8758c66-af47-4601-bf60-f90bf522a3ca",
   "metadata": {},
   "source": [
    "# 2-2-3. Group Data\n",
    "- Group the data base on states.\n",
    "- Count the number of EV chargers."
   ]
  },
  {
   "cell_type": "code",
   "execution_count": 17,
   "id": "78fa6014-fc2d-4406-9b2b-b9837c1b4bf8",
   "metadata": {},
   "outputs": [
    {
     "data": {
      "text/html": [
       "<div>\n",
       "<style scoped>\n",
       "    .dataframe tbody tr th:only-of-type {\n",
       "        vertical-align: middle;\n",
       "    }\n",
       "\n",
       "    .dataframe tbody tr th {\n",
       "        vertical-align: top;\n",
       "    }\n",
       "\n",
       "    .dataframe thead th {\n",
       "        text-align: right;\n",
       "    }\n",
       "</style>\n",
       "<table border=\"1\" class=\"dataframe\">\n",
       "  <thead>\n",
       "    <tr style=\"text-align: right;\">\n",
       "      <th></th>\n",
       "      <th>year</th>\n",
       "      <th>state</th>\n",
       "      <th>ev_chargers</th>\n",
       "    </tr>\n",
       "  </thead>\n",
       "  <tbody>\n",
       "    <tr>\n",
       "      <th>1061</th>\n",
       "      <td>2022-01-01</td>\n",
       "      <td>UT</td>\n",
       "      <td>124</td>\n",
       "    </tr>\n",
       "    <tr>\n",
       "      <th>993</th>\n",
       "      <td>2021-01-01</td>\n",
       "      <td>NE</td>\n",
       "      <td>105</td>\n",
       "    </tr>\n",
       "    <tr>\n",
       "      <th>714</th>\n",
       "      <td>2016-01-01</td>\n",
       "      <td>CA</td>\n",
       "      <td>397</td>\n",
       "    </tr>\n",
       "    <tr>\n",
       "      <th>285</th>\n",
       "      <td>2006-01-01</td>\n",
       "      <td>FL</td>\n",
       "      <td>3</td>\n",
       "    </tr>\n",
       "    <tr>\n",
       "      <th>534</th>\n",
       "      <td>2012-01-01</td>\n",
       "      <td>MT</td>\n",
       "      <td>1</td>\n",
       "    </tr>\n",
       "  </tbody>\n",
       "</table>\n",
       "</div>"
      ],
      "text/plain": [
       "           year state  ev_chargers\n",
       "1061 2022-01-01    UT          124\n",
       "993  2021-01-01    NE          105\n",
       "714  2016-01-01    CA          397\n",
       "285  2006-01-01    FL            3\n",
       "534  2012-01-01    MT            1"
      ]
     },
     "execution_count": 17,
     "metadata": {},
     "output_type": "execute_result"
    }
   ],
   "source": [
    "# Group the data base on states and years.\n",
    "ev_df_grouped = ev_df_filtered[ev_df_filtered['country'] == 'US'].groupby(\n",
    "    ['year', 'state']).size().reset_index(name = 'ev_chargers')\n",
    "\n",
    "ev_df_grouped.sample(5)"
   ]
  },
  {
   "cell_type": "code",
   "execution_count": 18,
   "id": "711aa7a7-4819-4030-abd4-bd5cefca2200",
   "metadata": {},
   "outputs": [
    {
     "data": {
      "text/html": [
       "<div>\n",
       "<style scoped>\n",
       "    .dataframe tbody tr th:only-of-type {\n",
       "        vertical-align: middle;\n",
       "    }\n",
       "\n",
       "    .dataframe tbody tr th {\n",
       "        vertical-align: top;\n",
       "    }\n",
       "\n",
       "    .dataframe thead th {\n",
       "        text-align: right;\n",
       "    }\n",
       "</style>\n",
       "<table border=\"1\" class=\"dataframe\">\n",
       "  <thead>\n",
       "    <tr style=\"text-align: right;\">\n",
       "      <th></th>\n",
       "      <th>state</th>\n",
       "      <th>ev_chargers</th>\n",
       "    </tr>\n",
       "  </thead>\n",
       "  <tbody>\n",
       "    <tr>\n",
       "      <th>0</th>\n",
       "      <td>AK</td>\n",
       "      <td>75</td>\n",
       "    </tr>\n",
       "    <tr>\n",
       "      <th>1</th>\n",
       "      <td>AL</td>\n",
       "      <td>708</td>\n",
       "    </tr>\n",
       "    <tr>\n",
       "      <th>2</th>\n",
       "      <td>AR</td>\n",
       "      <td>551</td>\n",
       "    </tr>\n",
       "    <tr>\n",
       "      <th>3</th>\n",
       "      <td>AZ</td>\n",
       "      <td>1703</td>\n",
       "    </tr>\n",
       "    <tr>\n",
       "      <th>4</th>\n",
       "      <td>CA</td>\n",
       "      <td>21080</td>\n",
       "    </tr>\n",
       "  </tbody>\n",
       "</table>\n",
       "</div>"
      ],
      "text/plain": [
       "  state  ev_chargers\n",
       "0    AK           75\n",
       "1    AL          708\n",
       "2    AR          551\n",
       "3    AZ         1703\n",
       "4    CA        21080"
      ]
     },
     "execution_count": 18,
     "metadata": {},
     "output_type": "execute_result"
    }
   ],
   "source": [
    "# Count the number of EV chargers based on state.\n",
    "ev_df_grouped_state = ev_df_filtered.groupby(\n",
    "    ['state']).size().reset_index(name = 'ev_chargers').copy()\n",
    "ev_df_grouped_state.head()"
   ]
  },
  {
   "cell_type": "markdown",
   "id": "3bcc27c2-e2b5-477c-9115-08293e8b3140",
   "metadata": {},
   "source": [
    "# 2-2-4. Add Full State Names"
   ]
  },
  {
   "cell_type": "markdown",
   "id": "94c01ea5-d26c-45e5-887e-07a25cb462d1",
   "metadata": {},
   "source": [
    "- Since this data has no full name of each state, add their full names.  "
   ]
  },
  {
   "cell_type": "code",
   "execution_count": 21,
   "id": "a7496595-a333-4207-ba08-1abebf8be11a",
   "metadata": {},
   "outputs": [
    {
     "data": {
      "text/html": [
       "<div>\n",
       "<style scoped>\n",
       "    .dataframe tbody tr th:only-of-type {\n",
       "        vertical-align: middle;\n",
       "    }\n",
       "\n",
       "    .dataframe tbody tr th {\n",
       "        vertical-align: top;\n",
       "    }\n",
       "\n",
       "    .dataframe thead th {\n",
       "        text-align: right;\n",
       "    }\n",
       "</style>\n",
       "<table border=\"1\" class=\"dataframe\">\n",
       "  <thead>\n",
       "    <tr style=\"text-align: right;\">\n",
       "      <th></th>\n",
       "      <th>state</th>\n",
       "      <th>ev_chargers</th>\n",
       "      <th>state_full</th>\n",
       "    </tr>\n",
       "  </thead>\n",
       "  <tbody>\n",
       "    <tr>\n",
       "      <th>0</th>\n",
       "      <td>AK</td>\n",
       "      <td>75</td>\n",
       "      <td>Alaska</td>\n",
       "    </tr>\n",
       "    <tr>\n",
       "      <th>1</th>\n",
       "      <td>AL</td>\n",
       "      <td>708</td>\n",
       "      <td>Alabama</td>\n",
       "    </tr>\n",
       "    <tr>\n",
       "      <th>2</th>\n",
       "      <td>AR</td>\n",
       "      <td>551</td>\n",
       "      <td>Arkansas</td>\n",
       "    </tr>\n",
       "    <tr>\n",
       "      <th>3</th>\n",
       "      <td>AZ</td>\n",
       "      <td>1703</td>\n",
       "      <td>Arizona</td>\n",
       "    </tr>\n",
       "    <tr>\n",
       "      <th>4</th>\n",
       "      <td>CA</td>\n",
       "      <td>21080</td>\n",
       "      <td>California</td>\n",
       "    </tr>\n",
       "  </tbody>\n",
       "</table>\n",
       "</div>"
      ],
      "text/plain": [
       "  state  ev_chargers  state_full\n",
       "0    AK           75      Alaska\n",
       "1    AL          708     Alabama\n",
       "2    AR          551    Arkansas\n",
       "3    AZ         1703     Arizona\n",
       "4    CA        21080  California"
      ]
     },
     "execution_count": 21,
     "metadata": {},
     "output_type": "execute_result"
    }
   ],
   "source": [
    "state_mapping = {\n",
    "    'AL': 'Alabama',\n",
    "    'AK': 'Alaska',\n",
    "    'AZ': 'Arizona',\n",
    "    'AR': 'Arkansas',\n",
    "    'CA': 'California',\n",
    "    'CO': 'Colorado',\n",
    "    'CT': 'Connecticut',\n",
    "    'DE': 'Delaware',\n",
    "    'FL': 'Florida',\n",
    "    'GA': 'Georgia',\n",
    "    'HI': 'Hawaii',\n",
    "    'ID': 'Idaho',\n",
    "    'IL': 'Illinois',\n",
    "    'IN': 'Indiana',\n",
    "    'IA': 'Iowa',\n",
    "    'KS': 'Kansas',\n",
    "    'KY': 'Kentucky',\n",
    "    'LA': 'Louisiana',\n",
    "    'ME': 'Maine',\n",
    "    'MD': 'Maryland',\n",
    "    'MA': 'Massachusetts',\n",
    "    'MI': 'Michigan',\n",
    "    'MN': 'Minnesota',\n",
    "    'MS': 'Mississippi',\n",
    "    'MO': 'Missouri',\n",
    "    'MT': 'Montana',\n",
    "    'NE': 'Nebraska',\n",
    "    'NV': 'Nevada',\n",
    "    'NH': 'New Hampshire',\n",
    "    'NJ': 'New Jersey',\n",
    "    'NM': 'New Mexico',\n",
    "    'NY': 'New York',\n",
    "    'NC': 'North Carolina',\n",
    "    'ND': 'North Dakota',\n",
    "    'OH': 'Ohio',\n",
    "    'OK': 'Oklahoma',\n",
    "    'OR': 'Oregon',\n",
    "    'PA': 'Pennsylvania',\n",
    "    'RI': 'Rhode Island',\n",
    "    'SC': 'South Carolina',\n",
    "    'SD': 'South Dakota',\n",
    "    'TN': 'Tennessee',\n",
    "    'TX': 'Texas',\n",
    "    'UT': 'Utah',\n",
    "    'VT': 'Vermont',\n",
    "    'VA': 'Virginia',\n",
    "    'WA': 'Washington',\n",
    "    'WV': 'West Virginia',\n",
    "    'WI': 'Wisconsin',\n",
    "    'WY': 'Wyoming'\n",
    "}\n",
    "\n",
    "ev_df_grouped_state['state_full'] = ev_df_grouped_state['state'].map(state_mapping)\n",
    "\n",
    "ev_df_grouped_state.head()"
   ]
  },
  {
   "cell_type": "markdown",
   "id": "39a286a7-9998-413c-bd41-cdaad854eed1",
   "metadata": {},
   "source": [
    "# 2-3. Calculate Chargers Ratio"
   ]
  },
  {
   "cell_type": "markdown",
   "id": "06342e83-4441-4225-81a1-11c2b38e9e95",
   "metadata": {},
   "source": [
    "# 2-3-1. Import Population Data by State"
   ]
  },
  {
   "cell_type": "markdown",
   "id": "a2a90ef2-919c-460c-9e60-c54ea285e14e",
   "metadata": {},
   "source": [
    "- This project uses the population data from [STATSAMERICA](https://www.statsamerica.org/sip/rank_list.aspx?rank_label=pop1).\n",
    "- Import the data by Web Scraping and show the first five rows to check the output.\n",
    "- Check the over view of the data."
   ]
  },
  {
   "cell_type": "code",
   "execution_count": 25,
   "id": "e2707950-3f3d-4d3e-a726-fc199950ce3d",
   "metadata": {},
   "outputs": [
    {
     "data": {
      "text/html": [
       "<div>\n",
       "<style scoped>\n",
       "    .dataframe tbody tr th:only-of-type {\n",
       "        vertical-align: middle;\n",
       "    }\n",
       "\n",
       "    .dataframe tbody tr th {\n",
       "        vertical-align: top;\n",
       "    }\n",
       "\n",
       "    .dataframe thead th {\n",
       "        text-align: right;\n",
       "    }\n",
       "</style>\n",
       "<table border=\"1\" class=\"dataframe\">\n",
       "  <thead>\n",
       "    <tr style=\"text-align: right;\">\n",
       "      <th></th>\n",
       "      <th>Rank</th>\n",
       "      <th>State</th>\n",
       "      <th>FIPS Code</th>\n",
       "      <th>Population</th>\n",
       "    </tr>\n",
       "  </thead>\n",
       "  <tbody>\n",
       "    <tr>\n",
       "      <th>0</th>\n",
       "      <td>1</td>\n",
       "      <td>California</td>\n",
       "      <td>6000</td>\n",
       "      <td>38965193</td>\n",
       "    </tr>\n",
       "    <tr>\n",
       "      <th>1</th>\n",
       "      <td>2</td>\n",
       "      <td>Texas</td>\n",
       "      <td>48000</td>\n",
       "      <td>30503301</td>\n",
       "    </tr>\n",
       "    <tr>\n",
       "      <th>2</th>\n",
       "      <td>3</td>\n",
       "      <td>Florida</td>\n",
       "      <td>12000</td>\n",
       "      <td>22610726</td>\n",
       "    </tr>\n",
       "    <tr>\n",
       "      <th>3</th>\n",
       "      <td>4</td>\n",
       "      <td>New York</td>\n",
       "      <td>36000</td>\n",
       "      <td>19571216</td>\n",
       "    </tr>\n",
       "    <tr>\n",
       "      <th>4</th>\n",
       "      <td>5</td>\n",
       "      <td>Pennsylvania</td>\n",
       "      <td>42000</td>\n",
       "      <td>12961683</td>\n",
       "    </tr>\n",
       "  </tbody>\n",
       "</table>\n",
       "</div>"
      ],
      "text/plain": [
       "   Rank         State  FIPS Code  Population\n",
       "0     1    California       6000    38965193\n",
       "1     2         Texas      48000    30503301\n",
       "2     3       Florida      12000    22610726\n",
       "3     4      New York      36000    19571216\n",
       "4     5  Pennsylvania      42000    12961683"
      ]
     },
     "execution_count": 25,
     "metadata": {},
     "output_type": "execute_result"
    }
   ],
   "source": [
    "# Import the data by API and show the first five rows.\n",
    "pop_list = pd.read_html('https://www.statsamerica.org/sip/rank_list.aspx?rank_label=pop1',\n",
    "                            match ='Population')\n",
    "pop_df = pop_list[0]\n",
    "pop_df.head()"
   ]
  },
  {
   "cell_type": "code",
   "execution_count": 26,
   "id": "b6942ad8-934b-4b61-a027-3243364895ed",
   "metadata": {},
   "outputs": [
    {
     "name": "stdout",
     "output_type": "stream",
     "text": [
      "<class 'pandas.core.frame.DataFrame'>\n",
      "RangeIndex: 51 entries, 0 to 50\n",
      "Data columns (total 4 columns):\n",
      " #   Column      Non-Null Count  Dtype \n",
      "---  ------      --------------  ----- \n",
      " 0   Rank        51 non-null     int64 \n",
      " 1   State       51 non-null     object\n",
      " 2   FIPS Code   51 non-null     int64 \n",
      " 3   Population  51 non-null     int64 \n",
      "dtypes: int64(3), object(1)\n",
      "memory usage: 1.7+ KB\n"
     ]
    }
   ],
   "source": [
    "# Check the over view of the data.\n",
    "pop_df.info()"
   ]
  },
  {
   "cell_type": "markdown",
   "id": "d35f7376-a9dc-4ae3-ae52-4a78836456bf",
   "metadata": {},
   "source": [
    "# 2-3-2. Merge data"
   ]
  },
  {
   "cell_type": "markdown",
   "id": "7c8adb8b-e738-4acd-9199-9b5acf6800cb",
   "metadata": {},
   "source": [
    "- Merge Population Data on EV Chargers Data.\n",
    "- Show the first five rows to check the output."
   ]
  },
  {
   "cell_type": "code",
   "execution_count": 29,
   "id": "066db3ec-5b30-444a-bf9d-e71e202f31c1",
   "metadata": {},
   "outputs": [
    {
     "data": {
      "text/html": [
       "<div>\n",
       "<style scoped>\n",
       "    .dataframe tbody tr th:only-of-type {\n",
       "        vertical-align: middle;\n",
       "    }\n",
       "\n",
       "    .dataframe tbody tr th {\n",
       "        vertical-align: top;\n",
       "    }\n",
       "\n",
       "    .dataframe thead th {\n",
       "        text-align: right;\n",
       "    }\n",
       "</style>\n",
       "<table border=\"1\" class=\"dataframe\">\n",
       "  <thead>\n",
       "    <tr style=\"text-align: right;\">\n",
       "      <th></th>\n",
       "      <th>state</th>\n",
       "      <th>ev_chargers</th>\n",
       "      <th>state_full</th>\n",
       "      <th>State</th>\n",
       "      <th>Population</th>\n",
       "    </tr>\n",
       "  </thead>\n",
       "  <tbody>\n",
       "    <tr>\n",
       "      <th>0</th>\n",
       "      <td>AK</td>\n",
       "      <td>75</td>\n",
       "      <td>Alaska</td>\n",
       "      <td>Alaska</td>\n",
       "      <td>733406</td>\n",
       "    </tr>\n",
       "    <tr>\n",
       "      <th>1</th>\n",
       "      <td>AL</td>\n",
       "      <td>708</td>\n",
       "      <td>Alabama</td>\n",
       "      <td>Alabama</td>\n",
       "      <td>5108468</td>\n",
       "    </tr>\n",
       "    <tr>\n",
       "      <th>2</th>\n",
       "      <td>AR</td>\n",
       "      <td>551</td>\n",
       "      <td>Arkansas</td>\n",
       "      <td>Arkansas</td>\n",
       "      <td>3067732</td>\n",
       "    </tr>\n",
       "    <tr>\n",
       "      <th>3</th>\n",
       "      <td>AZ</td>\n",
       "      <td>1703</td>\n",
       "      <td>Arizona</td>\n",
       "      <td>Arizona</td>\n",
       "      <td>7431344</td>\n",
       "    </tr>\n",
       "    <tr>\n",
       "      <th>4</th>\n",
       "      <td>CA</td>\n",
       "      <td>21080</td>\n",
       "      <td>California</td>\n",
       "      <td>California</td>\n",
       "      <td>38965193</td>\n",
       "    </tr>\n",
       "  </tbody>\n",
       "</table>\n",
       "</div>"
      ],
      "text/plain": [
       "  state  ev_chargers  state_full       State  Population\n",
       "0    AK           75      Alaska      Alaska      733406\n",
       "1    AL          708     Alabama     Alabama     5108468\n",
       "2    AR          551    Arkansas    Arkansas     3067732\n",
       "3    AZ         1703     Arizona     Arizona     7431344\n",
       "4    CA        21080  California  California    38965193"
      ]
     },
     "execution_count": 29,
     "metadata": {},
     "output_type": "execute_result"
    }
   ],
   "source": [
    "ev = pd.merge(\n",
    "    left=ev_df_grouped_state,\n",
    "    right=pop_df[['State', 'Population']], \n",
    "    left_on='state_full', \n",
    "    right_on='State'\n",
    ")\n",
    "\n",
    "ev.head(5)"
   ]
  },
  {
   "cell_type": "markdown",
   "id": "894f43f2-f0f0-40ca-8571-b1846d58cf34",
   "metadata": {},
   "source": [
    "# 2-3-3. Calculate EV Ratio\n",
    "- EV chargers ratio is the number of EV chargers per 1 million people.\n",
    "- Show the first five rows to check the output."
   ]
  },
  {
   "cell_type": "code",
   "execution_count": 31,
   "id": "5decf5b3-e786-4127-9564-ded35fe0c65c",
   "metadata": {},
   "outputs": [
    {
     "data": {
      "text/html": [
       "<div>\n",
       "<style scoped>\n",
       "    .dataframe tbody tr th:only-of-type {\n",
       "        vertical-align: middle;\n",
       "    }\n",
       "\n",
       "    .dataframe tbody tr th {\n",
       "        vertical-align: top;\n",
       "    }\n",
       "\n",
       "    .dataframe thead th {\n",
       "        text-align: right;\n",
       "    }\n",
       "</style>\n",
       "<table border=\"1\" class=\"dataframe\">\n",
       "  <thead>\n",
       "    <tr style=\"text-align: right;\">\n",
       "      <th></th>\n",
       "      <th>state</th>\n",
       "      <th>ev_chargers</th>\n",
       "      <th>state_full</th>\n",
       "      <th>State</th>\n",
       "      <th>Population</th>\n",
       "      <th>chargers_ratio</th>\n",
       "    </tr>\n",
       "  </thead>\n",
       "  <tbody>\n",
       "    <tr>\n",
       "      <th>0</th>\n",
       "      <td>AK</td>\n",
       "      <td>75</td>\n",
       "      <td>Alaska</td>\n",
       "      <td>Alaska</td>\n",
       "      <td>733406</td>\n",
       "      <td>102.262594</td>\n",
       "    </tr>\n",
       "    <tr>\n",
       "      <th>1</th>\n",
       "      <td>AL</td>\n",
       "      <td>708</td>\n",
       "      <td>Alabama</td>\n",
       "      <td>Alabama</td>\n",
       "      <td>5108468</td>\n",
       "      <td>138.593410</td>\n",
       "    </tr>\n",
       "    <tr>\n",
       "      <th>2</th>\n",
       "      <td>AR</td>\n",
       "      <td>551</td>\n",
       "      <td>Arkansas</td>\n",
       "      <td>Arkansas</td>\n",
       "      <td>3067732</td>\n",
       "      <td>179.611518</td>\n",
       "    </tr>\n",
       "    <tr>\n",
       "      <th>3</th>\n",
       "      <td>AZ</td>\n",
       "      <td>1703</td>\n",
       "      <td>Arizona</td>\n",
       "      <td>Arizona</td>\n",
       "      <td>7431344</td>\n",
       "      <td>229.164469</td>\n",
       "    </tr>\n",
       "    <tr>\n",
       "      <th>4</th>\n",
       "      <td>CA</td>\n",
       "      <td>21080</td>\n",
       "      <td>California</td>\n",
       "      <td>California</td>\n",
       "      <td>38965193</td>\n",
       "      <td>540.995652</td>\n",
       "    </tr>\n",
       "  </tbody>\n",
       "</table>\n",
       "</div>"
      ],
      "text/plain": [
       "  state  ev_chargers  state_full       State  Population  chargers_ratio\n",
       "0    AK           75      Alaska      Alaska      733406      102.262594\n",
       "1    AL          708     Alabama     Alabama     5108468      138.593410\n",
       "2    AR          551    Arkansas    Arkansas     3067732      179.611518\n",
       "3    AZ         1703     Arizona     Arizona     7431344      229.164469\n",
       "4    CA        21080  California  California    38965193      540.995652"
      ]
     },
     "execution_count": 31,
     "metadata": {},
     "output_type": "execute_result"
    }
   ],
   "source": [
    "ev['chargers_ratio'] = ev['ev_chargers'] / ev['Population'] * 1000000\n",
    "\n",
    "ev.head()"
   ]
  },
  {
   "cell_type": "markdown",
   "id": "ac2d2113-086b-4163-80da-3ad3ebd940d1",
   "metadata": {},
   "source": [
    "# 2-4. Visualize EV Chargers"
   ]
  },
  {
   "cell_type": "markdown",
   "id": "430d92a0-fab1-4d66-9e77-d3f7979fe93f",
   "metadata": {},
   "source": [
    "- Show the Chargers ratio by state on the map of the United States.\n",
    "    - There are many EV chargers on the West Coast and in New England.\n",
    "    - However, south generally has few EV chargers.\n",
    "- Show the value of each state.\n",
    "    - Vermont, Massachusetts, and California are the top three states with many EV chargers.\n",
    "    - By contrast, Louisiana, Mississippi, and Alaska are the worst three states with few EV chargers.\n",
    "- Show the trend in the number of new EV charger installations.\n",
    "    - Use the number of new EV chargers as annual population data over time are not available.\n",
    "    - The number has been increasing since around 2019, peaked in 2021, and has shown a slight decline recently."
   ]
  },
  {
   "cell_type": "code",
   "execution_count": 34,
   "id": "e441b911-27d0-4f73-b132-07e4f46e9905",
   "metadata": {},
   "outputs": [],
   "source": [
    "import json\n",
    "import plotly.express as px\n",
    "import matplotlib.pyplot as plt\n",
    "import seaborn as sns\n",
    "import plotly.io as pio\n",
    "pio.renderers.default = \"vscode+jupyterlab+notebook_connected\""
   ]
  },
  {
   "cell_type": "code",
   "execution_count": 35,
   "id": "13cf11f6-04f2-43bc-ac46-8074eefd7e6a",
   "metadata": {},
   "outputs": [
    {
     "name": "stdout",
     "output_type": "stream",
     "text": [
      "Requirement already satisfied: kaleido in c:\\users\\oiwah\\anaconda3\\lib\\site-packages (0.2.1)\n",
      "Note: you may need to restart the kernel to use updated packages.\n"
     ]
    }
   ],
   "source": [
    "pip install kaleido"
   ]
  },
  {
   "cell_type": "code",
   "execution_count": 36,
   "id": "54bbfef0-dd3a-4397-9dd0-85fdd1971a29",
   "metadata": {
    "scrolled": true
   },
   "outputs": [
    {
     "data": {
      "text/html": [
       "        <script type=\"text/javascript\">\n",
       "        window.PlotlyConfig = {MathJaxConfig: 'local'};\n",
       "        if (window.MathJax && window.MathJax.Hub && window.MathJax.Hub.Config) {window.MathJax.Hub.Config({SVG: {font: \"STIX-Web\"}});}\n",
       "        if (typeof require !== 'undefined') {\n",
       "        require.undef(\"plotly\");\n",
       "        requirejs.config({\n",
       "            paths: {\n",
       "                'plotly': ['https://cdn.plot.ly/plotly-2.35.2.min']\n",
       "            }\n",
       "        });\n",
       "        require(['plotly'], function(Plotly) {\n",
       "            window._Plotly = Plotly;\n",
       "        });\n",
       "        }\n",
       "        </script>\n",
       "        "
      ]
     },
     "metadata": {},
     "output_type": "display_data"
    },
    {
     "data": {
      "application/vnd.plotly.v1+json": {
       "config": {
        "plotlyServerURL": "https://plot.ly"
       },
       "data": [
        {
         "coloraxis": "coloraxis",
         "geo": "geo",
         "hovertemplate": "<b>%{hovertext}</b><br><br>state=%{location}<br>chargers_ratio=%{z}<extra></extra>",
         "hovertext": [
          "Alaska",
          "Alabama",
          "Arkansas",
          "Arizona",
          "California",
          "Colorado",
          "Connecticut",
          "Delaware",
          "Florida",
          "Georgia",
          "Hawaii",
          "Iowa",
          "Idaho",
          "Illinois",
          "Indiana",
          "Kansas",
          "Kentucky",
          "Louisiana",
          "Massachusetts",
          "Maryland",
          "Maine",
          "Michigan",
          "Minnesota",
          "Missouri",
          "Mississippi",
          "Montana",
          "North Carolina",
          "North Dakota",
          "Nebraska",
          "New Hampshire",
          "New Jersey",
          "New Mexico",
          "Nevada",
          "New York",
          "Ohio",
          "Oklahoma",
          "Oregon",
          "Pennsylvania",
          "Rhode Island",
          "South Carolina",
          "South Dakota",
          "Tennessee",
          "Texas",
          "Utah",
          "Virginia",
          "Vermont",
          "Washington",
          "Wisconsin",
          "West Virginia",
          "Wyoming"
         ],
         "locationmode": "USA-states",
         "locations": [
          "AK",
          "AL",
          "AR",
          "AZ",
          "CA",
          "CO",
          "CT",
          "DE",
          "FL",
          "GA",
          "HI",
          "IA",
          "ID",
          "IL",
          "IN",
          "KS",
          "KY",
          "LA",
          "MA",
          "MD",
          "ME",
          "MI",
          "MN",
          "MO",
          "MS",
          "MT",
          "NC",
          "ND",
          "NE",
          "NH",
          "NJ",
          "NM",
          "NV",
          "NY",
          "OH",
          "OK",
          "OR",
          "PA",
          "RI",
          "SC",
          "SD",
          "TN",
          "TX",
          "UT",
          "VA",
          "VT",
          "WA",
          "WI",
          "WV",
          "WY"
         ],
         "name": "",
         "type": "choropleth",
         "z": [
          102.26259397932387,
          138.5934100008065,
          179.61151756411576,
          229.16446876904095,
          540.9956521965643,
          476.0438341434699,
          399.7593702932896,
          283.94499413697196,
          201.3646089913256,
          235.9186187753684,
          306.59072507312885,
          378.23463893403317,
          154.72895457178254,
          201.59862128854348,
          160.15274404021218,
          263.55649597047625,
          106.49217856926653,
          95.76389084753012,
          541.7488704757435,
          343.9988621825029,
          395.49423165931324,
          214.50074876004518,
          308.4744197151753,
          272.9111403909133,
          100.35071725249942,
          165.95869394038905,
          213.7420445460201,
          209.20341971053392,
          231.50265950053048,
          246.78079446298074,
          192.33996147388595,
          218.97765340141345,
          237.30689855537076,
          275.50664199914814,
          194.21454470943544,
          185.01049872910122,
          405.82440700739227,
          193.18478935181489,
          366.8010387221455,
          162.27618401598195,
          236.0445460656704,
          177.08579919228106,
          162.80205214511045,
          330.9210137477054,
          252.64757911529287,
          749.0763965255211,
          380.3974974657233,
          198.4450905141386,
          135.0228324174567,
          270.5215415618681
         ]
        }
       ],
       "layout": {
        "coloraxis": {
         "colorbar": {
          "title": {
           "text": "chargers_ratio"
          }
         },
         "colorscale": [
          [
           0,
           "rgb(255,255,217)"
          ],
          [
           0.125,
           "rgb(237,248,177)"
          ],
          [
           0.25,
           "rgb(199,233,180)"
          ],
          [
           0.375,
           "rgb(127,205,187)"
          ],
          [
           0.5,
           "rgb(65,182,196)"
          ],
          [
           0.625,
           "rgb(29,145,192)"
          ],
          [
           0.75,
           "rgb(34,94,168)"
          ],
          [
           0.875,
           "rgb(37,52,148)"
          ],
          [
           1,
           "rgb(8,29,88)"
          ]
         ]
        },
        "geo": {
         "center": {},
         "domain": {
          "x": [
           0,
           1
          ],
          "y": [
           0,
           1
          ]
         },
         "lakecolor": "rgb(255, 255, 255)",
         "scope": "usa"
        },
        "height": 360,
        "legend": {
         "tracegroupgap": 0
        },
        "margin": {
         "t": 60
        },
        "template": {
         "data": {
          "bar": [
           {
            "error_x": {
             "color": "#2a3f5f"
            },
            "error_y": {
             "color": "#2a3f5f"
            },
            "marker": {
             "line": {
              "color": "#E5ECF6",
              "width": 0.5
             },
             "pattern": {
              "fillmode": "overlay",
              "size": 10,
              "solidity": 0.2
             }
            },
            "type": "bar"
           }
          ],
          "barpolar": [
           {
            "marker": {
             "line": {
              "color": "#E5ECF6",
              "width": 0.5
             },
             "pattern": {
              "fillmode": "overlay",
              "size": 10,
              "solidity": 0.2
             }
            },
            "type": "barpolar"
           }
          ],
          "carpet": [
           {
            "aaxis": {
             "endlinecolor": "#2a3f5f",
             "gridcolor": "white",
             "linecolor": "white",
             "minorgridcolor": "white",
             "startlinecolor": "#2a3f5f"
            },
            "baxis": {
             "endlinecolor": "#2a3f5f",
             "gridcolor": "white",
             "linecolor": "white",
             "minorgridcolor": "white",
             "startlinecolor": "#2a3f5f"
            },
            "type": "carpet"
           }
          ],
          "choropleth": [
           {
            "colorbar": {
             "outlinewidth": 0,
             "ticks": ""
            },
            "type": "choropleth"
           }
          ],
          "contour": [
           {
            "colorbar": {
             "outlinewidth": 0,
             "ticks": ""
            },
            "colorscale": [
             [
              0,
              "#0d0887"
             ],
             [
              0.1111111111111111,
              "#46039f"
             ],
             [
              0.2222222222222222,
              "#7201a8"
             ],
             [
              0.3333333333333333,
              "#9c179e"
             ],
             [
              0.4444444444444444,
              "#bd3786"
             ],
             [
              0.5555555555555556,
              "#d8576b"
             ],
             [
              0.6666666666666666,
              "#ed7953"
             ],
             [
              0.7777777777777778,
              "#fb9f3a"
             ],
             [
              0.8888888888888888,
              "#fdca26"
             ],
             [
              1,
              "#f0f921"
             ]
            ],
            "type": "contour"
           }
          ],
          "contourcarpet": [
           {
            "colorbar": {
             "outlinewidth": 0,
             "ticks": ""
            },
            "type": "contourcarpet"
           }
          ],
          "heatmap": [
           {
            "colorbar": {
             "outlinewidth": 0,
             "ticks": ""
            },
            "colorscale": [
             [
              0,
              "#0d0887"
             ],
             [
              0.1111111111111111,
              "#46039f"
             ],
             [
              0.2222222222222222,
              "#7201a8"
             ],
             [
              0.3333333333333333,
              "#9c179e"
             ],
             [
              0.4444444444444444,
              "#bd3786"
             ],
             [
              0.5555555555555556,
              "#d8576b"
             ],
             [
              0.6666666666666666,
              "#ed7953"
             ],
             [
              0.7777777777777778,
              "#fb9f3a"
             ],
             [
              0.8888888888888888,
              "#fdca26"
             ],
             [
              1,
              "#f0f921"
             ]
            ],
            "type": "heatmap"
           }
          ],
          "heatmapgl": [
           {
            "colorbar": {
             "outlinewidth": 0,
             "ticks": ""
            },
            "colorscale": [
             [
              0,
              "#0d0887"
             ],
             [
              0.1111111111111111,
              "#46039f"
             ],
             [
              0.2222222222222222,
              "#7201a8"
             ],
             [
              0.3333333333333333,
              "#9c179e"
             ],
             [
              0.4444444444444444,
              "#bd3786"
             ],
             [
              0.5555555555555556,
              "#d8576b"
             ],
             [
              0.6666666666666666,
              "#ed7953"
             ],
             [
              0.7777777777777778,
              "#fb9f3a"
             ],
             [
              0.8888888888888888,
              "#fdca26"
             ],
             [
              1,
              "#f0f921"
             ]
            ],
            "type": "heatmapgl"
           }
          ],
          "histogram": [
           {
            "marker": {
             "pattern": {
              "fillmode": "overlay",
              "size": 10,
              "solidity": 0.2
             }
            },
            "type": "histogram"
           }
          ],
          "histogram2d": [
           {
            "colorbar": {
             "outlinewidth": 0,
             "ticks": ""
            },
            "colorscale": [
             [
              0,
              "#0d0887"
             ],
             [
              0.1111111111111111,
              "#46039f"
             ],
             [
              0.2222222222222222,
              "#7201a8"
             ],
             [
              0.3333333333333333,
              "#9c179e"
             ],
             [
              0.4444444444444444,
              "#bd3786"
             ],
             [
              0.5555555555555556,
              "#d8576b"
             ],
             [
              0.6666666666666666,
              "#ed7953"
             ],
             [
              0.7777777777777778,
              "#fb9f3a"
             ],
             [
              0.8888888888888888,
              "#fdca26"
             ],
             [
              1,
              "#f0f921"
             ]
            ],
            "type": "histogram2d"
           }
          ],
          "histogram2dcontour": [
           {
            "colorbar": {
             "outlinewidth": 0,
             "ticks": ""
            },
            "colorscale": [
             [
              0,
              "#0d0887"
             ],
             [
              0.1111111111111111,
              "#46039f"
             ],
             [
              0.2222222222222222,
              "#7201a8"
             ],
             [
              0.3333333333333333,
              "#9c179e"
             ],
             [
              0.4444444444444444,
              "#bd3786"
             ],
             [
              0.5555555555555556,
              "#d8576b"
             ],
             [
              0.6666666666666666,
              "#ed7953"
             ],
             [
              0.7777777777777778,
              "#fb9f3a"
             ],
             [
              0.8888888888888888,
              "#fdca26"
             ],
             [
              1,
              "#f0f921"
             ]
            ],
            "type": "histogram2dcontour"
           }
          ],
          "mesh3d": [
           {
            "colorbar": {
             "outlinewidth": 0,
             "ticks": ""
            },
            "type": "mesh3d"
           }
          ],
          "parcoords": [
           {
            "line": {
             "colorbar": {
              "outlinewidth": 0,
              "ticks": ""
             }
            },
            "type": "parcoords"
           }
          ],
          "pie": [
           {
            "automargin": true,
            "type": "pie"
           }
          ],
          "scatter": [
           {
            "fillpattern": {
             "fillmode": "overlay",
             "size": 10,
             "solidity": 0.2
            },
            "type": "scatter"
           }
          ],
          "scatter3d": [
           {
            "line": {
             "colorbar": {
              "outlinewidth": 0,
              "ticks": ""
             }
            },
            "marker": {
             "colorbar": {
              "outlinewidth": 0,
              "ticks": ""
             }
            },
            "type": "scatter3d"
           }
          ],
          "scattercarpet": [
           {
            "marker": {
             "colorbar": {
              "outlinewidth": 0,
              "ticks": ""
             }
            },
            "type": "scattercarpet"
           }
          ],
          "scattergeo": [
           {
            "marker": {
             "colorbar": {
              "outlinewidth": 0,
              "ticks": ""
             }
            },
            "type": "scattergeo"
           }
          ],
          "scattergl": [
           {
            "marker": {
             "colorbar": {
              "outlinewidth": 0,
              "ticks": ""
             }
            },
            "type": "scattergl"
           }
          ],
          "scattermapbox": [
           {
            "marker": {
             "colorbar": {
              "outlinewidth": 0,
              "ticks": ""
             }
            },
            "type": "scattermapbox"
           }
          ],
          "scatterpolar": [
           {
            "marker": {
             "colorbar": {
              "outlinewidth": 0,
              "ticks": ""
             }
            },
            "type": "scatterpolar"
           }
          ],
          "scatterpolargl": [
           {
            "marker": {
             "colorbar": {
              "outlinewidth": 0,
              "ticks": ""
             }
            },
            "type": "scatterpolargl"
           }
          ],
          "scatterternary": [
           {
            "marker": {
             "colorbar": {
              "outlinewidth": 0,
              "ticks": ""
             }
            },
            "type": "scatterternary"
           }
          ],
          "surface": [
           {
            "colorbar": {
             "outlinewidth": 0,
             "ticks": ""
            },
            "colorscale": [
             [
              0,
              "#0d0887"
             ],
             [
              0.1111111111111111,
              "#46039f"
             ],
             [
              0.2222222222222222,
              "#7201a8"
             ],
             [
              0.3333333333333333,
              "#9c179e"
             ],
             [
              0.4444444444444444,
              "#bd3786"
             ],
             [
              0.5555555555555556,
              "#d8576b"
             ],
             [
              0.6666666666666666,
              "#ed7953"
             ],
             [
              0.7777777777777778,
              "#fb9f3a"
             ],
             [
              0.8888888888888888,
              "#fdca26"
             ],
             [
              1,
              "#f0f921"
             ]
            ],
            "type": "surface"
           }
          ],
          "table": [
           {
            "cells": {
             "fill": {
              "color": "#EBF0F8"
             },
             "line": {
              "color": "white"
             }
            },
            "header": {
             "fill": {
              "color": "#C8D4E3"
             },
             "line": {
              "color": "white"
             }
            },
            "type": "table"
           }
          ]
         },
         "layout": {
          "annotationdefaults": {
           "arrowcolor": "#2a3f5f",
           "arrowhead": 0,
           "arrowwidth": 1
          },
          "autotypenumbers": "strict",
          "coloraxis": {
           "colorbar": {
            "outlinewidth": 0,
            "ticks": ""
           }
          },
          "colorscale": {
           "diverging": [
            [
             0,
             "#8e0152"
            ],
            [
             0.1,
             "#c51b7d"
            ],
            [
             0.2,
             "#de77ae"
            ],
            [
             0.3,
             "#f1b6da"
            ],
            [
             0.4,
             "#fde0ef"
            ],
            [
             0.5,
             "#f7f7f7"
            ],
            [
             0.6,
             "#e6f5d0"
            ],
            [
             0.7,
             "#b8e186"
            ],
            [
             0.8,
             "#7fbc41"
            ],
            [
             0.9,
             "#4d9221"
            ],
            [
             1,
             "#276419"
            ]
           ],
           "sequential": [
            [
             0,
             "#0d0887"
            ],
            [
             0.1111111111111111,
             "#46039f"
            ],
            [
             0.2222222222222222,
             "#7201a8"
            ],
            [
             0.3333333333333333,
             "#9c179e"
            ],
            [
             0.4444444444444444,
             "#bd3786"
            ],
            [
             0.5555555555555556,
             "#d8576b"
            ],
            [
             0.6666666666666666,
             "#ed7953"
            ],
            [
             0.7777777777777778,
             "#fb9f3a"
            ],
            [
             0.8888888888888888,
             "#fdca26"
            ],
            [
             1,
             "#f0f921"
            ]
           ],
           "sequentialminus": [
            [
             0,
             "#0d0887"
            ],
            [
             0.1111111111111111,
             "#46039f"
            ],
            [
             0.2222222222222222,
             "#7201a8"
            ],
            [
             0.3333333333333333,
             "#9c179e"
            ],
            [
             0.4444444444444444,
             "#bd3786"
            ],
            [
             0.5555555555555556,
             "#d8576b"
            ],
            [
             0.6666666666666666,
             "#ed7953"
            ],
            [
             0.7777777777777778,
             "#fb9f3a"
            ],
            [
             0.8888888888888888,
             "#fdca26"
            ],
            [
             1,
             "#f0f921"
            ]
           ]
          },
          "colorway": [
           "#636efa",
           "#EF553B",
           "#00cc96",
           "#ab63fa",
           "#FFA15A",
           "#19d3f3",
           "#FF6692",
           "#B6E880",
           "#FF97FF",
           "#FECB52"
          ],
          "font": {
           "color": "#2a3f5f"
          },
          "geo": {
           "bgcolor": "white",
           "lakecolor": "white",
           "landcolor": "#E5ECF6",
           "showlakes": true,
           "showland": true,
           "subunitcolor": "white"
          },
          "hoverlabel": {
           "align": "left"
          },
          "hovermode": "closest",
          "mapbox": {
           "style": "light"
          },
          "paper_bgcolor": "white",
          "plot_bgcolor": "#E5ECF6",
          "polar": {
           "angularaxis": {
            "gridcolor": "white",
            "linecolor": "white",
            "ticks": ""
           },
           "bgcolor": "#E5ECF6",
           "radialaxis": {
            "gridcolor": "white",
            "linecolor": "white",
            "ticks": ""
           }
          },
          "scene": {
           "xaxis": {
            "backgroundcolor": "#E5ECF6",
            "gridcolor": "white",
            "gridwidth": 2,
            "linecolor": "white",
            "showbackground": true,
            "ticks": "",
            "zerolinecolor": "white"
           },
           "yaxis": {
            "backgroundcolor": "#E5ECF6",
            "gridcolor": "white",
            "gridwidth": 2,
            "linecolor": "white",
            "showbackground": true,
            "ticks": "",
            "zerolinecolor": "white"
           },
           "zaxis": {
            "backgroundcolor": "#E5ECF6",
            "gridcolor": "white",
            "gridwidth": 2,
            "linecolor": "white",
            "showbackground": true,
            "ticks": "",
            "zerolinecolor": "white"
           }
          },
          "shapedefaults": {
           "line": {
            "color": "#2a3f5f"
           }
          },
          "ternary": {
           "aaxis": {
            "gridcolor": "white",
            "linecolor": "white",
            "ticks": ""
           },
           "baxis": {
            "gridcolor": "white",
            "linecolor": "white",
            "ticks": ""
           },
           "bgcolor": "#E5ECF6",
           "caxis": {
            "gridcolor": "white",
            "linecolor": "white",
            "ticks": ""
           }
          },
          "title": {
           "x": 0.05
          },
          "xaxis": {
           "automargin": true,
           "gridcolor": "white",
           "linecolor": "white",
           "ticks": "",
           "title": {
            "standoff": 15
           },
           "zerolinecolor": "white",
           "zerolinewidth": 2
          },
          "yaxis": {
           "automargin": true,
           "gridcolor": "white",
           "linecolor": "white",
           "ticks": "",
           "title": {
            "standoff": 15
           },
           "zerolinecolor": "white",
           "zerolinewidth": 2
          }
         }
        },
        "title": {
         "text": "EV Chargers per 1 Million People by State"
        },
        "width": 700
       }
      },
      "image/png": "[encoded data removed]",
      "text/html": [
       "<div>                            <div id=\"01f2e7f9-4f2a-4095-8823-985580db9f7d\" class=\"plotly-graph-div\" style=\"height:525px; width:700px;\"></div>            <script type=\"text/javascript\">                require([\"plotly\"], function(Plotly) {                    window.PLOTLYENV=window.PLOTLYENV || {};                                    if (document.getElementById(\"01f2e7f9-4f2a-4095-8823-985580db9f7d\")) {                    Plotly.newPlot(                        \"01f2e7f9-4f2a-4095-8823-985580db9f7d\",                        [{\"coloraxis\":\"coloraxis\",\"geo\":\"geo\",\"hovertemplate\":\"\\u003cb\\u003e%{hovertext}\\u003c\\u002fb\\u003e\\u003cbr\\u003e\\u003cbr\\u003estate=%{location}\\u003cbr\\u003echargers_ratio=%{z}\\u003cextra\\u003e\\u003c\\u002fextra\\u003e\",\"hovertext\":[\"Alaska\",\"Alabama\",\"Arkansas\",\"Arizona\",\"California\",\"Colorado\",\"Connecticut\",\"Delaware\",\"Florida\",\"Georgia\",\"Hawaii\",\"Iowa\",\"Idaho\",\"Illinois\",\"Indiana\",\"Kansas\",\"Kentucky\",\"Louisiana\",\"Massachusetts\",\"Maryland\",\"Maine\",\"Michigan\",\"Minnesota\",\"Missouri\",\"Mississippi\",\"Montana\",\"North Carolina\",\"North Dakota\",\"Nebraska\",\"New Hampshire\",\"New Jersey\",\"New Mexico\",\"Nevada\",\"New York\",\"Ohio\",\"Oklahoma\",\"Oregon\",\"Pennsylvania\",\"Rhode Island\",\"South Carolina\",\"South Dakota\",\"Tennessee\",\"Texas\",\"Utah\",\"Virginia\",\"Vermont\",\"Washington\",\"Wisconsin\",\"West Virginia\",\"Wyoming\"],\"locationmode\":\"USA-states\",\"locations\":[\"AK\",\"AL\",\"AR\",\"AZ\",\"CA\",\"CO\",\"CT\",\"DE\",\"FL\",\"GA\",\"HI\",\"IA\",\"ID\",\"IL\",\"IN\",\"KS\",\"KY\",\"LA\",\"MA\",\"MD\",\"ME\",\"MI\",\"MN\",\"MO\",\"MS\",\"MT\",\"NC\",\"ND\",\"NE\",\"NH\",\"NJ\",\"NM\",\"NV\",\"NY\",\"OH\",\"OK\",\"OR\",\"PA\",\"RI\",\"SC\",\"SD\",\"TN\",\"TX\",\"UT\",\"VA\",\"VT\",\"WA\",\"WI\",\"WV\",\"WY\"],\"name\":\"\",\"z\":[102.26259397932387,138.5934100008065,179.61151756411576,229.16446876904095,540.9956521965643,476.0438341434699,399.7593702932896,283.94499413697196,201.3646089913256,235.9186187753684,306.59072507312885,378.23463893403317,154.72895457178254,201.59862128854348,160.15274404021218,263.55649597047625,106.49217856926653,95.76389084753012,541.7488704757435,343.9988621825029,395.49423165931324,214.50074876004518,308.4744197151753,272.9111403909133,100.35071725249942,165.95869394038905,213.7420445460201,209.20341971053392,231.50265950053048,246.78079446298074,192.33996147388595,218.97765340141345,237.30689855537076,275.50664199914814,194.21454470943544,185.01049872910122,405.82440700739227,193.18478935181489,366.8010387221455,162.27618401598195,236.0445460656704,177.08579919228106,162.80205214511045,330.9210137477054,252.64757911529287,749.0763965255211,380.3974974657233,198.4450905141386,135.0228324174567,270.5215415618681],\"type\":\"choropleth\"}],                        {\"template\":{\"data\":{\"histogram2dcontour\":[{\"type\":\"histogram2dcontour\",\"colorbar\":{\"outlinewidth\":0,\"ticks\":\"\"},\"colorscale\":[[0.0,\"#0d0887\"],[0.1111111111111111,\"#46039f\"],[0.2222222222222222,\"#7201a8\"],[0.3333333333333333,\"#9c179e\"],[0.4444444444444444,\"#bd3786\"],[0.5555555555555556,\"#d8576b\"],[0.6666666666666666,\"#ed7953\"],[0.7777777777777778,\"#fb9f3a\"],[0.8888888888888888,\"#fdca26\"],[1.0,\"#f0f921\"]]}],\"choropleth\":[{\"type\":\"choropleth\",\"colorbar\":{\"outlinewidth\":0,\"ticks\":\"\"}}],\"histogram2d\":[{\"type\":\"histogram2d\",\"colorbar\":{\"outlinewidth\":0,\"ticks\":\"\"},\"colorscale\":[[0.0,\"#0d0887\"],[0.1111111111111111,\"#46039f\"],[0.2222222222222222,\"#7201a8\"],[0.3333333333333333,\"#9c179e\"],[0.4444444444444444,\"#bd3786\"],[0.5555555555555556,\"#d8576b\"],[0.6666666666666666,\"#ed7953\"],[0.7777777777777778,\"#fb9f3a\"],[0.8888888888888888,\"#fdca26\"],[1.0,\"#f0f921\"]]}],\"heatmap\":[{\"type\":\"heatmap\",\"colorbar\":{\"outlinewidth\":0,\"ticks\":\"\"},\"colorscale\":[[0.0,\"#0d0887\"],[0.1111111111111111,\"#46039f\"],[0.2222222222222222,\"#7201a8\"],[0.3333333333333333,\"#9c179e\"],[0.4444444444444444,\"#bd3786\"],[0.5555555555555556,\"#d8576b\"],[0.6666666666666666,\"#ed7953\"],[0.7777777777777778,\"#fb9f3a\"],[0.8888888888888888,\"#fdca26\"],[1.0,\"#f0f921\"]]}],\"heatmapgl\":[{\"type\":\"heatmapgl\",\"colorbar\":{\"outlinewidth\":0,\"ticks\":\"\"},\"colorscale\":[[0.0,\"#0d0887\"],[0.1111111111111111,\"#46039f\"],[0.2222222222222222,\"#7201a8\"],[0.3333333333333333,\"#9c179e\"],[0.4444444444444444,\"#bd3786\"],[0.5555555555555556,\"#d8576b\"],[0.6666666666666666,\"#ed7953\"],[0.7777777777777778,\"#fb9f3a\"],[0.8888888888888888,\"#fdca26\"],[1.0,\"#f0f921\"]]}],\"contourcarpet\":[{\"type\":\"contourcarpet\",\"colorbar\":{\"outlinewidth\":0,\"ticks\":\"\"}}],\"contour\":[{\"type\":\"contour\",\"colorbar\":{\"outlinewidth\":0,\"ticks\":\"\"},\"colorscale\":[[0.0,\"#0d0887\"],[0.1111111111111111,\"#46039f\"],[0.2222222222222222,\"#7201a8\"],[0.3333333333333333,\"#9c179e\"],[0.4444444444444444,\"#bd3786\"],[0.5555555555555556,\"#d8576b\"],[0.6666666666666666,\"#ed7953\"],[0.7777777777777778,\"#fb9f3a\"],[0.8888888888888888,\"#fdca26\"],[1.0,\"#f0f921\"]]}],\"surface\":[{\"type\":\"surface\",\"colorbar\":{\"outlinewidth\":0,\"ticks\":\"\"},\"colorscale\":[[0.0,\"#0d0887\"],[0.1111111111111111,\"#46039f\"],[0.2222222222222222,\"#7201a8\"],[0.3333333333333333,\"#9c179e\"],[0.4444444444444444,\"#bd3786\"],[0.5555555555555556,\"#d8576b\"],[0.6666666666666666,\"#ed7953\"],[0.7777777777777778,\"#fb9f3a\"],[0.8888888888888888,\"#fdca26\"],[1.0,\"#f0f921\"]]}],\"mesh3d\":[{\"type\":\"mesh3d\",\"colorbar\":{\"outlinewidth\":0,\"ticks\":\"\"}}],\"scatter\":[{\"fillpattern\":{\"fillmode\":\"overlay\",\"size\":10,\"solidity\":0.2},\"type\":\"scatter\"}],\"parcoords\":[{\"type\":\"parcoords\",\"line\":{\"colorbar\":{\"outlinewidth\":0,\"ticks\":\"\"}}}],\"scatterpolargl\":[{\"type\":\"scatterpolargl\",\"marker\":{\"colorbar\":{\"outlinewidth\":0,\"ticks\":\"\"}}}],\"bar\":[{\"error_x\":{\"color\":\"#2a3f5f\"},\"error_y\":{\"color\":\"#2a3f5f\"},\"marker\":{\"line\":{\"color\":\"#E5ECF6\",\"width\":0.5},\"pattern\":{\"fillmode\":\"overlay\",\"size\":10,\"solidity\":0.2}},\"type\":\"bar\"}],\"scattergeo\":[{\"type\":\"scattergeo\",\"marker\":{\"colorbar\":{\"outlinewidth\":0,\"ticks\":\"\"}}}],\"scatterpolar\":[{\"type\":\"scatterpolar\",\"marker\":{\"colorbar\":{\"outlinewidth\":0,\"ticks\":\"\"}}}],\"histogram\":[{\"marker\":{\"pattern\":{\"fillmode\":\"overlay\",\"size\":10,\"solidity\":0.2}},\"type\":\"histogram\"}],\"scattergl\":[{\"type\":\"scattergl\",\"marker\":{\"colorbar\":{\"outlinewidth\":0,\"ticks\":\"\"}}}],\"scatter3d\":[{\"type\":\"scatter3d\",\"line\":{\"colorbar\":{\"outlinewidth\":0,\"ticks\":\"\"}},\"marker\":{\"colorbar\":{\"outlinewidth\":0,\"ticks\":\"\"}}}],\"scattermapbox\":[{\"type\":\"scattermapbox\",\"marker\":{\"colorbar\":{\"outlinewidth\":0,\"ticks\":\"\"}}}],\"scatterternary\":[{\"type\":\"scatterternary\",\"marker\":{\"colorbar\":{\"outlinewidth\":0,\"ticks\":\"\"}}}],\"scattercarpet\":[{\"type\":\"scattercarpet\",\"marker\":{\"colorbar\":{\"outlinewidth\":0,\"ticks\":\"\"}}}],\"carpet\":[{\"aaxis\":{\"endlinecolor\":\"#2a3f5f\",\"gridcolor\":\"white\",\"linecolor\":\"white\",\"minorgridcolor\":\"white\",\"startlinecolor\":\"#2a3f5f\"},\"baxis\":{\"endlinecolor\":\"#2a3f5f\",\"gridcolor\":\"white\",\"linecolor\":\"white\",\"minorgridcolor\":\"white\",\"startlinecolor\":\"#2a3f5f\"},\"type\":\"carpet\"}],\"table\":[{\"cells\":{\"fill\":{\"color\":\"#EBF0F8\"},\"line\":{\"color\":\"white\"}},\"header\":{\"fill\":{\"color\":\"#C8D4E3\"},\"line\":{\"color\":\"white\"}},\"type\":\"table\"}],\"barpolar\":[{\"marker\":{\"line\":{\"color\":\"#E5ECF6\",\"width\":0.5},\"pattern\":{\"fillmode\":\"overlay\",\"size\":10,\"solidity\":0.2}},\"type\":\"barpolar\"}],\"pie\":[{\"automargin\":true,\"type\":\"pie\"}]},\"layout\":{\"autotypenumbers\":\"strict\",\"colorway\":[\"#636efa\",\"#EF553B\",\"#00cc96\",\"#ab63fa\",\"#FFA15A\",\"#19d3f3\",\"#FF6692\",\"#B6E880\",\"#FF97FF\",\"#FECB52\"],\"font\":{\"color\":\"#2a3f5f\"},\"hovermode\":\"closest\",\"hoverlabel\":{\"align\":\"left\"},\"paper_bgcolor\":\"white\",\"plot_bgcolor\":\"#E5ECF6\",\"polar\":{\"bgcolor\":\"#E5ECF6\",\"angularaxis\":{\"gridcolor\":\"white\",\"linecolor\":\"white\",\"ticks\":\"\"},\"radialaxis\":{\"gridcolor\":\"white\",\"linecolor\":\"white\",\"ticks\":\"\"}},\"ternary\":{\"bgcolor\":\"#E5ECF6\",\"aaxis\":{\"gridcolor\":\"white\",\"linecolor\":\"white\",\"ticks\":\"\"},\"baxis\":{\"gridcolor\":\"white\",\"linecolor\":\"white\",\"ticks\":\"\"},\"caxis\":{\"gridcolor\":\"white\",\"linecolor\":\"white\",\"ticks\":\"\"}},\"coloraxis\":{\"colorbar\":{\"outlinewidth\":0,\"ticks\":\"\"}},\"colorscale\":{\"sequential\":[[0.0,\"#0d0887\"],[0.1111111111111111,\"#46039f\"],[0.2222222222222222,\"#7201a8\"],[0.3333333333333333,\"#9c179e\"],[0.4444444444444444,\"#bd3786\"],[0.5555555555555556,\"#d8576b\"],[0.6666666666666666,\"#ed7953\"],[0.7777777777777778,\"#fb9f3a\"],[0.8888888888888888,\"#fdca26\"],[1.0,\"#f0f921\"]],\"sequentialminus\":[[0.0,\"#0d0887\"],[0.1111111111111111,\"#46039f\"],[0.2222222222222222,\"#7201a8\"],[0.3333333333333333,\"#9c179e\"],[0.4444444444444444,\"#bd3786\"],[0.5555555555555556,\"#d8576b\"],[0.6666666666666666,\"#ed7953\"],[0.7777777777777778,\"#fb9f3a\"],[0.8888888888888888,\"#fdca26\"],[1.0,\"#f0f921\"]],\"diverging\":[[0,\"#8e0152\"],[0.1,\"#c51b7d\"],[0.2,\"#de77ae\"],[0.3,\"#f1b6da\"],[0.4,\"#fde0ef\"],[0.5,\"#f7f7f7\"],[0.6,\"#e6f5d0\"],[0.7,\"#b8e186\"],[0.8,\"#7fbc41\"],[0.9,\"#4d9221\"],[1,\"#276419\"]]},\"xaxis\":{\"gridcolor\":\"white\",\"linecolor\":\"white\",\"ticks\":\"\",\"title\":{\"standoff\":15},\"zerolinecolor\":\"white\",\"automargin\":true,\"zerolinewidth\":2},\"yaxis\":{\"gridcolor\":\"white\",\"linecolor\":\"white\",\"ticks\":\"\",\"title\":{\"standoff\":15},\"zerolinecolor\":\"white\",\"automargin\":true,\"zerolinewidth\":2},\"scene\":{\"xaxis\":{\"backgroundcolor\":\"#E5ECF6\",\"gridcolor\":\"white\",\"linecolor\":\"white\",\"showbackground\":true,\"ticks\":\"\",\"zerolinecolor\":\"white\",\"gridwidth\":2},\"yaxis\":{\"backgroundcolor\":\"#E5ECF6\",\"gridcolor\":\"white\",\"linecolor\":\"white\",\"showbackground\":true,\"ticks\":\"\",\"zerolinecolor\":\"white\",\"gridwidth\":2},\"zaxis\":{\"backgroundcolor\":\"#E5ECF6\",\"gridcolor\":\"white\",\"linecolor\":\"white\",\"showbackground\":true,\"ticks\":\"\",\"zerolinecolor\":\"white\",\"gridwidth\":2}},\"shapedefaults\":{\"line\":{\"color\":\"#2a3f5f\"}},\"annotationdefaults\":{\"arrowcolor\":\"#2a3f5f\",\"arrowhead\":0,\"arrowwidth\":1},\"geo\":{\"bgcolor\":\"white\",\"landcolor\":\"#E5ECF6\",\"subunitcolor\":\"white\",\"showland\":true,\"showlakes\":true,\"lakecolor\":\"white\"},\"title\":{\"x\":0.05},\"mapbox\":{\"style\":\"light\"}}},\"geo\":{\"domain\":{\"x\":[0.0,1.0],\"y\":[0.0,1.0]},\"center\":{},\"scope\":\"usa\",\"lakecolor\":\"rgb(255, 255, 255)\"},\"coloraxis\":{\"colorbar\":{\"title\":{\"text\":\"chargers_ratio\"}},\"colorscale\":[[0.0,\"rgb(255,255,217)\"],[0.125,\"rgb(237,248,177)\"],[0.25,\"rgb(199,233,180)\"],[0.375,\"rgb(127,205,187)\"],[0.5,\"rgb(65,182,196)\"],[0.625,\"rgb(29,145,192)\"],[0.75,\"rgb(34,94,168)\"],[0.875,\"rgb(37,52,148)\"],[1.0,\"rgb(8,29,88)\"]]},\"legend\":{\"tracegroupgap\":0},\"margin\":{\"t\":60},\"title\":{\"text\":\"EV Chargers per 1 Million People by State\"},\"width\":700},                        {\"responsive\": true}                    ).then(function(){\n",
       "                            \n",
       "var gd = document.getElementById('01f2e7f9-4f2a-4095-8823-985580db9f7d');\n",
       "var x = new MutationObserver(function (mutations, observer) {{\n",
       "        var display = window.getComputedStyle(gd).display;\n",
       "        if (!display || display === 'none') {{\n",
       "            console.log([gd, 'removed!']);\n",
       "            Plotly.purge(gd);\n",
       "            observer.disconnect();\n",
       "        }}\n",
       "}});\n",
       "\n",
       "// Listen for the removal of the full notebook cells\n",
       "var notebookContainer = gd.closest('#notebook-container');\n",
       "if (notebookContainer) {{\n",
       "    x.observe(notebookContainer, {childList: true});\n",
       "}}\n",
       "\n",
       "// Listen for the clearing of the current output cell\n",
       "var outputEl = gd.closest('.output');\n",
       "if (outputEl) {{\n",
       "    x.observe(outputEl, {childList: true});\n",
       "}}\n",
       "\n",
       "                        })                };                });            </script>        </div>"
      ]
     },
     "metadata": {},
     "output_type": "display_data"
    }
   ],
   "source": [
    "fig = px.choropleth(\n",
    "    ev,\n",
    "    locations='state',\n",
    "    locationmode='USA-states',\n",
    "    color='chargers_ratio',\n",
    "    hover_name='state_full',\n",
    "    color_continuous_scale='YlGnBu',\n",
    "    scope='usa',\n",
    "    labels={'ev_chargers': 'EV Chargers per 1 Million People'}\n",
    ")\n",
    "\n",
    "fig.update_layout(\n",
    "    title_text='EV Chargers per 1 Million People by State',\n",
    "    geo=dict(\n",
    "        lakecolor='rgb(255, 255, 255)'\n",
    "    )\n",
    ")\n",
    "\n",
    "fig.update_layout(width=700)\n",
    "fig.show()\n",
    "\n",
    "fig.write_html('chargers_ratio_by_state.html')"
   ]
  },
  {
   "cell_type": "markdown",
   "id": "ad002c28-9fd4-4e59-a570-901d6d1d62f5",
   "metadata": {},
   "source": [
    "[EV Chargers Over Time](chargers_ratio_by_state.html)\n"
   ]
  },
  {
   "cell_type": "code",
   "execution_count": 38,
   "id": "5c43dd9b-dfec-4a9d-90b4-3c87ddd82b9d",
   "metadata": {},
   "outputs": [
    {
     "data": {
      "application/vnd.plotly.v1+json": {
       "config": {
        "plotlyServerURL": "https://plot.ly"
       },
       "data": [
        {
         "alignmentgroup": "True",
         "hovertemplate": "State Abbreviations=%{x}<br>chargers_ratio=%{y}<extra></extra>",
         "legendgroup": "",
         "marker": {
          "color": "#636efa",
          "pattern": {
           "shape": ""
          }
         },
         "name": "",
         "offsetgroup": "",
         "orientation": "v",
         "showlegend": false,
         "textposition": "auto",
         "type": "bar",
         "x": [
          "VT",
          "MA",
          "CA",
          "CO",
          "OR",
          "CT",
          "ME",
          "WA",
          "IA",
          "RI",
          "MD",
          "UT",
          "MN",
          "HI",
          "DE",
          "NY",
          "MO",
          "WY",
          "KS",
          "VA",
          "NH",
          "NV",
          "SD",
          "GA",
          "NE",
          "AZ",
          "NM",
          "MI",
          "NC",
          "ND",
          "IL",
          "FL",
          "WI",
          "OH",
          "PA",
          "NJ",
          "OK",
          "AR",
          "TN",
          "MT",
          "TX",
          "SC",
          "IN",
          "ID",
          "AL",
          "WV",
          "KY",
          "AK",
          "MS",
          "LA"
         ],
         "xaxis": "x",
         "y": [
          749.0763965255211,
          541.7488704757435,
          540.9956521965643,
          476.0438341434699,
          405.82440700739227,
          399.7593702932896,
          395.49423165931324,
          380.3974974657233,
          378.23463893403317,
          366.8010387221455,
          343.9988621825029,
          330.9210137477054,
          308.4744197151753,
          306.59072507312885,
          283.94499413697196,
          275.50664199914814,
          272.9111403909133,
          270.5215415618681,
          263.55649597047625,
          252.64757911529287,
          246.78079446298074,
          237.30689855537076,
          236.0445460656704,
          235.9186187753684,
          231.50265950053048,
          229.16446876904095,
          218.97765340141345,
          214.50074876004518,
          213.7420445460201,
          209.20341971053392,
          201.59862128854348,
          201.3646089913256,
          198.4450905141386,
          194.21454470943544,
          193.18478935181489,
          192.33996147388595,
          185.01049872910122,
          179.61151756411576,
          177.08579919228106,
          165.95869394038905,
          162.80205214511045,
          162.27618401598195,
          160.15274404021218,
          154.72895457178254,
          138.5934100008065,
          135.0228324174567,
          106.49217856926653,
          102.26259397932387,
          100.35071725249942,
          95.76389084753012
         ],
         "yaxis": "y"
        }
       ],
       "layout": {
        "barmode": "relative",
        "height": 700,
        "legend": {
         "tracegroupgap": 0
        },
        "template": {
         "data": {
          "bar": [
           {
            "error_x": {
             "color": "#2a3f5f"
            },
            "error_y": {
             "color": "#2a3f5f"
            },
            "marker": {
             "line": {
              "color": "#E5ECF6",
              "width": 0.5
             },
             "pattern": {
              "fillmode": "overlay",
              "size": 10,
              "solidity": 0.2
             }
            },
            "type": "bar"
           }
          ],
          "barpolar": [
           {
            "marker": {
             "line": {
              "color": "#E5ECF6",
              "width": 0.5
             },
             "pattern": {
              "fillmode": "overlay",
              "size": 10,
              "solidity": 0.2
             }
            },
            "type": "barpolar"
           }
          ],
          "carpet": [
           {
            "aaxis": {
             "endlinecolor": "#2a3f5f",
             "gridcolor": "white",
             "linecolor": "white",
             "minorgridcolor": "white",
             "startlinecolor": "#2a3f5f"
            },
            "baxis": {
             "endlinecolor": "#2a3f5f",
             "gridcolor": "white",
             "linecolor": "white",
             "minorgridcolor": "white",
             "startlinecolor": "#2a3f5f"
            },
            "type": "carpet"
           }
          ],
          "choropleth": [
           {
            "colorbar": {
             "outlinewidth": 0,
             "ticks": ""
            },
            "type": "choropleth"
           }
          ],
          "contour": [
           {
            "colorbar": {
             "outlinewidth": 0,
             "ticks": ""
            },
            "colorscale": [
             [
              0,
              "#0d0887"
             ],
             [
              0.1111111111111111,
              "#46039f"
             ],
             [
              0.2222222222222222,
              "#7201a8"
             ],
             [
              0.3333333333333333,
              "#9c179e"
             ],
             [
              0.4444444444444444,
              "#bd3786"
             ],
             [
              0.5555555555555556,
              "#d8576b"
             ],
             [
              0.6666666666666666,
              "#ed7953"
             ],
             [
              0.7777777777777778,
              "#fb9f3a"
             ],
             [
              0.8888888888888888,
              "#fdca26"
             ],
             [
              1,
              "#f0f921"
             ]
            ],
            "type": "contour"
           }
          ],
          "contourcarpet": [
           {
            "colorbar": {
             "outlinewidth": 0,
             "ticks": ""
            },
            "type": "contourcarpet"
           }
          ],
          "heatmap": [
           {
            "colorbar": {
             "outlinewidth": 0,
             "ticks": ""
            },
            "colorscale": [
             [
              0,
              "#0d0887"
             ],
             [
              0.1111111111111111,
              "#46039f"
             ],
             [
              0.2222222222222222,
              "#7201a8"
             ],
             [
              0.3333333333333333,
              "#9c179e"
             ],
             [
              0.4444444444444444,
              "#bd3786"
             ],
             [
              0.5555555555555556,
              "#d8576b"
             ],
             [
              0.6666666666666666,
              "#ed7953"
             ],
             [
              0.7777777777777778,
              "#fb9f3a"
             ],
             [
              0.8888888888888888,
              "#fdca26"
             ],
             [
              1,
              "#f0f921"
             ]
            ],
            "type": "heatmap"
           }
          ],
          "heatmapgl": [
           {
            "colorbar": {
             "outlinewidth": 0,
             "ticks": ""
            },
            "colorscale": [
             [
              0,
              "#0d0887"
             ],
             [
              0.1111111111111111,
              "#46039f"
             ],
             [
              0.2222222222222222,
              "#7201a8"
             ],
             [
              0.3333333333333333,
              "#9c179e"
             ],
             [
              0.4444444444444444,
              "#bd3786"
             ],
             [
              0.5555555555555556,
              "#d8576b"
             ],
             [
              0.6666666666666666,
              "#ed7953"
             ],
             [
              0.7777777777777778,
              "#fb9f3a"
             ],
             [
              0.8888888888888888,
              "#fdca26"
             ],
             [
              1,
              "#f0f921"
             ]
            ],
            "type": "heatmapgl"
           }
          ],
          "histogram": [
           {
            "marker": {
             "pattern": {
              "fillmode": "overlay",
              "size": 10,
              "solidity": 0.2
             }
            },
            "type": "histogram"
           }
          ],
          "histogram2d": [
           {
            "colorbar": {
             "outlinewidth": 0,
             "ticks": ""
            },
            "colorscale": [
             [
              0,
              "#0d0887"
             ],
             [
              0.1111111111111111,
              "#46039f"
             ],
             [
              0.2222222222222222,
              "#7201a8"
             ],
             [
              0.3333333333333333,
              "#9c179e"
             ],
             [
              0.4444444444444444,
              "#bd3786"
             ],
             [
              0.5555555555555556,
              "#d8576b"
             ],
             [
              0.6666666666666666,
              "#ed7953"
             ],
             [
              0.7777777777777778,
              "#fb9f3a"
             ],
             [
              0.8888888888888888,
              "#fdca26"
             ],
             [
              1,
              "#f0f921"
             ]
            ],
            "type": "histogram2d"
           }
          ],
          "histogram2dcontour": [
           {
            "colorbar": {
             "outlinewidth": 0,
             "ticks": ""
            },
            "colorscale": [
             [
              0,
              "#0d0887"
             ],
             [
              0.1111111111111111,
              "#46039f"
             ],
             [
              0.2222222222222222,
              "#7201a8"
             ],
             [
              0.3333333333333333,
              "#9c179e"
             ],
             [
              0.4444444444444444,
              "#bd3786"
             ],
             [
              0.5555555555555556,
              "#d8576b"
             ],
             [
              0.6666666666666666,
              "#ed7953"
             ],
             [
              0.7777777777777778,
              "#fb9f3a"
             ],
             [
              0.8888888888888888,
              "#fdca26"
             ],
             [
              1,
              "#f0f921"
             ]
            ],
            "type": "histogram2dcontour"
           }
          ],
          "mesh3d": [
           {
            "colorbar": {
             "outlinewidth": 0,
             "ticks": ""
            },
            "type": "mesh3d"
           }
          ],
          "parcoords": [
           {
            "line": {
             "colorbar": {
              "outlinewidth": 0,
              "ticks": ""
             }
            },
            "type": "parcoords"
           }
          ],
          "pie": [
           {
            "automargin": true,
            "type": "pie"
           }
          ],
          "scatter": [
           {
            "fillpattern": {
             "fillmode": "overlay",
             "size": 10,
             "solidity": 0.2
            },
            "type": "scatter"
           }
          ],
          "scatter3d": [
           {
            "line": {
             "colorbar": {
              "outlinewidth": 0,
              "ticks": ""
             }
            },
            "marker": {
             "colorbar": {
              "outlinewidth": 0,
              "ticks": ""
             }
            },
            "type": "scatter3d"
           }
          ],
          "scattercarpet": [
           {
            "marker": {
             "colorbar": {
              "outlinewidth": 0,
              "ticks": ""
             }
            },
            "type": "scattercarpet"
           }
          ],
          "scattergeo": [
           {
            "marker": {
             "colorbar": {
              "outlinewidth": 0,
              "ticks": ""
             }
            },
            "type": "scattergeo"
           }
          ],
          "scattergl": [
           {
            "marker": {
             "colorbar": {
              "outlinewidth": 0,
              "ticks": ""
             }
            },
            "type": "scattergl"
           }
          ],
          "scattermapbox": [
           {
            "marker": {
             "colorbar": {
              "outlinewidth": 0,
              "ticks": ""
             }
            },
            "type": "scattermapbox"
           }
          ],
          "scatterpolar": [
           {
            "marker": {
             "colorbar": {
              "outlinewidth": 0,
              "ticks": ""
             }
            },
            "type": "scatterpolar"
           }
          ],
          "scatterpolargl": [
           {
            "marker": {
             "colorbar": {
              "outlinewidth": 0,
              "ticks": ""
             }
            },
            "type": "scatterpolargl"
           }
          ],
          "scatterternary": [
           {
            "marker": {
             "colorbar": {
              "outlinewidth": 0,
              "ticks": ""
             }
            },
            "type": "scatterternary"
           }
          ],
          "surface": [
           {
            "colorbar": {
             "outlinewidth": 0,
             "ticks": ""
            },
            "colorscale": [
             [
              0,
              "#0d0887"
             ],
             [
              0.1111111111111111,
              "#46039f"
             ],
             [
              0.2222222222222222,
              "#7201a8"
             ],
             [
              0.3333333333333333,
              "#9c179e"
             ],
             [
              0.4444444444444444,
              "#bd3786"
             ],
             [
              0.5555555555555556,
              "#d8576b"
             ],
             [
              0.6666666666666666,
              "#ed7953"
             ],
             [
              0.7777777777777778,
              "#fb9f3a"
             ],
             [
              0.8888888888888888,
              "#fdca26"
             ],
             [
              1,
              "#f0f921"
             ]
            ],
            "type": "surface"
           }
          ],
          "table": [
           {
            "cells": {
             "fill": {
              "color": "#EBF0F8"
             },
             "line": {
              "color": "white"
             }
            },
            "header": {
             "fill": {
              "color": "#C8D4E3"
             },
             "line": {
              "color": "white"
             }
            },
            "type": "table"
           }
          ]
         },
         "layout": {
          "annotationdefaults": {
           "arrowcolor": "#2a3f5f",
           "arrowhead": 0,
           "arrowwidth": 1
          },
          "autotypenumbers": "strict",
          "coloraxis": {
           "colorbar": {
            "outlinewidth": 0,
            "ticks": ""
           }
          },
          "colorscale": {
           "diverging": [
            [
             0,
             "#8e0152"
            ],
            [
             0.1,
             "#c51b7d"
            ],
            [
             0.2,
             "#de77ae"
            ],
            [
             0.3,
             "#f1b6da"
            ],
            [
             0.4,
             "#fde0ef"
            ],
            [
             0.5,
             "#f7f7f7"
            ],
            [
             0.6,
             "#e6f5d0"
            ],
            [
             0.7,
             "#b8e186"
            ],
            [
             0.8,
             "#7fbc41"
            ],
            [
             0.9,
             "#4d9221"
            ],
            [
             1,
             "#276419"
            ]
           ],
           "sequential": [
            [
             0,
             "#0d0887"
            ],
            [
             0.1111111111111111,
             "#46039f"
            ],
            [
             0.2222222222222222,
             "#7201a8"
            ],
            [
             0.3333333333333333,
             "#9c179e"
            ],
            [
             0.4444444444444444,
             "#bd3786"
            ],
            [
             0.5555555555555556,
             "#d8576b"
            ],
            [
             0.6666666666666666,
             "#ed7953"
            ],
            [
             0.7777777777777778,
             "#fb9f3a"
            ],
            [
             0.8888888888888888,
             "#fdca26"
            ],
            [
             1,
             "#f0f921"
            ]
           ],
           "sequentialminus": [
            [
             0,
             "#0d0887"
            ],
            [
             0.1111111111111111,
             "#46039f"
            ],
            [
             0.2222222222222222,
             "#7201a8"
            ],
            [
             0.3333333333333333,
             "#9c179e"
            ],
            [
             0.4444444444444444,
             "#bd3786"
            ],
            [
             0.5555555555555556,
             "#d8576b"
            ],
            [
             0.6666666666666666,
             "#ed7953"
            ],
            [
             0.7777777777777778,
             "#fb9f3a"
            ],
            [
             0.8888888888888888,
             "#fdca26"
            ],
            [
             1,
             "#f0f921"
            ]
           ]
          },
          "colorway": [
           "#636efa",
           "#EF553B",
           "#00cc96",
           "#ab63fa",
           "#FFA15A",
           "#19d3f3",
           "#FF6692",
           "#B6E880",
           "#FF97FF",
           "#FECB52"
          ],
          "font": {
           "color": "#2a3f5f"
          },
          "geo": {
           "bgcolor": "white",
           "lakecolor": "white",
           "landcolor": "#E5ECF6",
           "showlakes": true,
           "showland": true,
           "subunitcolor": "white"
          },
          "hoverlabel": {
           "align": "left"
          },
          "hovermode": "closest",
          "mapbox": {
           "style": "light"
          },
          "paper_bgcolor": "white",
          "plot_bgcolor": "#E5ECF6",
          "polar": {
           "angularaxis": {
            "gridcolor": "white",
            "linecolor": "white",
            "ticks": ""
           },
           "bgcolor": "#E5ECF6",
           "radialaxis": {
            "gridcolor": "white",
            "linecolor": "white",
            "ticks": ""
           }
          },
          "scene": {
           "xaxis": {
            "backgroundcolor": "#E5ECF6",
            "gridcolor": "white",
            "gridwidth": 2,
            "linecolor": "white",
            "showbackground": true,
            "ticks": "",
            "zerolinecolor": "white"
           },
           "yaxis": {
            "backgroundcolor": "#E5ECF6",
            "gridcolor": "white",
            "gridwidth": 2,
            "linecolor": "white",
            "showbackground": true,
            "ticks": "",
            "zerolinecolor": "white"
           },
           "zaxis": {
            "backgroundcolor": "#E5ECF6",
            "gridcolor": "white",
            "gridwidth": 2,
            "linecolor": "white",
            "showbackground": true,
            "ticks": "",
            "zerolinecolor": "white"
           }
          },
          "shapedefaults": {
           "line": {
            "color": "#2a3f5f"
           }
          },
          "ternary": {
           "aaxis": {
            "gridcolor": "white",
            "linecolor": "white",
            "ticks": ""
           },
           "baxis": {
            "gridcolor": "white",
            "linecolor": "white",
            "ticks": ""
           },
           "bgcolor": "#E5ECF6",
           "caxis": {
            "gridcolor": "white",
            "linecolor": "white",
            "ticks": ""
           }
          },
          "title": {
           "x": 0.05
          },
          "xaxis": {
           "automargin": true,
           "gridcolor": "white",
           "linecolor": "white",
           "ticks": "",
           "title": {
            "standoff": 15
           },
           "zerolinecolor": "white",
           "zerolinewidth": 2
          },
          "yaxis": {
           "automargin": true,
           "gridcolor": "white",
           "linecolor": "white",
           "ticks": "",
           "title": {
            "standoff": 15
           },
           "zerolinecolor": "white",
           "zerolinewidth": 2
          }
         }
        },
        "title": {
         "text": "Chargers Ratio by State"
        },
        "width": 700,
        "xaxis": {
         "anchor": "y",
         "autorange": true,
         "domain": [
          0,
          1
         ],
         "range": [
          -0.5,
          49.5
         ],
         "title": {
          "text": "State Abbreviations"
         },
         "type": "category"
        },
        "yaxis": {
         "anchor": "x",
         "autorange": true,
         "domain": [
          0,
          1
         ],
         "range": [
          0,
          788.5014700268644
         ],
         "title": {
          "text": "chargers_ratio"
         },
         "type": "linear"
        }
       }
      },
      "image/png": "[encoded data removed]",
      "text/html": [
       "<div>                            <div id=\"a8d161e8-c850-438c-91ba-e176bf070232\" class=\"plotly-graph-div\" style=\"height:700px; width:700px;\"></div>            <script type=\"text/javascript\">                require([\"plotly\"], function(Plotly) {                    window.PLOTLYENV=window.PLOTLYENV || {};                                    if (document.getElementById(\"a8d161e8-c850-438c-91ba-e176bf070232\")) {                    Plotly.newPlot(                        \"a8d161e8-c850-438c-91ba-e176bf070232\",                        [{\"alignmentgroup\":\"True\",\"hovertemplate\":\"State Abbreviations=%{x}\\u003cbr\\u003echargers_ratio=%{y}\\u003cextra\\u003e\\u003c\\u002fextra\\u003e\",\"legendgroup\":\"\",\"marker\":{\"color\":\"#636efa\",\"pattern\":{\"shape\":\"\"}},\"name\":\"\",\"offsetgroup\":\"\",\"orientation\":\"v\",\"showlegend\":false,\"textposition\":\"auto\",\"x\":[\"VT\",\"MA\",\"CA\",\"CO\",\"OR\",\"CT\",\"ME\",\"WA\",\"IA\",\"RI\",\"MD\",\"UT\",\"MN\",\"HI\",\"DE\",\"NY\",\"MO\",\"WY\",\"KS\",\"VA\",\"NH\",\"NV\",\"SD\",\"GA\",\"NE\",\"AZ\",\"NM\",\"MI\",\"NC\",\"ND\",\"IL\",\"FL\",\"WI\",\"OH\",\"PA\",\"NJ\",\"OK\",\"AR\",\"TN\",\"MT\",\"TX\",\"SC\",\"IN\",\"ID\",\"AL\",\"WV\",\"KY\",\"AK\",\"MS\",\"LA\"],\"xaxis\":\"x\",\"y\":[749.0763965255211,541.7488704757435,540.9956521965643,476.0438341434699,405.82440700739227,399.7593702932896,395.49423165931324,380.3974974657233,378.23463893403317,366.8010387221455,343.9988621825029,330.9210137477054,308.4744197151753,306.59072507312885,283.94499413697196,275.50664199914814,272.9111403909133,270.5215415618681,263.55649597047625,252.64757911529287,246.78079446298074,237.30689855537076,236.0445460656704,235.9186187753684,231.50265950053048,229.16446876904095,218.97765340141345,214.50074876004518,213.7420445460201,209.20341971053392,201.59862128854348,201.3646089913256,198.4450905141386,194.21454470943544,193.18478935181489,192.33996147388595,185.01049872910122,179.61151756411576,177.08579919228106,165.95869394038905,162.80205214511045,162.27618401598195,160.15274404021218,154.72895457178254,138.5934100008065,135.0228324174567,106.49217856926653,102.26259397932387,100.35071725249942,95.76389084753012],\"yaxis\":\"y\",\"type\":\"bar\"}],                        {\"template\":{\"data\":{\"histogram2dcontour\":[{\"type\":\"histogram2dcontour\",\"colorbar\":{\"outlinewidth\":0,\"ticks\":\"\"},\"colorscale\":[[0.0,\"#0d0887\"],[0.1111111111111111,\"#46039f\"],[0.2222222222222222,\"#7201a8\"],[0.3333333333333333,\"#9c179e\"],[0.4444444444444444,\"#bd3786\"],[0.5555555555555556,\"#d8576b\"],[0.6666666666666666,\"#ed7953\"],[0.7777777777777778,\"#fb9f3a\"],[0.8888888888888888,\"#fdca26\"],[1.0,\"#f0f921\"]]}],\"choropleth\":[{\"type\":\"choropleth\",\"colorbar\":{\"outlinewidth\":0,\"ticks\":\"\"}}],\"histogram2d\":[{\"type\":\"histogram2d\",\"colorbar\":{\"outlinewidth\":0,\"ticks\":\"\"},\"colorscale\":[[0.0,\"#0d0887\"],[0.1111111111111111,\"#46039f\"],[0.2222222222222222,\"#7201a8\"],[0.3333333333333333,\"#9c179e\"],[0.4444444444444444,\"#bd3786\"],[0.5555555555555556,\"#d8576b\"],[0.6666666666666666,\"#ed7953\"],[0.7777777777777778,\"#fb9f3a\"],[0.8888888888888888,\"#fdca26\"],[1.0,\"#f0f921\"]]}],\"heatmap\":[{\"type\":\"heatmap\",\"colorbar\":{\"outlinewidth\":0,\"ticks\":\"\"},\"colorscale\":[[0.0,\"#0d0887\"],[0.1111111111111111,\"#46039f\"],[0.2222222222222222,\"#7201a8\"],[0.3333333333333333,\"#9c179e\"],[0.4444444444444444,\"#bd3786\"],[0.5555555555555556,\"#d8576b\"],[0.6666666666666666,\"#ed7953\"],[0.7777777777777778,\"#fb9f3a\"],[0.8888888888888888,\"#fdca26\"],[1.0,\"#f0f921\"]]}],\"heatmapgl\":[{\"type\":\"heatmapgl\",\"colorbar\":{\"outlinewidth\":0,\"ticks\":\"\"},\"colorscale\":[[0.0,\"#0d0887\"],[0.1111111111111111,\"#46039f\"],[0.2222222222222222,\"#7201a8\"],[0.3333333333333333,\"#9c179e\"],[0.4444444444444444,\"#bd3786\"],[0.5555555555555556,\"#d8576b\"],[0.6666666666666666,\"#ed7953\"],[0.7777777777777778,\"#fb9f3a\"],[0.8888888888888888,\"#fdca26\"],[1.0,\"#f0f921\"]]}],\"contourcarpet\":[{\"type\":\"contourcarpet\",\"colorbar\":{\"outlinewidth\":0,\"ticks\":\"\"}}],\"contour\":[{\"type\":\"contour\",\"colorbar\":{\"outlinewidth\":0,\"ticks\":\"\"},\"colorscale\":[[0.0,\"#0d0887\"],[0.1111111111111111,\"#46039f\"],[0.2222222222222222,\"#7201a8\"],[0.3333333333333333,\"#9c179e\"],[0.4444444444444444,\"#bd3786\"],[0.5555555555555556,\"#d8576b\"],[0.6666666666666666,\"#ed7953\"],[0.7777777777777778,\"#fb9f3a\"],[0.8888888888888888,\"#fdca26\"],[1.0,\"#f0f921\"]]}],\"surface\":[{\"type\":\"surface\",\"colorbar\":{\"outlinewidth\":0,\"ticks\":\"\"},\"colorscale\":[[0.0,\"#0d0887\"],[0.1111111111111111,\"#46039f\"],[0.2222222222222222,\"#7201a8\"],[0.3333333333333333,\"#9c179e\"],[0.4444444444444444,\"#bd3786\"],[0.5555555555555556,\"#d8576b\"],[0.6666666666666666,\"#ed7953\"],[0.7777777777777778,\"#fb9f3a\"],[0.8888888888888888,\"#fdca26\"],[1.0,\"#f0f921\"]]}],\"mesh3d\":[{\"type\":\"mesh3d\",\"colorbar\":{\"outlinewidth\":0,\"ticks\":\"\"}}],\"scatter\":[{\"fillpattern\":{\"fillmode\":\"overlay\",\"size\":10,\"solidity\":0.2},\"type\":\"scatter\"}],\"parcoords\":[{\"type\":\"parcoords\",\"line\":{\"colorbar\":{\"outlinewidth\":0,\"ticks\":\"\"}}}],\"scatterpolargl\":[{\"type\":\"scatterpolargl\",\"marker\":{\"colorbar\":{\"outlinewidth\":0,\"ticks\":\"\"}}}],\"bar\":[{\"error_x\":{\"color\":\"#2a3f5f\"},\"error_y\":{\"color\":\"#2a3f5f\"},\"marker\":{\"line\":{\"color\":\"#E5ECF6\",\"width\":0.5},\"pattern\":{\"fillmode\":\"overlay\",\"size\":10,\"solidity\":0.2}},\"type\":\"bar\"}],\"scattergeo\":[{\"type\":\"scattergeo\",\"marker\":{\"colorbar\":{\"outlinewidth\":0,\"ticks\":\"\"}}}],\"scatterpolar\":[{\"type\":\"scatterpolar\",\"marker\":{\"colorbar\":{\"outlinewidth\":0,\"ticks\":\"\"}}}],\"histogram\":[{\"marker\":{\"pattern\":{\"fillmode\":\"overlay\",\"size\":10,\"solidity\":0.2}},\"type\":\"histogram\"}],\"scattergl\":[{\"type\":\"scattergl\",\"marker\":{\"colorbar\":{\"outlinewidth\":0,\"ticks\":\"\"}}}],\"scatter3d\":[{\"type\":\"scatter3d\",\"line\":{\"colorbar\":{\"outlinewidth\":0,\"ticks\":\"\"}},\"marker\":{\"colorbar\":{\"outlinewidth\":0,\"ticks\":\"\"}}}],\"scattermapbox\":[{\"type\":\"scattermapbox\",\"marker\":{\"colorbar\":{\"outlinewidth\":0,\"ticks\":\"\"}}}],\"scatterternary\":[{\"type\":\"scatterternary\",\"marker\":{\"colorbar\":{\"outlinewidth\":0,\"ticks\":\"\"}}}],\"scattercarpet\":[{\"type\":\"scattercarpet\",\"marker\":{\"colorbar\":{\"outlinewidth\":0,\"ticks\":\"\"}}}],\"carpet\":[{\"aaxis\":{\"endlinecolor\":\"#2a3f5f\",\"gridcolor\":\"white\",\"linecolor\":\"white\",\"minorgridcolor\":\"white\",\"startlinecolor\":\"#2a3f5f\"},\"baxis\":{\"endlinecolor\":\"#2a3f5f\",\"gridcolor\":\"white\",\"linecolor\":\"white\",\"minorgridcolor\":\"white\",\"startlinecolor\":\"#2a3f5f\"},\"type\":\"carpet\"}],\"table\":[{\"cells\":{\"fill\":{\"color\":\"#EBF0F8\"},\"line\":{\"color\":\"white\"}},\"header\":{\"fill\":{\"color\":\"#C8D4E3\"},\"line\":{\"color\":\"white\"}},\"type\":\"table\"}],\"barpolar\":[{\"marker\":{\"line\":{\"color\":\"#E5ECF6\",\"width\":0.5},\"pattern\":{\"fillmode\":\"overlay\",\"size\":10,\"solidity\":0.2}},\"type\":\"barpolar\"}],\"pie\":[{\"automargin\":true,\"type\":\"pie\"}]},\"layout\":{\"autotypenumbers\":\"strict\",\"colorway\":[\"#636efa\",\"#EF553B\",\"#00cc96\",\"#ab63fa\",\"#FFA15A\",\"#19d3f3\",\"#FF6692\",\"#B6E880\",\"#FF97FF\",\"#FECB52\"],\"font\":{\"color\":\"#2a3f5f\"},\"hovermode\":\"closest\",\"hoverlabel\":{\"align\":\"left\"},\"paper_bgcolor\":\"white\",\"plot_bgcolor\":\"#E5ECF6\",\"polar\":{\"bgcolor\":\"#E5ECF6\",\"angularaxis\":{\"gridcolor\":\"white\",\"linecolor\":\"white\",\"ticks\":\"\"},\"radialaxis\":{\"gridcolor\":\"white\",\"linecolor\":\"white\",\"ticks\":\"\"}},\"ternary\":{\"bgcolor\":\"#E5ECF6\",\"aaxis\":{\"gridcolor\":\"white\",\"linecolor\":\"white\",\"ticks\":\"\"},\"baxis\":{\"gridcolor\":\"white\",\"linecolor\":\"white\",\"ticks\":\"\"},\"caxis\":{\"gridcolor\":\"white\",\"linecolor\":\"white\",\"ticks\":\"\"}},\"coloraxis\":{\"colorbar\":{\"outlinewidth\":0,\"ticks\":\"\"}},\"colorscale\":{\"sequential\":[[0.0,\"#0d0887\"],[0.1111111111111111,\"#46039f\"],[0.2222222222222222,\"#7201a8\"],[0.3333333333333333,\"#9c179e\"],[0.4444444444444444,\"#bd3786\"],[0.5555555555555556,\"#d8576b\"],[0.6666666666666666,\"#ed7953\"],[0.7777777777777778,\"#fb9f3a\"],[0.8888888888888888,\"#fdca26\"],[1.0,\"#f0f921\"]],\"sequentialminus\":[[0.0,\"#0d0887\"],[0.1111111111111111,\"#46039f\"],[0.2222222222222222,\"#7201a8\"],[0.3333333333333333,\"#9c179e\"],[0.4444444444444444,\"#bd3786\"],[0.5555555555555556,\"#d8576b\"],[0.6666666666666666,\"#ed7953\"],[0.7777777777777778,\"#fb9f3a\"],[0.8888888888888888,\"#fdca26\"],[1.0,\"#f0f921\"]],\"diverging\":[[0,\"#8e0152\"],[0.1,\"#c51b7d\"],[0.2,\"#de77ae\"],[0.3,\"#f1b6da\"],[0.4,\"#fde0ef\"],[0.5,\"#f7f7f7\"],[0.6,\"#e6f5d0\"],[0.7,\"#b8e186\"],[0.8,\"#7fbc41\"],[0.9,\"#4d9221\"],[1,\"#276419\"]]},\"xaxis\":{\"gridcolor\":\"white\",\"linecolor\":\"white\",\"ticks\":\"\",\"title\":{\"standoff\":15},\"zerolinecolor\":\"white\",\"automargin\":true,\"zerolinewidth\":2},\"yaxis\":{\"gridcolor\":\"white\",\"linecolor\":\"white\",\"ticks\":\"\",\"title\":{\"standoff\":15},\"zerolinecolor\":\"white\",\"automargin\":true,\"zerolinewidth\":2},\"scene\":{\"xaxis\":{\"backgroundcolor\":\"#E5ECF6\",\"gridcolor\":\"white\",\"linecolor\":\"white\",\"showbackground\":true,\"ticks\":\"\",\"zerolinecolor\":\"white\",\"gridwidth\":2},\"yaxis\":{\"backgroundcolor\":\"#E5ECF6\",\"gridcolor\":\"white\",\"linecolor\":\"white\",\"showbackground\":true,\"ticks\":\"\",\"zerolinecolor\":\"white\",\"gridwidth\":2},\"zaxis\":{\"backgroundcolor\":\"#E5ECF6\",\"gridcolor\":\"white\",\"linecolor\":\"white\",\"showbackground\":true,\"ticks\":\"\",\"zerolinecolor\":\"white\",\"gridwidth\":2}},\"shapedefaults\":{\"line\":{\"color\":\"#2a3f5f\"}},\"annotationdefaults\":{\"arrowcolor\":\"#2a3f5f\",\"arrowhead\":0,\"arrowwidth\":1},\"geo\":{\"bgcolor\":\"white\",\"landcolor\":\"#E5ECF6\",\"subunitcolor\":\"white\",\"showland\":true,\"showlakes\":true,\"lakecolor\":\"white\"},\"title\":{\"x\":0.05},\"mapbox\":{\"style\":\"light\"}}},\"xaxis\":{\"anchor\":\"y\",\"domain\":[0.0,1.0],\"title\":{\"text\":\"State Abbreviations\"}},\"yaxis\":{\"anchor\":\"x\",\"domain\":[0.0,1.0],\"title\":{\"text\":\"chargers_ratio\"}},\"legend\":{\"tracegroupgap\":0},\"title\":{\"text\":\"Chargers Ratio by State\"},\"barmode\":\"relative\",\"width\":700,\"height\":700},                        {\"responsive\": true}                    ).then(function(){\n",
       "                            \n",
       "var gd = document.getElementById('a8d161e8-c850-438c-91ba-e176bf070232');\n",
       "var x = new MutationObserver(function (mutations, observer) {{\n",
       "        var display = window.getComputedStyle(gd).display;\n",
       "        if (!display || display === 'none') {{\n",
       "            console.log([gd, 'removed!']);\n",
       "            Plotly.purge(gd);\n",
       "            observer.disconnect();\n",
       "        }}\n",
       "}});\n",
       "\n",
       "// Listen for the removal of the full notebook cells\n",
       "var notebookContainer = gd.closest('#notebook-container');\n",
       "if (notebookContainer) {{\n",
       "    x.observe(notebookContainer, {childList: true});\n",
       "}}\n",
       "\n",
       "// Listen for the clearing of the current output cell\n",
       "var outputEl = gd.closest('.output');\n",
       "if (outputEl) {{\n",
       "    x.observe(outputEl, {childList: true});\n",
       "}}\n",
       "\n",
       "                        })                };                });            </script>        </div>"
      ]
     },
     "metadata": {},
     "output_type": "display_data"
    }
   ],
   "source": [
    "# Show the value of each state.\n",
    "ev_sort = ev.sort_values('chargers_ratio' , ascending = False)\n",
    "fig = px.bar(\n",
    "    ev_sort,\n",
    "    x = 'state',\n",
    "    y = 'chargers_ratio',\n",
    "    title = 'Chargers Ratio by State',\n",
    "    labels={'state': 'State Abbreviations', 'ev_chargers': 'EV Chargers per 1 Million People'}\n",
    ")\n",
    "\n",
    "fig.update_layout(width=700, height=700)\n",
    "fig.show()"
   ]
  },
  {
   "cell_type": "code",
   "execution_count": 39,
   "id": "26a860c2-1e16-4171-8b28-1779706eba39",
   "metadata": {},
   "outputs": [
    {
     "data": {
      "application/vnd.plotly.v1+json": {
       "config": {
        "plotlyServerURL": "https://plot.ly"
       },
       "data": [
        {
         "hovertemplate": "state=MI<br>Year (2010-2023)=%{x}<br>EV Chargers per 1 Million People=%{y}<extra></extra>",
         "legendgroup": "MI",
         "line": {
          "color": "#636efa",
          "dash": "solid"
         },
         "marker": {
          "symbol": "circle"
         },
         "mode": "lines",
         "name": "MI",
         "showlegend": true,
         "type": "scattergl",
         "x": [
          "1976-01-01T00:00:00",
          "1977-01-01T00:00:00",
          "1984-01-01T00:00:00",
          "1990-01-01T00:00:00",
          "1995-01-01T00:00:00",
          "1999-01-01T00:00:00",
          "2000-01-01T00:00:00",
          "2001-01-01T00:00:00",
          "2002-01-01T00:00:00",
          "2005-01-01T00:00:00",
          "2006-01-01T00:00:00",
          "2007-01-01T00:00:00",
          "2008-01-01T00:00:00",
          "2009-01-01T00:00:00",
          "2010-01-01T00:00:00",
          "2011-01-01T00:00:00",
          "2012-01-01T00:00:00",
          "2013-01-01T00:00:00",
          "2014-01-01T00:00:00",
          "2015-01-01T00:00:00",
          "2016-01-01T00:00:00",
          "2017-01-01T00:00:00",
          "2018-01-01T00:00:00",
          "2019-01-01T00:00:00",
          "2020-01-01T00:00:00",
          "2021-01-01T00:00:00",
          "2022-01-01T00:00:00",
          "2023-01-01T00:00:00",
          "2024-01-01T00:00:00"
         ],
         "xaxis": "x",
         "y": [
          1,
          1,
          1,
          2,
          2,
          15,
          17,
          1,
          1,
          2,
          14,
          22,
          10,
          14,
          18,
          41,
          31,
          47,
          68,
          77,
          59,
          37,
          68,
          67,
          92,
          308,
          426,
          382,
          323
         ],
         "yaxis": "y"
        },
        {
         "hovertemplate": "state=OH<br>Year (2010-2023)=%{x}<br>EV Chargers per 1 Million People=%{y}<extra></extra>",
         "legendgroup": "OH",
         "line": {
          "color": "#EF553B",
          "dash": "solid"
         },
         "marker": {
          "symbol": "circle"
         },
         "mode": "lines",
         "name": "OH",
         "showlegend": true,
         "type": "scattergl",
         "x": [
          "1976-01-01T00:00:00",
          "1986-01-01T00:00:00",
          "1993-01-01T00:00:00",
          "1999-01-01T00:00:00",
          "2000-01-01T00:00:00",
          "2004-01-01T00:00:00",
          "2005-01-01T00:00:00",
          "2006-01-01T00:00:00",
          "2007-01-01T00:00:00",
          "2008-01-01T00:00:00",
          "2009-01-01T00:00:00",
          "2010-01-01T00:00:00",
          "2011-01-01T00:00:00",
          "2012-01-01T00:00:00",
          "2013-01-01T00:00:00",
          "2014-01-01T00:00:00",
          "2015-01-01T00:00:00",
          "2016-01-01T00:00:00",
          "2017-01-01T00:00:00",
          "2018-01-01T00:00:00",
          "2019-01-01T00:00:00",
          "2020-01-01T00:00:00",
          "2021-01-01T00:00:00",
          "2022-01-01T00:00:00",
          "2023-01-01T00:00:00",
          "2024-01-01T00:00:00"
         ],
         "xaxis": "x",
         "y": [
          1,
          1,
          1,
          6,
          24,
          3,
          3,
          6,
          9,
          11,
          4,
          2,
          32,
          81,
          29,
          70,
          75,
          75,
          66,
          69,
          119,
          131,
          346,
          413,
          366,
          337
         ],
         "yaxis": "y"
        },
        {
         "hovertemplate": "state=MD<br>Year (2010-2023)=%{x}<br>EV Chargers per 1 Million People=%{y}<extra></extra>",
         "legendgroup": "MD",
         "line": {
          "color": "#00cc96",
          "dash": "solid"
         },
         "marker": {
          "symbol": "circle"
         },
         "mode": "lines",
         "name": "MD",
         "showlegend": true,
         "type": "scattergl",
         "x": [
          "1978-01-01T00:00:00",
          "1996-01-01T00:00:00",
          "1999-01-01T00:00:00",
          "2000-01-01T00:00:00",
          "2004-01-01T00:00:00",
          "2005-01-01T00:00:00",
          "2006-01-01T00:00:00",
          "2007-01-01T00:00:00",
          "2008-01-01T00:00:00",
          "2009-01-01T00:00:00",
          "2010-01-01T00:00:00",
          "2011-01-01T00:00:00",
          "2012-01-01T00:00:00",
          "2013-01-01T00:00:00",
          "2014-01-01T00:00:00",
          "2015-01-01T00:00:00",
          "2016-01-01T00:00:00",
          "2017-01-01T00:00:00",
          "2018-01-01T00:00:00",
          "2019-01-01T00:00:00",
          "2020-01-01T00:00:00",
          "2021-01-01T00:00:00",
          "2022-01-01T00:00:00",
          "2023-01-01T00:00:00",
          "2024-01-01T00:00:00"
         ],
         "xaxis": "x",
         "y": [
          1,
          2,
          1,
          7,
          1,
          2,
          2,
          1,
          3,
          1,
          2,
          65,
          53,
          18,
          39,
          83,
          85,
          80,
          126,
          120,
          156,
          395,
          312,
          363,
          205
         ],
         "yaxis": "y"
        },
        {
         "hovertemplate": "state=AZ<br>Year (2010-2023)=%{x}<br>EV Chargers per 1 Million People=%{y}<extra></extra>",
         "legendgroup": "AZ",
         "line": {
          "color": "#ab63fa",
          "dash": "solid"
         },
         "marker": {
          "symbol": "circle"
         },
         "mode": "lines",
         "name": "AZ",
         "showlegend": true,
         "type": "scattergl",
         "x": [
          "1984-01-01T00:00:00",
          "1995-01-01T00:00:00",
          "1996-01-01T00:00:00",
          "1997-01-01T00:00:00",
          "1999-01-01T00:00:00",
          "2000-01-01T00:00:00",
          "2002-01-01T00:00:00",
          "2003-01-01T00:00:00",
          "2006-01-01T00:00:00",
          "2007-01-01T00:00:00",
          "2008-01-01T00:00:00",
          "2009-01-01T00:00:00",
          "2010-01-01T00:00:00",
          "2011-01-01T00:00:00",
          "2012-01-01T00:00:00",
          "2013-01-01T00:00:00",
          "2014-01-01T00:00:00",
          "2015-01-01T00:00:00",
          "2016-01-01T00:00:00",
          "2017-01-01T00:00:00",
          "2018-01-01T00:00:00",
          "2019-01-01T00:00:00",
          "2020-01-01T00:00:00",
          "2021-01-01T00:00:00",
          "2022-01-01T00:00:00",
          "2023-01-01T00:00:00",
          "2024-01-01T00:00:00"
         ],
         "xaxis": "x",
         "y": [
          1,
          1,
          4,
          1,
          3,
          17,
          1,
          1,
          4,
          6,
          68,
          4,
          6,
          36,
          21,
          4,
          31,
          77,
          44,
          35,
          51,
          79,
          93,
          335,
          263,
          256,
          253
         ],
         "yaxis": "y"
        },
        {
         "hovertemplate": "state=AR<br>Year (2010-2023)=%{x}<br>EV Chargers per 1 Million People=%{y}<extra></extra>",
         "legendgroup": "AR",
         "line": {
          "color": "#FFA15A",
          "dash": "solid"
         },
         "marker": {
          "symbol": "circle"
         },
         "mode": "lines",
         "name": "AR",
         "showlegend": true,
         "type": "scattergl",
         "x": [
          "1985-01-01T00:00:00",
          "1992-01-01T00:00:00",
          "1997-01-01T00:00:00",
          "1999-01-01T00:00:00",
          "2000-01-01T00:00:00",
          "2003-01-01T00:00:00",
          "2008-01-01T00:00:00",
          "2009-01-01T00:00:00",
          "2010-01-01T00:00:00",
          "2011-01-01T00:00:00",
          "2012-01-01T00:00:00",
          "2013-01-01T00:00:00",
          "2014-01-01T00:00:00",
          "2015-01-01T00:00:00",
          "2016-01-01T00:00:00",
          "2017-01-01T00:00:00",
          "2018-01-01T00:00:00",
          "2019-01-01T00:00:00",
          "2020-01-01T00:00:00",
          "2021-01-01T00:00:00",
          "2022-01-01T00:00:00",
          "2023-01-01T00:00:00",
          "2024-01-01T00:00:00"
         ],
         "xaxis": "x",
         "y": [
          1,
          1,
          1,
          3,
          3,
          1,
          1,
          5,
          4,
          23,
          8,
          16,
          12,
          19,
          6,
          20,
          16,
          25,
          19,
          83,
          91,
          139,
          52
         ],
         "yaxis": "y"
        },
        {
         "hovertemplate": "state=NE<br>Year (2010-2023)=%{x}<br>EV Chargers per 1 Million People=%{y}<extra></extra>",
         "legendgroup": "NE",
         "line": {
          "color": "#19d3f3",
          "dash": "solid"
         },
         "marker": {
          "symbol": "circle"
         },
         "mode": "lines",
         "name": "NE",
         "showlegend": true,
         "type": "scattergl",
         "x": [
          "1985-01-01T00:00:00",
          "1987-01-01T00:00:00",
          "1993-01-01T00:00:00",
          "1999-01-01T00:00:00",
          "2000-01-01T00:00:00",
          "2005-01-01T00:00:00",
          "2006-01-01T00:00:00",
          "2007-01-01T00:00:00",
          "2008-01-01T00:00:00",
          "2009-01-01T00:00:00",
          "2010-01-01T00:00:00",
          "2011-01-01T00:00:00",
          "2012-01-01T00:00:00",
          "2013-01-01T00:00:00",
          "2014-01-01T00:00:00",
          "2015-01-01T00:00:00",
          "2016-01-01T00:00:00",
          "2017-01-01T00:00:00",
          "2018-01-01T00:00:00",
          "2019-01-01T00:00:00",
          "2020-01-01T00:00:00",
          "2021-01-01T00:00:00",
          "2022-01-01T00:00:00",
          "2023-01-01T00:00:00",
          "2024-01-01T00:00:00"
         ],
         "xaxis": "x",
         "y": [
          1,
          1,
          1,
          4,
          3,
          4,
          6,
          1,
          6,
          6,
          5,
          7,
          13,
          3,
          16,
          12,
          15,
          16,
          16,
          22,
          25,
          105,
          71,
          54,
          44
         ],
         "yaxis": "y"
        },
        {
         "hovertemplate": "state=WA<br>Year (2010-2023)=%{x}<br>EV Chargers per 1 Million People=%{y}<extra></extra>",
         "legendgroup": "WA",
         "line": {
          "color": "#FF6692",
          "dash": "solid"
         },
         "marker": {
          "symbol": "circle"
         },
         "mode": "lines",
         "name": "WA",
         "showlegend": true,
         "type": "scattergl",
         "x": [
          "1985-01-01T00:00:00",
          "1992-01-01T00:00:00",
          "1993-01-01T00:00:00",
          "1999-01-01T00:00:00",
          "2000-01-01T00:00:00",
          "2001-01-01T00:00:00",
          "2003-01-01T00:00:00",
          "2006-01-01T00:00:00",
          "2008-01-01T00:00:00",
          "2009-01-01T00:00:00",
          "2010-01-01T00:00:00",
          "2011-01-01T00:00:00",
          "2012-01-01T00:00:00",
          "2013-01-01T00:00:00",
          "2014-01-01T00:00:00",
          "2015-01-01T00:00:00",
          "2016-01-01T00:00:00",
          "2017-01-01T00:00:00",
          "2018-01-01T00:00:00",
          "2019-01-01T00:00:00",
          "2020-01-01T00:00:00",
          "2021-01-01T00:00:00",
          "2022-01-01T00:00:00",
          "2023-01-01T00:00:00",
          "2024-01-01T00:00:00"
         ],
         "xaxis": "x",
         "y": [
          1,
          1,
          1,
          12,
          22,
          1,
          1,
          3,
          2,
          6,
          8,
          77,
          48,
          15,
          57,
          104,
          79,
          93,
          125,
          182,
          191,
          572,
          350,
          519,
          485
         ],
         "yaxis": "y"
        },
        {
         "hovertemplate": "state=ID<br>Year (2010-2023)=%{x}<br>EV Chargers per 1 Million People=%{y}<extra></extra>",
         "legendgroup": "ID",
         "line": {
          "color": "#B6E880",
          "dash": "solid"
         },
         "marker": {
          "symbol": "circle"
         },
         "mode": "lines",
         "name": "ID",
         "showlegend": true,
         "type": "scattergl",
         "x": [
          "1986-01-01T00:00:00",
          "1987-01-01T00:00:00",
          "1988-01-01T00:00:00",
          "1989-01-01T00:00:00",
          "1995-01-01T00:00:00",
          "1999-01-01T00:00:00",
          "2000-01-01T00:00:00",
          "2010-01-01T00:00:00",
          "2011-01-01T00:00:00",
          "2012-01-01T00:00:00",
          "2013-01-01T00:00:00",
          "2014-01-01T00:00:00",
          "2015-01-01T00:00:00",
          "2016-01-01T00:00:00",
          "2017-01-01T00:00:00",
          "2018-01-01T00:00:00",
          "2019-01-01T00:00:00",
          "2020-01-01T00:00:00",
          "2021-01-01T00:00:00",
          "2022-01-01T00:00:00",
          "2023-01-01T00:00:00",
          "2024-01-01T00:00:00"
         ],
         "xaxis": "x",
         "y": [
          1,
          1,
          1,
          1,
          1,
          4,
          6,
          7,
          3,
          5,
          5,
          5,
          24,
          26,
          13,
          7,
          15,
          16,
          29,
          26,
          43,
          64
         ],
         "yaxis": "y"
        },
        {
         "hovertemplate": "state=GA<br>Year (2010-2023)=%{x}<br>EV Chargers per 1 Million People=%{y}<extra></extra>",
         "legendgroup": "GA",
         "line": {
          "color": "#FF97FF",
          "dash": "solid"
         },
         "marker": {
          "symbol": "circle"
         },
         "mode": "lines",
         "name": "GA",
         "showlegend": true,
         "type": "scattergl",
         "x": [
          "1987-01-01T00:00:00",
          "1995-01-01T00:00:00",
          "1996-01-01T00:00:00",
          "1997-01-01T00:00:00",
          "1998-01-01T00:00:00",
          "1999-01-01T00:00:00",
          "2000-01-01T00:00:00",
          "2002-01-01T00:00:00",
          "2004-01-01T00:00:00",
          "2005-01-01T00:00:00",
          "2006-01-01T00:00:00",
          "2007-01-01T00:00:00",
          "2008-01-01T00:00:00",
          "2009-01-01T00:00:00",
          "2010-01-01T00:00:00",
          "2011-01-01T00:00:00",
          "2012-01-01T00:00:00",
          "2013-01-01T00:00:00",
          "2014-01-01T00:00:00",
          "2015-01-01T00:00:00",
          "2016-01-01T00:00:00",
          "2017-01-01T00:00:00",
          "2018-01-01T00:00:00",
          "2019-01-01T00:00:00",
          "2020-01-01T00:00:00",
          "2021-01-01T00:00:00",
          "2022-01-01T00:00:00",
          "2023-01-01T00:00:00",
          "2024-01-01T00:00:00"
         ],
         "xaxis": "x",
         "y": [
          1,
          1,
          3,
          1,
          1,
          7,
          11,
          1,
          2,
          6,
          2,
          1,
          4,
          2,
          2,
          41,
          48,
          17,
          45,
          105,
          95,
          92,
          121,
          98,
          217,
          555,
          291,
          398,
          422
         ],
         "yaxis": "y"
        },
        {
         "hovertemplate": "state=IA<br>Year (2010-2023)=%{x}<br>EV Chargers per 1 Million People=%{y}<extra></extra>",
         "legendgroup": "IA",
         "line": {
          "color": "#FECB52",
          "dash": "solid"
         },
         "marker": {
          "symbol": "circle"
         },
         "mode": "lines",
         "name": "IA",
         "showlegend": true,
         "type": "scattergl",
         "x": [
          "1988-01-01T00:00:00",
          "1990-01-01T00:00:00",
          "1993-01-01T00:00:00",
          "1996-01-01T00:00:00",
          "1999-01-01T00:00:00",
          "2000-01-01T00:00:00",
          "2001-01-01T00:00:00",
          "2004-01-01T00:00:00",
          "2005-01-01T00:00:00",
          "2006-01-01T00:00:00",
          "2007-01-01T00:00:00",
          "2008-01-01T00:00:00",
          "2009-01-01T00:00:00",
          "2010-01-01T00:00:00",
          "2011-01-01T00:00:00",
          "2012-01-01T00:00:00",
          "2013-01-01T00:00:00",
          "2014-01-01T00:00:00",
          "2015-01-01T00:00:00",
          "2016-01-01T00:00:00",
          "2017-01-01T00:00:00",
          "2018-01-01T00:00:00",
          "2019-01-01T00:00:00",
          "2020-01-01T00:00:00",
          "2021-01-01T00:00:00",
          "2022-01-01T00:00:00",
          "2023-01-01T00:00:00",
          "2024-01-01T00:00:00"
         ],
         "xaxis": "x",
         "y": [
          1,
          1,
          1,
          1,
          3,
          1,
          1,
          4,
          6,
          16,
          13,
          21,
          21,
          22,
          31,
          23,
          10,
          32,
          32,
          19,
          38,
          37,
          71,
          65,
          137,
          345,
          134,
          126
         ],
         "yaxis": "y"
        },
        {
         "hovertemplate": "state=NY<br>Year (2010-2023)=%{x}<br>EV Chargers per 1 Million People=%{y}<extra></extra>",
         "legendgroup": "NY",
         "line": {
          "color": "#636efa",
          "dash": "solid"
         },
         "marker": {
          "symbol": "circle"
         },
         "mode": "lines",
         "name": "NY",
         "showlegend": true,
         "type": "scattergl",
         "x": [
          "1988-01-01T00:00:00",
          "1994-01-01T00:00:00",
          "1995-01-01T00:00:00",
          "1996-01-01T00:00:00",
          "1997-01-01T00:00:00",
          "1998-01-01T00:00:00",
          "1999-01-01T00:00:00",
          "2000-01-01T00:00:00",
          "2001-01-01T00:00:00",
          "2002-01-01T00:00:00",
          "2003-01-01T00:00:00",
          "2004-01-01T00:00:00",
          "2006-01-01T00:00:00",
          "2007-01-01T00:00:00",
          "2008-01-01T00:00:00",
          "2009-01-01T00:00:00",
          "2010-01-01T00:00:00",
          "2011-01-01T00:00:00",
          "2012-01-01T00:00:00",
          "2013-01-01T00:00:00",
          "2014-01-01T00:00:00",
          "2015-01-01T00:00:00",
          "2016-01-01T00:00:00",
          "2017-01-01T00:00:00",
          "2018-01-01T00:00:00",
          "2019-01-01T00:00:00",
          "2020-01-01T00:00:00",
          "2021-01-01T00:00:00",
          "2022-01-01T00:00:00",
          "2023-01-01T00:00:00",
          "2024-01-01T00:00:00"
         ],
         "xaxis": "x",
         "y": [
          1,
          1,
          2,
          1,
          1,
          4,
          2,
          3,
          1,
          1,
          1,
          2,
          2,
          2,
          10,
          13,
          18,
          74,
          22,
          24,
          43,
          120,
          144,
          139,
          178,
          369,
          603,
          978,
          941,
          826,
          846
         ],
         "yaxis": "y"
        },
        {
         "hovertemplate": "state=SC<br>Year (2010-2023)=%{x}<br>EV Chargers per 1 Million People=%{y}<extra></extra>",
         "legendgroup": "SC",
         "line": {
          "color": "#EF553B",
          "dash": "solid"
         },
         "marker": {
          "symbol": "circle"
         },
         "mode": "lines",
         "name": "SC",
         "showlegend": true,
         "type": "scattergl",
         "x": [
          "1989-01-01T00:00:00",
          "1999-01-01T00:00:00",
          "2000-01-01T00:00:00",
          "2002-01-01T00:00:00",
          "2005-01-01T00:00:00",
          "2006-01-01T00:00:00",
          "2007-01-01T00:00:00",
          "2008-01-01T00:00:00",
          "2009-01-01T00:00:00",
          "2010-01-01T00:00:00",
          "2011-01-01T00:00:00",
          "2012-01-01T00:00:00",
          "2013-01-01T00:00:00",
          "2014-01-01T00:00:00",
          "2015-01-01T00:00:00",
          "2016-01-01T00:00:00",
          "2017-01-01T00:00:00",
          "2018-01-01T00:00:00",
          "2019-01-01T00:00:00",
          "2020-01-01T00:00:00",
          "2021-01-01T00:00:00",
          "2022-01-01T00:00:00",
          "2023-01-01T00:00:00",
          "2024-01-01T00:00:00"
         ],
         "xaxis": "x",
         "y": [
          1,
          3,
          6,
          1,
          30,
          2,
          5,
          3,
          11,
          7,
          34,
          62,
          12,
          22,
          41,
          12,
          29,
          33,
          36,
          49,
          91,
          99,
          163,
          108
         ],
         "yaxis": "y"
        },
        {
         "hovertemplate": "state=CA<br>Year (2010-2023)=%{x}<br>EV Chargers per 1 Million People=%{y}<extra></extra>",
         "legendgroup": "CA",
         "line": {
          "color": "#00cc96",
          "dash": "solid"
         },
         "marker": {
          "symbol": "circle"
         },
         "mode": "lines",
         "name": "CA",
         "showlegend": true,
         "type": "scattergl",
         "x": [
          "1990-01-01T00:00:00",
          "1991-01-01T00:00:00",
          "1992-01-01T00:00:00",
          "1993-01-01T00:00:00",
          "1994-01-01T00:00:00",
          "1995-01-01T00:00:00",
          "1996-01-01T00:00:00",
          "1997-01-01T00:00:00",
          "1998-01-01T00:00:00",
          "1999-01-01T00:00:00",
          "2000-01-01T00:00:00",
          "2001-01-01T00:00:00",
          "2002-01-01T00:00:00",
          "2003-01-01T00:00:00",
          "2004-01-01T00:00:00",
          "2005-01-01T00:00:00",
          "2006-01-01T00:00:00",
          "2007-01-01T00:00:00",
          "2008-01-01T00:00:00",
          "2009-01-01T00:00:00",
          "2010-01-01T00:00:00",
          "2011-01-01T00:00:00",
          "2012-01-01T00:00:00",
          "2013-01-01T00:00:00",
          "2014-01-01T00:00:00",
          "2015-01-01T00:00:00",
          "2016-01-01T00:00:00",
          "2017-01-01T00:00:00",
          "2018-01-01T00:00:00",
          "2019-01-01T00:00:00",
          "2020-01-01T00:00:00",
          "2021-01-01T00:00:00",
          "2022-01-01T00:00:00",
          "2023-01-01T00:00:00",
          "2024-01-01T00:00:00",
          "2025-01-01T00:00:00"
         ],
         "xaxis": "x",
         "y": [
          2,
          5,
          5,
          2,
          3,
          10,
          24,
          10,
          19,
          40,
          88,
          9,
          29,
          20,
          24,
          13,
          17,
          7,
          32,
          40,
          30,
          205,
          148,
          193,
          280,
          500,
          397,
          341,
          576,
          663,
          2923,
          5997,
          3341,
          2662,
          2315,
          2
         ],
         "yaxis": "y"
        },
        {
         "hovertemplate": "state=IN<br>Year (2010-2023)=%{x}<br>EV Chargers per 1 Million People=%{y}<extra></extra>",
         "legendgroup": "IN",
         "line": {
          "color": "#ab63fa",
          "dash": "solid"
         },
         "marker": {
          "symbol": "circle"
         },
         "mode": "lines",
         "name": "IN",
         "showlegend": true,
         "type": "scattergl",
         "x": [
          "1990-01-01T00:00:00",
          "1991-01-01T00:00:00",
          "1999-01-01T00:00:00",
          "2000-01-01T00:00:00",
          "2001-01-01T00:00:00",
          "2002-01-01T00:00:00",
          "2004-01-01T00:00:00",
          "2005-01-01T00:00:00",
          "2006-01-01T00:00:00",
          "2007-01-01T00:00:00",
          "2008-01-01T00:00:00",
          "2009-01-01T00:00:00",
          "2010-01-01T00:00:00",
          "2011-01-01T00:00:00",
          "2012-01-01T00:00:00",
          "2013-01-01T00:00:00",
          "2014-01-01T00:00:00",
          "2015-01-01T00:00:00",
          "2016-01-01T00:00:00",
          "2017-01-01T00:00:00",
          "2018-01-01T00:00:00",
          "2019-01-01T00:00:00",
          "2020-01-01T00:00:00",
          "2021-01-01T00:00:00",
          "2022-01-01T00:00:00",
          "2023-01-01T00:00:00",
          "2024-01-01T00:00:00"
         ],
         "xaxis": "x",
         "y": [
          1,
          1,
          1,
          12,
          2,
          1,
          1,
          2,
          17,
          33,
          17,
          8,
          19,
          21,
          50,
          21,
          36,
          42,
          32,
          31,
          47,
          57,
          52,
          101,
          136,
          181,
          170
         ],
         "yaxis": "y"
        },
        {
         "hovertemplate": "state=FL<br>Year (2010-2023)=%{x}<br>EV Chargers per 1 Million People=%{y}<extra></extra>",
         "legendgroup": "FL",
         "line": {
          "color": "#FFA15A",
          "dash": "solid"
         },
         "marker": {
          "symbol": "circle"
         },
         "mode": "lines",
         "name": "FL",
         "showlegend": true,
         "type": "scattergl",
         "x": [
          "1991-01-01T00:00:00",
          "1996-01-01T00:00:00",
          "1999-01-01T00:00:00",
          "2000-01-01T00:00:00",
          "2005-01-01T00:00:00",
          "2006-01-01T00:00:00",
          "2008-01-01T00:00:00",
          "2009-01-01T00:00:00",
          "2010-01-01T00:00:00",
          "2011-01-01T00:00:00",
          "2012-01-01T00:00:00",
          "2013-01-01T00:00:00",
          "2014-01-01T00:00:00",
          "2015-01-01T00:00:00",
          "2016-01-01T00:00:00",
          "2017-01-01T00:00:00",
          "2018-01-01T00:00:00",
          "2019-01-01T00:00:00",
          "2020-01-01T00:00:00",
          "2021-01-01T00:00:00",
          "2022-01-01T00:00:00",
          "2023-01-01T00:00:00",
          "2024-01-01T00:00:00"
         ],
         "xaxis": "x",
         "y": [
          1,
          1,
          3,
          23,
          3,
          3,
          5,
          4,
          6,
          74,
          129,
          55,
          61,
          201,
          117,
          199,
          207,
          250,
          327,
          643,
          735,
          672,
          785
         ],
         "yaxis": "y"
        },
        {
         "hovertemplate": "state=NM<br>Year (2010-2023)=%{x}<br>EV Chargers per 1 Million People=%{y}<extra></extra>",
         "legendgroup": "NM",
         "line": {
          "color": "#19d3f3",
          "dash": "solid"
         },
         "marker": {
          "symbol": "circle"
         },
         "mode": "lines",
         "name": "NM",
         "showlegend": true,
         "type": "scattergl",
         "x": [
          "1992-01-01T00:00:00",
          "1994-01-01T00:00:00",
          "1995-01-01T00:00:00",
          "1998-01-01T00:00:00",
          "1999-01-01T00:00:00",
          "2000-01-01T00:00:00",
          "2001-01-01T00:00:00",
          "2002-01-01T00:00:00",
          "2006-01-01T00:00:00",
          "2007-01-01T00:00:00",
          "2008-01-01T00:00:00",
          "2009-01-01T00:00:00",
          "2011-01-01T00:00:00",
          "2012-01-01T00:00:00",
          "2013-01-01T00:00:00",
          "2014-01-01T00:00:00",
          "2015-01-01T00:00:00",
          "2016-01-01T00:00:00",
          "2017-01-01T00:00:00",
          "2018-01-01T00:00:00",
          "2019-01-01T00:00:00",
          "2020-01-01T00:00:00",
          "2021-01-01T00:00:00",
          "2022-01-01T00:00:00",
          "2023-01-01T00:00:00",
          "2024-01-01T00:00:00"
         ],
         "xaxis": "x",
         "y": [
          2,
          1,
          2,
          1,
          23,
          2,
          2,
          1,
          1,
          3,
          2,
          4,
          1,
          10,
          3,
          10,
          14,
          11,
          11,
          17,
          21,
          35,
          68,
          39,
          80,
          94
         ],
         "yaxis": "y"
        },
        {
         "hovertemplate": "state=NV<br>Year (2010-2023)=%{x}<br>EV Chargers per 1 Million People=%{y}<extra></extra>",
         "legendgroup": "NV",
         "line": {
          "color": "#FF6692",
          "dash": "solid"
         },
         "marker": {
          "symbol": "circle"
         },
         "mode": "lines",
         "name": "NV",
         "showlegend": true,
         "type": "scattergl",
         "x": [
          "1993-01-01T00:00:00",
          "1996-01-01T00:00:00",
          "1999-01-01T00:00:00",
          "2000-01-01T00:00:00",
          "2001-01-01T00:00:00",
          "2004-01-01T00:00:00",
          "2006-01-01T00:00:00",
          "2009-01-01T00:00:00",
          "2010-01-01T00:00:00",
          "2011-01-01T00:00:00",
          "2012-01-01T00:00:00",
          "2013-01-01T00:00:00",
          "2014-01-01T00:00:00",
          "2015-01-01T00:00:00",
          "2016-01-01T00:00:00",
          "2017-01-01T00:00:00",
          "2018-01-01T00:00:00",
          "2019-01-01T00:00:00",
          "2020-01-01T00:00:00",
          "2021-01-01T00:00:00",
          "2022-01-01T00:00:00",
          "2023-01-01T00:00:00",
          "2024-01-01T00:00:00"
         ],
         "xaxis": "x",
         "y": [
          1,
          1,
          3,
          9,
          1,
          1,
          1,
          2,
          8,
          3,
          3,
          4,
          33,
          23,
          16,
          26,
          27,
          47,
          39,
          167,
          110,
          130,
          95
         ],
         "yaxis": "y"
        },
        {
         "hovertemplate": "state=SD<br>Year (2010-2023)=%{x}<br>EV Chargers per 1 Million People=%{y}<extra></extra>",
         "legendgroup": "SD",
         "line": {
          "color": "#B6E880",
          "dash": "solid"
         },
         "marker": {
          "symbol": "circle"
         },
         "mode": "lines",
         "name": "SD",
         "showlegend": true,
         "type": "scattergl",
         "x": [
          "1993-01-01T00:00:00",
          "1999-01-01T00:00:00",
          "2000-01-01T00:00:00",
          "2002-01-01T00:00:00",
          "2004-01-01T00:00:00",
          "2005-01-01T00:00:00",
          "2006-01-01T00:00:00",
          "2007-01-01T00:00:00",
          "2008-01-01T00:00:00",
          "2009-01-01T00:00:00",
          "2010-01-01T00:00:00",
          "2011-01-01T00:00:00",
          "2012-01-01T00:00:00",
          "2013-01-01T00:00:00",
          "2014-01-01T00:00:00",
          "2015-01-01T00:00:00",
          "2017-01-01T00:00:00",
          "2018-01-01T00:00:00",
          "2019-01-01T00:00:00",
          "2020-01-01T00:00:00",
          "2021-01-01T00:00:00",
          "2022-01-01T00:00:00",
          "2023-01-01T00:00:00",
          "2024-01-01T00:00:00"
         ],
         "xaxis": "x",
         "y": [
          2,
          8,
          1,
          8,
          2,
          6,
          6,
          9,
          6,
          5,
          3,
          1,
          8,
          4,
          3,
          18,
          9,
          12,
          13,
          6,
          19,
          17,
          28,
          23
         ],
         "yaxis": "y"
        },
        {
         "hovertemplate": "state=MO<br>Year (2010-2023)=%{x}<br>EV Chargers per 1 Million People=%{y}<extra></extra>",
         "legendgroup": "MO",
         "line": {
          "color": "#FF97FF",
          "dash": "solid"
         },
         "marker": {
          "symbol": "circle"
         },
         "mode": "lines",
         "name": "MO",
         "showlegend": true,
         "type": "scattergl",
         "x": [
          "1994-01-01T00:00:00",
          "1999-01-01T00:00:00",
          "2000-01-01T00:00:00",
          "2004-01-01T00:00:00",
          "2005-01-01T00:00:00",
          "2006-01-01T00:00:00",
          "2007-01-01T00:00:00",
          "2008-01-01T00:00:00",
          "2009-01-01T00:00:00",
          "2010-01-01T00:00:00",
          "2011-01-01T00:00:00",
          "2012-01-01T00:00:00",
          "2013-01-01T00:00:00",
          "2014-01-01T00:00:00",
          "2015-01-01T00:00:00",
          "2016-01-01T00:00:00",
          "2017-01-01T00:00:00",
          "2018-01-01T00:00:00",
          "2019-01-01T00:00:00",
          "2020-01-01T00:00:00",
          "2021-01-01T00:00:00",
          "2022-01-01T00:00:00",
          "2023-01-01T00:00:00",
          "2024-01-01T00:00:00"
         ],
         "xaxis": "x",
         "y": [
          1,
          15,
          9,
          1,
          3,
          12,
          12,
          5,
          10,
          6,
          23,
          11,
          12,
          16,
          70,
          51,
          120,
          49,
          76,
          94,
          548,
          132,
          253,
          153
         ],
         "yaxis": "y"
        },
        {
         "hovertemplate": "state=OK<br>Year (2010-2023)=%{x}<br>EV Chargers per 1 Million People=%{y}<extra></extra>",
         "legendgroup": "OK",
         "line": {
          "color": "#FECB52",
          "dash": "solid"
         },
         "marker": {
          "symbol": "circle"
         },
         "mode": "lines",
         "name": "OK",
         "showlegend": true,
         "type": "scattergl",
         "x": [
          "1994-01-01T00:00:00",
          "1996-01-01T00:00:00",
          "1998-01-01T00:00:00",
          "1999-01-01T00:00:00",
          "2000-01-01T00:00:00",
          "2001-01-01T00:00:00",
          "2003-01-01T00:00:00",
          "2004-01-01T00:00:00",
          "2006-01-01T00:00:00",
          "2007-01-01T00:00:00",
          "2008-01-01T00:00:00",
          "2009-01-01T00:00:00",
          "2010-01-01T00:00:00",
          "2011-01-01T00:00:00",
          "2012-01-01T00:00:00",
          "2013-01-01T00:00:00",
          "2014-01-01T00:00:00",
          "2015-01-01T00:00:00",
          "2016-01-01T00:00:00",
          "2017-01-01T00:00:00",
          "2018-01-01T00:00:00",
          "2019-01-01T00:00:00",
          "2020-01-01T00:00:00",
          "2021-01-01T00:00:00",
          "2022-01-01T00:00:00",
          "2023-01-01T00:00:00",
          "2024-01-01T00:00:00"
         ],
         "xaxis": "x",
         "y": [
          1,
          14,
          1,
          11,
          11,
          17,
          4,
          2,
          2,
          3,
          1,
          5,
          5,
          13,
          39,
          50,
          18,
          19,
          26,
          25,
          46,
          46,
          131,
          67,
          59,
          60,
          69
         ],
         "yaxis": "y"
        },
        {
         "hovertemplate": "state=OR<br>Year (2010-2023)=%{x}<br>EV Chargers per 1 Million People=%{y}<extra></extra>",
         "legendgroup": "OR",
         "line": {
          "color": "#636efa",
          "dash": "solid"
         },
         "marker": {
          "symbol": "circle"
         },
         "mode": "lines",
         "name": "OR",
         "showlegend": true,
         "type": "scattergl",
         "x": [
          "1994-01-01T00:00:00",
          "1996-01-01T00:00:00",
          "1999-01-01T00:00:00",
          "2000-01-01T00:00:00",
          "2004-01-01T00:00:00",
          "2005-01-01T00:00:00",
          "2006-01-01T00:00:00",
          "2007-01-01T00:00:00",
          "2008-01-01T00:00:00",
          "2009-01-01T00:00:00",
          "2010-01-01T00:00:00",
          "2011-01-01T00:00:00",
          "2012-01-01T00:00:00",
          "2013-01-01T00:00:00",
          "2014-01-01T00:00:00",
          "2015-01-01T00:00:00",
          "2016-01-01T00:00:00",
          "2017-01-01T00:00:00",
          "2018-01-01T00:00:00",
          "2019-01-01T00:00:00",
          "2020-01-01T00:00:00",
          "2021-01-01T00:00:00",
          "2022-01-01T00:00:00",
          "2023-01-01T00:00:00",
          "2024-01-01T00:00:00",
          "2025-01-01T00:00:00"
         ],
         "xaxis": "x",
         "y": [
          1,
          5,
          2,
          11,
          3,
          1,
          5,
          1,
          3,
          6,
          5,
          38,
          35,
          19,
          27,
          57,
          100,
          52,
          78,
          103,
          97,
          242,
          187,
          303,
          333,
          1
         ],
         "yaxis": "y"
        },
        {
         "hovertemplate": "state=CO<br>Year (2010-2023)=%{x}<br>EV Chargers per 1 Million People=%{y}<extra></extra>",
         "legendgroup": "CO",
         "line": {
          "color": "#EF553B",
          "dash": "solid"
         },
         "marker": {
          "symbol": "circle"
         },
         "mode": "lines",
         "name": "CO",
         "showlegend": true,
         "type": "scattergl",
         "x": [
          "1995-01-01T00:00:00",
          "1996-01-01T00:00:00",
          "1997-01-01T00:00:00",
          "1998-01-01T00:00:00",
          "1999-01-01T00:00:00",
          "2000-01-01T00:00:00",
          "2001-01-01T00:00:00",
          "2002-01-01T00:00:00",
          "2003-01-01T00:00:00",
          "2004-01-01T00:00:00",
          "2005-01-01T00:00:00",
          "2007-01-01T00:00:00",
          "2008-01-01T00:00:00",
          "2009-01-01T00:00:00",
          "2010-01-01T00:00:00",
          "2011-01-01T00:00:00",
          "2012-01-01T00:00:00",
          "2013-01-01T00:00:00",
          "2014-01-01T00:00:00",
          "2015-01-01T00:00:00",
          "2016-01-01T00:00:00",
          "2017-01-01T00:00:00",
          "2018-01-01T00:00:00",
          "2019-01-01T00:00:00",
          "2020-01-01T00:00:00",
          "2021-01-01T00:00:00",
          "2022-01-01T00:00:00",
          "2023-01-01T00:00:00",
          "2024-01-01T00:00:00"
         ],
         "xaxis": "x",
         "y": [
          1,
          1,
          1,
          2,
          9,
          14,
          1,
          3,
          1,
          1,
          2,
          16,
          5,
          10,
          4,
          24,
          47,
          27,
          53,
          76,
          59,
          92,
          112,
          137,
          273,
          538,
          418,
          474,
          372
         ],
         "yaxis": "y"
        },
        {
         "hovertemplate": "state=TN<br>Year (2010-2023)=%{x}<br>EV Chargers per 1 Million People=%{y}<extra></extra>",
         "legendgroup": "TN",
         "line": {
          "color": "#00cc96",
          "dash": "solid"
         },
         "marker": {
          "symbol": "circle"
         },
         "mode": "lines",
         "name": "TN",
         "showlegend": true,
         "type": "scattergl",
         "x": [
          "1995-01-01T00:00:00",
          "1997-01-01T00:00:00",
          "1999-01-01T00:00:00",
          "2000-01-01T00:00:00",
          "2004-01-01T00:00:00",
          "2006-01-01T00:00:00",
          "2007-01-01T00:00:00",
          "2008-01-01T00:00:00",
          "2009-01-01T00:00:00",
          "2010-01-01T00:00:00",
          "2011-01-01T00:00:00",
          "2012-01-01T00:00:00",
          "2013-01-01T00:00:00",
          "2014-01-01T00:00:00",
          "2015-01-01T00:00:00",
          "2016-01-01T00:00:00",
          "2017-01-01T00:00:00",
          "2018-01-01T00:00:00",
          "2019-01-01T00:00:00",
          "2020-01-01T00:00:00",
          "2021-01-01T00:00:00",
          "2022-01-01T00:00:00",
          "2023-01-01T00:00:00",
          "2024-01-01T00:00:00"
         ],
         "xaxis": "x",
         "y": [
          1,
          1,
          2,
          17,
          2,
          1,
          7,
          2,
          2,
          9,
          56,
          17,
          27,
          37,
          36,
          55,
          41,
          36,
          53,
          90,
          232,
          145,
          233,
          150
         ],
         "yaxis": "y"
        },
        {
         "hovertemplate": "state=TX<br>Year (2010-2023)=%{x}<br>EV Chargers per 1 Million People=%{y}<extra></extra>",
         "legendgroup": "TX",
         "line": {
          "color": "#ab63fa",
          "dash": "solid"
         },
         "marker": {
          "symbol": "circle"
         },
         "mode": "lines",
         "name": "TX",
         "showlegend": true,
         "type": "scattergl",
         "x": [
          "1995-01-01T00:00:00",
          "1996-01-01T00:00:00",
          "1999-01-01T00:00:00",
          "2000-01-01T00:00:00",
          "2001-01-01T00:00:00",
          "2003-01-01T00:00:00",
          "2004-01-01T00:00:00",
          "2005-01-01T00:00:00",
          "2006-01-01T00:00:00",
          "2007-01-01T00:00:00",
          "2008-01-01T00:00:00",
          "2009-01-01T00:00:00",
          "2010-01-01T00:00:00",
          "2011-01-01T00:00:00",
          "2012-01-01T00:00:00",
          "2013-01-01T00:00:00",
          "2014-01-01T00:00:00",
          "2015-01-01T00:00:00",
          "2016-01-01T00:00:00",
          "2017-01-01T00:00:00",
          "2018-01-01T00:00:00",
          "2019-01-01T00:00:00",
          "2020-01-01T00:00:00",
          "2021-01-01T00:00:00",
          "2022-01-01T00:00:00",
          "2023-01-01T00:00:00",
          "2024-01-01T00:00:00"
         ],
         "xaxis": "x",
         "y": [
          1,
          3,
          33,
          81,
          1,
          84,
          3,
          4,
          13,
          14,
          6,
          30,
          16,
          112,
          63,
          33,
          115,
          193,
          115,
          132,
          221,
          233,
          373,
          725,
          746,
          752,
          776
         ],
         "yaxis": "y"
        },
        {
         "hovertemplate": "state=WI<br>Year (2010-2023)=%{x}<br>EV Chargers per 1 Million People=%{y}<extra></extra>",
         "legendgroup": "WI",
         "line": {
          "color": "#FFA15A",
          "dash": "solid"
         },
         "marker": {
          "symbol": "circle"
         },
         "mode": "lines",
         "name": "WI",
         "showlegend": true,
         "type": "scattergl",
         "x": [
          "1995-01-01T00:00:00",
          "1999-01-01T00:00:00",
          "2000-01-01T00:00:00",
          "2002-01-01T00:00:00",
          "2005-01-01T00:00:00",
          "2006-01-01T00:00:00",
          "2007-01-01T00:00:00",
          "2008-01-01T00:00:00",
          "2009-01-01T00:00:00",
          "2010-01-01T00:00:00",
          "2011-01-01T00:00:00",
          "2012-01-01T00:00:00",
          "2013-01-01T00:00:00",
          "2014-01-01T00:00:00",
          "2015-01-01T00:00:00",
          "2016-01-01T00:00:00",
          "2017-01-01T00:00:00",
          "2018-01-01T00:00:00",
          "2019-01-01T00:00:00",
          "2020-01-01T00:00:00",
          "2021-01-01T00:00:00",
          "2022-01-01T00:00:00",
          "2023-01-01T00:00:00",
          "2024-01-01T00:00:00"
         ],
         "xaxis": "x",
         "y": [
          1,
          11,
          8,
          2,
          1,
          12,
          14,
          12,
          14,
          14,
          14,
          44,
          32,
          76,
          47,
          26,
          29,
          79,
          66,
          61,
          122,
          165,
          144,
          176
         ],
         "yaxis": "y"
        },
        {
         "hovertemplate": "state=KS<br>Year (2010-2023)=%{x}<br>EV Chargers per 1 Million People=%{y}<extra></extra>",
         "legendgroup": "KS",
         "line": {
          "color": "#19d3f3",
          "dash": "solid"
         },
         "marker": {
          "symbol": "circle"
         },
         "mode": "lines",
         "name": "KS",
         "showlegend": true,
         "type": "scattergl",
         "x": [
          "1996-01-01T00:00:00",
          "1999-01-01T00:00:00",
          "2000-01-01T00:00:00",
          "2003-01-01T00:00:00",
          "2008-01-01T00:00:00",
          "2009-01-01T00:00:00",
          "2011-01-01T00:00:00",
          "2012-01-01T00:00:00",
          "2013-01-01T00:00:00",
          "2014-01-01T00:00:00",
          "2015-01-01T00:00:00",
          "2016-01-01T00:00:00",
          "2017-01-01T00:00:00",
          "2018-01-01T00:00:00",
          "2019-01-01T00:00:00",
          "2020-01-01T00:00:00",
          "2021-01-01T00:00:00",
          "2022-01-01T00:00:00",
          "2023-01-01T00:00:00",
          "2024-01-01T00:00:00"
         ],
         "xaxis": "x",
         "y": [
          2,
          16,
          5,
          1,
          1,
          2,
          7,
          21,
          24,
          18,
          28,
          39,
          28,
          26,
          47,
          36,
          244,
          66,
          92,
          71
         ],
         "yaxis": "y"
        },
        {
         "hovertemplate": "state=MA<br>Year (2010-2023)=%{x}<br>EV Chargers per 1 Million People=%{y}<extra></extra>",
         "legendgroup": "MA",
         "line": {
          "color": "#FF6692",
          "dash": "solid"
         },
         "marker": {
          "symbol": "circle"
         },
         "mode": "lines",
         "name": "MA",
         "showlegend": true,
         "type": "scattergl",
         "x": [
          "1996-01-01T00:00:00",
          "1999-01-01T00:00:00",
          "2000-01-01T00:00:00",
          "2002-01-01T00:00:00",
          "2003-01-01T00:00:00",
          "2006-01-01T00:00:00",
          "2009-01-01T00:00:00",
          "2010-01-01T00:00:00",
          "2011-01-01T00:00:00",
          "2012-01-01T00:00:00",
          "2013-01-01T00:00:00",
          "2014-01-01T00:00:00",
          "2015-01-01T00:00:00",
          "2016-01-01T00:00:00",
          "2017-01-01T00:00:00",
          "2018-01-01T00:00:00",
          "2019-01-01T00:00:00",
          "2020-01-01T00:00:00",
          "2021-01-01T00:00:00",
          "2022-01-01T00:00:00",
          "2023-01-01T00:00:00",
          "2024-01-01T00:00:00"
         ],
         "xaxis": "x",
         "y": [
          2,
          2,
          8,
          1,
          2,
          1,
          1,
          1,
          6,
          56,
          18,
          35,
          67,
          32,
          24,
          81,
          148,
          381,
          1039,
          593,
          610,
          682
         ],
         "yaxis": "y"
        },
        {
         "hovertemplate": "state=PA<br>Year (2010-2023)=%{x}<br>EV Chargers per 1 Million People=%{y}<extra></extra>",
         "legendgroup": "PA",
         "line": {
          "color": "#B6E880",
          "dash": "solid"
         },
         "marker": {
          "symbol": "circle"
         },
         "mode": "lines",
         "name": "PA",
         "showlegend": true,
         "type": "scattergl",
         "x": [
          "1996-01-01T00:00:00",
          "1997-01-01T00:00:00",
          "1998-01-01T00:00:00",
          "1999-01-01T00:00:00",
          "2000-01-01T00:00:00",
          "2001-01-01T00:00:00",
          "2007-01-01T00:00:00",
          "2009-01-01T00:00:00",
          "2010-01-01T00:00:00",
          "2011-01-01T00:00:00",
          "2012-01-01T00:00:00",
          "2013-01-01T00:00:00",
          "2014-01-01T00:00:00",
          "2015-01-01T00:00:00",
          "2016-01-01T00:00:00",
          "2017-01-01T00:00:00",
          "2018-01-01T00:00:00",
          "2019-01-01T00:00:00",
          "2020-01-01T00:00:00",
          "2021-01-01T00:00:00",
          "2022-01-01T00:00:00",
          "2023-01-01T00:00:00",
          "2024-01-01T00:00:00"
         ],
         "xaxis": "x",
         "y": [
          1,
          1,
          1,
          2,
          24,
          2,
          3,
          1,
          7,
          16,
          81,
          26,
          44,
          81,
          65,
          98,
          103,
          164,
          173,
          360,
          427,
          455,
          364
         ],
         "yaxis": "y"
        },
        {
         "hovertemplate": "state=UT<br>Year (2010-2023)=%{x}<br>EV Chargers per 1 Million People=%{y}<extra></extra>",
         "legendgroup": "UT",
         "line": {
          "color": "#FF97FF",
          "dash": "solid"
         },
         "marker": {
          "symbol": "circle"
         },
         "mode": "lines",
         "name": "UT",
         "showlegend": true,
         "type": "scattergl",
         "x": [
          "1996-01-01T00:00:00",
          "1999-01-01T00:00:00",
          "2000-01-01T00:00:00",
          "2001-01-01T00:00:00",
          "2003-01-01T00:00:00",
          "2005-01-01T00:00:00",
          "2006-01-01T00:00:00",
          "2008-01-01T00:00:00",
          "2009-01-01T00:00:00",
          "2010-01-01T00:00:00",
          "2011-01-01T00:00:00",
          "2012-01-01T00:00:00",
          "2013-01-01T00:00:00",
          "2014-01-01T00:00:00",
          "2015-01-01T00:00:00",
          "2016-01-01T00:00:00",
          "2017-01-01T00:00:00",
          "2018-01-01T00:00:00",
          "2019-01-01T00:00:00",
          "2020-01-01T00:00:00",
          "2021-01-01T00:00:00",
          "2022-01-01T00:00:00",
          "2023-01-01T00:00:00",
          "2024-01-01T00:00:00"
         ],
         "xaxis": "x",
         "y": [
          6,
          3,
          4,
          5,
          6,
          1,
          1,
          3,
          3,
          8,
          11,
          21,
          1,
          16,
          44,
          8,
          18,
          68,
          71,
          139,
          321,
          124,
          130,
          107
         ],
         "yaxis": "y"
        },
        {
         "hovertemplate": "state=VA<br>Year (2010-2023)=%{x}<br>EV Chargers per 1 Million People=%{y}<extra></extra>",
         "legendgroup": "VA",
         "line": {
          "color": "#FECB52",
          "dash": "solid"
         },
         "marker": {
          "symbol": "circle"
         },
         "mode": "lines",
         "name": "VA",
         "showlegend": true,
         "type": "scattergl",
         "x": [
          "1996-01-01T00:00:00",
          "1999-01-01T00:00:00",
          "2000-01-01T00:00:00",
          "2001-01-01T00:00:00",
          "2005-01-01T00:00:00",
          "2006-01-01T00:00:00",
          "2007-01-01T00:00:00",
          "2008-01-01T00:00:00",
          "2009-01-01T00:00:00",
          "2010-01-01T00:00:00",
          "2011-01-01T00:00:00",
          "2012-01-01T00:00:00",
          "2013-01-01T00:00:00",
          "2014-01-01T00:00:00",
          "2015-01-01T00:00:00",
          "2016-01-01T00:00:00",
          "2017-01-01T00:00:00",
          "2018-01-01T00:00:00",
          "2019-01-01T00:00:00",
          "2020-01-01T00:00:00",
          "2021-01-01T00:00:00",
          "2022-01-01T00:00:00",
          "2023-01-01T00:00:00",
          "2024-01-01T00:00:00"
         ],
         "xaxis": "x",
         "y": [
          2,
          1,
          14,
          1,
          2,
          1,
          1,
          1,
          6,
          1,
          42,
          51,
          29,
          54,
          74,
          97,
          87,
          118,
          123,
          138,
          341,
          260,
          401,
          352
         ],
         "yaxis": "y"
        },
        {
         "hovertemplate": "state=WY<br>Year (2010-2023)=%{x}<br>EV Chargers per 1 Million People=%{y}<extra></extra>",
         "legendgroup": "WY",
         "line": {
          "color": "#636efa",
          "dash": "solid"
         },
         "marker": {
          "symbol": "circle"
         },
         "mode": "lines",
         "name": "WY",
         "showlegend": true,
         "type": "scattergl",
         "x": [
          "1996-01-01T00:00:00",
          "1999-01-01T00:00:00",
          "2000-01-01T00:00:00",
          "2004-01-01T00:00:00",
          "2005-01-01T00:00:00",
          "2008-01-01T00:00:00",
          "2009-01-01T00:00:00",
          "2011-01-01T00:00:00",
          "2012-01-01T00:00:00",
          "2013-01-01T00:00:00",
          "2014-01-01T00:00:00",
          "2015-01-01T00:00:00",
          "2016-01-01T00:00:00",
          "2017-01-01T00:00:00",
          "2018-01-01T00:00:00",
          "2019-01-01T00:00:00",
          "2020-01-01T00:00:00",
          "2021-01-01T00:00:00",
          "2022-01-01T00:00:00",
          "2023-01-01T00:00:00",
          "2024-01-01T00:00:00"
         ],
         "xaxis": "x",
         "y": [
          2,
          3,
          1,
          1,
          1,
          1,
          1,
          2,
          4,
          2,
          9,
          16,
          6,
          17,
          11,
          5,
          4,
          10,
          17,
          24,
          18
         ],
         "yaxis": "y"
        },
        {
         "hovertemplate": "state=CT<br>Year (2010-2023)=%{x}<br>EV Chargers per 1 Million People=%{y}<extra></extra>",
         "legendgroup": "CT",
         "line": {
          "color": "#EF553B",
          "dash": "solid"
         },
         "marker": {
          "symbol": "circle"
         },
         "mode": "lines",
         "name": "CT",
         "showlegend": true,
         "type": "scattergl",
         "x": [
          "1997-01-01T00:00:00",
          "1999-01-01T00:00:00",
          "2000-01-01T00:00:00",
          "2007-01-01T00:00:00",
          "2010-01-01T00:00:00",
          "2011-01-01T00:00:00",
          "2012-01-01T00:00:00",
          "2013-01-01T00:00:00",
          "2014-01-01T00:00:00",
          "2015-01-01T00:00:00",
          "2016-01-01T00:00:00",
          "2017-01-01T00:00:00",
          "2018-01-01T00:00:00",
          "2019-01-01T00:00:00",
          "2020-01-01T00:00:00",
          "2021-01-01T00:00:00",
          "2022-01-01T00:00:00",
          "2023-01-01T00:00:00",
          "2024-01-01T00:00:00"
         ],
         "xaxis": "x",
         "y": [
          2,
          1,
          9,
          1,
          4,
          43,
          33,
          15,
          42,
          51,
          72,
          24,
          33,
          55,
          45,
          62,
          165,
          431,
          351
         ],
         "yaxis": "y"
        },
        {
         "hovertemplate": "state=MN<br>Year (2010-2023)=%{x}<br>EV Chargers per 1 Million People=%{y}<extra></extra>",
         "legendgroup": "MN",
         "line": {
          "color": "#00cc96",
          "dash": "solid"
         },
         "marker": {
          "symbol": "circle"
         },
         "mode": "lines",
         "name": "MN",
         "showlegend": true,
         "type": "scattergl",
         "x": [
          "1997-01-01T00:00:00",
          "1998-01-01T00:00:00",
          "1999-01-01T00:00:00",
          "2000-01-01T00:00:00",
          "2001-01-01T00:00:00",
          "2002-01-01T00:00:00",
          "2003-01-01T00:00:00",
          "2004-01-01T00:00:00",
          "2005-01-01T00:00:00",
          "2006-01-01T00:00:00",
          "2007-01-01T00:00:00",
          "2008-01-01T00:00:00",
          "2009-01-01T00:00:00",
          "2010-01-01T00:00:00",
          "2011-01-01T00:00:00",
          "2012-01-01T00:00:00",
          "2013-01-01T00:00:00",
          "2014-01-01T00:00:00",
          "2015-01-01T00:00:00",
          "2016-01-01T00:00:00",
          "2017-01-01T00:00:00",
          "2018-01-01T00:00:00",
          "2019-01-01T00:00:00",
          "2020-01-01T00:00:00",
          "2021-01-01T00:00:00",
          "2022-01-01T00:00:00",
          "2023-01-01T00:00:00",
          "2024-01-01T00:00:00",
          "2029-01-01T00:00:00"
         ],
         "xaxis": "x",
         "y": [
          3,
          1,
          5,
          14,
          5,
          5,
          6,
          5,
          26,
          27,
          20,
          9,
          7,
          13,
          19,
          33,
          32,
          33,
          64,
          51,
          95,
          103,
          92,
          216,
          191,
          223,
          208,
          257,
          1
         ],
         "yaxis": "y"
        },
        {
         "hovertemplate": "state=AL<br>Year (2010-2023)=%{x}<br>EV Chargers per 1 Million People=%{y}<extra></extra>",
         "legendgroup": "AL",
         "line": {
          "color": "#ab63fa",
          "dash": "solid"
         },
         "marker": {
          "symbol": "circle"
         },
         "mode": "lines",
         "name": "AL",
         "showlegend": true,
         "type": "scattergl",
         "x": [
          "1998-01-01T00:00:00",
          "1999-01-01T00:00:00",
          "2000-01-01T00:00:00",
          "2003-01-01T00:00:00",
          "2005-01-01T00:00:00",
          "2007-01-01T00:00:00",
          "2008-01-01T00:00:00",
          "2009-01-01T00:00:00",
          "2010-01-01T00:00:00",
          "2011-01-01T00:00:00",
          "2012-01-01T00:00:00",
          "2013-01-01T00:00:00",
          "2014-01-01T00:00:00",
          "2015-01-01T00:00:00",
          "2016-01-01T00:00:00",
          "2017-01-01T00:00:00",
          "2018-01-01T00:00:00",
          "2019-01-01T00:00:00",
          "2020-01-01T00:00:00",
          "2021-01-01T00:00:00",
          "2022-01-01T00:00:00",
          "2023-01-01T00:00:00",
          "2024-01-01T00:00:00"
         ],
         "xaxis": "x",
         "y": [
          1,
          10,
          10,
          1,
          3,
          2,
          1,
          22,
          2,
          8,
          36,
          9,
          12,
          38,
          15,
          50,
          17,
          19,
          36,
          50,
          107,
          116,
          136
         ],
         "yaxis": "y"
        },
        {
         "hovertemplate": "state=IL<br>Year (2010-2023)=%{x}<br>EV Chargers per 1 Million People=%{y}<extra></extra>",
         "legendgroup": "IL",
         "line": {
          "color": "#FFA15A",
          "dash": "solid"
         },
         "marker": {
          "symbol": "circle"
         },
         "mode": "lines",
         "name": "IL",
         "showlegend": true,
         "type": "scattergl",
         "x": [
          "1999-01-01T00:00:00",
          "2000-01-01T00:00:00",
          "2001-01-01T00:00:00",
          "2002-01-01T00:00:00",
          "2003-01-01T00:00:00",
          "2004-01-01T00:00:00",
          "2005-01-01T00:00:00",
          "2006-01-01T00:00:00",
          "2007-01-01T00:00:00",
          "2008-01-01T00:00:00",
          "2009-01-01T00:00:00",
          "2010-01-01T00:00:00",
          "2011-01-01T00:00:00",
          "2012-01-01T00:00:00",
          "2013-01-01T00:00:00",
          "2014-01-01T00:00:00",
          "2015-01-01T00:00:00",
          "2016-01-01T00:00:00",
          "2017-01-01T00:00:00",
          "2018-01-01T00:00:00",
          "2019-01-01T00:00:00",
          "2020-01-01T00:00:00",
          "2021-01-01T00:00:00",
          "2022-01-01T00:00:00",
          "2023-01-01T00:00:00",
          "2024-01-01T00:00:00"
         ],
         "xaxis": "x",
         "y": [
          7,
          12,
          2,
          10,
          2,
          2,
          12,
          10,
          7,
          16,
          14,
          11,
          35,
          92,
          47,
          49,
          79,
          71,
          86,
          113,
          110,
          145,
          330,
          361,
          602,
          299
         ],
         "yaxis": "y"
        },
        {
         "hovertemplate": "state=KY<br>Year (2010-2023)=%{x}<br>EV Chargers per 1 Million People=%{y}<extra></extra>",
         "legendgroup": "KY",
         "line": {
          "color": "#19d3f3",
          "dash": "solid"
         },
         "marker": {
          "symbol": "circle"
         },
         "mode": "lines",
         "name": "KY",
         "showlegend": true,
         "type": "scattergl",
         "x": [
          "1999-01-01T00:00:00",
          "2000-01-01T00:00:00",
          "2004-01-01T00:00:00",
          "2005-01-01T00:00:00",
          "2008-01-01T00:00:00",
          "2009-01-01T00:00:00",
          "2010-01-01T00:00:00",
          "2011-01-01T00:00:00",
          "2012-01-01T00:00:00",
          "2013-01-01T00:00:00",
          "2014-01-01T00:00:00",
          "2015-01-01T00:00:00",
          "2016-01-01T00:00:00",
          "2017-01-01T00:00:00",
          "2018-01-01T00:00:00",
          "2019-01-01T00:00:00",
          "2020-01-01T00:00:00",
          "2021-01-01T00:00:00",
          "2022-01-01T00:00:00",
          "2023-01-01T00:00:00",
          "2024-01-01T00:00:00"
         ],
         "xaxis": "x",
         "y": [
          1,
          2,
          1,
          1,
          2,
          3,
          8,
          3,
          30,
          25,
          13,
          20,
          19,
          25,
          15,
          20,
          30,
          66,
          54,
          62,
          80
         ],
         "yaxis": "y"
        },
        {
         "hovertemplate": "state=LA<br>Year (2010-2023)=%{x}<br>EV Chargers per 1 Million People=%{y}<extra></extra>",
         "legendgroup": "LA",
         "line": {
          "color": "#FF6692",
          "dash": "solid"
         },
         "marker": {
          "symbol": "circle"
         },
         "mode": "lines",
         "name": "LA",
         "showlegend": true,
         "type": "scattergl",
         "x": [
          "1999-01-01T00:00:00",
          "2000-01-01T00:00:00",
          "2003-01-01T00:00:00",
          "2007-01-01T00:00:00",
          "2010-01-01T00:00:00",
          "2011-01-01T00:00:00",
          "2012-01-01T00:00:00",
          "2013-01-01T00:00:00",
          "2014-01-01T00:00:00",
          "2015-01-01T00:00:00",
          "2016-01-01T00:00:00",
          "2017-01-01T00:00:00",
          "2018-01-01T00:00:00",
          "2019-01-01T00:00:00",
          "2020-01-01T00:00:00",
          "2021-01-01T00:00:00",
          "2022-01-01T00:00:00",
          "2023-01-01T00:00:00",
          "2024-01-01T00:00:00"
         ],
         "xaxis": "x",
         "y": [
          1,
          10,
          1,
          1,
          5,
          4,
          30,
          8,
          7,
          17,
          27,
          36,
          17,
          14,
          19,
          23,
          61,
          80,
          73
         ],
         "yaxis": "y"
        },
        {
         "hovertemplate": "state=ME<br>Year (2010-2023)=%{x}<br>EV Chargers per 1 Million People=%{y}<extra></extra>",
         "legendgroup": "ME",
         "line": {
          "color": "#B6E880",
          "dash": "solid"
         },
         "marker": {
          "symbol": "circle"
         },
         "mode": "lines",
         "name": "ME",
         "showlegend": true,
         "type": "scattergl",
         "x": [
          "1999-01-01T00:00:00",
          "2000-01-01T00:00:00",
          "2009-01-01T00:00:00",
          "2011-01-01T00:00:00",
          "2012-01-01T00:00:00",
          "2013-01-01T00:00:00",
          "2014-01-01T00:00:00",
          "2015-01-01T00:00:00",
          "2016-01-01T00:00:00",
          "2017-01-01T00:00:00",
          "2018-01-01T00:00:00",
          "2019-01-01T00:00:00",
          "2020-01-01T00:00:00",
          "2021-01-01T00:00:00",
          "2022-01-01T00:00:00",
          "2023-01-01T00:00:00",
          "2024-01-01T00:00:00"
         ],
         "xaxis": "x",
         "y": [
          1,
          1,
          2,
          2,
          16,
          1,
          21,
          30,
          37,
          18,
          23,
          28,
          30,
          70,
          120,
          93,
          56
         ],
         "yaxis": "y"
        },
        {
         "hovertemplate": "state=MS<br>Year (2010-2023)=%{x}<br>EV Chargers per 1 Million People=%{y}<extra></extra>",
         "legendgroup": "MS",
         "line": {
          "color": "#FF97FF",
          "dash": "solid"
         },
         "marker": {
          "symbol": "circle"
         },
         "mode": "lines",
         "name": "MS",
         "showlegend": true,
         "type": "scattergl",
         "x": [
          "1999-01-01T00:00:00",
          "2000-01-01T00:00:00",
          "2005-01-01T00:00:00",
          "2009-01-01T00:00:00",
          "2010-01-01T00:00:00",
          "2012-01-01T00:00:00",
          "2013-01-01T00:00:00",
          "2014-01-01T00:00:00",
          "2015-01-01T00:00:00",
          "2016-01-01T00:00:00",
          "2017-01-01T00:00:00",
          "2018-01-01T00:00:00",
          "2019-01-01T00:00:00",
          "2020-01-01T00:00:00",
          "2021-01-01T00:00:00",
          "2022-01-01T00:00:00",
          "2023-01-01T00:00:00",
          "2024-01-01T00:00:00"
         ],
         "xaxis": "x",
         "y": [
          10,
          2,
          8,
          3,
          6,
          25,
          27,
          4,
          13,
          8,
          18,
          10,
          12,
          17,
          16,
          20,
          48,
          44
         ],
         "yaxis": "y"
        },
        {
         "hovertemplate": "state=MT<br>Year (2010-2023)=%{x}<br>EV Chargers per 1 Million People=%{y}<extra></extra>",
         "legendgroup": "MT",
         "line": {
          "color": "#FECB52",
          "dash": "solid"
         },
         "marker": {
          "symbol": "circle"
         },
         "mode": "lines",
         "name": "MT",
         "showlegend": true,
         "type": "scattergl",
         "x": [
          "1999-01-01T00:00:00",
          "2000-01-01T00:00:00",
          "2006-01-01T00:00:00",
          "2009-01-01T00:00:00",
          "2010-01-01T00:00:00",
          "2012-01-01T00:00:00",
          "2013-01-01T00:00:00",
          "2014-01-01T00:00:00",
          "2015-01-01T00:00:00",
          "2016-01-01T00:00:00",
          "2017-01-01T00:00:00",
          "2018-01-01T00:00:00",
          "2019-01-01T00:00:00",
          "2020-01-01T00:00:00",
          "2021-01-01T00:00:00",
          "2022-01-01T00:00:00",
          "2023-01-01T00:00:00",
          "2024-01-01T00:00:00"
         ],
         "xaxis": "x",
         "y": [
          6,
          3,
          2,
          1,
          1,
          1,
          4,
          10,
          14,
          9,
          6,
          12,
          8,
          13,
          10,
          32,
          29,
          26
         ],
         "yaxis": "y"
        },
        {
         "hovertemplate": "state=NC<br>Year (2010-2023)=%{x}<br>EV Chargers per 1 Million People=%{y}<extra></extra>",
         "legendgroup": "NC",
         "line": {
          "color": "#636efa",
          "dash": "solid"
         },
         "marker": {
          "symbol": "circle"
         },
         "mode": "lines",
         "name": "NC",
         "showlegend": true,
         "type": "scattergl",
         "x": [
          "1999-01-01T00:00:00",
          "2000-01-01T00:00:00",
          "2003-01-01T00:00:00",
          "2004-01-01T00:00:00",
          "2005-01-01T00:00:00",
          "2007-01-01T00:00:00",
          "2008-01-01T00:00:00",
          "2009-01-01T00:00:00",
          "2010-01-01T00:00:00",
          "2011-01-01T00:00:00",
          "2012-01-01T00:00:00",
          "2013-01-01T00:00:00",
          "2014-01-01T00:00:00",
          "2015-01-01T00:00:00",
          "2016-01-01T00:00:00",
          "2017-01-01T00:00:00",
          "2018-01-01T00:00:00",
          "2019-01-01T00:00:00",
          "2020-01-01T00:00:00",
          "2021-01-01T00:00:00",
          "2022-01-01T00:00:00",
          "2023-01-01T00:00:00",
          "2024-01-01T00:00:00"
         ],
         "xaxis": "x",
         "y": [
          5,
          5,
          19,
          3,
          6,
          7,
          4,
          81,
          11,
          36,
          89,
          33,
          37,
          66,
          78,
          101,
          85,
          113,
          130,
          318,
          268,
          409,
          394
         ],
         "yaxis": "y"
        },
        {
         "hovertemplate": "state=ND<br>Year (2010-2023)=%{x}<br>EV Chargers per 1 Million People=%{y}<extra></extra>",
         "legendgroup": "ND",
         "line": {
          "color": "#EF553B",
          "dash": "solid"
         },
         "marker": {
          "symbol": "circle"
         },
         "mode": "lines",
         "name": "ND",
         "showlegend": true,
         "type": "scattergl",
         "x": [
          "1999-01-01T00:00:00",
          "2002-01-01T00:00:00",
          "2004-01-01T00:00:00",
          "2005-01-01T00:00:00",
          "2008-01-01T00:00:00",
          "2009-01-01T00:00:00",
          "2010-01-01T00:00:00",
          "2011-01-01T00:00:00",
          "2012-01-01T00:00:00",
          "2014-01-01T00:00:00",
          "2015-01-01T00:00:00",
          "2016-01-01T00:00:00",
          "2017-01-01T00:00:00",
          "2018-01-01T00:00:00",
          "2019-01-01T00:00:00",
          "2020-01-01T00:00:00",
          "2021-01-01T00:00:00",
          "2022-01-01T00:00:00",
          "2023-01-01T00:00:00",
          "2024-01-01T00:00:00"
         ],
         "xaxis": "x",
         "y": [
          5,
          2,
          2,
          3,
          1,
          3,
          4,
          3,
          7,
          5,
          7,
          2,
          3,
          10,
          12,
          23,
          26,
          11,
          21,
          14
         ],
         "yaxis": "y"
        },
        {
         "hovertemplate": "state=NJ<br>Year (2010-2023)=%{x}<br>EV Chargers per 1 Million People=%{y}<extra></extra>",
         "legendgroup": "NJ",
         "line": {
          "color": "#00cc96",
          "dash": "solid"
         },
         "marker": {
          "symbol": "circle"
         },
         "mode": "lines",
         "name": "NJ",
         "showlegend": true,
         "type": "scattergl",
         "x": [
          "1999-01-01T00:00:00",
          "2000-01-01T00:00:00",
          "2002-01-01T00:00:00",
          "2005-01-01T00:00:00",
          "2007-01-01T00:00:00",
          "2008-01-01T00:00:00",
          "2009-01-01T00:00:00",
          "2010-01-01T00:00:00",
          "2011-01-01T00:00:00",
          "2012-01-01T00:00:00",
          "2013-01-01T00:00:00",
          "2014-01-01T00:00:00",
          "2015-01-01T00:00:00",
          "2016-01-01T00:00:00",
          "2017-01-01T00:00:00",
          "2018-01-01T00:00:00",
          "2019-01-01T00:00:00",
          "2020-01-01T00:00:00",
          "2021-01-01T00:00:00",
          "2022-01-01T00:00:00",
          "2023-01-01T00:00:00",
          "2024-01-01T00:00:00"
         ],
         "xaxis": "x",
         "y": [
          2,
          2,
          2,
          1,
          1,
          1,
          2,
          5,
          4,
          54,
          8,
          23,
          31,
          29,
          35,
          50,
          108,
          90,
          208,
          363,
          380,
          382
         ],
         "yaxis": "y"
        },
        {
         "hovertemplate": "state=RI<br>Year (2010-2023)=%{x}<br>EV Chargers per 1 Million People=%{y}<extra></extra>",
         "legendgroup": "RI",
         "line": {
          "color": "#ab63fa",
          "dash": "solid"
         },
         "marker": {
          "symbol": "circle"
         },
         "mode": "lines",
         "name": "RI",
         "showlegend": true,
         "type": "scattergl",
         "x": [
          "1999-01-01T00:00:00",
          "2000-01-01T00:00:00",
          "2004-01-01T00:00:00",
          "2011-01-01T00:00:00",
          "2012-01-01T00:00:00",
          "2013-01-01T00:00:00",
          "2014-01-01T00:00:00",
          "2015-01-01T00:00:00",
          "2016-01-01T00:00:00",
          "2017-01-01T00:00:00",
          "2018-01-01T00:00:00",
          "2019-01-01T00:00:00",
          "2020-01-01T00:00:00",
          "2021-01-01T00:00:00",
          "2022-01-01T00:00:00",
          "2023-01-01T00:00:00",
          "2024-01-01T00:00:00"
         ],
         "xaxis": "x",
         "y": [
          1,
          1,
          1,
          3,
          6,
          14,
          5,
          5,
          3,
          3,
          34,
          26,
          33,
          109,
          67,
          39,
          51
         ],
         "yaxis": "y"
        },
        {
         "hovertemplate": "state=HI<br>Year (2010-2023)=%{x}<br>EV Chargers per 1 Million People=%{y}<extra></extra>",
         "legendgroup": "HI",
         "line": {
          "color": "#FFA15A",
          "dash": "solid"
         },
         "marker": {
          "symbol": "circle"
         },
         "mode": "lines",
         "name": "HI",
         "showlegend": true,
         "type": "scattergl",
         "x": [
          "2000-01-01T00:00:00",
          "2006-01-01T00:00:00",
          "2009-01-01T00:00:00",
          "2011-01-01T00:00:00",
          "2012-01-01T00:00:00",
          "2013-01-01T00:00:00",
          "2014-01-01T00:00:00",
          "2015-01-01T00:00:00",
          "2016-01-01T00:00:00",
          "2017-01-01T00:00:00",
          "2018-01-01T00:00:00",
          "2019-01-01T00:00:00",
          "2020-01-01T00:00:00",
          "2021-01-01T00:00:00",
          "2022-01-01T00:00:00",
          "2023-01-01T00:00:00",
          "2024-01-01T00:00:00"
         ],
         "xaxis": "x",
         "y": [
          1,
          1,
          1,
          13,
          48,
          20,
          8,
          16,
          12,
          20,
          8,
          26,
          37,
          75,
          56,
          41,
          55
         ],
         "yaxis": "y"
        },
        {
         "hovertemplate": "state=NH<br>Year (2010-2023)=%{x}<br>EV Chargers per 1 Million People=%{y}<extra></extra>",
         "legendgroup": "NH",
         "line": {
          "color": "#19d3f3",
          "dash": "solid"
         },
         "marker": {
          "symbol": "circle"
         },
         "mode": "lines",
         "name": "NH",
         "showlegend": true,
         "type": "scattergl",
         "x": [
          "2000-01-01T00:00:00",
          "2002-01-01T00:00:00",
          "2007-01-01T00:00:00",
          "2011-01-01T00:00:00",
          "2012-01-01T00:00:00",
          "2013-01-01T00:00:00",
          "2014-01-01T00:00:00",
          "2015-01-01T00:00:00",
          "2016-01-01T00:00:00",
          "2017-01-01T00:00:00",
          "2018-01-01T00:00:00",
          "2019-01-01T00:00:00",
          "2020-01-01T00:00:00",
          "2021-01-01T00:00:00",
          "2022-01-01T00:00:00",
          "2023-01-01T00:00:00",
          "2024-01-01T00:00:00"
         ],
         "xaxis": "x",
         "y": [
          4,
          1,
          1,
          18,
          2,
          7,
          15,
          30,
          22,
          7,
          21,
          9,
          12,
          30,
          53,
          56,
          55
         ],
         "yaxis": "y"
        },
        {
         "hovertemplate": "state=WV<br>Year (2010-2023)=%{x}<br>EV Chargers per 1 Million People=%{y}<extra></extra>",
         "legendgroup": "WV",
         "line": {
          "color": "#FF6692",
          "dash": "solid"
         },
         "marker": {
          "symbol": "circle"
         },
         "mode": "lines",
         "name": "WV",
         "showlegend": true,
         "type": "scattergl",
         "x": [
          "2000-01-01T00:00:00",
          "2007-01-01T00:00:00",
          "2010-01-01T00:00:00",
          "2011-01-01T00:00:00",
          "2012-01-01T00:00:00",
          "2013-01-01T00:00:00",
          "2014-01-01T00:00:00",
          "2015-01-01T00:00:00",
          "2016-01-01T00:00:00",
          "2017-01-01T00:00:00",
          "2018-01-01T00:00:00",
          "2019-01-01T00:00:00",
          "2020-01-01T00:00:00",
          "2021-01-01T00:00:00",
          "2022-01-01T00:00:00",
          "2023-01-01T00:00:00",
          "2024-01-01T00:00:00"
         ],
         "xaxis": "x",
         "y": [
          3,
          1,
          1,
          3,
          10,
          4,
          9,
          6,
          8,
          54,
          6,
          5,
          12,
          26,
          33,
          20,
          37
         ],
         "yaxis": "y"
        },
        {
         "hovertemplate": "state=DC<br>Year (2010-2023)=%{x}<br>EV Chargers per 1 Million People=%{y}<extra></extra>",
         "legendgroup": "DC",
         "line": {
          "color": "#B6E880",
          "dash": "solid"
         },
         "marker": {
          "symbol": "circle"
         },
         "mode": "lines",
         "name": "DC",
         "showlegend": true,
         "type": "scattergl",
         "x": [
          "2001-01-01T00:00:00",
          "2006-01-01T00:00:00",
          "2010-01-01T00:00:00",
          "2011-01-01T00:00:00",
          "2012-01-01T00:00:00",
          "2013-01-01T00:00:00",
          "2014-01-01T00:00:00",
          "2015-01-01T00:00:00",
          "2016-01-01T00:00:00",
          "2017-01-01T00:00:00",
          "2018-01-01T00:00:00",
          "2019-01-01T00:00:00",
          "2020-01-01T00:00:00",
          "2021-01-01T00:00:00",
          "2022-01-01T00:00:00",
          "2023-01-01T00:00:00",
          "2024-01-01T00:00:00"
         ],
         "xaxis": "x",
         "y": [
          2,
          3,
          1,
          13,
          9,
          4,
          7,
          26,
          15,
          21,
          30,
          39,
          29,
          110,
          55,
          55,
          30
         ],
         "yaxis": "y"
        },
        {
         "hovertemplate": "state=VT<br>Year (2010-2023)=%{x}<br>EV Chargers per 1 Million People=%{y}<extra></extra>",
         "legendgroup": "VT",
         "line": {
          "color": "#FF97FF",
          "dash": "solid"
         },
         "marker": {
          "symbol": "circle"
         },
         "mode": "lines",
         "name": "VT",
         "showlegend": true,
         "type": "scattergl",
         "x": [
          "2004-01-01T00:00:00",
          "2006-01-01T00:00:00",
          "2007-01-01T00:00:00",
          "2011-01-01T00:00:00",
          "2012-01-01T00:00:00",
          "2013-01-01T00:00:00",
          "2014-01-01T00:00:00",
          "2015-01-01T00:00:00",
          "2016-01-01T00:00:00",
          "2017-01-01T00:00:00",
          "2018-01-01T00:00:00",
          "2019-01-01T00:00:00",
          "2020-01-01T00:00:00",
          "2021-01-01T00:00:00",
          "2022-01-01T00:00:00",
          "2023-01-01T00:00:00",
          "2024-01-01T00:00:00"
         ],
         "xaxis": "x",
         "y": [
          1,
          1,
          1,
          1,
          5,
          7,
          20,
          21,
          32,
          19,
          37,
          30,
          29,
          79,
          67,
          50,
          84
         ],
         "yaxis": "y"
        },
        {
         "hovertemplate": "state=AK<br>Year (2010-2023)=%{x}<br>EV Chargers per 1 Million People=%{y}<extra></extra>",
         "legendgroup": "AK",
         "line": {
          "color": "#FECB52",
          "dash": "solid"
         },
         "marker": {
          "symbol": "circle"
         },
         "mode": "lines",
         "name": "AK",
         "showlegend": true,
         "type": "scattergl",
         "x": [
          "2005-01-01T00:00:00",
          "2014-01-01T00:00:00",
          "2015-01-01T00:00:00",
          "2017-01-01T00:00:00",
          "2018-01-01T00:00:00",
          "2019-01-01T00:00:00",
          "2020-01-01T00:00:00",
          "2021-01-01T00:00:00",
          "2022-01-01T00:00:00",
          "2023-01-01T00:00:00",
          "2024-01-01T00:00:00"
         ],
         "xaxis": "x",
         "y": [
          1,
          1,
          2,
          4,
          7,
          4,
          15,
          15,
          14,
          5,
          7
         ],
         "yaxis": "y"
        },
        {
         "hovertemplate": "state=DE<br>Year (2010-2023)=%{x}<br>EV Chargers per 1 Million People=%{y}<extra></extra>",
         "legendgroup": "DE",
         "line": {
          "color": "#636efa",
          "dash": "solid"
         },
         "marker": {
          "symbol": "circle"
         },
         "mode": "lines",
         "name": "DE",
         "showlegend": true,
         "type": "scattergl",
         "x": [
          "2007-01-01T00:00:00",
          "2012-01-01T00:00:00",
          "2013-01-01T00:00:00",
          "2014-01-01T00:00:00",
          "2015-01-01T00:00:00",
          "2016-01-01T00:00:00",
          "2017-01-01T00:00:00",
          "2018-01-01T00:00:00",
          "2019-01-01T00:00:00",
          "2020-01-01T00:00:00",
          "2021-01-01T00:00:00",
          "2022-01-01T00:00:00",
          "2023-01-01T00:00:00",
          "2024-01-01T00:00:00"
         ],
         "xaxis": "x",
         "y": [
          1,
          7,
          4,
          4,
          8,
          4,
          19,
          5,
          17,
          21,
          57,
          40,
          54,
          52
         ],
         "yaxis": "y"
        },
        {
         "hovertemplate": "state=PR<br>Year (2010-2023)=%{x}<br>EV Chargers per 1 Million People=%{y}<extra></extra>",
         "legendgroup": "PR",
         "line": {
          "color": "#EF553B",
          "dash": "solid"
         },
         "marker": {
          "symbol": "circle"
         },
         "mode": "lines",
         "name": "PR",
         "showlegend": true,
         "type": "scattergl",
         "x": [
          "2014-01-01T00:00:00",
          "2021-01-01T00:00:00",
          "2022-01-01T00:00:00",
          "2023-01-01T00:00:00",
          "2024-01-01T00:00:00"
         ],
         "xaxis": "x",
         "y": [
          1,
          2,
          8,
          1,
          6
         ],
         "yaxis": "y"
        }
       ],
       "layout": {
        "height": 700,
        "legend": {
         "title": {
          "text": "state"
         },
         "tracegroupgap": 0
        },
        "template": {
         "data": {
          "bar": [
           {
            "error_x": {
             "color": "#2a3f5f"
            },
            "error_y": {
             "color": "#2a3f5f"
            },
            "marker": {
             "line": {
              "color": "#E5ECF6",
              "width": 0.5
             },
             "pattern": {
              "fillmode": "overlay",
              "size": 10,
              "solidity": 0.2
             }
            },
            "type": "bar"
           }
          ],
          "barpolar": [
           {
            "marker": {
             "line": {
              "color": "#E5ECF6",
              "width": 0.5
             },
             "pattern": {
              "fillmode": "overlay",
              "size": 10,
              "solidity": 0.2
             }
            },
            "type": "barpolar"
           }
          ],
          "carpet": [
           {
            "aaxis": {
             "endlinecolor": "#2a3f5f",
             "gridcolor": "white",
             "linecolor": "white",
             "minorgridcolor": "white",
             "startlinecolor": "#2a3f5f"
            },
            "baxis": {
             "endlinecolor": "#2a3f5f",
             "gridcolor": "white",
             "linecolor": "white",
             "minorgridcolor": "white",
             "startlinecolor": "#2a3f5f"
            },
            "type": "carpet"
           }
          ],
          "choropleth": [
           {
            "colorbar": {
             "outlinewidth": 0,
             "ticks": ""
            },
            "type": "choropleth"
           }
          ],
          "contour": [
           {
            "colorbar": {
             "outlinewidth": 0,
             "ticks": ""
            },
            "colorscale": [
             [
              0,
              "#0d0887"
             ],
             [
              0.1111111111111111,
              "#46039f"
             ],
             [
              0.2222222222222222,
              "#7201a8"
             ],
             [
              0.3333333333333333,
              "#9c179e"
             ],
             [
              0.4444444444444444,
              "#bd3786"
             ],
             [
              0.5555555555555556,
              "#d8576b"
             ],
             [
              0.6666666666666666,
              "#ed7953"
             ],
             [
              0.7777777777777778,
              "#fb9f3a"
             ],
             [
              0.8888888888888888,
              "#fdca26"
             ],
             [
              1,
              "#f0f921"
             ]
            ],
            "type": "contour"
           }
          ],
          "contourcarpet": [
           {
            "colorbar": {
             "outlinewidth": 0,
             "ticks": ""
            },
            "type": "contourcarpet"
           }
          ],
          "heatmap": [
           {
            "colorbar": {
             "outlinewidth": 0,
             "ticks": ""
            },
            "colorscale": [
             [
              0,
              "#0d0887"
             ],
             [
              0.1111111111111111,
              "#46039f"
             ],
             [
              0.2222222222222222,
              "#7201a8"
             ],
             [
              0.3333333333333333,
              "#9c179e"
             ],
             [
              0.4444444444444444,
              "#bd3786"
             ],
             [
              0.5555555555555556,
              "#d8576b"
             ],
             [
              0.6666666666666666,
              "#ed7953"
             ],
             [
              0.7777777777777778,
              "#fb9f3a"
             ],
             [
              0.8888888888888888,
              "#fdca26"
             ],
             [
              1,
              "#f0f921"
             ]
            ],
            "type": "heatmap"
           }
          ],
          "heatmapgl": [
           {
            "colorbar": {
             "outlinewidth": 0,
             "ticks": ""
            },
            "colorscale": [
             [
              0,
              "#0d0887"
             ],
             [
              0.1111111111111111,
              "#46039f"
             ],
             [
              0.2222222222222222,
              "#7201a8"
             ],
             [
              0.3333333333333333,
              "#9c179e"
             ],
             [
              0.4444444444444444,
              "#bd3786"
             ],
             [
              0.5555555555555556,
              "#d8576b"
             ],
             [
              0.6666666666666666,
              "#ed7953"
             ],
             [
              0.7777777777777778,
              "#fb9f3a"
             ],
             [
              0.8888888888888888,
              "#fdca26"
             ],
             [
              1,
              "#f0f921"
             ]
            ],
            "type": "heatmapgl"
           }
          ],
          "histogram": [
           {
            "marker": {
             "pattern": {
              "fillmode": "overlay",
              "size": 10,
              "solidity": 0.2
             }
            },
            "type": "histogram"
           }
          ],
          "histogram2d": [
           {
            "colorbar": {
             "outlinewidth": 0,
             "ticks": ""
            },
            "colorscale": [
             [
              0,
              "#0d0887"
             ],
             [
              0.1111111111111111,
              "#46039f"
             ],
             [
              0.2222222222222222,
              "#7201a8"
             ],
             [
              0.3333333333333333,
              "#9c179e"
             ],
             [
              0.4444444444444444,
              "#bd3786"
             ],
             [
              0.5555555555555556,
              "#d8576b"
             ],
             [
              0.6666666666666666,
              "#ed7953"
             ],
             [
              0.7777777777777778,
              "#fb9f3a"
             ],
             [
              0.8888888888888888,
              "#fdca26"
             ],
             [
              1,
              "#f0f921"
             ]
            ],
            "type": "histogram2d"
           }
          ],
          "histogram2dcontour": [
           {
            "colorbar": {
             "outlinewidth": 0,
             "ticks": ""
            },
            "colorscale": [
             [
              0,
              "#0d0887"
             ],
             [
              0.1111111111111111,
              "#46039f"
             ],
             [
              0.2222222222222222,
              "#7201a8"
             ],
             [
              0.3333333333333333,
              "#9c179e"
             ],
             [
              0.4444444444444444,
              "#bd3786"
             ],
             [
              0.5555555555555556,
              "#d8576b"
             ],
             [
              0.6666666666666666,
              "#ed7953"
             ],
             [
              0.7777777777777778,
              "#fb9f3a"
             ],
             [
              0.8888888888888888,
              "#fdca26"
             ],
             [
              1,
              "#f0f921"
             ]
            ],
            "type": "histogram2dcontour"
           }
          ],
          "mesh3d": [
           {
            "colorbar": {
             "outlinewidth": 0,
             "ticks": ""
            },
            "type": "mesh3d"
           }
          ],
          "parcoords": [
           {
            "line": {
             "colorbar": {
              "outlinewidth": 0,
              "ticks": ""
             }
            },
            "type": "parcoords"
           }
          ],
          "pie": [
           {
            "automargin": true,
            "type": "pie"
           }
          ],
          "scatter": [
           {
            "fillpattern": {
             "fillmode": "overlay",
             "size": 10,
             "solidity": 0.2
            },
            "type": "scatter"
           }
          ],
          "scatter3d": [
           {
            "line": {
             "colorbar": {
              "outlinewidth": 0,
              "ticks": ""
             }
            },
            "marker": {
             "colorbar": {
              "outlinewidth": 0,
              "ticks": ""
             }
            },
            "type": "scatter3d"
           }
          ],
          "scattercarpet": [
           {
            "marker": {
             "colorbar": {
              "outlinewidth": 0,
              "ticks": ""
             }
            },
            "type": "scattercarpet"
           }
          ],
          "scattergeo": [
           {
            "marker": {
             "colorbar": {
              "outlinewidth": 0,
              "ticks": ""
             }
            },
            "type": "scattergeo"
           }
          ],
          "scattergl": [
           {
            "marker": {
             "colorbar": {
              "outlinewidth": 0,
              "ticks": ""
             }
            },
            "type": "scattergl"
           }
          ],
          "scattermapbox": [
           {
            "marker": {
             "colorbar": {
              "outlinewidth": 0,
              "ticks": ""
             }
            },
            "type": "scattermapbox"
           }
          ],
          "scatterpolar": [
           {
            "marker": {
             "colorbar": {
              "outlinewidth": 0,
              "ticks": ""
             }
            },
            "type": "scatterpolar"
           }
          ],
          "scatterpolargl": [
           {
            "marker": {
             "colorbar": {
              "outlinewidth": 0,
              "ticks": ""
             }
            },
            "type": "scatterpolargl"
           }
          ],
          "scatterternary": [
           {
            "marker": {
             "colorbar": {
              "outlinewidth": 0,
              "ticks": ""
             }
            },
            "type": "scatterternary"
           }
          ],
          "surface": [
           {
            "colorbar": {
             "outlinewidth": 0,
             "ticks": ""
            },
            "colorscale": [
             [
              0,
              "#0d0887"
             ],
             [
              0.1111111111111111,
              "#46039f"
             ],
             [
              0.2222222222222222,
              "#7201a8"
             ],
             [
              0.3333333333333333,
              "#9c179e"
             ],
             [
              0.4444444444444444,
              "#bd3786"
             ],
             [
              0.5555555555555556,
              "#d8576b"
             ],
             [
              0.6666666666666666,
              "#ed7953"
             ],
             [
              0.7777777777777778,
              "#fb9f3a"
             ],
             [
              0.8888888888888888,
              "#fdca26"
             ],
             [
              1,
              "#f0f921"
             ]
            ],
            "type": "surface"
           }
          ],
          "table": [
           {
            "cells": {
             "fill": {
              "color": "#EBF0F8"
             },
             "line": {
              "color": "white"
             }
            },
            "header": {
             "fill": {
              "color": "#C8D4E3"
             },
             "line": {
              "color": "white"
             }
            },
            "type": "table"
           }
          ]
         },
         "layout": {
          "annotationdefaults": {
           "arrowcolor": "#2a3f5f",
           "arrowhead": 0,
           "arrowwidth": 1
          },
          "autotypenumbers": "strict",
          "coloraxis": {
           "colorbar": {
            "outlinewidth": 0,
            "ticks": ""
           }
          },
          "colorscale": {
           "diverging": [
            [
             0,
             "#8e0152"
            ],
            [
             0.1,
             "#c51b7d"
            ],
            [
             0.2,
             "#de77ae"
            ],
            [
             0.3,
             "#f1b6da"
            ],
            [
             0.4,
             "#fde0ef"
            ],
            [
             0.5,
             "#f7f7f7"
            ],
            [
             0.6,
             "#e6f5d0"
            ],
            [
             0.7,
             "#b8e186"
            ],
            [
             0.8,
             "#7fbc41"
            ],
            [
             0.9,
             "#4d9221"
            ],
            [
             1,
             "#276419"
            ]
           ],
           "sequential": [
            [
             0,
             "#0d0887"
            ],
            [
             0.1111111111111111,
             "#46039f"
            ],
            [
             0.2222222222222222,
             "#7201a8"
            ],
            [
             0.3333333333333333,
             "#9c179e"
            ],
            [
             0.4444444444444444,
             "#bd3786"
            ],
            [
             0.5555555555555556,
             "#d8576b"
            ],
            [
             0.6666666666666666,
             "#ed7953"
            ],
            [
             0.7777777777777778,
             "#fb9f3a"
            ],
            [
             0.8888888888888888,
             "#fdca26"
            ],
            [
             1,
             "#f0f921"
            ]
           ],
           "sequentialminus": [
            [
             0,
             "#0d0887"
            ],
            [
             0.1111111111111111,
             "#46039f"
            ],
            [
             0.2222222222222222,
             "#7201a8"
            ],
            [
             0.3333333333333333,
             "#9c179e"
            ],
            [
             0.4444444444444444,
             "#bd3786"
            ],
            [
             0.5555555555555556,
             "#d8576b"
            ],
            [
             0.6666666666666666,
             "#ed7953"
            ],
            [
             0.7777777777777778,
             "#fb9f3a"
            ],
            [
             0.8888888888888888,
             "#fdca26"
            ],
            [
             1,
             "#f0f921"
            ]
           ]
          },
          "colorway": [
           "#636efa",
           "#EF553B",
           "#00cc96",
           "#ab63fa",
           "#FFA15A",
           "#19d3f3",
           "#FF6692",
           "#B6E880",
           "#FF97FF",
           "#FECB52"
          ],
          "font": {
           "color": "#2a3f5f"
          },
          "geo": {
           "bgcolor": "white",
           "lakecolor": "white",
           "landcolor": "#E5ECF6",
           "showlakes": true,
           "showland": true,
           "subunitcolor": "white"
          },
          "hoverlabel": {
           "align": "left"
          },
          "hovermode": "closest",
          "mapbox": {
           "style": "light"
          },
          "paper_bgcolor": "white",
          "plot_bgcolor": "#E5ECF6",
          "polar": {
           "angularaxis": {
            "gridcolor": "white",
            "linecolor": "white",
            "ticks": ""
           },
           "bgcolor": "#E5ECF6",
           "radialaxis": {
            "gridcolor": "white",
            "linecolor": "white",
            "ticks": ""
           }
          },
          "scene": {
           "xaxis": {
            "backgroundcolor": "#E5ECF6",
            "gridcolor": "white",
            "gridwidth": 2,
            "linecolor": "white",
            "showbackground": true,
            "ticks": "",
            "zerolinecolor": "white"
           },
           "yaxis": {
            "backgroundcolor": "#E5ECF6",
            "gridcolor": "white",
            "gridwidth": 2,
            "linecolor": "white",
            "showbackground": true,
            "ticks": "",
            "zerolinecolor": "white"
           },
           "zaxis": {
            "backgroundcolor": "#E5ECF6",
            "gridcolor": "white",
            "gridwidth": 2,
            "linecolor": "white",
            "showbackground": true,
            "ticks": "",
            "zerolinecolor": "white"
           }
          },
          "shapedefaults": {
           "line": {
            "color": "#2a3f5f"
           }
          },
          "ternary": {
           "aaxis": {
            "gridcolor": "white",
            "linecolor": "white",
            "ticks": ""
           },
           "baxis": {
            "gridcolor": "white",
            "linecolor": "white",
            "ticks": ""
           },
           "bgcolor": "#E5ECF6",
           "caxis": {
            "gridcolor": "white",
            "linecolor": "white",
            "ticks": ""
           }
          },
          "title": {
           "x": 0.05
          },
          "xaxis": {
           "automargin": true,
           "gridcolor": "white",
           "linecolor": "white",
           "ticks": "",
           "title": {
            "standoff": 15
           },
           "zerolinecolor": "white",
           "zerolinewidth": 2
          },
          "yaxis": {
           "automargin": true,
           "gridcolor": "white",
           "linecolor": "white",
           "ticks": "",
           "title": {
            "standoff": 15
           },
           "zerolinecolor": "white",
           "zerolinewidth": 2
          }
         }
        },
        "title": {
         "text": "EV Chargers Over Time by State"
        },
        "width": 700,
        "xaxis": {
         "anchor": "y",
         "domain": [
          0,
          1
         ],
         "range": [
          "2010-01-01",
          "2023-01-01"
         ],
         "title": {
          "text": "Year (2010-2023)"
         },
         "type": "date"
        },
        "yaxis": {
         "anchor": "x",
         "autorange": true,
         "domain": [
          0,
          1
         ],
         "range": [
          -332.11111111111114,
          6330.111111111111
         ],
         "title": {
          "text": "EV Chargers per 1 Million People"
         },
         "type": "linear"
        }
       }
      },
      "image/png": "[encoded data removed]",
      "text/html": [
       "<div>                            <div id=\"6c5f27bb-916d-49dc-bc14-9182c45709ca\" class=\"plotly-graph-div\" style=\"height:700px; width:700px;\"></div>            <script type=\"text/javascript\">                require([\"plotly\"], function(Plotly) {                    window.PLOTLYENV=window.PLOTLYENV || {};                                    if (document.getElementById(\"6c5f27bb-916d-49dc-bc14-9182c45709ca\")) {                    Plotly.newPlot(                        \"6c5f27bb-916d-49dc-bc14-9182c45709ca\",                        [{\"hovertemplate\":\"state=MI\\u003cbr\\u003eYear (2010-2023)=%{x}\\u003cbr\\u003eEV Chargers per 1 Million People=%{y}\\u003cextra\\u003e\\u003c\\u002fextra\\u003e\",\"legendgroup\":\"MI\",\"line\":{\"color\":\"#636efa\",\"dash\":\"solid\"},\"marker\":{\"symbol\":\"circle\"},\"mode\":\"lines\",\"name\":\"MI\",\"showlegend\":true,\"x\":[\"1976-01-01T00:00:00\",\"1977-01-01T00:00:00\",\"1984-01-01T00:00:00\",\"1990-01-01T00:00:00\",\"1995-01-01T00:00:00\",\"1999-01-01T00:00:00\",\"2000-01-01T00:00:00\",\"2001-01-01T00:00:00\",\"2002-01-01T00:00:00\",\"2005-01-01T00:00:00\",\"2006-01-01T00:00:00\",\"2007-01-01T00:00:00\",\"2008-01-01T00:00:00\",\"2009-01-01T00:00:00\",\"2010-01-01T00:00:00\",\"2011-01-01T00:00:00\",\"2012-01-01T00:00:00\",\"2013-01-01T00:00:00\",\"2014-01-01T00:00:00\",\"2015-01-01T00:00:00\",\"2016-01-01T00:00:00\",\"2017-01-01T00:00:00\",\"2018-01-01T00:00:00\",\"2019-01-01T00:00:00\",\"2020-01-01T00:00:00\",\"2021-01-01T00:00:00\",\"2022-01-01T00:00:00\",\"2023-01-01T00:00:00\",\"2024-01-01T00:00:00\"],\"xaxis\":\"x\",\"y\":[1,1,1,2,2,15,17,1,1,2,14,22,10,14,18,41,31,47,68,77,59,37,68,67,92,308,426,382,323],\"yaxis\":\"y\",\"type\":\"scattergl\"},{\"hovertemplate\":\"state=OH\\u003cbr\\u003eYear (2010-2023)=%{x}\\u003cbr\\u003eEV Chargers per 1 Million People=%{y}\\u003cextra\\u003e\\u003c\\u002fextra\\u003e\",\"legendgroup\":\"OH\",\"line\":{\"color\":\"#EF553B\",\"dash\":\"solid\"},\"marker\":{\"symbol\":\"circle\"},\"mode\":\"lines\",\"name\":\"OH\",\"showlegend\":true,\"x\":[\"1976-01-01T00:00:00\",\"1986-01-01T00:00:00\",\"1993-01-01T00:00:00\",\"1999-01-01T00:00:00\",\"2000-01-01T00:00:00\",\"2004-01-01T00:00:00\",\"2005-01-01T00:00:00\",\"2006-01-01T00:00:00\",\"2007-01-01T00:00:00\",\"2008-01-01T00:00:00\",\"2009-01-01T00:00:00\",\"2010-01-01T00:00:00\",\"2011-01-01T00:00:00\",\"2012-01-01T00:00:00\",\"2013-01-01T00:00:00\",\"2014-01-01T00:00:00\",\"2015-01-01T00:00:00\",\"2016-01-01T00:00:00\",\"2017-01-01T00:00:00\",\"2018-01-01T00:00:00\",\"2019-01-01T00:00:00\",\"2020-01-01T00:00:00\",\"2021-01-01T00:00:00\",\"2022-01-01T00:00:00\",\"2023-01-01T00:00:00\",\"2024-01-01T00:00:00\"],\"xaxis\":\"x\",\"y\":[1,1,1,6,24,3,3,6,9,11,4,2,32,81,29,70,75,75,66,69,119,131,346,413,366,337],\"yaxis\":\"y\",\"type\":\"scattergl\"},{\"hovertemplate\":\"state=MD\\u003cbr\\u003eYear (2010-2023)=%{x}\\u003cbr\\u003eEV Chargers per 1 Million People=%{y}\\u003cextra\\u003e\\u003c\\u002fextra\\u003e\",\"legendgroup\":\"MD\",\"line\":{\"color\":\"#00cc96\",\"dash\":\"solid\"},\"marker\":{\"symbol\":\"circle\"},\"mode\":\"lines\",\"name\":\"MD\",\"showlegend\":true,\"x\":[\"1978-01-01T00:00:00\",\"1996-01-01T00:00:00\",\"1999-01-01T00:00:00\",\"2000-01-01T00:00:00\",\"2004-01-01T00:00:00\",\"2005-01-01T00:00:00\",\"2006-01-01T00:00:00\",\"2007-01-01T00:00:00\",\"2008-01-01T00:00:00\",\"2009-01-01T00:00:00\",\"2010-01-01T00:00:00\",\"2011-01-01T00:00:00\",\"2012-01-01T00:00:00\",\"2013-01-01T00:00:00\",\"2014-01-01T00:00:00\",\"2015-01-01T00:00:00\",\"2016-01-01T00:00:00\",\"2017-01-01T00:00:00\",\"2018-01-01T00:00:00\",\"2019-01-01T00:00:00\",\"2020-01-01T00:00:00\",\"2021-01-01T00:00:00\",\"2022-01-01T00:00:00\",\"2023-01-01T00:00:00\",\"2024-01-01T00:00:00\"],\"xaxis\":\"x\",\"y\":[1,2,1,7,1,2,2,1,3,1,2,65,53,18,39,83,85,80,126,120,156,395,312,363,205],\"yaxis\":\"y\",\"type\":\"scattergl\"},{\"hovertemplate\":\"state=AZ\\u003cbr\\u003eYear (2010-2023)=%{x}\\u003cbr\\u003eEV Chargers per 1 Million People=%{y}\\u003cextra\\u003e\\u003c\\u002fextra\\u003e\",\"legendgroup\":\"AZ\",\"line\":{\"color\":\"#ab63fa\",\"dash\":\"solid\"},\"marker\":{\"symbol\":\"circle\"},\"mode\":\"lines\",\"name\":\"AZ\",\"showlegend\":true,\"x\":[\"1984-01-01T00:00:00\",\"1995-01-01T00:00:00\",\"1996-01-01T00:00:00\",\"1997-01-01T00:00:00\",\"1999-01-01T00:00:00\",\"2000-01-01T00:00:00\",\"2002-01-01T00:00:00\",\"2003-01-01T00:00:00\",\"2006-01-01T00:00:00\",\"2007-01-01T00:00:00\",\"2008-01-01T00:00:00\",\"2009-01-01T00:00:00\",\"2010-01-01T00:00:00\",\"2011-01-01T00:00:00\",\"2012-01-01T00:00:00\",\"2013-01-01T00:00:00\",\"2014-01-01T00:00:00\",\"2015-01-01T00:00:00\",\"2016-01-01T00:00:00\",\"2017-01-01T00:00:00\",\"2018-01-01T00:00:00\",\"2019-01-01T00:00:00\",\"2020-01-01T00:00:00\",\"2021-01-01T00:00:00\",\"2022-01-01T00:00:00\",\"2023-01-01T00:00:00\",\"2024-01-01T00:00:00\"],\"xaxis\":\"x\",\"y\":[1,1,4,1,3,17,1,1,4,6,68,4,6,36,21,4,31,77,44,35,51,79,93,335,263,256,253],\"yaxis\":\"y\",\"type\":\"scattergl\"},{\"hovertemplate\":\"state=AR\\u003cbr\\u003eYear (2010-2023)=%{x}\\u003cbr\\u003eEV Chargers per 1 Million People=%{y}\\u003cextra\\u003e\\u003c\\u002fextra\\u003e\",\"legendgroup\":\"AR\",\"line\":{\"color\":\"#FFA15A\",\"dash\":\"solid\"},\"marker\":{\"symbol\":\"circle\"},\"mode\":\"lines\",\"name\":\"AR\",\"showlegend\":true,\"x\":[\"1985-01-01T00:00:00\",\"1992-01-01T00:00:00\",\"1997-01-01T00:00:00\",\"1999-01-01T00:00:00\",\"2000-01-01T00:00:00\",\"2003-01-01T00:00:00\",\"2008-01-01T00:00:00\",\"2009-01-01T00:00:00\",\"2010-01-01T00:00:00\",\"2011-01-01T00:00:00\",\"2012-01-01T00:00:00\",\"2013-01-01T00:00:00\",\"2014-01-01T00:00:00\",\"2015-01-01T00:00:00\",\"2016-01-01T00:00:00\",\"2017-01-01T00:00:00\",\"2018-01-01T00:00:00\",\"2019-01-01T00:00:00\",\"2020-01-01T00:00:00\",\"2021-01-01T00:00:00\",\"2022-01-01T00:00:00\",\"2023-01-01T00:00:00\",\"2024-01-01T00:00:00\"],\"xaxis\":\"x\",\"y\":[1,1,1,3,3,1,1,5,4,23,8,16,12,19,6,20,16,25,19,83,91,139,52],\"yaxis\":\"y\",\"type\":\"scattergl\"},{\"hovertemplate\":\"state=NE\\u003cbr\\u003eYear (2010-2023)=%{x}\\u003cbr\\u003eEV Chargers per 1 Million People=%{y}\\u003cextra\\u003e\\u003c\\u002fextra\\u003e\",\"legendgroup\":\"NE\",\"line\":{\"color\":\"#19d3f3\",\"dash\":\"solid\"},\"marker\":{\"symbol\":\"circle\"},\"mode\":\"lines\",\"name\":\"NE\",\"showlegend\":true,\"x\":[\"1985-01-01T00:00:00\",\"1987-01-01T00:00:00\",\"1993-01-01T00:00:00\",\"1999-01-01T00:00:00\",\"2000-01-01T00:00:00\",\"2005-01-01T00:00:00\",\"2006-01-01T00:00:00\",\"2007-01-01T00:00:00\",\"2008-01-01T00:00:00\",\"2009-01-01T00:00:00\",\"2010-01-01T00:00:00\",\"2011-01-01T00:00:00\",\"2012-01-01T00:00:00\",\"2013-01-01T00:00:00\",\"2014-01-01T00:00:00\",\"2015-01-01T00:00:00\",\"2016-01-01T00:00:00\",\"2017-01-01T00:00:00\",\"2018-01-01T00:00:00\",\"2019-01-01T00:00:00\",\"2020-01-01T00:00:00\",\"2021-01-01T00:00:00\",\"2022-01-01T00:00:00\",\"2023-01-01T00:00:00\",\"2024-01-01T00:00:00\"],\"xaxis\":\"x\",\"y\":[1,1,1,4,3,4,6,1,6,6,5,7,13,3,16,12,15,16,16,22,25,105,71,54,44],\"yaxis\":\"y\",\"type\":\"scattergl\"},{\"hovertemplate\":\"state=WA\\u003cbr\\u003eYear (2010-2023)=%{x}\\u003cbr\\u003eEV Chargers per 1 Million People=%{y}\\u003cextra\\u003e\\u003c\\u002fextra\\u003e\",\"legendgroup\":\"WA\",\"line\":{\"color\":\"#FF6692\",\"dash\":\"solid\"},\"marker\":{\"symbol\":\"circle\"},\"mode\":\"lines\",\"name\":\"WA\",\"showlegend\":true,\"x\":[\"1985-01-01T00:00:00\",\"1992-01-01T00:00:00\",\"1993-01-01T00:00:00\",\"1999-01-01T00:00:00\",\"2000-01-01T00:00:00\",\"2001-01-01T00:00:00\",\"2003-01-01T00:00:00\",\"2006-01-01T00:00:00\",\"2008-01-01T00:00:00\",\"2009-01-01T00:00:00\",\"2010-01-01T00:00:00\",\"2011-01-01T00:00:00\",\"2012-01-01T00:00:00\",\"2013-01-01T00:00:00\",\"2014-01-01T00:00:00\",\"2015-01-01T00:00:00\",\"2016-01-01T00:00:00\",\"2017-01-01T00:00:00\",\"2018-01-01T00:00:00\",\"2019-01-01T00:00:00\",\"2020-01-01T00:00:00\",\"2021-01-01T00:00:00\",\"2022-01-01T00:00:00\",\"2023-01-01T00:00:00\",\"2024-01-01T00:00:00\"],\"xaxis\":\"x\",\"y\":[1,1,1,12,22,1,1,3,2,6,8,77,48,15,57,104,79,93,125,182,191,572,350,519,485],\"yaxis\":\"y\",\"type\":\"scattergl\"},{\"hovertemplate\":\"state=ID\\u003cbr\\u003eYear (2010-2023)=%{x}\\u003cbr\\u003eEV Chargers per 1 Million People=%{y}\\u003cextra\\u003e\\u003c\\u002fextra\\u003e\",\"legendgroup\":\"ID\",\"line\":{\"color\":\"#B6E880\",\"dash\":\"solid\"},\"marker\":{\"symbol\":\"circle\"},\"mode\":\"lines\",\"name\":\"ID\",\"showlegend\":true,\"x\":[\"1986-01-01T00:00:00\",\"1987-01-01T00:00:00\",\"1988-01-01T00:00:00\",\"1989-01-01T00:00:00\",\"1995-01-01T00:00:00\",\"1999-01-01T00:00:00\",\"2000-01-01T00:00:00\",\"2010-01-01T00:00:00\",\"2011-01-01T00:00:00\",\"2012-01-01T00:00:00\",\"2013-01-01T00:00:00\",\"2014-01-01T00:00:00\",\"2015-01-01T00:00:00\",\"2016-01-01T00:00:00\",\"2017-01-01T00:00:00\",\"2018-01-01T00:00:00\",\"2019-01-01T00:00:00\",\"2020-01-01T00:00:00\",\"2021-01-01T00:00:00\",\"2022-01-01T00:00:00\",\"2023-01-01T00:00:00\",\"2024-01-01T00:00:00\"],\"xaxis\":\"x\",\"y\":[1,1,1,1,1,4,6,7,3,5,5,5,24,26,13,7,15,16,29,26,43,64],\"yaxis\":\"y\",\"type\":\"scattergl\"},{\"hovertemplate\":\"state=GA\\u003cbr\\u003eYear (2010-2023)=%{x}\\u003cbr\\u003eEV Chargers per 1 Million People=%{y}\\u003cextra\\u003e\\u003c\\u002fextra\\u003e\",\"legendgroup\":\"GA\",\"line\":{\"color\":\"#FF97FF\",\"dash\":\"solid\"},\"marker\":{\"symbol\":\"circle\"},\"mode\":\"lines\",\"name\":\"GA\",\"showlegend\":true,\"x\":[\"1987-01-01T00:00:00\",\"1995-01-01T00:00:00\",\"1996-01-01T00:00:00\",\"1997-01-01T00:00:00\",\"1998-01-01T00:00:00\",\"1999-01-01T00:00:00\",\"2000-01-01T00:00:00\",\"2002-01-01T00:00:00\",\"2004-01-01T00:00:00\",\"2005-01-01T00:00:00\",\"2006-01-01T00:00:00\",\"2007-01-01T00:00:00\",\"2008-01-01T00:00:00\",\"2009-01-01T00:00:00\",\"2010-01-01T00:00:00\",\"2011-01-01T00:00:00\",\"2012-01-01T00:00:00\",\"2013-01-01T00:00:00\",\"2014-01-01T00:00:00\",\"2015-01-01T00:00:00\",\"2016-01-01T00:00:00\",\"2017-01-01T00:00:00\",\"2018-01-01T00:00:00\",\"2019-01-01T00:00:00\",\"2020-01-01T00:00:00\",\"2021-01-01T00:00:00\",\"2022-01-01T00:00:00\",\"2023-01-01T00:00:00\",\"2024-01-01T00:00:00\"],\"xaxis\":\"x\",\"y\":[1,1,3,1,1,7,11,1,2,6,2,1,4,2,2,41,48,17,45,105,95,92,121,98,217,555,291,398,422],\"yaxis\":\"y\",\"type\":\"scattergl\"},{\"hovertemplate\":\"state=IA\\u003cbr\\u003eYear (2010-2023)=%{x}\\u003cbr\\u003eEV Chargers per 1 Million People=%{y}\\u003cextra\\u003e\\u003c\\u002fextra\\u003e\",\"legendgroup\":\"IA\",\"line\":{\"color\":\"#FECB52\",\"dash\":\"solid\"},\"marker\":{\"symbol\":\"circle\"},\"mode\":\"lines\",\"name\":\"IA\",\"showlegend\":true,\"x\":[\"1988-01-01T00:00:00\",\"1990-01-01T00:00:00\",\"1993-01-01T00:00:00\",\"1996-01-01T00:00:00\",\"1999-01-01T00:00:00\",\"2000-01-01T00:00:00\",\"2001-01-01T00:00:00\",\"2004-01-01T00:00:00\",\"2005-01-01T00:00:00\",\"2006-01-01T00:00:00\",\"2007-01-01T00:00:00\",\"2008-01-01T00:00:00\",\"2009-01-01T00:00:00\",\"2010-01-01T00:00:00\",\"2011-01-01T00:00:00\",\"2012-01-01T00:00:00\",\"2013-01-01T00:00:00\",\"2014-01-01T00:00:00\",\"2015-01-01T00:00:00\",\"2016-01-01T00:00:00\",\"2017-01-01T00:00:00\",\"2018-01-01T00:00:00\",\"2019-01-01T00:00:00\",\"2020-01-01T00:00:00\",\"2021-01-01T00:00:00\",\"2022-01-01T00:00:00\",\"2023-01-01T00:00:00\",\"2024-01-01T00:00:00\"],\"xaxis\":\"x\",\"y\":[1,1,1,1,3,1,1,4,6,16,13,21,21,22,31,23,10,32,32,19,38,37,71,65,137,345,134,126],\"yaxis\":\"y\",\"type\":\"scattergl\"},{\"hovertemplate\":\"state=NY\\u003cbr\\u003eYear (2010-2023)=%{x}\\u003cbr\\u003eEV Chargers per 1 Million People=%{y}\\u003cextra\\u003e\\u003c\\u002fextra\\u003e\",\"legendgroup\":\"NY\",\"line\":{\"color\":\"#636efa\",\"dash\":\"solid\"},\"marker\":{\"symbol\":\"circle\"},\"mode\":\"lines\",\"name\":\"NY\",\"showlegend\":true,\"x\":[\"1988-01-01T00:00:00\",\"1994-01-01T00:00:00\",\"1995-01-01T00:00:00\",\"1996-01-01T00:00:00\",\"1997-01-01T00:00:00\",\"1998-01-01T00:00:00\",\"1999-01-01T00:00:00\",\"2000-01-01T00:00:00\",\"2001-01-01T00:00:00\",\"2002-01-01T00:00:00\",\"2003-01-01T00:00:00\",\"2004-01-01T00:00:00\",\"2006-01-01T00:00:00\",\"2007-01-01T00:00:00\",\"2008-01-01T00:00:00\",\"2009-01-01T00:00:00\",\"2010-01-01T00:00:00\",\"2011-01-01T00:00:00\",\"2012-01-01T00:00:00\",\"2013-01-01T00:00:00\",\"2014-01-01T00:00:00\",\"2015-01-01T00:00:00\",\"2016-01-01T00:00:00\",\"2017-01-01T00:00:00\",\"2018-01-01T00:00:00\",\"2019-01-01T00:00:00\",\"2020-01-01T00:00:00\",\"2021-01-01T00:00:00\",\"2022-01-01T00:00:00\",\"2023-01-01T00:00:00\",\"2024-01-01T00:00:00\"],\"xaxis\":\"x\",\"y\":[1,1,2,1,1,4,2,3,1,1,1,2,2,2,10,13,18,74,22,24,43,120,144,139,178,369,603,978,941,826,846],\"yaxis\":\"y\",\"type\":\"scattergl\"},{\"hovertemplate\":\"state=SC\\u003cbr\\u003eYear (2010-2023)=%{x}\\u003cbr\\u003eEV Chargers per 1 Million People=%{y}\\u003cextra\\u003e\\u003c\\u002fextra\\u003e\",\"legendgroup\":\"SC\",\"line\":{\"color\":\"#EF553B\",\"dash\":\"solid\"},\"marker\":{\"symbol\":\"circle\"},\"mode\":\"lines\",\"name\":\"SC\",\"showlegend\":true,\"x\":[\"1989-01-01T00:00:00\",\"1999-01-01T00:00:00\",\"2000-01-01T00:00:00\",\"2002-01-01T00:00:00\",\"2005-01-01T00:00:00\",\"2006-01-01T00:00:00\",\"2007-01-01T00:00:00\",\"2008-01-01T00:00:00\",\"2009-01-01T00:00:00\",\"2010-01-01T00:00:00\",\"2011-01-01T00:00:00\",\"2012-01-01T00:00:00\",\"2013-01-01T00:00:00\",\"2014-01-01T00:00:00\",\"2015-01-01T00:00:00\",\"2016-01-01T00:00:00\",\"2017-01-01T00:00:00\",\"2018-01-01T00:00:00\",\"2019-01-01T00:00:00\",\"2020-01-01T00:00:00\",\"2021-01-01T00:00:00\",\"2022-01-01T00:00:00\",\"2023-01-01T00:00:00\",\"2024-01-01T00:00:00\"],\"xaxis\":\"x\",\"y\":[1,3,6,1,30,2,5,3,11,7,34,62,12,22,41,12,29,33,36,49,91,99,163,108],\"yaxis\":\"y\",\"type\":\"scattergl\"},{\"hovertemplate\":\"state=CA\\u003cbr\\u003eYear (2010-2023)=%{x}\\u003cbr\\u003eEV Chargers per 1 Million People=%{y}\\u003cextra\\u003e\\u003c\\u002fextra\\u003e\",\"legendgroup\":\"CA\",\"line\":{\"color\":\"#00cc96\",\"dash\":\"solid\"},\"marker\":{\"symbol\":\"circle\"},\"mode\":\"lines\",\"name\":\"CA\",\"showlegend\":true,\"x\":[\"1990-01-01T00:00:00\",\"1991-01-01T00:00:00\",\"1992-01-01T00:00:00\",\"1993-01-01T00:00:00\",\"1994-01-01T00:00:00\",\"1995-01-01T00:00:00\",\"1996-01-01T00:00:00\",\"1997-01-01T00:00:00\",\"1998-01-01T00:00:00\",\"1999-01-01T00:00:00\",\"2000-01-01T00:00:00\",\"2001-01-01T00:00:00\",\"2002-01-01T00:00:00\",\"2003-01-01T00:00:00\",\"2004-01-01T00:00:00\",\"2005-01-01T00:00:00\",\"2006-01-01T00:00:00\",\"2007-01-01T00:00:00\",\"2008-01-01T00:00:00\",\"2009-01-01T00:00:00\",\"2010-01-01T00:00:00\",\"2011-01-01T00:00:00\",\"2012-01-01T00:00:00\",\"2013-01-01T00:00:00\",\"2014-01-01T00:00:00\",\"2015-01-01T00:00:00\",\"2016-01-01T00:00:00\",\"2017-01-01T00:00:00\",\"2018-01-01T00:00:00\",\"2019-01-01T00:00:00\",\"2020-01-01T00:00:00\",\"2021-01-01T00:00:00\",\"2022-01-01T00:00:00\",\"2023-01-01T00:00:00\",\"2024-01-01T00:00:00\",\"2025-01-01T00:00:00\"],\"xaxis\":\"x\",\"y\":[2,5,5,2,3,10,24,10,19,40,88,9,29,20,24,13,17,7,32,40,30,205,148,193,280,500,397,341,576,663,2923,5997,3341,2662,2315,2],\"yaxis\":\"y\",\"type\":\"scattergl\"},{\"hovertemplate\":\"state=IN\\u003cbr\\u003eYear (2010-2023)=%{x}\\u003cbr\\u003eEV Chargers per 1 Million People=%{y}\\u003cextra\\u003e\\u003c\\u002fextra\\u003e\",\"legendgroup\":\"IN\",\"line\":{\"color\":\"#ab63fa\",\"dash\":\"solid\"},\"marker\":{\"symbol\":\"circle\"},\"mode\":\"lines\",\"name\":\"IN\",\"showlegend\":true,\"x\":[\"1990-01-01T00:00:00\",\"1991-01-01T00:00:00\",\"1999-01-01T00:00:00\",\"2000-01-01T00:00:00\",\"2001-01-01T00:00:00\",\"2002-01-01T00:00:00\",\"2004-01-01T00:00:00\",\"2005-01-01T00:00:00\",\"2006-01-01T00:00:00\",\"2007-01-01T00:00:00\",\"2008-01-01T00:00:00\",\"2009-01-01T00:00:00\",\"2010-01-01T00:00:00\",\"2011-01-01T00:00:00\",\"2012-01-01T00:00:00\",\"2013-01-01T00:00:00\",\"2014-01-01T00:00:00\",\"2015-01-01T00:00:00\",\"2016-01-01T00:00:00\",\"2017-01-01T00:00:00\",\"2018-01-01T00:00:00\",\"2019-01-01T00:00:00\",\"2020-01-01T00:00:00\",\"2021-01-01T00:00:00\",\"2022-01-01T00:00:00\",\"2023-01-01T00:00:00\",\"2024-01-01T00:00:00\"],\"xaxis\":\"x\",\"y\":[1,1,1,12,2,1,1,2,17,33,17,8,19,21,50,21,36,42,32,31,47,57,52,101,136,181,170],\"yaxis\":\"y\",\"type\":\"scattergl\"},{\"hovertemplate\":\"state=FL\\u003cbr\\u003eYear (2010-2023)=%{x}\\u003cbr\\u003eEV Chargers per 1 Million People=%{y}\\u003cextra\\u003e\\u003c\\u002fextra\\u003e\",\"legendgroup\":\"FL\",\"line\":{\"color\":\"#FFA15A\",\"dash\":\"solid\"},\"marker\":{\"symbol\":\"circle\"},\"mode\":\"lines\",\"name\":\"FL\",\"showlegend\":true,\"x\":[\"1991-01-01T00:00:00\",\"1996-01-01T00:00:00\",\"1999-01-01T00:00:00\",\"2000-01-01T00:00:00\",\"2005-01-01T00:00:00\",\"2006-01-01T00:00:00\",\"2008-01-01T00:00:00\",\"2009-01-01T00:00:00\",\"2010-01-01T00:00:00\",\"2011-01-01T00:00:00\",\"2012-01-01T00:00:00\",\"2013-01-01T00:00:00\",\"2014-01-01T00:00:00\",\"2015-01-01T00:00:00\",\"2016-01-01T00:00:00\",\"2017-01-01T00:00:00\",\"2018-01-01T00:00:00\",\"2019-01-01T00:00:00\",\"2020-01-01T00:00:00\",\"2021-01-01T00:00:00\",\"2022-01-01T00:00:00\",\"2023-01-01T00:00:00\",\"2024-01-01T00:00:00\"],\"xaxis\":\"x\",\"y\":[1,1,3,23,3,3,5,4,6,74,129,55,61,201,117,199,207,250,327,643,735,672,785],\"yaxis\":\"y\",\"type\":\"scattergl\"},{\"hovertemplate\":\"state=NM\\u003cbr\\u003eYear (2010-2023)=%{x}\\u003cbr\\u003eEV Chargers per 1 Million People=%{y}\\u003cextra\\u003e\\u003c\\u002fextra\\u003e\",\"legendgroup\":\"NM\",\"line\":{\"color\":\"#19d3f3\",\"dash\":\"solid\"},\"marker\":{\"symbol\":\"circle\"},\"mode\":\"lines\",\"name\":\"NM\",\"showlegend\":true,\"x\":[\"1992-01-01T00:00:00\",\"1994-01-01T00:00:00\",\"1995-01-01T00:00:00\",\"1998-01-01T00:00:00\",\"1999-01-01T00:00:00\",\"2000-01-01T00:00:00\",\"2001-01-01T00:00:00\",\"2002-01-01T00:00:00\",\"2006-01-01T00:00:00\",\"2007-01-01T00:00:00\",\"2008-01-01T00:00:00\",\"2009-01-01T00:00:00\",\"2011-01-01T00:00:00\",\"2012-01-01T00:00:00\",\"2013-01-01T00:00:00\",\"2014-01-01T00:00:00\",\"2015-01-01T00:00:00\",\"2016-01-01T00:00:00\",\"2017-01-01T00:00:00\",\"2018-01-01T00:00:00\",\"2019-01-01T00:00:00\",\"2020-01-01T00:00:00\",\"2021-01-01T00:00:00\",\"2022-01-01T00:00:00\",\"2023-01-01T00:00:00\",\"2024-01-01T00:00:00\"],\"xaxis\":\"x\",\"y\":[2,1,2,1,23,2,2,1,1,3,2,4,1,10,3,10,14,11,11,17,21,35,68,39,80,94],\"yaxis\":\"y\",\"type\":\"scattergl\"},{\"hovertemplate\":\"state=NV\\u003cbr\\u003eYear (2010-2023)=%{x}\\u003cbr\\u003eEV Chargers per 1 Million People=%{y}\\u003cextra\\u003e\\u003c\\u002fextra\\u003e\",\"legendgroup\":\"NV\",\"line\":{\"color\":\"#FF6692\",\"dash\":\"solid\"},\"marker\":{\"symbol\":\"circle\"},\"mode\":\"lines\",\"name\":\"NV\",\"showlegend\":true,\"x\":[\"1993-01-01T00:00:00\",\"1996-01-01T00:00:00\",\"1999-01-01T00:00:00\",\"2000-01-01T00:00:00\",\"2001-01-01T00:00:00\",\"2004-01-01T00:00:00\",\"2006-01-01T00:00:00\",\"2009-01-01T00:00:00\",\"2010-01-01T00:00:00\",\"2011-01-01T00:00:00\",\"2012-01-01T00:00:00\",\"2013-01-01T00:00:00\",\"2014-01-01T00:00:00\",\"2015-01-01T00:00:00\",\"2016-01-01T00:00:00\",\"2017-01-01T00:00:00\",\"2018-01-01T00:00:00\",\"2019-01-01T00:00:00\",\"2020-01-01T00:00:00\",\"2021-01-01T00:00:00\",\"2022-01-01T00:00:00\",\"2023-01-01T00:00:00\",\"2024-01-01T00:00:00\"],\"xaxis\":\"x\",\"y\":[1,1,3,9,1,1,1,2,8,3,3,4,33,23,16,26,27,47,39,167,110,130,95],\"yaxis\":\"y\",\"type\":\"scattergl\"},{\"hovertemplate\":\"state=SD\\u003cbr\\u003eYear (2010-2023)=%{x}\\u003cbr\\u003eEV Chargers per 1 Million People=%{y}\\u003cextra\\u003e\\u003c\\u002fextra\\u003e\",\"legendgroup\":\"SD\",\"line\":{\"color\":\"#B6E880\",\"dash\":\"solid\"},\"marker\":{\"symbol\":\"circle\"},\"mode\":\"lines\",\"name\":\"SD\",\"showlegend\":true,\"x\":[\"1993-01-01T00:00:00\",\"1999-01-01T00:00:00\",\"2000-01-01T00:00:00\",\"2002-01-01T00:00:00\",\"2004-01-01T00:00:00\",\"2005-01-01T00:00:00\",\"2006-01-01T00:00:00\",\"2007-01-01T00:00:00\",\"2008-01-01T00:00:00\",\"2009-01-01T00:00:00\",\"2010-01-01T00:00:00\",\"2011-01-01T00:00:00\",\"2012-01-01T00:00:00\",\"2013-01-01T00:00:00\",\"2014-01-01T00:00:00\",\"2015-01-01T00:00:00\",\"2017-01-01T00:00:00\",\"2018-01-01T00:00:00\",\"2019-01-01T00:00:00\",\"2020-01-01T00:00:00\",\"2021-01-01T00:00:00\",\"2022-01-01T00:00:00\",\"2023-01-01T00:00:00\",\"2024-01-01T00:00:00\"],\"xaxis\":\"x\",\"y\":[2,8,1,8,2,6,6,9,6,5,3,1,8,4,3,18,9,12,13,6,19,17,28,23],\"yaxis\":\"y\",\"type\":\"scattergl\"},{\"hovertemplate\":\"state=MO\\u003cbr\\u003eYear (2010-2023)=%{x}\\u003cbr\\u003eEV Chargers per 1 Million People=%{y}\\u003cextra\\u003e\\u003c\\u002fextra\\u003e\",\"legendgroup\":\"MO\",\"line\":{\"color\":\"#FF97FF\",\"dash\":\"solid\"},\"marker\":{\"symbol\":\"circle\"},\"mode\":\"lines\",\"name\":\"MO\",\"showlegend\":true,\"x\":[\"1994-01-01T00:00:00\",\"1999-01-01T00:00:00\",\"2000-01-01T00:00:00\",\"2004-01-01T00:00:00\",\"2005-01-01T00:00:00\",\"2006-01-01T00:00:00\",\"2007-01-01T00:00:00\",\"2008-01-01T00:00:00\",\"2009-01-01T00:00:00\",\"2010-01-01T00:00:00\",\"2011-01-01T00:00:00\",\"2012-01-01T00:00:00\",\"2013-01-01T00:00:00\",\"2014-01-01T00:00:00\",\"2015-01-01T00:00:00\",\"2016-01-01T00:00:00\",\"2017-01-01T00:00:00\",\"2018-01-01T00:00:00\",\"2019-01-01T00:00:00\",\"2020-01-01T00:00:00\",\"2021-01-01T00:00:00\",\"2022-01-01T00:00:00\",\"2023-01-01T00:00:00\",\"2024-01-01T00:00:00\"],\"xaxis\":\"x\",\"y\":[1,15,9,1,3,12,12,5,10,6,23,11,12,16,70,51,120,49,76,94,548,132,253,153],\"yaxis\":\"y\",\"type\":\"scattergl\"},{\"hovertemplate\":\"state=OK\\u003cbr\\u003eYear (2010-2023)=%{x}\\u003cbr\\u003eEV Chargers per 1 Million People=%{y}\\u003cextra\\u003e\\u003c\\u002fextra\\u003e\",\"legendgroup\":\"OK\",\"line\":{\"color\":\"#FECB52\",\"dash\":\"solid\"},\"marker\":{\"symbol\":\"circle\"},\"mode\":\"lines\",\"name\":\"OK\",\"showlegend\":true,\"x\":[\"1994-01-01T00:00:00\",\"1996-01-01T00:00:00\",\"1998-01-01T00:00:00\",\"1999-01-01T00:00:00\",\"2000-01-01T00:00:00\",\"2001-01-01T00:00:00\",\"2003-01-01T00:00:00\",\"2004-01-01T00:00:00\",\"2006-01-01T00:00:00\",\"2007-01-01T00:00:00\",\"2008-01-01T00:00:00\",\"2009-01-01T00:00:00\",\"2010-01-01T00:00:00\",\"2011-01-01T00:00:00\",\"2012-01-01T00:00:00\",\"2013-01-01T00:00:00\",\"2014-01-01T00:00:00\",\"2015-01-01T00:00:00\",\"2016-01-01T00:00:00\",\"2017-01-01T00:00:00\",\"2018-01-01T00:00:00\",\"2019-01-01T00:00:00\",\"2020-01-01T00:00:00\",\"2021-01-01T00:00:00\",\"2022-01-01T00:00:00\",\"2023-01-01T00:00:00\",\"2024-01-01T00:00:00\"],\"xaxis\":\"x\",\"y\":[1,14,1,11,11,17,4,2,2,3,1,5,5,13,39,50,18,19,26,25,46,46,131,67,59,60,69],\"yaxis\":\"y\",\"type\":\"scattergl\"},{\"hovertemplate\":\"state=OR\\u003cbr\\u003eYear (2010-2023)=%{x}\\u003cbr\\u003eEV Chargers per 1 Million People=%{y}\\u003cextra\\u003e\\u003c\\u002fextra\\u003e\",\"legendgroup\":\"OR\",\"line\":{\"color\":\"#636efa\",\"dash\":\"solid\"},\"marker\":{\"symbol\":\"circle\"},\"mode\":\"lines\",\"name\":\"OR\",\"showlegend\":true,\"x\":[\"1994-01-01T00:00:00\",\"1996-01-01T00:00:00\",\"1999-01-01T00:00:00\",\"2000-01-01T00:00:00\",\"2004-01-01T00:00:00\",\"2005-01-01T00:00:00\",\"2006-01-01T00:00:00\",\"2007-01-01T00:00:00\",\"2008-01-01T00:00:00\",\"2009-01-01T00:00:00\",\"2010-01-01T00:00:00\",\"2011-01-01T00:00:00\",\"2012-01-01T00:00:00\",\"2013-01-01T00:00:00\",\"2014-01-01T00:00:00\",\"2015-01-01T00:00:00\",\"2016-01-01T00:00:00\",\"2017-01-01T00:00:00\",\"2018-01-01T00:00:00\",\"2019-01-01T00:00:00\",\"2020-01-01T00:00:00\",\"2021-01-01T00:00:00\",\"2022-01-01T00:00:00\",\"2023-01-01T00:00:00\",\"2024-01-01T00:00:00\",\"2025-01-01T00:00:00\"],\"xaxis\":\"x\",\"y\":[1,5,2,11,3,1,5,1,3,6,5,38,35,19,27,57,100,52,78,103,97,242,187,303,333,1],\"yaxis\":\"y\",\"type\":\"scattergl\"},{\"hovertemplate\":\"state=CO\\u003cbr\\u003eYear (2010-2023)=%{x}\\u003cbr\\u003eEV Chargers per 1 Million People=%{y}\\u003cextra\\u003e\\u003c\\u002fextra\\u003e\",\"legendgroup\":\"CO\",\"line\":{\"color\":\"#EF553B\",\"dash\":\"solid\"},\"marker\":{\"symbol\":\"circle\"},\"mode\":\"lines\",\"name\":\"CO\",\"showlegend\":true,\"x\":[\"1995-01-01T00:00:00\",\"1996-01-01T00:00:00\",\"1997-01-01T00:00:00\",\"1998-01-01T00:00:00\",\"1999-01-01T00:00:00\",\"2000-01-01T00:00:00\",\"2001-01-01T00:00:00\",\"2002-01-01T00:00:00\",\"2003-01-01T00:00:00\",\"2004-01-01T00:00:00\",\"2005-01-01T00:00:00\",\"2007-01-01T00:00:00\",\"2008-01-01T00:00:00\",\"2009-01-01T00:00:00\",\"2010-01-01T00:00:00\",\"2011-01-01T00:00:00\",\"2012-01-01T00:00:00\",\"2013-01-01T00:00:00\",\"2014-01-01T00:00:00\",\"2015-01-01T00:00:00\",\"2016-01-01T00:00:00\",\"2017-01-01T00:00:00\",\"2018-01-01T00:00:00\",\"2019-01-01T00:00:00\",\"2020-01-01T00:00:00\",\"2021-01-01T00:00:00\",\"2022-01-01T00:00:00\",\"2023-01-01T00:00:00\",\"2024-01-01T00:00:00\"],\"xaxis\":\"x\",\"y\":[1,1,1,2,9,14,1,3,1,1,2,16,5,10,4,24,47,27,53,76,59,92,112,137,273,538,418,474,372],\"yaxis\":\"y\",\"type\":\"scattergl\"},{\"hovertemplate\":\"state=TN\\u003cbr\\u003eYear (2010-2023)=%{x}\\u003cbr\\u003eEV Chargers per 1 Million People=%{y}\\u003cextra\\u003e\\u003c\\u002fextra\\u003e\",\"legendgroup\":\"TN\",\"line\":{\"color\":\"#00cc96\",\"dash\":\"solid\"},\"marker\":{\"symbol\":\"circle\"},\"mode\":\"lines\",\"name\":\"TN\",\"showlegend\":true,\"x\":[\"1995-01-01T00:00:00\",\"1997-01-01T00:00:00\",\"1999-01-01T00:00:00\",\"2000-01-01T00:00:00\",\"2004-01-01T00:00:00\",\"2006-01-01T00:00:00\",\"2007-01-01T00:00:00\",\"2008-01-01T00:00:00\",\"2009-01-01T00:00:00\",\"2010-01-01T00:00:00\",\"2011-01-01T00:00:00\",\"2012-01-01T00:00:00\",\"2013-01-01T00:00:00\",\"2014-01-01T00:00:00\",\"2015-01-01T00:00:00\",\"2016-01-01T00:00:00\",\"2017-01-01T00:00:00\",\"2018-01-01T00:00:00\",\"2019-01-01T00:00:00\",\"2020-01-01T00:00:00\",\"2021-01-01T00:00:00\",\"2022-01-01T00:00:00\",\"2023-01-01T00:00:00\",\"2024-01-01T00:00:00\"],\"xaxis\":\"x\",\"y\":[1,1,2,17,2,1,7,2,2,9,56,17,27,37,36,55,41,36,53,90,232,145,233,150],\"yaxis\":\"y\",\"type\":\"scattergl\"},{\"hovertemplate\":\"state=TX\\u003cbr\\u003eYear (2010-2023)=%{x}\\u003cbr\\u003eEV Chargers per 1 Million People=%{y}\\u003cextra\\u003e\\u003c\\u002fextra\\u003e\",\"legendgroup\":\"TX\",\"line\":{\"color\":\"#ab63fa\",\"dash\":\"solid\"},\"marker\":{\"symbol\":\"circle\"},\"mode\":\"lines\",\"name\":\"TX\",\"showlegend\":true,\"x\":[\"1995-01-01T00:00:00\",\"1996-01-01T00:00:00\",\"1999-01-01T00:00:00\",\"2000-01-01T00:00:00\",\"2001-01-01T00:00:00\",\"2003-01-01T00:00:00\",\"2004-01-01T00:00:00\",\"2005-01-01T00:00:00\",\"2006-01-01T00:00:00\",\"2007-01-01T00:00:00\",\"2008-01-01T00:00:00\",\"2009-01-01T00:00:00\",\"2010-01-01T00:00:00\",\"2011-01-01T00:00:00\",\"2012-01-01T00:00:00\",\"2013-01-01T00:00:00\",\"2014-01-01T00:00:00\",\"2015-01-01T00:00:00\",\"2016-01-01T00:00:00\",\"2017-01-01T00:00:00\",\"2018-01-01T00:00:00\",\"2019-01-01T00:00:00\",\"2020-01-01T00:00:00\",\"2021-01-01T00:00:00\",\"2022-01-01T00:00:00\",\"2023-01-01T00:00:00\",\"2024-01-01T00:00:00\"],\"xaxis\":\"x\",\"y\":[1,3,33,81,1,84,3,4,13,14,6,30,16,112,63,33,115,193,115,132,221,233,373,725,746,752,776],\"yaxis\":\"y\",\"type\":\"scattergl\"},{\"hovertemplate\":\"state=WI\\u003cbr\\u003eYear (2010-2023)=%{x}\\u003cbr\\u003eEV Chargers per 1 Million People=%{y}\\u003cextra\\u003e\\u003c\\u002fextra\\u003e\",\"legendgroup\":\"WI\",\"line\":{\"color\":\"#FFA15A\",\"dash\":\"solid\"},\"marker\":{\"symbol\":\"circle\"},\"mode\":\"lines\",\"name\":\"WI\",\"showlegend\":true,\"x\":[\"1995-01-01T00:00:00\",\"1999-01-01T00:00:00\",\"2000-01-01T00:00:00\",\"2002-01-01T00:00:00\",\"2005-01-01T00:00:00\",\"2006-01-01T00:00:00\",\"2007-01-01T00:00:00\",\"2008-01-01T00:00:00\",\"2009-01-01T00:00:00\",\"2010-01-01T00:00:00\",\"2011-01-01T00:00:00\",\"2012-01-01T00:00:00\",\"2013-01-01T00:00:00\",\"2014-01-01T00:00:00\",\"2015-01-01T00:00:00\",\"2016-01-01T00:00:00\",\"2017-01-01T00:00:00\",\"2018-01-01T00:00:00\",\"2019-01-01T00:00:00\",\"2020-01-01T00:00:00\",\"2021-01-01T00:00:00\",\"2022-01-01T00:00:00\",\"2023-01-01T00:00:00\",\"2024-01-01T00:00:00\"],\"xaxis\":\"x\",\"y\":[1,11,8,2,1,12,14,12,14,14,14,44,32,76,47,26,29,79,66,61,122,165,144,176],\"yaxis\":\"y\",\"type\":\"scattergl\"},{\"hovertemplate\":\"state=KS\\u003cbr\\u003eYear (2010-2023)=%{x}\\u003cbr\\u003eEV Chargers per 1 Million People=%{y}\\u003cextra\\u003e\\u003c\\u002fextra\\u003e\",\"legendgroup\":\"KS\",\"line\":{\"color\":\"#19d3f3\",\"dash\":\"solid\"},\"marker\":{\"symbol\":\"circle\"},\"mode\":\"lines\",\"name\":\"KS\",\"showlegend\":true,\"x\":[\"1996-01-01T00:00:00\",\"1999-01-01T00:00:00\",\"2000-01-01T00:00:00\",\"2003-01-01T00:00:00\",\"2008-01-01T00:00:00\",\"2009-01-01T00:00:00\",\"2011-01-01T00:00:00\",\"2012-01-01T00:00:00\",\"2013-01-01T00:00:00\",\"2014-01-01T00:00:00\",\"2015-01-01T00:00:00\",\"2016-01-01T00:00:00\",\"2017-01-01T00:00:00\",\"2018-01-01T00:00:00\",\"2019-01-01T00:00:00\",\"2020-01-01T00:00:00\",\"2021-01-01T00:00:00\",\"2022-01-01T00:00:00\",\"2023-01-01T00:00:00\",\"2024-01-01T00:00:00\"],\"xaxis\":\"x\",\"y\":[2,16,5,1,1,2,7,21,24,18,28,39,28,26,47,36,244,66,92,71],\"yaxis\":\"y\",\"type\":\"scattergl\"},{\"hovertemplate\":\"state=MA\\u003cbr\\u003eYear (2010-2023)=%{x}\\u003cbr\\u003eEV Chargers per 1 Million People=%{y}\\u003cextra\\u003e\\u003c\\u002fextra\\u003e\",\"legendgroup\":\"MA\",\"line\":{\"color\":\"#FF6692\",\"dash\":\"solid\"},\"marker\":{\"symbol\":\"circle\"},\"mode\":\"lines\",\"name\":\"MA\",\"showlegend\":true,\"x\":[\"1996-01-01T00:00:00\",\"1999-01-01T00:00:00\",\"2000-01-01T00:00:00\",\"2002-01-01T00:00:00\",\"2003-01-01T00:00:00\",\"2006-01-01T00:00:00\",\"2009-01-01T00:00:00\",\"2010-01-01T00:00:00\",\"2011-01-01T00:00:00\",\"2012-01-01T00:00:00\",\"2013-01-01T00:00:00\",\"2014-01-01T00:00:00\",\"2015-01-01T00:00:00\",\"2016-01-01T00:00:00\",\"2017-01-01T00:00:00\",\"2018-01-01T00:00:00\",\"2019-01-01T00:00:00\",\"2020-01-01T00:00:00\",\"2021-01-01T00:00:00\",\"2022-01-01T00:00:00\",\"2023-01-01T00:00:00\",\"2024-01-01T00:00:00\"],\"xaxis\":\"x\",\"y\":[2,2,8,1,2,1,1,1,6,56,18,35,67,32,24,81,148,381,1039,593,610,682],\"yaxis\":\"y\",\"type\":\"scattergl\"},{\"hovertemplate\":\"state=PA\\u003cbr\\u003eYear (2010-2023)=%{x}\\u003cbr\\u003eEV Chargers per 1 Million People=%{y}\\u003cextra\\u003e\\u003c\\u002fextra\\u003e\",\"legendgroup\":\"PA\",\"line\":{\"color\":\"#B6E880\",\"dash\":\"solid\"},\"marker\":{\"symbol\":\"circle\"},\"mode\":\"lines\",\"name\":\"PA\",\"showlegend\":true,\"x\":[\"1996-01-01T00:00:00\",\"1997-01-01T00:00:00\",\"1998-01-01T00:00:00\",\"1999-01-01T00:00:00\",\"2000-01-01T00:00:00\",\"2001-01-01T00:00:00\",\"2007-01-01T00:00:00\",\"2009-01-01T00:00:00\",\"2010-01-01T00:00:00\",\"2011-01-01T00:00:00\",\"2012-01-01T00:00:00\",\"2013-01-01T00:00:00\",\"2014-01-01T00:00:00\",\"2015-01-01T00:00:00\",\"2016-01-01T00:00:00\",\"2017-01-01T00:00:00\",\"2018-01-01T00:00:00\",\"2019-01-01T00:00:00\",\"2020-01-01T00:00:00\",\"2021-01-01T00:00:00\",\"2022-01-01T00:00:00\",\"2023-01-01T00:00:00\",\"2024-01-01T00:00:00\"],\"xaxis\":\"x\",\"y\":[1,1,1,2,24,2,3,1,7,16,81,26,44,81,65,98,103,164,173,360,427,455,364],\"yaxis\":\"y\",\"type\":\"scattergl\"},{\"hovertemplate\":\"state=UT\\u003cbr\\u003eYear (2010-2023)=%{x}\\u003cbr\\u003eEV Chargers per 1 Million People=%{y}\\u003cextra\\u003e\\u003c\\u002fextra\\u003e\",\"legendgroup\":\"UT\",\"line\":{\"color\":\"#FF97FF\",\"dash\":\"solid\"},\"marker\":{\"symbol\":\"circle\"},\"mode\":\"lines\",\"name\":\"UT\",\"showlegend\":true,\"x\":[\"1996-01-01T00:00:00\",\"1999-01-01T00:00:00\",\"2000-01-01T00:00:00\",\"2001-01-01T00:00:00\",\"2003-01-01T00:00:00\",\"2005-01-01T00:00:00\",\"2006-01-01T00:00:00\",\"2008-01-01T00:00:00\",\"2009-01-01T00:00:00\",\"2010-01-01T00:00:00\",\"2011-01-01T00:00:00\",\"2012-01-01T00:00:00\",\"2013-01-01T00:00:00\",\"2014-01-01T00:00:00\",\"2015-01-01T00:00:00\",\"2016-01-01T00:00:00\",\"2017-01-01T00:00:00\",\"2018-01-01T00:00:00\",\"2019-01-01T00:00:00\",\"2020-01-01T00:00:00\",\"2021-01-01T00:00:00\",\"2022-01-01T00:00:00\",\"2023-01-01T00:00:00\",\"2024-01-01T00:00:00\"],\"xaxis\":\"x\",\"y\":[6,3,4,5,6,1,1,3,3,8,11,21,1,16,44,8,18,68,71,139,321,124,130,107],\"yaxis\":\"y\",\"type\":\"scattergl\"},{\"hovertemplate\":\"state=VA\\u003cbr\\u003eYear (2010-2023)=%{x}\\u003cbr\\u003eEV Chargers per 1 Million People=%{y}\\u003cextra\\u003e\\u003c\\u002fextra\\u003e\",\"legendgroup\":\"VA\",\"line\":{\"color\":\"#FECB52\",\"dash\":\"solid\"},\"marker\":{\"symbol\":\"circle\"},\"mode\":\"lines\",\"name\":\"VA\",\"showlegend\":true,\"x\":[\"1996-01-01T00:00:00\",\"1999-01-01T00:00:00\",\"2000-01-01T00:00:00\",\"2001-01-01T00:00:00\",\"2005-01-01T00:00:00\",\"2006-01-01T00:00:00\",\"2007-01-01T00:00:00\",\"2008-01-01T00:00:00\",\"2009-01-01T00:00:00\",\"2010-01-01T00:00:00\",\"2011-01-01T00:00:00\",\"2012-01-01T00:00:00\",\"2013-01-01T00:00:00\",\"2014-01-01T00:00:00\",\"2015-01-01T00:00:00\",\"2016-01-01T00:00:00\",\"2017-01-01T00:00:00\",\"2018-01-01T00:00:00\",\"2019-01-01T00:00:00\",\"2020-01-01T00:00:00\",\"2021-01-01T00:00:00\",\"2022-01-01T00:00:00\",\"2023-01-01T00:00:00\",\"2024-01-01T00:00:00\"],\"xaxis\":\"x\",\"y\":[2,1,14,1,2,1,1,1,6,1,42,51,29,54,74,97,87,118,123,138,341,260,401,352],\"yaxis\":\"y\",\"type\":\"scattergl\"},{\"hovertemplate\":\"state=WY\\u003cbr\\u003eYear (2010-2023)=%{x}\\u003cbr\\u003eEV Chargers per 1 Million People=%{y}\\u003cextra\\u003e\\u003c\\u002fextra\\u003e\",\"legendgroup\":\"WY\",\"line\":{\"color\":\"#636efa\",\"dash\":\"solid\"},\"marker\":{\"symbol\":\"circle\"},\"mode\":\"lines\",\"name\":\"WY\",\"showlegend\":true,\"x\":[\"1996-01-01T00:00:00\",\"1999-01-01T00:00:00\",\"2000-01-01T00:00:00\",\"2004-01-01T00:00:00\",\"2005-01-01T00:00:00\",\"2008-01-01T00:00:00\",\"2009-01-01T00:00:00\",\"2011-01-01T00:00:00\",\"2012-01-01T00:00:00\",\"2013-01-01T00:00:00\",\"2014-01-01T00:00:00\",\"2015-01-01T00:00:00\",\"2016-01-01T00:00:00\",\"2017-01-01T00:00:00\",\"2018-01-01T00:00:00\",\"2019-01-01T00:00:00\",\"2020-01-01T00:00:00\",\"2021-01-01T00:00:00\",\"2022-01-01T00:00:00\",\"2023-01-01T00:00:00\",\"2024-01-01T00:00:00\"],\"xaxis\":\"x\",\"y\":[2,3,1,1,1,1,1,2,4,2,9,16,6,17,11,5,4,10,17,24,18],\"yaxis\":\"y\",\"type\":\"scattergl\"},{\"hovertemplate\":\"state=CT\\u003cbr\\u003eYear (2010-2023)=%{x}\\u003cbr\\u003eEV Chargers per 1 Million People=%{y}\\u003cextra\\u003e\\u003c\\u002fextra\\u003e\",\"legendgroup\":\"CT\",\"line\":{\"color\":\"#EF553B\",\"dash\":\"solid\"},\"marker\":{\"symbol\":\"circle\"},\"mode\":\"lines\",\"name\":\"CT\",\"showlegend\":true,\"x\":[\"1997-01-01T00:00:00\",\"1999-01-01T00:00:00\",\"2000-01-01T00:00:00\",\"2007-01-01T00:00:00\",\"2010-01-01T00:00:00\",\"2011-01-01T00:00:00\",\"2012-01-01T00:00:00\",\"2013-01-01T00:00:00\",\"2014-01-01T00:00:00\",\"2015-01-01T00:00:00\",\"2016-01-01T00:00:00\",\"2017-01-01T00:00:00\",\"2018-01-01T00:00:00\",\"2019-01-01T00:00:00\",\"2020-01-01T00:00:00\",\"2021-01-01T00:00:00\",\"2022-01-01T00:00:00\",\"2023-01-01T00:00:00\",\"2024-01-01T00:00:00\"],\"xaxis\":\"x\",\"y\":[2,1,9,1,4,43,33,15,42,51,72,24,33,55,45,62,165,431,351],\"yaxis\":\"y\",\"type\":\"scattergl\"},{\"hovertemplate\":\"state=MN\\u003cbr\\u003eYear (2010-2023)=%{x}\\u003cbr\\u003eEV Chargers per 1 Million People=%{y}\\u003cextra\\u003e\\u003c\\u002fextra\\u003e\",\"legendgroup\":\"MN\",\"line\":{\"color\":\"#00cc96\",\"dash\":\"solid\"},\"marker\":{\"symbol\":\"circle\"},\"mode\":\"lines\",\"name\":\"MN\",\"showlegend\":true,\"x\":[\"1997-01-01T00:00:00\",\"1998-01-01T00:00:00\",\"1999-01-01T00:00:00\",\"2000-01-01T00:00:00\",\"2001-01-01T00:00:00\",\"2002-01-01T00:00:00\",\"2003-01-01T00:00:00\",\"2004-01-01T00:00:00\",\"2005-01-01T00:00:00\",\"2006-01-01T00:00:00\",\"2007-01-01T00:00:00\",\"2008-01-01T00:00:00\",\"2009-01-01T00:00:00\",\"2010-01-01T00:00:00\",\"2011-01-01T00:00:00\",\"2012-01-01T00:00:00\",\"2013-01-01T00:00:00\",\"2014-01-01T00:00:00\",\"2015-01-01T00:00:00\",\"2016-01-01T00:00:00\",\"2017-01-01T00:00:00\",\"2018-01-01T00:00:00\",\"2019-01-01T00:00:00\",\"2020-01-01T00:00:00\",\"2021-01-01T00:00:00\",\"2022-01-01T00:00:00\",\"2023-01-01T00:00:00\",\"2024-01-01T00:00:00\",\"2029-01-01T00:00:00\"],\"xaxis\":\"x\",\"y\":[3,1,5,14,5,5,6,5,26,27,20,9,7,13,19,33,32,33,64,51,95,103,92,216,191,223,208,257,1],\"yaxis\":\"y\",\"type\":\"scattergl\"},{\"hovertemplate\":\"state=AL\\u003cbr\\u003eYear (2010-2023)=%{x}\\u003cbr\\u003eEV Chargers per 1 Million People=%{y}\\u003cextra\\u003e\\u003c\\u002fextra\\u003e\",\"legendgroup\":\"AL\",\"line\":{\"color\":\"#ab63fa\",\"dash\":\"solid\"},\"marker\":{\"symbol\":\"circle\"},\"mode\":\"lines\",\"name\":\"AL\",\"showlegend\":true,\"x\":[\"1998-01-01T00:00:00\",\"1999-01-01T00:00:00\",\"2000-01-01T00:00:00\",\"2003-01-01T00:00:00\",\"2005-01-01T00:00:00\",\"2007-01-01T00:00:00\",\"2008-01-01T00:00:00\",\"2009-01-01T00:00:00\",\"2010-01-01T00:00:00\",\"2011-01-01T00:00:00\",\"2012-01-01T00:00:00\",\"2013-01-01T00:00:00\",\"2014-01-01T00:00:00\",\"2015-01-01T00:00:00\",\"2016-01-01T00:00:00\",\"2017-01-01T00:00:00\",\"2018-01-01T00:00:00\",\"2019-01-01T00:00:00\",\"2020-01-01T00:00:00\",\"2021-01-01T00:00:00\",\"2022-01-01T00:00:00\",\"2023-01-01T00:00:00\",\"2024-01-01T00:00:00\"],\"xaxis\":\"x\",\"y\":[1,10,10,1,3,2,1,22,2,8,36,9,12,38,15,50,17,19,36,50,107,116,136],\"yaxis\":\"y\",\"type\":\"scattergl\"},{\"hovertemplate\":\"state=IL\\u003cbr\\u003eYear (2010-2023)=%{x}\\u003cbr\\u003eEV Chargers per 1 Million People=%{y}\\u003cextra\\u003e\\u003c\\u002fextra\\u003e\",\"legendgroup\":\"IL\",\"line\":{\"color\":\"#FFA15A\",\"dash\":\"solid\"},\"marker\":{\"symbol\":\"circle\"},\"mode\":\"lines\",\"name\":\"IL\",\"showlegend\":true,\"x\":[\"1999-01-01T00:00:00\",\"2000-01-01T00:00:00\",\"2001-01-01T00:00:00\",\"2002-01-01T00:00:00\",\"2003-01-01T00:00:00\",\"2004-01-01T00:00:00\",\"2005-01-01T00:00:00\",\"2006-01-01T00:00:00\",\"2007-01-01T00:00:00\",\"2008-01-01T00:00:00\",\"2009-01-01T00:00:00\",\"2010-01-01T00:00:00\",\"2011-01-01T00:00:00\",\"2012-01-01T00:00:00\",\"2013-01-01T00:00:00\",\"2014-01-01T00:00:00\",\"2015-01-01T00:00:00\",\"2016-01-01T00:00:00\",\"2017-01-01T00:00:00\",\"2018-01-01T00:00:00\",\"2019-01-01T00:00:00\",\"2020-01-01T00:00:00\",\"2021-01-01T00:00:00\",\"2022-01-01T00:00:00\",\"2023-01-01T00:00:00\",\"2024-01-01T00:00:00\"],\"xaxis\":\"x\",\"y\":[7,12,2,10,2,2,12,10,7,16,14,11,35,92,47,49,79,71,86,113,110,145,330,361,602,299],\"yaxis\":\"y\",\"type\":\"scattergl\"},{\"hovertemplate\":\"state=KY\\u003cbr\\u003eYear (2010-2023)=%{x}\\u003cbr\\u003eEV Chargers per 1 Million People=%{y}\\u003cextra\\u003e\\u003c\\u002fextra\\u003e\",\"legendgroup\":\"KY\",\"line\":{\"color\":\"#19d3f3\",\"dash\":\"solid\"},\"marker\":{\"symbol\":\"circle\"},\"mode\":\"lines\",\"name\":\"KY\",\"showlegend\":true,\"x\":[\"1999-01-01T00:00:00\",\"2000-01-01T00:00:00\",\"2004-01-01T00:00:00\",\"2005-01-01T00:00:00\",\"2008-01-01T00:00:00\",\"2009-01-01T00:00:00\",\"2010-01-01T00:00:00\",\"2011-01-01T00:00:00\",\"2012-01-01T00:00:00\",\"2013-01-01T00:00:00\",\"2014-01-01T00:00:00\",\"2015-01-01T00:00:00\",\"2016-01-01T00:00:00\",\"2017-01-01T00:00:00\",\"2018-01-01T00:00:00\",\"2019-01-01T00:00:00\",\"2020-01-01T00:00:00\",\"2021-01-01T00:00:00\",\"2022-01-01T00:00:00\",\"2023-01-01T00:00:00\",\"2024-01-01T00:00:00\"],\"xaxis\":\"x\",\"y\":[1,2,1,1,2,3,8,3,30,25,13,20,19,25,15,20,30,66,54,62,80],\"yaxis\":\"y\",\"type\":\"scattergl\"},{\"hovertemplate\":\"state=LA\\u003cbr\\u003eYear (2010-2023)=%{x}\\u003cbr\\u003eEV Chargers per 1 Million People=%{y}\\u003cextra\\u003e\\u003c\\u002fextra\\u003e\",\"legendgroup\":\"LA\",\"line\":{\"color\":\"#FF6692\",\"dash\":\"solid\"},\"marker\":{\"symbol\":\"circle\"},\"mode\":\"lines\",\"name\":\"LA\",\"showlegend\":true,\"x\":[\"1999-01-01T00:00:00\",\"2000-01-01T00:00:00\",\"2003-01-01T00:00:00\",\"2007-01-01T00:00:00\",\"2010-01-01T00:00:00\",\"2011-01-01T00:00:00\",\"2012-01-01T00:00:00\",\"2013-01-01T00:00:00\",\"2014-01-01T00:00:00\",\"2015-01-01T00:00:00\",\"2016-01-01T00:00:00\",\"2017-01-01T00:00:00\",\"2018-01-01T00:00:00\",\"2019-01-01T00:00:00\",\"2020-01-01T00:00:00\",\"2021-01-01T00:00:00\",\"2022-01-01T00:00:00\",\"2023-01-01T00:00:00\",\"2024-01-01T00:00:00\"],\"xaxis\":\"x\",\"y\":[1,10,1,1,5,4,30,8,7,17,27,36,17,14,19,23,61,80,73],\"yaxis\":\"y\",\"type\":\"scattergl\"},{\"hovertemplate\":\"state=ME\\u003cbr\\u003eYear (2010-2023)=%{x}\\u003cbr\\u003eEV Chargers per 1 Million People=%{y}\\u003cextra\\u003e\\u003c\\u002fextra\\u003e\",\"legendgroup\":\"ME\",\"line\":{\"color\":\"#B6E880\",\"dash\":\"solid\"},\"marker\":{\"symbol\":\"circle\"},\"mode\":\"lines\",\"name\":\"ME\",\"showlegend\":true,\"x\":[\"1999-01-01T00:00:00\",\"2000-01-01T00:00:00\",\"2009-01-01T00:00:00\",\"2011-01-01T00:00:00\",\"2012-01-01T00:00:00\",\"2013-01-01T00:00:00\",\"2014-01-01T00:00:00\",\"2015-01-01T00:00:00\",\"2016-01-01T00:00:00\",\"2017-01-01T00:00:00\",\"2018-01-01T00:00:00\",\"2019-01-01T00:00:00\",\"2020-01-01T00:00:00\",\"2021-01-01T00:00:00\",\"2022-01-01T00:00:00\",\"2023-01-01T00:00:00\",\"2024-01-01T00:00:00\"],\"xaxis\":\"x\",\"y\":[1,1,2,2,16,1,21,30,37,18,23,28,30,70,120,93,56],\"yaxis\":\"y\",\"type\":\"scattergl\"},{\"hovertemplate\":\"state=MS\\u003cbr\\u003eYear (2010-2023)=%{x}\\u003cbr\\u003eEV Chargers per 1 Million People=%{y}\\u003cextra\\u003e\\u003c\\u002fextra\\u003e\",\"legendgroup\":\"MS\",\"line\":{\"color\":\"#FF97FF\",\"dash\":\"solid\"},\"marker\":{\"symbol\":\"circle\"},\"mode\":\"lines\",\"name\":\"MS\",\"showlegend\":true,\"x\":[\"1999-01-01T00:00:00\",\"2000-01-01T00:00:00\",\"2005-01-01T00:00:00\",\"2009-01-01T00:00:00\",\"2010-01-01T00:00:00\",\"2012-01-01T00:00:00\",\"2013-01-01T00:00:00\",\"2014-01-01T00:00:00\",\"2015-01-01T00:00:00\",\"2016-01-01T00:00:00\",\"2017-01-01T00:00:00\",\"2018-01-01T00:00:00\",\"2019-01-01T00:00:00\",\"2020-01-01T00:00:00\",\"2021-01-01T00:00:00\",\"2022-01-01T00:00:00\",\"2023-01-01T00:00:00\",\"2024-01-01T00:00:00\"],\"xaxis\":\"x\",\"y\":[10,2,8,3,6,25,27,4,13,8,18,10,12,17,16,20,48,44],\"yaxis\":\"y\",\"type\":\"scattergl\"},{\"hovertemplate\":\"state=MT\\u003cbr\\u003eYear (2010-2023)=%{x}\\u003cbr\\u003eEV Chargers per 1 Million People=%{y}\\u003cextra\\u003e\\u003c\\u002fextra\\u003e\",\"legendgroup\":\"MT\",\"line\":{\"color\":\"#FECB52\",\"dash\":\"solid\"},\"marker\":{\"symbol\":\"circle\"},\"mode\":\"lines\",\"name\":\"MT\",\"showlegend\":true,\"x\":[\"1999-01-01T00:00:00\",\"2000-01-01T00:00:00\",\"2006-01-01T00:00:00\",\"2009-01-01T00:00:00\",\"2010-01-01T00:00:00\",\"2012-01-01T00:00:00\",\"2013-01-01T00:00:00\",\"2014-01-01T00:00:00\",\"2015-01-01T00:00:00\",\"2016-01-01T00:00:00\",\"2017-01-01T00:00:00\",\"2018-01-01T00:00:00\",\"2019-01-01T00:00:00\",\"2020-01-01T00:00:00\",\"2021-01-01T00:00:00\",\"2022-01-01T00:00:00\",\"2023-01-01T00:00:00\",\"2024-01-01T00:00:00\"],\"xaxis\":\"x\",\"y\":[6,3,2,1,1,1,4,10,14,9,6,12,8,13,10,32,29,26],\"yaxis\":\"y\",\"type\":\"scattergl\"},{\"hovertemplate\":\"state=NC\\u003cbr\\u003eYear (2010-2023)=%{x}\\u003cbr\\u003eEV Chargers per 1 Million People=%{y}\\u003cextra\\u003e\\u003c\\u002fextra\\u003e\",\"legendgroup\":\"NC\",\"line\":{\"color\":\"#636efa\",\"dash\":\"solid\"},\"marker\":{\"symbol\":\"circle\"},\"mode\":\"lines\",\"name\":\"NC\",\"showlegend\":true,\"x\":[\"1999-01-01T00:00:00\",\"2000-01-01T00:00:00\",\"2003-01-01T00:00:00\",\"2004-01-01T00:00:00\",\"2005-01-01T00:00:00\",\"2007-01-01T00:00:00\",\"2008-01-01T00:00:00\",\"2009-01-01T00:00:00\",\"2010-01-01T00:00:00\",\"2011-01-01T00:00:00\",\"2012-01-01T00:00:00\",\"2013-01-01T00:00:00\",\"2014-01-01T00:00:00\",\"2015-01-01T00:00:00\",\"2016-01-01T00:00:00\",\"2017-01-01T00:00:00\",\"2018-01-01T00:00:00\",\"2019-01-01T00:00:00\",\"2020-01-01T00:00:00\",\"2021-01-01T00:00:00\",\"2022-01-01T00:00:00\",\"2023-01-01T00:00:00\",\"2024-01-01T00:00:00\"],\"xaxis\":\"x\",\"y\":[5,5,19,3,6,7,4,81,11,36,89,33,37,66,78,101,85,113,130,318,268,409,394],\"yaxis\":\"y\",\"type\":\"scattergl\"},{\"hovertemplate\":\"state=ND\\u003cbr\\u003eYear (2010-2023)=%{x}\\u003cbr\\u003eEV Chargers per 1 Million People=%{y}\\u003cextra\\u003e\\u003c\\u002fextra\\u003e\",\"legendgroup\":\"ND\",\"line\":{\"color\":\"#EF553B\",\"dash\":\"solid\"},\"marker\":{\"symbol\":\"circle\"},\"mode\":\"lines\",\"name\":\"ND\",\"showlegend\":true,\"x\":[\"1999-01-01T00:00:00\",\"2002-01-01T00:00:00\",\"2004-01-01T00:00:00\",\"2005-01-01T00:00:00\",\"2008-01-01T00:00:00\",\"2009-01-01T00:00:00\",\"2010-01-01T00:00:00\",\"2011-01-01T00:00:00\",\"2012-01-01T00:00:00\",\"2014-01-01T00:00:00\",\"2015-01-01T00:00:00\",\"2016-01-01T00:00:00\",\"2017-01-01T00:00:00\",\"2018-01-01T00:00:00\",\"2019-01-01T00:00:00\",\"2020-01-01T00:00:00\",\"2021-01-01T00:00:00\",\"2022-01-01T00:00:00\",\"2023-01-01T00:00:00\",\"2024-01-01T00:00:00\"],\"xaxis\":\"x\",\"y\":[5,2,2,3,1,3,4,3,7,5,7,2,3,10,12,23,26,11,21,14],\"yaxis\":\"y\",\"type\":\"scattergl\"},{\"hovertemplate\":\"state=NJ\\u003cbr\\u003eYear (2010-2023)=%{x}\\u003cbr\\u003eEV Chargers per 1 Million People=%{y}\\u003cextra\\u003e\\u003c\\u002fextra\\u003e\",\"legendgroup\":\"NJ\",\"line\":{\"color\":\"#00cc96\",\"dash\":\"solid\"},\"marker\":{\"symbol\":\"circle\"},\"mode\":\"lines\",\"name\":\"NJ\",\"showlegend\":true,\"x\":[\"1999-01-01T00:00:00\",\"2000-01-01T00:00:00\",\"2002-01-01T00:00:00\",\"2005-01-01T00:00:00\",\"2007-01-01T00:00:00\",\"2008-01-01T00:00:00\",\"2009-01-01T00:00:00\",\"2010-01-01T00:00:00\",\"2011-01-01T00:00:00\",\"2012-01-01T00:00:00\",\"2013-01-01T00:00:00\",\"2014-01-01T00:00:00\",\"2015-01-01T00:00:00\",\"2016-01-01T00:00:00\",\"2017-01-01T00:00:00\",\"2018-01-01T00:00:00\",\"2019-01-01T00:00:00\",\"2020-01-01T00:00:00\",\"2021-01-01T00:00:00\",\"2022-01-01T00:00:00\",\"2023-01-01T00:00:00\",\"2024-01-01T00:00:00\"],\"xaxis\":\"x\",\"y\":[2,2,2,1,1,1,2,5,4,54,8,23,31,29,35,50,108,90,208,363,380,382],\"yaxis\":\"y\",\"type\":\"scattergl\"},{\"hovertemplate\":\"state=RI\\u003cbr\\u003eYear (2010-2023)=%{x}\\u003cbr\\u003eEV Chargers per 1 Million People=%{y}\\u003cextra\\u003e\\u003c\\u002fextra\\u003e\",\"legendgroup\":\"RI\",\"line\":{\"color\":\"#ab63fa\",\"dash\":\"solid\"},\"marker\":{\"symbol\":\"circle\"},\"mode\":\"lines\",\"name\":\"RI\",\"showlegend\":true,\"x\":[\"1999-01-01T00:00:00\",\"2000-01-01T00:00:00\",\"2004-01-01T00:00:00\",\"2011-01-01T00:00:00\",\"2012-01-01T00:00:00\",\"2013-01-01T00:00:00\",\"2014-01-01T00:00:00\",\"2015-01-01T00:00:00\",\"2016-01-01T00:00:00\",\"2017-01-01T00:00:00\",\"2018-01-01T00:00:00\",\"2019-01-01T00:00:00\",\"2020-01-01T00:00:00\",\"2021-01-01T00:00:00\",\"2022-01-01T00:00:00\",\"2023-01-01T00:00:00\",\"2024-01-01T00:00:00\"],\"xaxis\":\"x\",\"y\":[1,1,1,3,6,14,5,5,3,3,34,26,33,109,67,39,51],\"yaxis\":\"y\",\"type\":\"scattergl\"},{\"hovertemplate\":\"state=HI\\u003cbr\\u003eYear (2010-2023)=%{x}\\u003cbr\\u003eEV Chargers per 1 Million People=%{y}\\u003cextra\\u003e\\u003c\\u002fextra\\u003e\",\"legendgroup\":\"HI\",\"line\":{\"color\":\"#FFA15A\",\"dash\":\"solid\"},\"marker\":{\"symbol\":\"circle\"},\"mode\":\"lines\",\"name\":\"HI\",\"showlegend\":true,\"x\":[\"2000-01-01T00:00:00\",\"2006-01-01T00:00:00\",\"2009-01-01T00:00:00\",\"2011-01-01T00:00:00\",\"2012-01-01T00:00:00\",\"2013-01-01T00:00:00\",\"2014-01-01T00:00:00\",\"2015-01-01T00:00:00\",\"2016-01-01T00:00:00\",\"2017-01-01T00:00:00\",\"2018-01-01T00:00:00\",\"2019-01-01T00:00:00\",\"2020-01-01T00:00:00\",\"2021-01-01T00:00:00\",\"2022-01-01T00:00:00\",\"2023-01-01T00:00:00\",\"2024-01-01T00:00:00\"],\"xaxis\":\"x\",\"y\":[1,1,1,13,48,20,8,16,12,20,8,26,37,75,56,41,55],\"yaxis\":\"y\",\"type\":\"scattergl\"},{\"hovertemplate\":\"state=NH\\u003cbr\\u003eYear (2010-2023)=%{x}\\u003cbr\\u003eEV Chargers per 1 Million People=%{y}\\u003cextra\\u003e\\u003c\\u002fextra\\u003e\",\"legendgroup\":\"NH\",\"line\":{\"color\":\"#19d3f3\",\"dash\":\"solid\"},\"marker\":{\"symbol\":\"circle\"},\"mode\":\"lines\",\"name\":\"NH\",\"showlegend\":true,\"x\":[\"2000-01-01T00:00:00\",\"2002-01-01T00:00:00\",\"2007-01-01T00:00:00\",\"2011-01-01T00:00:00\",\"2012-01-01T00:00:00\",\"2013-01-01T00:00:00\",\"2014-01-01T00:00:00\",\"2015-01-01T00:00:00\",\"2016-01-01T00:00:00\",\"2017-01-01T00:00:00\",\"2018-01-01T00:00:00\",\"2019-01-01T00:00:00\",\"2020-01-01T00:00:00\",\"2021-01-01T00:00:00\",\"2022-01-01T00:00:00\",\"2023-01-01T00:00:00\",\"2024-01-01T00:00:00\"],\"xaxis\":\"x\",\"y\":[4,1,1,18,2,7,15,30,22,7,21,9,12,30,53,56,55],\"yaxis\":\"y\",\"type\":\"scattergl\"},{\"hovertemplate\":\"state=WV\\u003cbr\\u003eYear (2010-2023)=%{x}\\u003cbr\\u003eEV Chargers per 1 Million People=%{y}\\u003cextra\\u003e\\u003c\\u002fextra\\u003e\",\"legendgroup\":\"WV\",\"line\":{\"color\":\"#FF6692\",\"dash\":\"solid\"},\"marker\":{\"symbol\":\"circle\"},\"mode\":\"lines\",\"name\":\"WV\",\"showlegend\":true,\"x\":[\"2000-01-01T00:00:00\",\"2007-01-01T00:00:00\",\"2010-01-01T00:00:00\",\"2011-01-01T00:00:00\",\"2012-01-01T00:00:00\",\"2013-01-01T00:00:00\",\"2014-01-01T00:00:00\",\"2015-01-01T00:00:00\",\"2016-01-01T00:00:00\",\"2017-01-01T00:00:00\",\"2018-01-01T00:00:00\",\"2019-01-01T00:00:00\",\"2020-01-01T00:00:00\",\"2021-01-01T00:00:00\",\"2022-01-01T00:00:00\",\"2023-01-01T00:00:00\",\"2024-01-01T00:00:00\"],\"xaxis\":\"x\",\"y\":[3,1,1,3,10,4,9,6,8,54,6,5,12,26,33,20,37],\"yaxis\":\"y\",\"type\":\"scattergl\"},{\"hovertemplate\":\"state=DC\\u003cbr\\u003eYear (2010-2023)=%{x}\\u003cbr\\u003eEV Chargers per 1 Million People=%{y}\\u003cextra\\u003e\\u003c\\u002fextra\\u003e\",\"legendgroup\":\"DC\",\"line\":{\"color\":\"#B6E880\",\"dash\":\"solid\"},\"marker\":{\"symbol\":\"circle\"},\"mode\":\"lines\",\"name\":\"DC\",\"showlegend\":true,\"x\":[\"2001-01-01T00:00:00\",\"2006-01-01T00:00:00\",\"2010-01-01T00:00:00\",\"2011-01-01T00:00:00\",\"2012-01-01T00:00:00\",\"2013-01-01T00:00:00\",\"2014-01-01T00:00:00\",\"2015-01-01T00:00:00\",\"2016-01-01T00:00:00\",\"2017-01-01T00:00:00\",\"2018-01-01T00:00:00\",\"2019-01-01T00:00:00\",\"2020-01-01T00:00:00\",\"2021-01-01T00:00:00\",\"2022-01-01T00:00:00\",\"2023-01-01T00:00:00\",\"2024-01-01T00:00:00\"],\"xaxis\":\"x\",\"y\":[2,3,1,13,9,4,7,26,15,21,30,39,29,110,55,55,30],\"yaxis\":\"y\",\"type\":\"scattergl\"},{\"hovertemplate\":\"state=VT\\u003cbr\\u003eYear (2010-2023)=%{x}\\u003cbr\\u003eEV Chargers per 1 Million People=%{y}\\u003cextra\\u003e\\u003c\\u002fextra\\u003e\",\"legendgroup\":\"VT\",\"line\":{\"color\":\"#FF97FF\",\"dash\":\"solid\"},\"marker\":{\"symbol\":\"circle\"},\"mode\":\"lines\",\"name\":\"VT\",\"showlegend\":true,\"x\":[\"2004-01-01T00:00:00\",\"2006-01-01T00:00:00\",\"2007-01-01T00:00:00\",\"2011-01-01T00:00:00\",\"2012-01-01T00:00:00\",\"2013-01-01T00:00:00\",\"2014-01-01T00:00:00\",\"2015-01-01T00:00:00\",\"2016-01-01T00:00:00\",\"2017-01-01T00:00:00\",\"2018-01-01T00:00:00\",\"2019-01-01T00:00:00\",\"2020-01-01T00:00:00\",\"2021-01-01T00:00:00\",\"2022-01-01T00:00:00\",\"2023-01-01T00:00:00\",\"2024-01-01T00:00:00\"],\"xaxis\":\"x\",\"y\":[1,1,1,1,5,7,20,21,32,19,37,30,29,79,67,50,84],\"yaxis\":\"y\",\"type\":\"scattergl\"},{\"hovertemplate\":\"state=AK\\u003cbr\\u003eYear (2010-2023)=%{x}\\u003cbr\\u003eEV Chargers per 1 Million People=%{y}\\u003cextra\\u003e\\u003c\\u002fextra\\u003e\",\"legendgroup\":\"AK\",\"line\":{\"color\":\"#FECB52\",\"dash\":\"solid\"},\"marker\":{\"symbol\":\"circle\"},\"mode\":\"lines\",\"name\":\"AK\",\"showlegend\":true,\"x\":[\"2005-01-01T00:00:00\",\"2014-01-01T00:00:00\",\"2015-01-01T00:00:00\",\"2017-01-01T00:00:00\",\"2018-01-01T00:00:00\",\"2019-01-01T00:00:00\",\"2020-01-01T00:00:00\",\"2021-01-01T00:00:00\",\"2022-01-01T00:00:00\",\"2023-01-01T00:00:00\",\"2024-01-01T00:00:00\"],\"xaxis\":\"x\",\"y\":[1,1,2,4,7,4,15,15,14,5,7],\"yaxis\":\"y\",\"type\":\"scattergl\"},{\"hovertemplate\":\"state=DE\\u003cbr\\u003eYear (2010-2023)=%{x}\\u003cbr\\u003eEV Chargers per 1 Million People=%{y}\\u003cextra\\u003e\\u003c\\u002fextra\\u003e\",\"legendgroup\":\"DE\",\"line\":{\"color\":\"#636efa\",\"dash\":\"solid\"},\"marker\":{\"symbol\":\"circle\"},\"mode\":\"lines\",\"name\":\"DE\",\"showlegend\":true,\"x\":[\"2007-01-01T00:00:00\",\"2012-01-01T00:00:00\",\"2013-01-01T00:00:00\",\"2014-01-01T00:00:00\",\"2015-01-01T00:00:00\",\"2016-01-01T00:00:00\",\"2017-01-01T00:00:00\",\"2018-01-01T00:00:00\",\"2019-01-01T00:00:00\",\"2020-01-01T00:00:00\",\"2021-01-01T00:00:00\",\"2022-01-01T00:00:00\",\"2023-01-01T00:00:00\",\"2024-01-01T00:00:00\"],\"xaxis\":\"x\",\"y\":[1,7,4,4,8,4,19,5,17,21,57,40,54,52],\"yaxis\":\"y\",\"type\":\"scattergl\"},{\"hovertemplate\":\"state=PR\\u003cbr\\u003eYear (2010-2023)=%{x}\\u003cbr\\u003eEV Chargers per 1 Million People=%{y}\\u003cextra\\u003e\\u003c\\u002fextra\\u003e\",\"legendgroup\":\"PR\",\"line\":{\"color\":\"#EF553B\",\"dash\":\"solid\"},\"marker\":{\"symbol\":\"circle\"},\"mode\":\"lines\",\"name\":\"PR\",\"showlegend\":true,\"x\":[\"2014-01-01T00:00:00\",\"2021-01-01T00:00:00\",\"2022-01-01T00:00:00\",\"2023-01-01T00:00:00\",\"2024-01-01T00:00:00\"],\"xaxis\":\"x\",\"y\":[1,2,8,1,6],\"yaxis\":\"y\",\"type\":\"scattergl\"}],                        {\"template\":{\"data\":{\"histogram2dcontour\":[{\"type\":\"histogram2dcontour\",\"colorbar\":{\"outlinewidth\":0,\"ticks\":\"\"},\"colorscale\":[[0.0,\"#0d0887\"],[0.1111111111111111,\"#46039f\"],[0.2222222222222222,\"#7201a8\"],[0.3333333333333333,\"#9c179e\"],[0.4444444444444444,\"#bd3786\"],[0.5555555555555556,\"#d8576b\"],[0.6666666666666666,\"#ed7953\"],[0.7777777777777778,\"#fb9f3a\"],[0.8888888888888888,\"#fdca26\"],[1.0,\"#f0f921\"]]}],\"choropleth\":[{\"type\":\"choropleth\",\"colorbar\":{\"outlinewidth\":0,\"ticks\":\"\"}}],\"histogram2d\":[{\"type\":\"histogram2d\",\"colorbar\":{\"outlinewidth\":0,\"ticks\":\"\"},\"colorscale\":[[0.0,\"#0d0887\"],[0.1111111111111111,\"#46039f\"],[0.2222222222222222,\"#7201a8\"],[0.3333333333333333,\"#9c179e\"],[0.4444444444444444,\"#bd3786\"],[0.5555555555555556,\"#d8576b\"],[0.6666666666666666,\"#ed7953\"],[0.7777777777777778,\"#fb9f3a\"],[0.8888888888888888,\"#fdca26\"],[1.0,\"#f0f921\"]]}],\"heatmap\":[{\"type\":\"heatmap\",\"colorbar\":{\"outlinewidth\":0,\"ticks\":\"\"},\"colorscale\":[[0.0,\"#0d0887\"],[0.1111111111111111,\"#46039f\"],[0.2222222222222222,\"#7201a8\"],[0.3333333333333333,\"#9c179e\"],[0.4444444444444444,\"#bd3786\"],[0.5555555555555556,\"#d8576b\"],[0.6666666666666666,\"#ed7953\"],[0.7777777777777778,\"#fb9f3a\"],[0.8888888888888888,\"#fdca26\"],[1.0,\"#f0f921\"]]}],\"heatmapgl\":[{\"type\":\"heatmapgl\",\"colorbar\":{\"outlinewidth\":0,\"ticks\":\"\"},\"colorscale\":[[0.0,\"#0d0887\"],[0.1111111111111111,\"#46039f\"],[0.2222222222222222,\"#7201a8\"],[0.3333333333333333,\"#9c179e\"],[0.4444444444444444,\"#bd3786\"],[0.5555555555555556,\"#d8576b\"],[0.6666666666666666,\"#ed7953\"],[0.7777777777777778,\"#fb9f3a\"],[0.8888888888888888,\"#fdca26\"],[1.0,\"#f0f921\"]]}],\"contourcarpet\":[{\"type\":\"contourcarpet\",\"colorbar\":{\"outlinewidth\":0,\"ticks\":\"\"}}],\"contour\":[{\"type\":\"contour\",\"colorbar\":{\"outlinewidth\":0,\"ticks\":\"\"},\"colorscale\":[[0.0,\"#0d0887\"],[0.1111111111111111,\"#46039f\"],[0.2222222222222222,\"#7201a8\"],[0.3333333333333333,\"#9c179e\"],[0.4444444444444444,\"#bd3786\"],[0.5555555555555556,\"#d8576b\"],[0.6666666666666666,\"#ed7953\"],[0.7777777777777778,\"#fb9f3a\"],[0.8888888888888888,\"#fdca26\"],[1.0,\"#f0f921\"]]}],\"surface\":[{\"type\":\"surface\",\"colorbar\":{\"outlinewidth\":0,\"ticks\":\"\"},\"colorscale\":[[0.0,\"#0d0887\"],[0.1111111111111111,\"#46039f\"],[0.2222222222222222,\"#7201a8\"],[0.3333333333333333,\"#9c179e\"],[0.4444444444444444,\"#bd3786\"],[0.5555555555555556,\"#d8576b\"],[0.6666666666666666,\"#ed7953\"],[0.7777777777777778,\"#fb9f3a\"],[0.8888888888888888,\"#fdca26\"],[1.0,\"#f0f921\"]]}],\"mesh3d\":[{\"type\":\"mesh3d\",\"colorbar\":{\"outlinewidth\":0,\"ticks\":\"\"}}],\"scatter\":[{\"fillpattern\":{\"fillmode\":\"overlay\",\"size\":10,\"solidity\":0.2},\"type\":\"scatter\"}],\"parcoords\":[{\"type\":\"parcoords\",\"line\":{\"colorbar\":{\"outlinewidth\":0,\"ticks\":\"\"}}}],\"scatterpolargl\":[{\"type\":\"scatterpolargl\",\"marker\":{\"colorbar\":{\"outlinewidth\":0,\"ticks\":\"\"}}}],\"bar\":[{\"error_x\":{\"color\":\"#2a3f5f\"},\"error_y\":{\"color\":\"#2a3f5f\"},\"marker\":{\"line\":{\"color\":\"#E5ECF6\",\"width\":0.5},\"pattern\":{\"fillmode\":\"overlay\",\"size\":10,\"solidity\":0.2}},\"type\":\"bar\"}],\"scattergeo\":[{\"type\":\"scattergeo\",\"marker\":{\"colorbar\":{\"outlinewidth\":0,\"ticks\":\"\"}}}],\"scatterpolar\":[{\"type\":\"scatterpolar\",\"marker\":{\"colorbar\":{\"outlinewidth\":0,\"ticks\":\"\"}}}],\"histogram\":[{\"marker\":{\"pattern\":{\"fillmode\":\"overlay\",\"size\":10,\"solidity\":0.2}},\"type\":\"histogram\"}],\"scattergl\":[{\"type\":\"scattergl\",\"marker\":{\"colorbar\":{\"outlinewidth\":0,\"ticks\":\"\"}}}],\"scatter3d\":[{\"type\":\"scatter3d\",\"line\":{\"colorbar\":{\"outlinewidth\":0,\"ticks\":\"\"}},\"marker\":{\"colorbar\":{\"outlinewidth\":0,\"ticks\":\"\"}}}],\"scattermapbox\":[{\"type\":\"scattermapbox\",\"marker\":{\"colorbar\":{\"outlinewidth\":0,\"ticks\":\"\"}}}],\"scatterternary\":[{\"type\":\"scatterternary\",\"marker\":{\"colorbar\":{\"outlinewidth\":0,\"ticks\":\"\"}}}],\"scattercarpet\":[{\"type\":\"scattercarpet\",\"marker\":{\"colorbar\":{\"outlinewidth\":0,\"ticks\":\"\"}}}],\"carpet\":[{\"aaxis\":{\"endlinecolor\":\"#2a3f5f\",\"gridcolor\":\"white\",\"linecolor\":\"white\",\"minorgridcolor\":\"white\",\"startlinecolor\":\"#2a3f5f\"},\"baxis\":{\"endlinecolor\":\"#2a3f5f\",\"gridcolor\":\"white\",\"linecolor\":\"white\",\"minorgridcolor\":\"white\",\"startlinecolor\":\"#2a3f5f\"},\"type\":\"carpet\"}],\"table\":[{\"cells\":{\"fill\":{\"color\":\"#EBF0F8\"},\"line\":{\"color\":\"white\"}},\"header\":{\"fill\":{\"color\":\"#C8D4E3\"},\"line\":{\"color\":\"white\"}},\"type\":\"table\"}],\"barpolar\":[{\"marker\":{\"line\":{\"color\":\"#E5ECF6\",\"width\":0.5},\"pattern\":{\"fillmode\":\"overlay\",\"size\":10,\"solidity\":0.2}},\"type\":\"barpolar\"}],\"pie\":[{\"automargin\":true,\"type\":\"pie\"}]},\"layout\":{\"autotypenumbers\":\"strict\",\"colorway\":[\"#636efa\",\"#EF553B\",\"#00cc96\",\"#ab63fa\",\"#FFA15A\",\"#19d3f3\",\"#FF6692\",\"#B6E880\",\"#FF97FF\",\"#FECB52\"],\"font\":{\"color\":\"#2a3f5f\"},\"hovermode\":\"closest\",\"hoverlabel\":{\"align\":\"left\"},\"paper_bgcolor\":\"white\",\"plot_bgcolor\":\"#E5ECF6\",\"polar\":{\"bgcolor\":\"#E5ECF6\",\"angularaxis\":{\"gridcolor\":\"white\",\"linecolor\":\"white\",\"ticks\":\"\"},\"radialaxis\":{\"gridcolor\":\"white\",\"linecolor\":\"white\",\"ticks\":\"\"}},\"ternary\":{\"bgcolor\":\"#E5ECF6\",\"aaxis\":{\"gridcolor\":\"white\",\"linecolor\":\"white\",\"ticks\":\"\"},\"baxis\":{\"gridcolor\":\"white\",\"linecolor\":\"white\",\"ticks\":\"\"},\"caxis\":{\"gridcolor\":\"white\",\"linecolor\":\"white\",\"ticks\":\"\"}},\"coloraxis\":{\"colorbar\":{\"outlinewidth\":0,\"ticks\":\"\"}},\"colorscale\":{\"sequential\":[[0.0,\"#0d0887\"],[0.1111111111111111,\"#46039f\"],[0.2222222222222222,\"#7201a8\"],[0.3333333333333333,\"#9c179e\"],[0.4444444444444444,\"#bd3786\"],[0.5555555555555556,\"#d8576b\"],[0.6666666666666666,\"#ed7953\"],[0.7777777777777778,\"#fb9f3a\"],[0.8888888888888888,\"#fdca26\"],[1.0,\"#f0f921\"]],\"sequentialminus\":[[0.0,\"#0d0887\"],[0.1111111111111111,\"#46039f\"],[0.2222222222222222,\"#7201a8\"],[0.3333333333333333,\"#9c179e\"],[0.4444444444444444,\"#bd3786\"],[0.5555555555555556,\"#d8576b\"],[0.6666666666666666,\"#ed7953\"],[0.7777777777777778,\"#fb9f3a\"],[0.8888888888888888,\"#fdca26\"],[1.0,\"#f0f921\"]],\"diverging\":[[0,\"#8e0152\"],[0.1,\"#c51b7d\"],[0.2,\"#de77ae\"],[0.3,\"#f1b6da\"],[0.4,\"#fde0ef\"],[0.5,\"#f7f7f7\"],[0.6,\"#e6f5d0\"],[0.7,\"#b8e186\"],[0.8,\"#7fbc41\"],[0.9,\"#4d9221\"],[1,\"#276419\"]]},\"xaxis\":{\"gridcolor\":\"white\",\"linecolor\":\"white\",\"ticks\":\"\",\"title\":{\"standoff\":15},\"zerolinecolor\":\"white\",\"automargin\":true,\"zerolinewidth\":2},\"yaxis\":{\"gridcolor\":\"white\",\"linecolor\":\"white\",\"ticks\":\"\",\"title\":{\"standoff\":15},\"zerolinecolor\":\"white\",\"automargin\":true,\"zerolinewidth\":2},\"scene\":{\"xaxis\":{\"backgroundcolor\":\"#E5ECF6\",\"gridcolor\":\"white\",\"linecolor\":\"white\",\"showbackground\":true,\"ticks\":\"\",\"zerolinecolor\":\"white\",\"gridwidth\":2},\"yaxis\":{\"backgroundcolor\":\"#E5ECF6\",\"gridcolor\":\"white\",\"linecolor\":\"white\",\"showbackground\":true,\"ticks\":\"\",\"zerolinecolor\":\"white\",\"gridwidth\":2},\"zaxis\":{\"backgroundcolor\":\"#E5ECF6\",\"gridcolor\":\"white\",\"linecolor\":\"white\",\"showbackground\":true,\"ticks\":\"\",\"zerolinecolor\":\"white\",\"gridwidth\":2}},\"shapedefaults\":{\"line\":{\"color\":\"#2a3f5f\"}},\"annotationdefaults\":{\"arrowcolor\":\"#2a3f5f\",\"arrowhead\":0,\"arrowwidth\":1},\"geo\":{\"bgcolor\":\"white\",\"landcolor\":\"#E5ECF6\",\"subunitcolor\":\"white\",\"showland\":true,\"showlakes\":true,\"lakecolor\":\"white\"},\"title\":{\"x\":0.05},\"mapbox\":{\"style\":\"light\"}}},\"xaxis\":{\"anchor\":\"y\",\"domain\":[0.0,1.0],\"title\":{\"text\":\"Year (2010-2023)\"},\"range\":[\"2010-01-01\",\"2023-01-01\"]},\"yaxis\":{\"anchor\":\"x\",\"domain\":[0.0,1.0],\"title\":{\"text\":\"EV Chargers per 1 Million People\"}},\"legend\":{\"title\":{\"text\":\"state\"},\"tracegroupgap\":0},\"title\":{\"text\":\"EV Chargers Over Time by State\"},\"width\":700,\"height\":700},                        {\"responsive\": true}                    ).then(function(){\n",
       "                            \n",
       "var gd = document.getElementById('6c5f27bb-916d-49dc-bc14-9182c45709ca');\n",
       "var x = new MutationObserver(function (mutations, observer) {{\n",
       "        var display = window.getComputedStyle(gd).display;\n",
       "        if (!display || display === 'none') {{\n",
       "            console.log([gd, 'removed!']);\n",
       "            Plotly.purge(gd);\n",
       "            observer.disconnect();\n",
       "        }}\n",
       "}});\n",
       "\n",
       "// Listen for the removal of the full notebook cells\n",
       "var notebookContainer = gd.closest('#notebook-container');\n",
       "if (notebookContainer) {{\n",
       "    x.observe(notebookContainer, {childList: true});\n",
       "}}\n",
       "\n",
       "// Listen for the clearing of the current output cell\n",
       "var outputEl = gd.closest('.output');\n",
       "if (outputEl) {{\n",
       "    x.observe(outputEl, {childList: true});\n",
       "}}\n",
       "\n",
       "                        })                };                });            </script>        </div>"
      ]
     },
     "metadata": {},
     "output_type": "display_data"
    }
   ],
   "source": [
    "# Show the trend in the number of new EV charger installations.\n",
    "fig = px.line(\n",
    "    ev_df_grouped,\n",
    "    x = 'year',\n",
    "    y = 'ev_chargers',\n",
    "    color = 'state',\n",
    "    title = 'EV Chargers Over Time by State',\n",
    "    labels={'year': 'Year (2010-2023)', 'ev_chargers': 'EV Chargers per 1 Million People'}\n",
    ")\n",
    "\n",
    "fig.update_xaxes(range=['2010-01-01', '2023-01-01'])\n",
    "fig.update_layout(width=700, height=700)\n",
    "fig.show()"
   ]
  },
  {
   "cell_type": "markdown",
   "id": "381e4782-0c1a-4f6b-b819-5df3fecf2c48",
   "metadata": {
    "jp-MarkdownHeadingCollapsed": true
   },
   "source": [
    "# 3. Income"
   ]
  },
  {
   "cell_type": "markdown",
   "id": "638c9b8f-f7a2-48cd-a823-713478ef54fe",
   "metadata": {},
   "source": [
    "# 3-1. Import Data\n",
    "- Use the data of the median household income from [Federal Reserve Economic Data](https://fred.stlouisfed.org/release/tables?eid=259515&rid=249).\n",
    "- Import the data by Web Scraping and show the first five rows.\n",
    "- Check the overview of the data."
   ]
  },
  {
   "cell_type": "code",
   "execution_count": 42,
   "id": "aaaf3329-b28c-4e9a-af71-b2eca0a74f24",
   "metadata": {},
   "outputs": [
    {
     "data": {
      "text/html": [
       "<div>\n",
       "<style scoped>\n",
       "    .dataframe tbody tr th:only-of-type {\n",
       "        vertical-align: middle;\n",
       "    }\n",
       "\n",
       "    .dataframe tbody tr th {\n",
       "        vertical-align: top;\n",
       "    }\n",
       "\n",
       "    .dataframe thead tr th {\n",
       "        text-align: left;\n",
       "    }\n",
       "</style>\n",
       "<table border=\"1\" class=\"dataframe\">\n",
       "  <thead>\n",
       "    <tr>\n",
       "      <th></th>\n",
       "      <th>Unnamed: 0_level_0</th>\n",
       "      <th>Unnamed: 1_level_0</th>\n",
       "      <th colspan=\"3\" halign=\"left\">2023 C-CPI-U Dollars</th>\n",
       "    </tr>\n",
       "    <tr>\n",
       "      <th></th>\n",
       "      <th>Unnamed: 0_level_1</th>\n",
       "      <th>Name</th>\n",
       "      <th>2023</th>\n",
       "      <th>Preceding  Period</th>\n",
       "      <th>Year Ago  from Period</th>\n",
       "    </tr>\n",
       "  </thead>\n",
       "  <tbody>\n",
       "    <tr>\n",
       "      <th>0</th>\n",
       "      <td>NaN</td>\n",
       "      <td>The United States</td>\n",
       "      <td>80610</td>\n",
       "      <td>77540</td>\n",
       "      <td>77540</td>\n",
       "    </tr>\n",
       "    <tr>\n",
       "      <th>1</th>\n",
       "      <td>NaN</td>\n",
       "      <td>Alabama</td>\n",
       "      <td>60660</td>\n",
       "      <td>62290</td>\n",
       "      <td>62290</td>\n",
       "    </tr>\n",
       "    <tr>\n",
       "      <th>2</th>\n",
       "      <td>NaN</td>\n",
       "      <td>Alaska</td>\n",
       "      <td>98190</td>\n",
       "      <td>93310</td>\n",
       "      <td>93310</td>\n",
       "    </tr>\n",
       "    <tr>\n",
       "      <th>3</th>\n",
       "      <td>NaN</td>\n",
       "      <td>Arizona</td>\n",
       "      <td>82660</td>\n",
       "      <td>76370</td>\n",
       "      <td>76370</td>\n",
       "    </tr>\n",
       "    <tr>\n",
       "      <th>4</th>\n",
       "      <td>NaN</td>\n",
       "      <td>Arkansas</td>\n",
       "      <td>63250</td>\n",
       "      <td>56120</td>\n",
       "      <td>56120</td>\n",
       "    </tr>\n",
       "  </tbody>\n",
       "</table>\n",
       "</div>"
      ],
      "text/plain": [
       "  Unnamed: 0_level_0 Unnamed: 1_level_0 2023 C-CPI-U Dollars  \\\n",
       "  Unnamed: 0_level_1               Name                 2023   \n",
       "0                NaN  The United States                80610   \n",
       "1                NaN            Alabama                60660   \n",
       "2                NaN             Alaska                98190   \n",
       "3                NaN            Arizona                82660   \n",
       "4                NaN           Arkansas                63250   \n",
       "\n",
       "                                           \n",
       "  Preceding  Period Year Ago  from Period  \n",
       "0             77540                 77540  \n",
       "1             62290                 62290  \n",
       "2             93310                 93310  \n",
       "3             76370                 76370  \n",
       "4             56120                 56120  "
      ]
     },
     "execution_count": 42,
     "metadata": {},
     "output_type": "execute_result"
    }
   ],
   "source": [
    "# Import the data by Web Scraping and show the first five rows.\n",
    "income_list = pd.read_html('https://fred.stlouisfed.org/release/tables?eid=259515&rid=249',\n",
    "                            match ='2023')\n",
    "income_df = income_list[0]\n",
    "income_df.head()"
   ]
  },
  {
   "cell_type": "code",
   "execution_count": 43,
   "id": "83700343-ec9f-40d7-aa56-aa67ccd826f9",
   "metadata": {},
   "outputs": [
    {
     "name": "stdout",
     "output_type": "stream",
     "text": [
      "<class 'pandas.core.frame.DataFrame'>\n",
      "RangeIndex: 52 entries, 0 to 51\n",
      "Data columns (total 5 columns):\n",
      " #   Column                                         Non-Null Count  Dtype  \n",
      "---  ------                                         --------------  -----  \n",
      " 0   (Unnamed: 0_level_0, Unnamed: 0_level_1)       0 non-null      float64\n",
      " 1   (Unnamed: 1_level_0, Name)                     52 non-null     object \n",
      " 2   (2023 C-CPI-U Dollars, 2023)                   52 non-null     int64  \n",
      " 3   (2023 C-CPI-U Dollars, Preceding  Period)      52 non-null     int64  \n",
      " 4   (2023 C-CPI-U Dollars, Year Ago  from Period)  52 non-null     int64  \n",
      "dtypes: float64(1), int64(3), object(1)\n",
      "memory usage: 2.2+ KB\n"
     ]
    }
   ],
   "source": [
    "# Check the over view of the data.\n",
    "income_df.info()"
   ]
  },
  {
   "cell_type": "markdown",
   "id": "93b3f71b-26d2-4a37-99e8-5b29b632db37",
   "metadata": {},
   "source": [
    "# 3-2. Clean Data "
   ]
  },
  {
   "cell_type": "markdown",
   "id": "9830cdd6-f99a-4c9b-9744-a01188dc3238",
   "metadata": {},
   "source": [
    "# 3-2-1. Pick up and Rename Columns"
   ]
  },
  {
   "cell_type": "markdown",
   "id": "ba6f01f1-00e5-4c49-b7f5-9b3c3dbddd6c",
   "metadata": {},
   "source": [
    "- Pick up only necessary coulmn's as there are unnecessary ones.\n",
    "- Clean each clumn's name since the downloaded data has unnecessary headers.\n",
    "- Show the first five rows to check the output."
   ]
  },
  {
   "cell_type": "code",
   "execution_count": 47,
   "id": "721e4c1e-f04b-4f50-a0f7-2d986bdd1386",
   "metadata": {},
   "outputs": [
    {
     "data": {
      "text/html": [
       "<div>\n",
       "<style scoped>\n",
       "    .dataframe tbody tr th:only-of-type {\n",
       "        vertical-align: middle;\n",
       "    }\n",
       "\n",
       "    .dataframe tbody tr th {\n",
       "        vertical-align: top;\n",
       "    }\n",
       "\n",
       "    .dataframe thead th {\n",
       "        text-align: right;\n",
       "    }\n",
       "</style>\n",
       "<table border=\"1\" class=\"dataframe\">\n",
       "  <thead>\n",
       "    <tr style=\"text-align: right;\">\n",
       "      <th></th>\n",
       "      <th>state_full</th>\n",
       "      <th>income</th>\n",
       "    </tr>\n",
       "  </thead>\n",
       "  <tbody>\n",
       "    <tr>\n",
       "      <th>1</th>\n",
       "      <td>Alabama</td>\n",
       "      <td>60660</td>\n",
       "    </tr>\n",
       "    <tr>\n",
       "      <th>2</th>\n",
       "      <td>Alaska</td>\n",
       "      <td>98190</td>\n",
       "    </tr>\n",
       "    <tr>\n",
       "      <th>3</th>\n",
       "      <td>Arizona</td>\n",
       "      <td>82660</td>\n",
       "    </tr>\n",
       "    <tr>\n",
       "      <th>4</th>\n",
       "      <td>Arkansas</td>\n",
       "      <td>63250</td>\n",
       "    </tr>\n",
       "    <tr>\n",
       "      <th>5</th>\n",
       "      <td>California</td>\n",
       "      <td>89870</td>\n",
       "    </tr>\n",
       "  </tbody>\n",
       "</table>\n",
       "</div>"
      ],
      "text/plain": [
       "0  state_full  income\n",
       "1     Alabama   60660\n",
       "2      Alaska   98190\n",
       "3     Arizona   82660\n",
       "4    Arkansas   63250\n",
       "5  California   89870"
      ]
     },
     "execution_count": 47,
     "metadata": {},
     "output_type": "execute_result"
    }
   ],
   "source": [
    "income_interim = income_df.drop(income_df.columns[[0, 3, 4]], axis=1)\n",
    "income_interim.columns = income_interim.iloc[0]\n",
    "income_interim = income_interim.rename(columns={'The United States': 'state_full', 80610: 'income' })\n",
    "income = income_interim.drop(index=0).copy()\n",
    "income.head()"
   ]
  },
  {
   "cell_type": "markdown",
   "id": "71052690-7a9c-4195-a13a-a75a4bf8330d",
   "metadata": {},
   "source": [
    "# 3-2-2. Add State Abbreviations"
   ]
  },
  {
   "cell_type": "markdown",
   "id": "7a79869c-c185-4a35-bcfb-bf2469f5805b",
   "metadata": {},
   "source": [
    "- Add state abbreviations since this data does not have them."
   ]
  },
  {
   "cell_type": "code",
   "execution_count": 50,
   "id": "4f20529f-7ee6-40e2-aa0a-0fd9f20eda31",
   "metadata": {},
   "outputs": [
    {
     "data": {
      "text/html": [
       "<div>\n",
       "<style scoped>\n",
       "    .dataframe tbody tr th:only-of-type {\n",
       "        vertical-align: middle;\n",
       "    }\n",
       "\n",
       "    .dataframe tbody tr th {\n",
       "        vertical-align: top;\n",
       "    }\n",
       "\n",
       "    .dataframe thead th {\n",
       "        text-align: right;\n",
       "    }\n",
       "</style>\n",
       "<table border=\"1\" class=\"dataframe\">\n",
       "  <thead>\n",
       "    <tr style=\"text-align: right;\">\n",
       "      <th></th>\n",
       "      <th>state_full</th>\n",
       "      <th>income</th>\n",
       "      <th>state</th>\n",
       "    </tr>\n",
       "  </thead>\n",
       "  <tbody>\n",
       "    <tr>\n",
       "      <th>1</th>\n",
       "      <td>Alabama</td>\n",
       "      <td>60660</td>\n",
       "      <td>AL</td>\n",
       "    </tr>\n",
       "    <tr>\n",
       "      <th>2</th>\n",
       "      <td>Alaska</td>\n",
       "      <td>98190</td>\n",
       "      <td>AK</td>\n",
       "    </tr>\n",
       "    <tr>\n",
       "      <th>3</th>\n",
       "      <td>Arizona</td>\n",
       "      <td>82660</td>\n",
       "      <td>AZ</td>\n",
       "    </tr>\n",
       "    <tr>\n",
       "      <th>4</th>\n",
       "      <td>Arkansas</td>\n",
       "      <td>63250</td>\n",
       "      <td>AR</td>\n",
       "    </tr>\n",
       "    <tr>\n",
       "      <th>5</th>\n",
       "      <td>California</td>\n",
       "      <td>89870</td>\n",
       "      <td>CA</td>\n",
       "    </tr>\n",
       "  </tbody>\n",
       "</table>\n",
       "</div>"
      ],
      "text/plain": [
       "0  state_full  income state\n",
       "1     Alabama   60660    AL\n",
       "2      Alaska   98190    AK\n",
       "3     Arizona   82660    AZ\n",
       "4    Arkansas   63250    AR\n",
       "5  California   89870    CA"
      ]
     },
     "execution_count": 50,
     "metadata": {},
     "output_type": "execute_result"
    }
   ],
   "source": [
    "state_mapping2 = {\n",
    "    'Alabama': 'AL',\n",
    "    'Alaska': 'AK',\n",
    "    'Arizona': 'AZ',\n",
    "    'Arkansas': 'AR',\n",
    "    'California': 'CA',\n",
    "    'Colorado': 'CO',\n",
    "    'Connecticut': 'CT',\n",
    "    'Delaware': 'DE',\n",
    "    'Florida': 'FL',\n",
    "    'Georgia': 'GA',\n",
    "    'Hawaii': 'HI',\n",
    "    'Idaho': 'ID',\n",
    "    'Illinois': 'IL',\n",
    "    'Indiana': 'IN',\n",
    "    'Iowa': 'IA',\n",
    "    'Kansas': 'KS',\n",
    "    'Kentucky': 'KY',\n",
    "    'Louisiana': 'LA',\n",
    "    'Maine': 'ME',\n",
    "    'Maryland': 'MD',\n",
    "    'Massachusetts': 'MA',\n",
    "    'Michigan': 'MI',\n",
    "    'Minnesota': 'MN',\n",
    "    'Mississippi': 'MS',\n",
    "    'Missouri': 'MO',\n",
    "    'Montana': 'MT',\n",
    "    'Nebraska': 'NE',\n",
    "    'Nevada': 'NV',\n",
    "    'New Hampshire': 'NH',\n",
    "    'New Jersey': 'NJ',\n",
    "    'New Mexico': 'NM',\n",
    "    'New York': 'NY',\n",
    "    'North Carolina': 'NC',\n",
    "    'North Dakota': 'ND',\n",
    "    'Ohio': 'OH',\n",
    "    'Oklahoma': 'OK',\n",
    "    'Oregon': 'OR',\n",
    "    'Pennsylvania': 'PA',\n",
    "    'Rhode Island': 'RI',\n",
    "    'South Carolina': 'SC',\n",
    "    'South Dakota': 'SD',\n",
    "    'Tennessee': 'TN',\n",
    "    'Texas': 'TX',\n",
    "    'Utah': 'UT',\n",
    "    'Vermont': 'VT',\n",
    "    'Virginia': 'VA',\n",
    "    'Washington': 'WA',\n",
    "    'West Virginia': 'WV',\n",
    "    'Wisconsin': 'WI',\n",
    "    'Wyoming': 'WY'\n",
    "}\n",
    "\n",
    "\n",
    "income['state'] = income['state_full'].map(state_mapping2)\n",
    "\n",
    "income.head()"
   ]
  },
  {
   "cell_type": "markdown",
   "id": "816b276c-7411-4d78-a298-c7eaeb3a98ce",
   "metadata": {},
   "source": [
    "# 3-3. Visualize Median Household Income"
   ]
  },
  {
   "cell_type": "markdown",
   "id": "f77ef235-d23f-49fa-a731-94da597ff611",
   "metadata": {},
   "source": [
    "- Show the median household incomes by state on the map of the United States.\n",
    "    - The incomes in the West Coast and in New England is higher than other areas.\n",
    "    - However, south east generally has fewer incomes than other areas.\n",
    "- Show the value of each state.\n",
    "    - Massachusetts, Maryland, Utach are the top three states with many EV chargers.\n",
    "    - By contrast, Mississippi, Louisiana, and West Virginia are the worst three states with few EV chargers."
   ]
  },
  {
   "cell_type": "code",
   "execution_count": 53,
   "id": "4a82834c-1056-4556-9d39-786710630bb5",
   "metadata": {},
   "outputs": [
    {
     "ename": "SyntaxError",
     "evalue": "'(' was never closed (2190191140.py, line 12)",
     "output_type": "error",
     "traceback": [
      "\u001b[1;36m  Cell \u001b[1;32mIn[53], line 12\u001b[1;36m\u001b[0m\n\u001b[1;33m    fig.update_layout(\u001b[0m\n\u001b[1;37m                     ^\u001b[0m\n\u001b[1;31mSyntaxError\u001b[0m\u001b[1;31m:\u001b[0m '(' was never closed\n"
     ]
    }
   ],
   "source": [
    "fig = px.choropleth(\n",
    "    income,\n",
    "    locations='state',\n",
    "    locationmode='USA-states',\n",
    "    color='income',\n",
    "    hover_name='state_full',\n",
    "    color_continuous_scale='YlGnBu',\n",
    "    scope='usa',\n",
    "    labels={'income': 'Median Household Income ($)'}\n",
    ")\n",
    "\n",
    "fig.update_layout(\n",
    "    title_text='Median Household Income ($) by State',\n",
    "    geo=dict(\n",
    "        lakecolor='rgb(255, 255, 255)'\n",
    "    )\n",
    "\n",
    "fig.update_layout(width=700)\n",
    "fig.show()"
   ]
  },
  {
   "cell_type": "code",
   "execution_count": null,
   "id": "014f6b48-c2db-442a-8ee1-95a662ef4e63",
   "metadata": {},
   "outputs": [],
   "source": [
    "# Show the value of each state.\n",
    "income_sort = income.sort_values('income' , ascending = False)\n",
    "fig = px.bar(\n",
    "    income_sort,\n",
    "    x = 'state',\n",
    "    y = 'income',\n",
    "    title = 'Median Household Income by State',\n",
    "    labels={'Income': 'Median Household Income ($)', 'state': 'State Abbreviations'}\n",
    ")\n",
    "\n",
    "fig.update_layout(width=700, height=700)\n",
    "fig.show()"
   ]
  },
  {
   "cell_type": "markdown",
   "id": "377b206e-8110-4de8-a4d9-80f7d776f980",
   "metadata": {},
   "source": [
    "# 4. Electricity Price"
   ]
  },
  {
   "cell_type": "markdown",
   "id": "8e7c139b-c9af-477b-896d-adac5bf537a6",
   "metadata": {},
   "source": [
    "# 4-1. Import Data"
   ]
  },
  {
   "cell_type": "markdown",
   "id": "04a5d20e-78eb-4fdf-b81b-c20f2638a3ad",
   "metadata": {},
   "source": [
    "- Use the data of the electricity price from [Electric Choice](https://www.electricchoice.com/electricity-prices-by-state/).\n",
    "- Import the data by Web Scraping and show the first five rows.\n",
    "- Check the over view of the data."
   ]
  },
  {
   "cell_type": "code",
   "execution_count": null,
   "id": "6fa47c7a-bb10-4634-a3b3-5d07523fc531",
   "metadata": {},
   "outputs": [],
   "source": [
    "# Import the data by web scraping and show the first five rows.\n",
    "url = 'https://www.electricchoice.com/electricity-prices-by-state/'\n",
    "headers = {'User-Agent': 'Mozilla/5.0 (Windows NT 10.0; Win64; x64) AppleWebKit/537.36 (KHTML, like Gecko) Chrome/58.0.3029.110 Safari/537.3'}\n",
    "\n",
    "response = requests.get(url, headers=headers)\n",
    "dfs = pd.read_html(response.content, match='Dec 2024')\n",
    "\n",
    "electricity_df = dfs[0]\n",
    "electricity_df.head()"
   ]
  },
  {
   "cell_type": "code",
   "execution_count": null,
   "id": "ceb2ef35-22e3-49c3-921e-f1513c9a4cb1",
   "metadata": {},
   "outputs": [],
   "source": [
    "# Check the over view of the data.\n",
    "electricity_df.info()"
   ]
  },
  {
   "cell_type": "markdown",
   "id": "875bafec-ff3c-4c66-8973-4f91aa9c9f2d",
   "metadata": {},
   "source": [
    "# 4-2. Clean Data"
   ]
  },
  {
   "cell_type": "markdown",
   "id": "82706764-4112-4083-9560-540ba575d376",
   "metadata": {},
   "source": [
    "# 4-2-1. Extract Price Number"
   ]
  },
  {
   "cell_type": "markdown",
   "id": "aa528d48-08d5-4b27-98b1-9925d6dbf2d7",
   "metadata": {},
   "source": [
    "- Extract price numbers from the column of prices in Dec 2024 since prices of this data include letters."
   ]
  },
  {
   "cell_type": "code",
   "execution_count": null,
   "id": "b3e48ec2-dd6b-4b66-b0c7-c7c0cdf8073a",
   "metadata": {},
   "outputs": [],
   "source": [
    "def extract_price(value):\n",
    "    number_str = \"\"\n",
    "    for char in value:\n",
    "        if char.isdigit() or char == '.':\n",
    "            number_str += char\n",
    "    return float(number_str)\n",
    "\n",
    "\n",
    "electricity_df['PRICE'] = electricity_df['Dec 2024'].apply(extract_price)\n",
    "\n",
    "electricity_df.head(5)"
   ]
  },
  {
   "cell_type": "markdown",
   "id": "093ffe07-d505-4caf-bc4d-8a1faeaf5ede",
   "metadata": {},
   "source": [
    "# 4-2-2. Add State Abbreviations"
   ]
  },
  {
   "cell_type": "markdown",
   "id": "245b7472-da36-4d14-bdbd-ad12378b580d",
   "metadata": {},
   "source": [
    "- Add the state abbreviations since this data does not have them.\n",
    "- Show the first five rows to check the output."
   ]
  },
  {
   "cell_type": "code",
   "execution_count": null,
   "id": "6753fdfb-ccd7-45b6-b5fb-45cbc934d550",
   "metadata": {},
   "outputs": [],
   "source": [
    "electricity_df['state'] = electricity_df['STATE'].map(state_mapping2)\n",
    "electricity_df.head()"
   ]
  },
  {
   "cell_type": "markdown",
   "id": "204904f0-78ff-4fb3-9267-7904ac34d943",
   "metadata": {},
   "source": [
    "# 4-2-3. Pick Up Necessary Columns"
   ]
  },
  {
   "cell_type": "markdown",
   "id": "d353a901-9482-4a26-b029-25caac017904",
   "metadata": {},
   "source": [
    "- Choose only necessary columns.\n",
    "- Show the first five rows to check the output."
   ]
  },
  {
   "cell_type": "code",
   "execution_count": null,
   "id": "f52b3ea5-9c26-4a2e-91a2-ca81d189a943",
   "metadata": {},
   "outputs": [],
   "source": [
    "electricity = electricity_df[['state', 'STATE', 'PRICE']].copy()\n",
    "electricity.head()"
   ]
  },
  {
   "cell_type": "markdown",
   "id": "0ed49535-e5a4-4212-b210-e4779a9a20fc",
   "metadata": {},
   "source": [
    "# 4-3. Visualize Electricity Prices."
   ]
  },
  {
   "cell_type": "markdown",
   "id": "7a4f5375-bb4f-4ae9-b65a-a63199be8bc6",
   "metadata": {},
   "source": [
    "- Show the electricity prices by state on the map of the United States.\n",
    "    - The prices in California, Land far from the mainland, such as Hawaii and Alaska, and in New England is higher than other areas.\n",
    "    - There are no extreme differences in other regions.\n",
    "- Show the value of each state.\n",
    "    - Hawaii,　Alaska, Connecticut are the top three states with hige prices.\n",
    "    - By contrast, Louisiana, Washington, and Arkansas are the worst three states with low prices..37\r\n"
   ]
  },
  {
   "cell_type": "code",
   "execution_count": null,
   "id": "4d0f3895-58fd-4031-85f4-f49e48365bc9",
   "metadata": {
    "scrolled": true
   },
   "outputs": [],
   "source": [
    "fig = px.choropleth(\n",
    "    electricity,\n",
    "    locations='state',\n",
    "    locationmode='USA-states',\n",
    "    color='PRICE',\n",
    "    hover_name='STATE',\n",
    "    color_continuous_scale='YlGnBu',\n",
    "    scope='usa',\n",
    "    labels={'PRICE': 'Electricity Price ($/kWh)'}\n",
    ")\n",
    "\n",
    "fig.update_layout(\n",
    "    title_text='Electricity Price ($/kWh) by State',\n",
    "    geo=dict(\n",
    "        lakecolor='rgb(255, 255, 255)'\n",
    "    )\n",
    ")\n",
    "\n",
    "fig.update_layout(width=700)\n",
    "fig.show()"
   ]
  },
  {
   "cell_type": "code",
   "execution_count": null,
   "id": "63516972-1dd1-4957-afd8-fb90cd37879d",
   "metadata": {},
   "outputs": [],
   "source": [
    "# Show the value of each state.\n",
    "electricity_sort = electricity.sort_values('PRICE' , ascending = False)\n",
    "fig = px.bar(\n",
    "    electricity_sort,\n",
    "    x = 'state',\n",
    "    y = 'PRICE',\n",
    "    title = 'Electricity Price',\n",
    "    labels={'PRICE': 'Electricity Price ($/kWh)', 'state': 'State Abbreviations'}\n",
    ")\n",
    "\n",
    "fig.update_layout(width=700, height=700)\n",
    "fig.show()"
   ]
  },
  {
   "cell_type": "markdown",
   "id": "c58b7754-1322-4900-8689-154262f17b00",
   "metadata": {},
   "source": [
    "# 5. Comparison"
   ]
  },
  {
   "cell_type": "markdown",
   "id": "f3c5f8bb-fe13-4ecd-beca-3070bf9e7dbe",
   "metadata": {},
   "source": [
    "# 5-1. EV Charger Ratio vs Income"
   ]
  },
  {
   "cell_type": "markdown",
   "id": "e877da68-ec63-41aa-bfb1-6ae3b3a86048",
   "metadata": {},
   "source": [
    "- Marge the data of the EV charger ratio and the income.\n",
    "- Compare them by showing the scatter plot.\n",
    "- Show the OLS regression result.\n",
    "- The result implies that the median household income is positively associated with the EV charger.\n",
    "    - The R-suared (0.309) is quite good.\n",
    "    - The coefficient (0.0057) is positive.\n",
    "    - The p-value (0.000) is statistically significant at the 5% level.\n",
    "- This result aligns with the hypothesis of positive correlation between the EV charger ratio and the income."
   ]
  },
  {
   "cell_type": "code",
   "execution_count": null,
   "id": "78b88e53-24ee-4337-8a9b-4b7ba6daea44",
   "metadata": {},
   "outputs": [],
   "source": [
    "# Marge data of the EV charger ratio and the income.\n",
    "ev_income = pd.merge(\n",
    "    left = ev[['state', 'state_full', 'chargers_ratio']], \n",
    "    right = income[['state', 'income']], \n",
    "    on='state',\n",
    "    )\n",
    "\n",
    "ev_income.head()"
   ]
  },
  {
   "cell_type": "code",
   "execution_count": null,
   "id": "14acc5d5-fc6d-47d2-bf2c-08e96bdd8d3d",
   "metadata": {},
   "outputs": [],
   "source": [
    "# Compare the data of the EV charger ratio and the income by showing the scatter plot.\n",
    "fig = px.scatter(\n",
    "    ev_income,\n",
    "    x='income',\n",
    "    y='chargers_ratio',\n",
    "    title='EV Chargers per 1 Million People vs Median Household Income',\n",
    "    trendline='ols',\n",
    "    labels={'income': 'Median Household Income ($)', 'chargers_ratio': 'EV Chargers per 1 Million People'}\n",
    ")\n",
    "\n",
    "fig.update_layout(width=700, height=700)\n",
    "fig.show()"
   ]
  },
  {
   "cell_type": "code",
   "execution_count": null,
   "id": "fb0136b9-8582-4906-84ea-b937da45f745",
   "metadata": {},
   "outputs": [],
   "source": [
    "# Show the OLS regression result.\n",
    "trend_results = px.get_trendline_results(fig).iloc[0, 0]\n",
    "trend_results.summary()"
   ]
  },
  {
   "cell_type": "markdown",
   "id": "453bb28f-72bb-432c-9253-c66b4d0e3f59",
   "metadata": {},
   "source": [
    "# 5-2. EV Charger Ratio vs Electricity Price"
   ]
  },
  {
   "cell_type": "markdown",
   "id": "91852797-11a7-41e0-ad5b-ae0c974ede46",
   "metadata": {},
   "source": [
    "- Marge the data of the EV charger ratio and the Electricity Price.\n",
    "- Compare them by showing the scatter plot.\n",
    "- Show the OLS regression result.\n",
    "- The result implies that the electricity price is positively associated with the EV charger.\n",
    "  - The R-suared (0.149) is low.\n",
    "  - The coefficient (11.5367) is positive.\n",
    "  - The p-value (0.006) is statistically significant at the 5% level.\n",
    "- This result contradicts the hypothesis of negative correlation between the EV charger ratio and the Electricity Price."
   ]
  },
  {
   "cell_type": "code",
   "execution_count": null,
   "id": "985d9d81-ab36-4725-b568-09921a85d86b",
   "metadata": {},
   "outputs": [],
   "source": [
    "# Marge data of the EV charger ratio and the electricity price.\n",
    "ev_electricity = pd.merge(\n",
    "     left = ev[['state', 'state_full', 'chargers_ratio']], \n",
    "     right = electricity[['state', 'PRICE']],\n",
    "     on = 'state'\n",
    "     )\n",
    "\n",
    "ev_electricity.head()"
   ]
  },
  {
   "cell_type": "code",
   "execution_count": null,
   "id": "fba877dd-447c-4d09-9794-d588aacf19b1",
   "metadata": {},
   "outputs": [],
   "source": [
    "# Compare the data of the EV charger ratio and electricity price by showing the scatter plot.\n",
    "fig = px.scatter(\n",
    "    ev_electricity,\n",
    "    x = 'PRICE',\n",
    "    y = 'chargers_ratio',\n",
    "    title = 'EV Chargers per 1 Million People vs Electricity Price',\n",
    "    trendline = 'ols',\n",
    "    labels={'PRICE': 'Electricity Price ($/kWh)', 'chargers_ratio': 'EV Chargers per 1 Million People'}\n",
    ")\n",
    "\n",
    "fig.update_layout(width = 700, height = 700)\n",
    "fig.show()"
   ]
  },
  {
   "cell_type": "code",
   "execution_count": null,
   "id": "e025600e-53af-4ca2-ab65-ee5a0074823a",
   "metadata": {},
   "outputs": [],
   "source": [
    "# Show the OLS regression result.\n",
    "trend_results = px.get_trendline_results(fig).iloc[0, 0]\n",
    "trend_results.summary()"
   ]
  },
  {
   "cell_type": "markdown",
   "id": "80aad347-78ae-4c82-b2a0-6d124b47c8c7",
   "metadata": {},
   "source": [
    "# 5-3. EV Charger Ratio vs (Income & Electricity Price)"
   ]
  },
  {
   "cell_type": "markdown",
   "id": "e338e242-f579-4770-bb30-3e3eb94b548a",
   "metadata": {},
   "source": [
    "# 5-3-1. Merge Data"
   ]
  },
  {
   "cell_type": "markdown",
   "id": "1e76348d-cfbc-4b21-b8fe-1dc6490526db",
   "metadata": {},
   "source": [
    "- Marge the data of the EV charger ratio, the income, and the electricity price."
   ]
  },
  {
   "cell_type": "code",
   "execution_count": null,
   "id": "380f8a4f-f6b9-4b07-85ee-befe688d2a1c",
   "metadata": {},
   "outputs": [],
   "source": [
    "ev_income_electricity = pd.merge(\n",
    "    left = ev_income,\n",
    "    right = electricity[['state', 'PRICE']],\n",
    "    on = 'state',\n",
    ")\n",
    "\n",
    "ev_income_electricity.head()"
   ]
  },
  {
   "cell_type": "markdown",
   "id": "be3ddb8f-e5fc-4541-83c0-acee91dddb15",
   "metadata": {},
   "source": [
    "# 5-3-2. Visualization"
   ]
  },
  {
   "cell_type": "markdown",
   "id": "097908b2-fb30-402c-bb3a-b6e980c68bfd",
   "metadata": {},
   "source": [
    "- Compare them by showing the scatter plot using a bubble chart.\n",
    "- The reults implies that the higer income and the higher electricity price are associated with higher EV charger ratio."
   ]
  },
  {
   "cell_type": "code",
   "execution_count": null,
   "id": "4a915520-9342-4e10-8c7b-9fb7a2f5b166",
   "metadata": {},
   "outputs": [],
   "source": [
    "fig = px.scatter(\n",
    "    ev_income_electricity,\n",
    "    x='PRICE',\n",
    "    y='income',\n",
    "    size='chargers_ratio',\n",
    "    size_max=30,\n",
    "    hover_name='state_full',\n",
    "    hover_data={'chargers_ratio': True, 'income': True, 'PRICE': True},\n",
    "    title='Median Household Income vs Electricity Price with Bubble Size as EV Chargers per 1 Million People',\n",
    "    labels={'PRICE': 'Electricity Price ($/kWh)', 'income': 'Median Household Income ($)'}\n",
    ")\n",
    "\n",
    "fig.update_layout(width = 700, height = 700)\n",
    "fig.show()"
   ]
  },
  {
   "cell_type": "markdown",
   "id": "c0279895-b2a6-4973-9a95-0f8977953a39",
   "metadata": {},
   "source": [
    "# 5-3-3. OLS Regression"
   ]
  },
  {
   "cell_type": "markdown",
   "id": "1e538af9-aba2-4be7-aaa2-0ed5cc365220",
   "metadata": {},
   "source": [
    "- Show the OLS regression result.\n",
    "- Tthe number of chargers per 1 million people is associated with higher incomes, higher electricity prices and lower interactions of them.\n",
    "  - The R-suared (0.395) is relatively high and better than previous models.\n",
    "  - The coefficient of the income (0.0152) is positive.\n",
    "  - The coefficient of the electricity price (83.0387) is positive.\n",
    "  - The coefficient of the interaction term (-0.0008) is negative.\n",
    "  - The p-value of the income (0.002) is statistically significant at the 5% level.\n",
    "  - The p-value of the electricity price (0.021) is statistically significant at the 5% level.\n",
    "  - The p-value of the interaction term (0.028) is statistically significant at the 5% level."
   ]
  },
  {
   "cell_type": "code",
   "execution_count": null,
   "id": "c6af42c5-b0a7-4823-86ca-3a0d2afa8f6d",
   "metadata": {},
   "outputs": [],
   "source": [
    "import statsmodels.api as sm\n",
    "\n",
    "ev_income_electricity['income_PRICE_interaction'] = ev_income_electricity['income'] * ev_income_electricity['PRICE']\n",
    "\n",
    "X = ev_income_electricity[['income', 'PRICE', 'income_PRICE_interaction']]\n",
    "y = ev_income_electricity['chargers_ratio']\n",
    "\n",
    "X = sm.add_constant(X)\n",
    "\n",
    "model = sm.OLS(y, X).fit()\n",
    "\n",
    "print(model.summary())\n",
    "\n",
    "coefficients = model.params\n",
    "const_coef = coefficients['const']\n",
    "income_coef = coefficients['income']\n",
    "price_coef = coefficients['PRICE']\n",
    "interaction_coef = coefficients['income_PRICE_interaction']"
   ]
  },
  {
   "cell_type": "markdown",
   "id": "98c9a6f9-8306-4583-8afa-68aa93a7b26b",
   "metadata": {},
   "source": [
    "# 5-3-4. Prediction Accuracy"
   ]
  },
  {
   "cell_type": "markdown",
   "id": "878b7aef-dc71-400e-ad57-706a9117d4de",
   "metadata": {},
   "source": [
    "- Define the function of the model.\n",
    "  - *Model: EV Chargers Ratio = -1153.4187 + 0.0152 × Income + 82.9876 × Electricity Price - 0.0008 × Income × Electricity Price*\n",
    "- Show the chargers ratio and prediction by the model.\n",
    "- For the graph, the prediction has quite good accuracy."
   ]
  },
  {
   "cell_type": "code",
   "execution_count": null,
   "id": "41192ba8-f6ca-4f0d-a9c8-be6d697aee94",
   "metadata": {},
   "outputs": [],
   "source": [
    "# Define the function of the model.\n",
    "def model(x1, x2):\n",
    "    y = const_coef + income_coef*x1 + price_coef*x2 + interaction_coef*x1*x2\n",
    "    return y"
   ]
  },
  {
   "cell_type": "code",
   "execution_count": null,
   "id": "ea0cacfd-ed83-4781-88e8-7161e96def8c",
   "metadata": {},
   "outputs": [],
   "source": [
    "# Calculate the predictions.\n",
    "import numpy as np\n",
    "ev_income_electricity['prediction'] = ev_income_electricity.apply(\n",
    "    lambda row: model(row['income'], row['PRICE']),\n",
    "    axis=1\n",
    ")\n",
    "\n",
    "ev_income_electricity.head()"
   ]
  },
  {
   "cell_type": "code",
   "execution_count": null,
   "id": "139cae63-a8bd-4e4b-9a3d-8717acbec452",
   "metadata": {},
   "outputs": [],
   "source": [
    "# Show the chargers ratio and prediction by the model.\n",
    "plt.figure(figsize=(15, 6))\n",
    "\n",
    "plt.bar(ev_income_electricity['state'], \n",
    "        ev_income_electricity['chargers_ratio'], \n",
    "        color='blue',\n",
    "        alpha=0.6,\n",
    "        label='Chargers per Capita')\n",
    "\n",
    "plt.plot(ev_income_electricity['state'], \n",
    "         ev_income_electricity['prediction'],\n",
    "         color='red',\n",
    "         marker='o',\n",
    "         label='Prediction')\n",
    "\n",
    "plt.xlabel('State Abbreviations')\n",
    "plt.ylabel('EV Chargers per 1 Million People')\n",
    "plt.title('Comparison of Charger Ratio and Prediction')\n",
    "plt.legend()\n",
    "plt.grid(True)\n",
    "\n",
    "plt.show()"
   ]
  },
  {
   "cell_type": "markdown",
   "id": "9424a4be-ceb1-497e-a50d-53d87b1d6a8d",
   "metadata": {},
   "source": [
    "# 5-3-5. Sensitivity Analysis"
   ]
  },
  {
   "cell_type": "markdown",
   "id": "03ef8eac-c9d8-45cf-bf25-a8d40e73366b",
   "metadata": {},
   "source": [
    "- Investigate how much the EV chargers ratio changes when each explanatory variable changes by 1%.\n",
    "- 1% increase in income is associated with additional 2.78  chargers per 1 million people.\r",
    "- 1% increase in electricity price is associated with additional 2.12 chargers per 1 million people."
   ]
  },
  {
   "cell_type": "code",
   "execution_count": null,
   "id": "a134c471-5c0d-4f16-92a7-fbc0052ffbdf",
   "metadata": {},
   "outputs": [],
   "source": [
    "x1_base = ev_income_electricity['income'].mean()\n",
    "x2_base = ev_income_electricity['PRICE'].mean()\n",
    "x1_values = np.linspace(x1_base * 0.9, x1_base * 1.1, 21) \n",
    "x2_values = np.linspace(x2_base * 0.9, x2_base * 1.1, 21) \n",
    "\n",
    "plt.figure(figsize=(12, 6))\n",
    "\n",
    "y_values_x1 = model(x1_values, x2_base)\n",
    "plt.subplot(1, 2, 1)\n",
    "plt.plot(x1_values, y_values_x1, marker='o', linestyle='-', color='blue')\n",
    "for i, txt in enumerate(y_values_x1):\n",
    "    plt.annotate(f'{txt:.2f}', (x1_values[i], y_values_x1[i]))\n",
    "plt.title('Variation of Chargers Ratio with Median Household Income')\n",
    "plt.xlabel('Median Household Income ($)')\n",
    "plt.ylabel('EV Chargers per 1 Million People')\n",
    "plt.grid(True)\n",
    "\n",
    "y_values_x2 = model(x1_base, x2_values)\n",
    "plt.subplot(1, 2, 2)\n",
    "plt.plot(x2_values, y_values_x2, marker='o', linestyle='-', color='red')\n",
    "for i, txt in enumerate(y_values_x2):\n",
    "    plt.annotate(f'{txt:.2f}', (x2_values[i], y_values_x2[i]))\n",
    "plt.title('Variation of Chargers Ratio with Electricity Price')\n",
    "plt.xlabel('Electricity Price ($/kWh)')\n",
    "plt.ylabel('EV Chargers per 1 Million People')\n",
    "plt.grid(True)\n",
    "\n",
    "plt.tight_layout()\n",
    "plt.show()"
   ]
  },
  {
   "cell_type": "code",
   "execution_count": null,
   "id": "4c993899-47d4-4198-bc1d-00aa47c466a9",
   "metadata": {},
   "outputs": [],
   "source": [
    "change_by_income = model(x1_base*1.01, x2_base) - model(x1_base, x2_base)\n",
    "change_by_price = model(x1_base, x2_base*1.01) - model(x1_base, x2_base)\n",
    "print(f'1% increase in income is associated with additional {change_by_income:.2f} chargers per 1 million people.')\n",
    "print(f'1% increase in electricity price is associated with additional {change_by_price:.2f} chargers per 1 million people.')"
   ]
  },
  {
   "cell_type": "code",
   "execution_count": null,
   "id": "dd8ae554-d524-4729-992c-eb93a39fce08",
   "metadata": {},
   "outputs": [],
   "source": [
    "increase_rate = 1.01\n",
    "\n",
    "change_by_income = model(x1_base * increase_rate, x2_base) - model(x1_base, x2_base)\n",
    "change_by_price = model(x1_base, x2_base * increase_rate) - model(x1_base, x2_base)\n",
    "\n",
    "print(f'{(increase_rate-1)*100:.0f}% increase in income is associated with additional {change_by_income:.2f} EV chargers per 1 million people.')\n",
    "print(f'{(increase_rate-1)*100:.0f}% increase in electricity price is associated with additional {change_by_price:.2f} EV chargers per 1 million people.')\n"
   ]
  },
  {
   "cell_type": "markdown",
   "id": "a3fa6b9b-0a39-411e-b400-24fd51f45074",
   "metadata": {},
   "source": [
    "# 5-3-6. Hypothesis Verification"
   ]
  },
  {
   "cell_type": "markdown",
   "id": "6013f819-d831-4acb-9a5a-d715d32d2ce5",
   "metadata": {},
   "source": [
    "- Identify the conditions where the hypothesis that incomes have positive and electric prices have negative impacts on the number of EV chargers is true.\n",
    "- Chage the original model (Model 0) to the Model 1 using income as a variable and the Model 2 using electric price as a variable.\n",
    "    - *Model 0: EV Chargers Ratio = -1153.4187 + 0.0152 × Income + 82.9876 × Electricity Price - 0.0008 × Income × Electricity Price*\n",
    "    - *Model 1: EV Chargers Ratio = -(1153.4187 - 82.9876 × Electricity Price) + (0.0152 - 0.0008 × Electricity Price) × Income*\n",
    "    - *Model 2: EV Chargers Ratio = -(1153.4187 - 0.0152 × Income) + (82.9876 - 0.0008 × Income) × Electricity Price*\n",
    "- The coefficient of income is positive when (0.0152 - 0.0008 × Electricity Price) is larger than zero, meaning that the electricity prices are less than 19.0/kWh dollars.\n",
    "- The coefficient of electric price is negative when (82.9876 - 0.0008 × Income) is less than zero, meaning that the incomes are larger than 98.8K dollars.\n",
    "- While the states with electricity prices less than 19.0/kWh dollars are 41, the state with an income larger than 103.7345K dollars is three.\n",
    "- Only two states with electricity prices less than 19.0/kWh dollars and with an income larger than 98.8K dollars.\n",
    "- Hypothesis verification:\n",
    "    - This implies that the hypothesis hold true in only two states of Marylandand and Utah.\n",
    "    - In the 41 states with electricity prices less than 19.0/kWh dollars, incomes and electric prices have positive impacts on the number of EV chargers.\n",
    "    - In the Massachusetts with an income larger than 98.8K dollars and electricity prices higher than 19.0/kWh dollars, incomes and electric prices have negative impacts on the number of EV chargers.\n",
    "    - In the other states, incomes have negative and electric prices have positive impacts on the number of EV chargers."
   ]
  },
  {
   "cell_type": "code",
   "execution_count": null,
   "id": "1eca40b0-a148-4f12-9236-c24d8a7a4fb7",
   "metadata": {},
   "outputs": [],
   "source": [
    "# Model 0: y = -1153.4187 + 0.0152*x1 + 82.9876*x2 - 0.0008*x1*x2\n",
    "# Model 1: y = -1153.4187 + 82.9876*x2 +(0.0152 - 0.0008*x2)*x1\n",
    "# Model 2: y = -1153.4187 + 0.0152*x1 + (82.9876 - 0.0008*x1)*x2\n",
    "\n",
    "# Conditoon 1: (0.0152 - 0.0008*x2) > 0, or x2 < 0.0152/0.0008\n",
    "condition1 = income_coef /  -interaction_coef\n",
    "print(f'Electric prices should be less than ${condition1:.1f}/kWh.')\n",
    "\n",
    "# Condition 2: (82.9876 - 0.0008*x1) < 0, or x1 > 82.9876/0.0008\n",
    "condition2 = price_coef / -interaction_coef\n",
    "print(f'Incomes should be larger than ${condition2:.1f}.')"
   ]
  },
  {
   "cell_type": "code",
   "execution_count": null,
   "id": "9e6ba4e9-147f-4a76-bbc0-9628299eaf83",
   "metadata": {},
   "outputs": [],
   "source": [
    "# Check the states which meet the condition 1, or prices less than $19.0/kWh.\n",
    "ev_income_electricity[(ev_income_electricity['PRICE']<condition1)]"
   ]
  },
  {
   "cell_type": "code",
   "execution_count": null,
   "id": "8e0169a2-9c59-40fd-81b5-e83ce0835301",
   "metadata": {},
   "outputs": [],
   "source": [
    "# Count the number of states.\n",
    "ev_income_electricity[ev_income_electricity['PRICE']<condition1].count()"
   ]
  },
  {
   "cell_type": "code",
   "execution_count": null,
   "id": "2fb1caf8-6cf4-49f2-8bed-e82e8cbd7c54",
   "metadata": {},
   "outputs": [],
   "source": [
    "# Check the states which meet the condition 2, or incomes are larger than $103.7345K.\n",
    "ev_income_electricity[ev_income_electricity['income']>condition2]"
   ]
  },
  {
   "cell_type": "code",
   "execution_count": null,
   "id": "edd67d3a-907e-4280-b4c3-d86a5d5e3f4d",
   "metadata": {},
   "outputs": [],
   "source": [
    "# Check the states which meet the condition 1 and condition 2.\n",
    "ev_income_electricity[(ev_income_electricity['PRICE']<condition1) & (ev_income_electricity['income']>condition2)]"
   ]
  },
  {
   "cell_type": "markdown",
   "id": "0f8c6940-40c2-4ebf-a987-b704a14a9786",
   "metadata": {},
   "source": [
    "# 6. Conclusion"
   ]
  },
  {
   "cell_type": "markdown",
   "id": "44cf9b5f-def5-4f1b-ab20-e42e12168964",
   "metadata": {},
   "source": [
    "- This project aims to identify what factors increase make electric vehicles (EVs) more popular.\n",
    "- The hypothesis is that higher house hold incomes and lower electricity prices will increase the number of EV chargers.\n",
    "- To verify this hypothesis, this project creates the following model.\n",
    "    - *Model: EV Chargers Ratio = β0 + β1 × Income + β2 × Electricity Price + β3 × Income × Electricity Price*\n",
    "- Analyzing the related data by OLS regression determines the coefficients of the model.\n",
    "    - *Model: EV Chargers Ratio = -1153.4187 + 0.0152 × Income + 82.9876 × Electricity Price - 0.0008 × Income × Electricity Price*\n",
    "- This model has a quite good R-squared of 0.395 and have statisitically siginificant coefficients.\n",
    "- Based on the sensitivity analysis:\n",
    "    - 1% increase in income is associated with additional 2.78 chargers per 1 million people.\n",
    "    - 1% increase in electricity price is associated with additional 2.12 chargers per 1 million people.\n",
    "- Hypothesis verification:\n",
    "    - This implies that the hypothesis holds true in only two states of Marylandand and Utah.\n",
    "    - In the 41 states with electricity prices less than 19.0/kWh dollars, incomes and electric prices have positive impacts on the number of EV chargers.\n",
    "    - In the Massachusetts, incomes have negative and electric prices have negative impacts on the number of EV chargers.\n",
    "    - In the other 6 states, incomes have negative and electriityc prices have positive impacts on the number of EV chargers.\n",
    "- These results have the following implications:\n",
    "    - The hypothesis holds true in certain states.\n",
    "    - By contrast, higher incomes and higer electricity prices are associated with more EV chargers in most states.\n",
    "    - Incomes have a greater impact on the increase in the number of chargers than electricity prices.\n",
    "    - This conclusion supports the popular belief that only the rich can afford to buy EVs.\n",
    "- The following are some suggestions for policy making based on these results.\n",
    "    - In most states where the median income is less than 98.8K dollars, lowering electricity prices to promote EV adoption may have the opposite effect. If policy makers want to promote EV adoption, it would be better to invest in increasing the median household income in their states.\n",
    "    - However, two staes where the median income is more than 98.8K dollars can increas EVs by lowering electricity prices. They also increase EVs  by investing in increasing the median household income except Massachusetts with high electricity prices.\n",
    "- Limitations of this Analysis:\n",
    "    - While the R-squared value of 0.395 is relatively high, it is not exceptionally so, suggesting that other factors likely influence the number of EV chargers.\n",
    "    - For instance, incorporating additional variables not considered in this analysis, such as the presence of EV incentives, could improve the model’s accuracy.\n",
    "    - This project assumed a strong correlation between the number of EV chargers and the number of EVs, but this has not been explicitly proven.\n",
    "    - Moreover, it did not perform a panel data analysis including time-series data.\n",
    "    - Therefore, the next steps should involve incorporating additional factors, like the presence of EV incentives, and conducting a panel data analysis with time-series data to develop a more accurate model. "
   ]
  }
 ],
 "metadata": {
  "kernelspec": {
   "display_name": "Python 3 (ipykernel)",
   "language": "python",
   "name": "python3"
  },
  "language_info": {
   "codemirror_mode": {
    "name": "ipython",
    "version": 3
   },
   "file_extension": ".py",
   "mimetype": "text/x-python",
   "name": "python",
   "nbconvert_exporter": "python",
   "pygments_lexer": "ipython3",
   "version": "3.12.4"
  }
 },
 "nbformat": 4,
 "nbformat_minor": 5
}
